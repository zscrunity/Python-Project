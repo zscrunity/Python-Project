{
 "cells": [
  {
   "cell_type": "code",
   "execution_count": 60,
   "id": "16b36471",
   "metadata": {},
   "outputs": [],
   "source": [
    "# !pip install selenium"
   ]
  },
  {
   "cell_type": "code",
   "execution_count": 2,
   "id": "0f45506b",
   "metadata": {},
   "outputs": [],
   "source": [
    "# Importing All Packages\n",
    "from selenium import webdriver\n",
    "from bs4 import BeautifulSoup\n",
    "import requests"
   ]
  },
  {
   "cell_type": "code",
   "execution_count": 3,
   "id": "05b49f85",
   "metadata": {},
   "outputs": [
    {
     "data": {
      "text/plain": [
       "<html lang=\"en\"><head>\n",
       "<!-- Google tag (gtag.js) -->\n",
       "<script async=\"\" src=\"https://buttons-config.sharethis.com/js/6449f5ef7d13a70012202bd5.js\"></script><script async=\"\" src=\"https://www.googletagmanager.com/gtag/js?id=G-MSBMR2LE7J\"></script>\n",
       "<script>\n",
       "          window.dataLayer = window.dataLayer || [];\n",
       "          function gtag(){dataLayer.push(arguments);}\n",
       "          gtag('js', new Date());\n",
       "\n",
       "          gtag('config', 'G-MSBMR2LE7J');\n",
       "        </script>\n",
       "<meta charset=\"utf-8\"/>\n",
       "<meta content=\"width=device-width, initial-scale=1\" name=\"viewport\"/>\n",
       "<meta content=\"\" name=\"description\"/>\n",
       "<meta content=\"\" name=\"author\"/>\n",
       "<meta content=\"https://nepalipaisa.com/market-mover/gainers\" name=\"og:url\"/>\n",
       "<meta content=\"article\" name=\"og:type\"/>\n",
       "<meta content=\"Market Movers\" name=\"og:title\"/>\n",
       "<meta name=\"og:description\"/>\n",
       "<meta content=\"https://nepalipaisa.com/images/nepalipaisa-logo.png\" name=\"og:image\"/>\n",
       "<meta content=\"https://nepalipaisa.com/market-mover/gainers\" property=\"og:url\"/>\n",
       "<meta content=\"article\" property=\"og:type\"/>\n",
       "<meta content=\"Market Movers\" property=\"og:title\"/>\n",
       "<meta property=\"og:description\"/>\n",
       "<meta content=\"https://nepalipaisa.com/images/nepalipaisa-logo.png\" property=\"og:image\"/>\n",
       "<meta content=\"summary_large_image\" name=\"twitter:card\"/>\n",
       "<title>Nepali Paisa | Market Movers</title>\n",
       "<!-- Bootstrap CSS File -->\n",
       "<link href=\"/css/bootstrap.min.css\" rel=\"stylesheet\"/>\n",
       "<link href=\"/lib/bootstrap-datepicker/bootstrap-datepicker.min.css\" rel=\"stylesheet\"/>\n",
       "<!-- Bootstrap CSS File -->\n",
       "<!-- <link href=\"https://fonts.googleapis.com/css?family=Roboto&display=swap\" rel=\"stylesheet\">\n",
       "    <link href=\"https://fonts.googleapis.com/css?family=Open+Sans\" rel=\"stylesheet\"> -->\n",
       "<link href=\"https://fonts.googleapis.com/css2?family=Mukta:wght@400;500;600;700;800&amp;display=swap\" rel=\"stylesheet\"/>\n",
       "<!-- fontawesome -->\n",
       "<link href=\"/css/all.min.css\" rel=\"stylesheet\"/>\n",
       "<link href=\"/lib/font-awesome-4.7.0/css/font-awesome.css\" rel=\"stylesheet\"/>\n",
       "<link href=\"/lib/fontawesome-free-5.15.4/stylesheet.css\" rel=\"stylesheet\"/>\n",
       "<link href=\"/css/fontawesome.min.css\" rel=\"stylesheet\"/>\n",
       "<!-- fontawesome -->\n",
       "<!-- New font add -->\n",
       "<link href=\"/fonts/stylesheet.css\" rel=\"stylesheet\"/>\n",
       "<!-- New font add -->\n",
       "<!--lightslider-->\n",
       "<link href=\"/css/lightslider.css\" rel=\"stylesheet\"/>\n",
       "<!--animate-->\n",
       "<link href=\"/lib/animate/animate.min.css\" rel=\"stylesheet\"/>\n",
       "<!-- <link rel=\"stylesheet\" href=\"~/css/animate.css\"> -->\n",
       "<link href=\"/lib/tooltip/tooltip.css\" rel=\"stylesheet\"/>\n",
       "<link href=\"/lib/selectize/selectize.bootstrap5.css\" rel=\"stylesheet\"/>\n",
       "<!-- Main Stylesheet File -->\n",
       "<link href=\"/css/style.css?v=7_kf_tId1-SJm4CAR02KlddfqBchAQQuaYhShxVo-dc\" rel=\"stylesheet\"/>\n",
       "<link href=\"/css/testimonials.css?v=3SkiP7OhS5N4JDv3cENdfk3oRWtcDZ8LDfaYw3cq3-o\" rel=\"stylesheet\"/>\n",
       "<link href=\"/css/style-new.css?v=iBcA_dKmEX9Yl7l_r87SqQV4wExI3mzQBREzWOxjxkg\" rel=\"stylesheet\"/>\n",
       "<!-- Main Stylesheet File -->\n",
       "<!-- Date styling stylesheet file -->\n",
       "<link href=\"/css/date-style.css\" rel=\"stylesheet\"/>\n",
       "<!-- Date styling stylesheet file -->\n",
       "<link href=\"/lib/izi-toast/css/izitoast.min.css\" rel=\"stylesheet\"/>\n",
       "<link href=\"/lib/pagination/pagination.css\" rel=\"stylesheet\"/>\n",
       "<link href=\"/css/loader.css\" rel=\"stylesheet\"/>\n",
       "<link href=\"/css/loading.min.css\" rel=\"stylesheet\"/>\n",
       "<link href=\"/lib/impromptu/impromptu.css\" rel=\"stylesheet\"/>\n",
       "<link href=\"/lib/calender/css/pignose.calendar.min.css\" rel=\"stylesheet\"/>\n",
       "<link href=\"/lib/calender/css/style.css?v=eAcAGyg7_SexTqPJykOc2NSUyIYO5jLQ5z-eVmoIPho\" rel=\"stylesheet\"/>\n",
       "<script src=\"/lib/jquery/jquery.min.js\"></script>\n",
       "<script src=\"/js/shared/refresh-token.js?v=8ulqw18KtskFhieFEPjLeIGP5iFuosTJAJsUm7QVvd8\"></script>\n",
       "<script>\n",
       "        var fileUri = \"https://adminapi.nepalipaisa.com/assets/uploads/\";\n",
       "        var fileBaseUri = \"https://adminapi.nepalipaisa.com\";\n",
       "        var mdpFileUri = \"https://mdp.smartwealthpro.com/Uploads/\";\n",
       "        var small_logo_url = \"/images/nepalipaisa-logo-small.png\";\n",
       "        var lazy_loader_url = \"/images/lazy-loader.gif\";\n",
       "    </script>\n",
       "<script async=\"async\" src=\"https://platform-api.sharethis.com/js/sharethis.js#property=6449f5ef7d13a70012202bd5&amp;product=sop\" type=\"text/javascript\"></script>\n",
       "<script async=\"async\" src=\"https://platform-api.sharethis.com/js/sharethis.js#property=6449f5ef7d13a70012202bd5&amp;product=inline-share-buttons&amp;source=platform\" type=\"text/javascript\"></script>\n",
       "<style></style></head>\n",
       "<body>\n",
       "<!--ads-->\n",
       "<div id=\"hide-mobile\">\n",
       "<div id=\"wrapper\">\n",
       "<div class=\"row\">\n",
       "<div class=\"col-xl-9 col-lg-9 col-md-9 col-sm-9 col-xs-12 fuller\">\n",
       "<np-ads-1><div class=\"np-ads\"><div class=\"ads-wrap-main\">\n",
       "<div class=\"row g-3\">\n",
       "<div class=\"col-xl-12 col-lg-12 col-md-12 col-sm-12 col-xs-12 fuller\">\n",
       "<div class=\"ads-wrap\">\n",
       "<div data-advert=\"NPH-1\" data-lazy-skip=\"true\"><a href=\"https://meroshare.cdsc.com.np/#/login\" target=\"_blank\"><img src=\"https://adminapi.nepalipaisa.com/assets/uploads/advertisement/image/bigyapan_df2hgbivtw4.gif\"/></a></div>\n",
       "</div>\n",
       "</div>\n",
       "</div>\n",
       "</div></div></np-ads-1>\n",
       "</div>\n",
       "<div class=\"col-xl-3 col-lg-4 col-md-3 col-sm-3 col-xs-12 fuller\">\n",
       "<np-ads-1><div class=\"np-ads\"><div class=\"ads-wrap-main\">\n",
       "<div class=\"row g-3\">\n",
       "<div class=\"col-xl-12 col-lg-12 col-md-12 col-sm-12 col-xs-12 fuller\">\n",
       "<div class=\"ads-wrap ads-wrap-nph2-hidden\">\n",
       "<div data-advert=\"NPH-2\" data-lazy-skip=\"true\"><a href=\"https://www.hamropatro.com/\" target=\"_blank\"><img src=\"https://adminapi.nepalipaisa.com/assets/uploads/advertisement/image/bigyapan_le3xockn1md.gif\"/></a></div>\n",
       "</div>\n",
       "</div>\n",
       "</div>\n",
       "</div></div></np-ads-1>\n",
       "</div>\n",
       "</div>\n",
       "</div>\n",
       "</div>\n",
       "<!--ads-->\n",
       "<!-- /header -->\n",
       "<header class=\"thead wow slideInDown animated animated\" style=\"visibility: visible;\">\n",
       "<div id=\"wrapper\">\n",
       "<div class=\"row g-0\">\n",
       "<div class=\"col-xl-6 col-lg-6 col-md-6 col-sm-6 col-xs-6 fuller\">\n",
       "<div class=\"tdate\">\n",
       "<i class=\"fas fa-calendar-alt\"></i>\n",
       "<p>Mon, 28 Aug 2023</p>\n",
       "</div>\n",
       "</div>\n",
       "<div class=\"col-xl-6 col-lg-6 col-md-6 col-sm-6 col-xs-6 fuller\">\n",
       "<div class=\"tlink text-end\">\n",
       "<ul>\n",
       "<li></li>\n",
       "<li id=\"liLogin\"><a class=\"login\" href=\"/login\"> <i class=\"fas fa-sign-in-alt\"></i>Login</a></li>\n",
       "<li></li>\n",
       "<li id=\"liRegister\"><a class=\"register\" href=\"/register\">Register</a></li>\n",
       "<li></li>\n",
       "</ul>\n",
       "</div>\n",
       "</div>\n",
       "</div>\n",
       "</div>\n",
       "</header>\n",
       "<!-- /header -->\n",
       "<!--logo-->\n",
       "<div class=\"mhead\" id=\"top-header\">\n",
       "<div id=\"wrapper\">\n",
       "<div class=\"row g-0\">\n",
       "<div class=\"col-xl-4 col-lg-3 col-md-4 col-sm-12 col-xs-12 fuller\">\n",
       "<div class=\"burger-menu\">\n",
       "<a aria-controls=\"offcanvasExample\" class=\"btn btn-primary wow slideInLeft animated animated animated\" data-bs-toggle=\"offcanvas\" href=\"#offcanvasExample\" role=\"button\" style=\"visibility: visible;\">\n",
       "<span class=\"line line1\"></span>\n",
       "<span class=\"line line2\"></span>\n",
       "<span class=\"line line3\"></span>\n",
       "</a>\n",
       "<div aria-labelledby=\"offcanvasExampleLabel\" class=\"offcanvas offcanvas-start\" id=\"offcanvasExample\" tabindex=\"-1\">\n",
       "<div class=\"offcanvas-header\">\n",
       "<button aria-label=\"Close\" class=\"btn-close text-reset\" data-bs-dismiss=\"offcanvas\" type=\"button\"></button>\n",
       "<a href=\"/\"><img alt=\"\" src=\"/images/nepalipaisa-logo-small.png\"/></a>\n",
       "</div>\n",
       "<div class=\"offcanvas-body\">\n",
       "<div class=\"burger-menu-nav\">\n",
       "<nav>\n",
       "<ul class=\"\">\n",
       "<li><a href=\"/\"><div class=\"m-icon\"><i class=\"fas fa-home\"></i></div>Home</a></li>\n",
       "<li><a href=\"/news\"><div class=\"m-icon\"><i class=\"fas fa-newspaper\"></i></div>News</a></li>\n",
       "<li class=\"main-dropdown\">\n",
       "<a class=\"btn btn-secondary dropdown-toggle\" data-bs-toggle=\"dropdown\" id=\"dropdownMenuButton\" type=\"button\">\n",
       "<div class=\"m-icon\"><i class=\"fas fa-database\"></i></div>NEPSE Data\n",
       "                                                </a>\n",
       "<ul aria-labelledby=\"dropdownMenuButton\" class=\"dropdown-menu\">\n",
       "<li><a href=\"/market-overview\"><i aria-hidden=\"true\" class=\"fa fa-long-arrow-right\"></i>Overview</a></li>\n",
       "<li><a href=\"/live-market\"><i aria-hidden=\"true\" class=\"fa fa-long-arrow-right\"></i>Live Market</a></li>\n",
       "<li><a href=\"/indices\"><i aria-hidden=\"true\" class=\"fa fa-long-arrow-right\"></i>Indices</a></li>\n",
       "<li><a href=\"/today-share-price\"><i aria-hidden=\"true\" class=\"fa fa-long-arrow-right\"></i>Today's Share Price</a></li>\n",
       "<li><a href=\"/market-mover\"><i aria-hidden=\"true\" class=\"fa fa-long-arrow-right\"></i>Market Mover</a></li>\n",
       "</ul>\n",
       "</li>\n",
       "<li>\n",
       "<a class=\"btn btn-secondary dropdown-toggle\" data-bs-toggle=\"dropdown\" id=\"dropdownMenuButton\" type=\"button\">\n",
       "<div class=\"m-icon\"><i class=\"fa fa-briefcase\"></i></div>Investment Opportunities\n",
       "                                                </a>\n",
       "<ul aria-labelledby=\"dropdownMenuButton\" class=\"dropdown-menu\">\n",
       "<li><a href=\"/ipo\"><i aria-hidden=\"true\" class=\"fa fa-long-arrow-right\"></i>IPO</a></li>\n",
       "<li><a href=\"/fpo\"><i aria-hidden=\"true\" class=\"fa fa-long-arrow-right\"></i>FPO</a></li>\n",
       "<li><a href=\"/auction\"><i aria-hidden=\"true\" class=\"fa fa-long-arrow-right\"></i>Auction</a></li>\n",
       "<li><a href=\"/dividend\"><i aria-hidden=\"true\" class=\"fa fa-long-arrow-right\"></i>Right/Dividend</a></li>\n",
       "<li><a href=\"/bond\"><i aria-hidden=\"true\" class=\"fa fa-long-arrow-right\"></i>Bond/Debentures</a></li>\n",
       "</ul>\n",
       "</li>\n",
       "<li>\n",
       "<a class=\"btn btn-secondary dropdown-toggle\" data-bs-toggle=\"dropdown\" id=\"dropdownMenuButton\" type=\"button\">\n",
       "<div class=\"m-icon\"><i class=\"fas fa-eye\"></i></div>Corporate Actions\n",
       "                                                </a>\n",
       "<ul aria-labelledby=\"dropdownMenuButton\" class=\"dropdown-menu\">\n",
       "<li><a href=\"/financial-report\"><i aria-hidden=\"true\" class=\"fa fa-long-arrow-right\"></i>Financial Reports</a></li>\n",
       "<li><a href=\"/agm\"><i aria-hidden=\"true\" class=\"fa fa-long-arrow-right\"></i>AGM/SGM</a></li>\n",
       "<li><a href=\"/announcement\"><i aria-hidden=\"true\" class=\"fa fa-long-arrow-right\"></i>Announcement</a></li>\n",
       "<li><a href=\"/merger\"><i aria-hidden=\"true\" class=\"fa fa-long-arrow-right\"></i>Merger/Acquisition</a></li>\n",
       "</ul>\n",
       "</li>\n",
       "<li><a href=\"/training\"><div class=\"m-icon\"><i aria-hidden=\"true\" class=\"fas fa-chalkboard-teacher\"></i></div>Training</a></li>\n",
       "<li>\n",
       "<a class=\"btn btn-secondary dropdown-toggle\" data-bs-toggle=\"dropdown\" id=\"dropdownMenuButton\" type=\"button\">\n",
       "<div class=\"m-icon\"><i class=\"fas fa-chart-pie\"></i></div>Share Manager\n",
       "                                                </a>\n",
       "<ul aria-labelledby=\"dropdownMenuButton\" class=\"dropdown-menu\">\n",
       "<li><a href=\"/portfolio\"><i aria-hidden=\"true\" class=\"fa fa-long-arrow-right\"></i>Portfolio Value</a></li>\n",
       "<li><a href=\"/my-holdings\"><i aria-hidden=\"true\" class=\"fa fa-long-arrow-right\"></i>My Holdings</a></li>\n",
       "<li><a href=\"/realized-gain\"><i aria-hidden=\"true\" class=\"fa fa-long-arrow-right\"></i>Realized Gains</a></li>\n",
       "<li><a href=\"/transactions\"><i aria-hidden=\"true\" class=\"fa fa-long-arrow-right\"></i>Transactions</a></li>\n",
       "<li><a href=\"/watchlist\"><i aria-hidden=\"true\" class=\"fa fa-long-arrow-right\"></i>Watchlist</a></li>\n",
       "<li><a href=\"https://app.smartwealthpro.com/Account/Login\" target=\"_blank\"><i aria-hidden=\"true\" class=\"fa fa-long-arrow-right\"></i><img alt=\"\" src=\"/images/swp-logo-white.png\"/>Smart Wealth Pro<sup>Upgrade</sup></a></li>\n",
       "</ul>\n",
       "</li>\n",
       "<li>\n",
       "<a class=\"btn btn-secondary dropdown-toggle\" data-bs-toggle=\"dropdown\" id=\"dropdownMenuButton\" type=\"button\">\n",
       "<div class=\"m-icon\"><i class=\"fas fa-calculator\"></i></div>Calculator\n",
       "                                                </a>\n",
       "<ul aria-labelledby=\"dropdownMenuButton\" class=\"dropdown-menu\">\n",
       "<li><a href=\"/net-price-calculator\"><i aria-hidden=\"true\" class=\"fa fa-long-arrow-right\"></i>Net Price Calculator</a></li>\n",
       "<li><a href=\"/margin-lending-calculator\"><i aria-hidden=\"true\" class=\"fa fa-long-arrow-right\"></i>Margin Lending Calculator</a></li>\n",
       "</ul>\n",
       "</li>\n",
       "<li><a href=\"/Video\"><div class=\"m-icon\"><i class=\"fab fa-youtube\"></i></div>Video</a></li>\n",
       "<li><a href=\"/contactus\"><div class=\"m-icon\"><i class=\"fas fa-map-marker-alt\"></i></div>Contact Us</a></li>\n",
       "</ul>\n",
       "</nav>\n",
       "<section class=\"np-downloads\">\n",
       "<div class=\"socialmedia-block\">\n",
       "<ul>\n",
       "<li><a class=\"facebook\" href=\"https://www.facebook.com/NepaliPaisa.News/\" target=\"_blank\"><i class=\"fab fa-facebook-square\"></i></a></li>\n",
       "<li><a class=\"instagram\" href=\"https://www.instagram.com/nepalipaisa1/\" target=\"_blank\"><i class=\"fab fa-instagram-square\"></i></a></li>\n",
       "<li><a class=\"linkedin\" href=\"https://www.linkedin.com/company/nepali-paisa/\" target=\"_blank\"><i class=\"fab fa-linkedin-square\"></i></a></li>\n",
       "<li><a class=\"twitter\" href=\"https://twitter.com/nepalipaisa\" target=\"_blank\"><i class=\"fab fa-twitter-square\"></i></a></li>\n",
       "<li><a class=\"youtube\" href=\"https://www.youtube.com/channel/UCuS_6Lvf1OmJQSU_cpSHfQA\" target=\"_blank\"><i class=\"fab fa-youtube-square\"></i></a></li>\n",
       "<li><a class=\"tiktok\" href=\"https://www.tiktok.com/@nepalipaisamedia\" target=\"_blank\"><i class=\"fab fa-tiktok\"></i></a></li>\n",
       "<li><a class=\"viber\" href=\"https://invite.viber.com/?g2=AQB4KYU1tvECzUwmBpPR5l%2Bga2vY0n5ERHAPoZgZXenNGvC%2Bh54raIGkhdhJoqyZ&amp;lang=en\" target=\"_blank\"><i class=\"fab fa-viber\"></i></a></li>\n",
       "</ul>\n",
       "</div>\n",
       "</section>\n",
       "</div>\n",
       "</div>\n",
       "</div>\n",
       "</div>\n",
       "</div>\n",
       "<div class=\"col-xl-4 col-lg-3 col-md-12 col-sm-12 col-xs-12 fuller\">\n",
       "<div class=\"logo wow slideInDown animated animated\" style=\"visibility: visible;\">\n",
       "<a href=\"/\">\n",
       "<img alt=\"nepalipaisa-logo\" src=\"/images/nepalipaisa-logo.png\" title=\"Nepali Paisa\"/>\n",
       "</a>\n",
       "</div>\n",
       "</div>\n",
       "<div class=\"col-xl-4 col-lg-3 col-md-12 col-sm-12 col-xs-12 fuller\">\n",
       "<div class=\"downloads text-end dropdown\">\n",
       "<button aria-expanded=\"false\" class=\"btn btn-secondary dropdown-toggle wow slideInRight animated animated animated\" data-bs-toggle=\"dropdown\" id=\"btnGooglePlay\" style=\"visibility: visible;\" type=\"button\">\n",
       "<img alt=\"\" class=\"btn-light\" src=\"/images/google-play-logo-light.jpg\"/>\n",
       "<img alt=\"\" class=\"btn-dark\" src=\"/images/google-play-logo-dark.jpg\"/>\n",
       "</button>\n",
       "<ul aria-labelledby=\"btnGooglePlay\" class=\"dropdown-menu\">\n",
       "<li><a href=\"https://play.google.com/store/apps/details?id=com.nepalipaisa&amp;pli=1\" target=\"_blank\"><img alt=\"nepalipaisa\" src=\"/images/playstore-qrcode.png\"/></a></li>\n",
       "</ul>\n",
       "<button aria-expanded=\"false\" class=\"btn btn-secondary dropdown-toggle wow slideInRight animated animated animated\" data-bs-toggle=\"dropdown\" id=\"btnAppleStore\" style=\"visibility: visible;\" type=\"button\">\n",
       "<img alt=\"\" class=\"btn-light\" src=\"/images/app-store-logo-light.jpg\"/>\n",
       "<img alt=\"\" class=\"btn-dark\" src=\"/images/app-store-logo-dark.jpg\"/>\n",
       "</button>\n",
       "<ul aria-labelledby=\"btnAppleStore\" class=\"dropdown-menu\">\n",
       "<li><a href=\"https://apps.apple.com/us/app/nepali-paisa/id1219752008\" target=\"_blank\"><img alt=\"nepalipaisa\" src=\"/images/appstore-qrcode.png\"/></a></li>\n",
       "</ul>\n",
       "</div>\n",
       "</div>\n",
       "</div>\n",
       "</div>\n",
       "</div>\n",
       "<!--logo-->\n",
       "<!--main-navigation-->\n",
       "<div class=\"np-navigation\">\n",
       "<div id=\"wrapper\">\n",
       "<div class=\"navigation-block\">\n",
       "<div class=\"row g-0\">\n",
       "<div class=\"col-xl-3 col-lg-3 col-md-12 col-sm-12 col-xs-12 fuller\">\n",
       "<div class=\"logo-icon\">\n",
       "<a href=\"/\">\n",
       "<img alt=\"nepalipaisa-logo\" src=\"/images/nepalipaisa-logo-small.png\" title=\"Nepali Paisa\"/>\n",
       "</a>\n",
       "</div>\n",
       "</div>\n",
       "<div class=\"col-xl-12 col-lg-12 col-md-12 col-sm-12 col-xs-12 fuller\">\n",
       "<nav>\n",
       "<ul>\n",
       "<li class=\"\"><a href=\"/\">Home</a></li>\n",
       "<li class=\"\"><a href=\"/news\">News</a></li>\n",
       "<li class=\"main-dropdown active\">\n",
       "<a class=\"dropdown\" href=\"#\">Nepse Data</a>\n",
       "<ul>\n",
       "<li><a class=\"\" href=\"/market-overview\">Overview</a></li>\n",
       "<li><a class=\"\" href=\"/live-market\">Live Market</a></li>\n",
       "<li><a class=\"\" href=\"/indices\">Indices</a></li>\n",
       "<li><a class=\"\" href=\"/today-share-price\">Today's Share Price</a></li>\n",
       "<li><a class=\"active\" href=\"/market-mover\">Market Movers</a></li>\n",
       "</ul>\n",
       "</li>\n",
       "<li class=\"main-dropdown\">\n",
       "<a class=\"dropdown\" href=\"#\">Investment Opportunities</a>\n",
       "<ul>\n",
       "<li><a class=\"\" href=\"/ipo\">IPO</a></li>\n",
       "<li><a class=\"\" href=\"/fpo\">FPO</a></li>\n",
       "<li><a class=\"\" href=\"/auction\">Auction</a></li>\n",
       "<li><a class=\"\" href=\"/dividend\">Right/Dividend</a></li>\n",
       "<li><a class=\"\" href=\"/bond\">Bond/Debentures</a></li>\n",
       "</ul>\n",
       "</li>\n",
       "<li class=\"main-dropdown\">\n",
       "<a class=\"dropdown\" href=\"#\">Corporate Actions</a>\n",
       "<ul>\n",
       "<li><a class=\"\" href=\"/financial-report\">Financial Reports</a></li>\n",
       "<li><a class=\"\" href=\"/agm\">AGM/SGM</a></li>\n",
       "<li><a class=\"\" href=\"/announcement\">Announcement</a></li>\n",
       "<li><a class=\"\" href=\"/merger\">Merger/Acquisition</a></li>\n",
       "</ul>\n",
       "</li>\n",
       "<li class=\"\"><a href=\"/training\">Training</a></li>\n",
       "<li class=\"main-dropdown\">\n",
       "<a class=\"dropdown\" href=\"#\">Share Manager</a>\n",
       "<ul>\n",
       "<li><a class=\"\" href=\"/portfolio\">Portfolio Value</a></li>\n",
       "<li><a class=\"\" href=\"/my-holdings\">My Holdings</a></li>\n",
       "<li><a class=\"\" href=\"/realized-gain\">Realized Gains</a></li>\n",
       "<li><a class=\"\" href=\"/transactions\">Transactions</a></li>\n",
       "<li><a class=\"\" href=\"/watchlist\">Watchlist</a></li>\n",
       "<li class=\"\"><a href=\"https://app.smartwealthpro.com/Account/Login\" target=\"_blank\"><img alt=\"\" src=\"/images/swp-logo.png\"/>Smart Wealth Pro  <sup>Upgrade</sup></a></li>\n",
       "</ul>\n",
       "</li>\n",
       "</ul>\n",
       "</nav>\n",
       "</div>\n",
       "</div>\n",
       "</div>\n",
       "</div>\n",
       "</div>\n",
       "<!--main-navigation-->\n",
       "<!--qlinks-->\n",
       "<div class=\"qlink\">\n",
       "<div id=\"wrapper\">\n",
       "<div class=\"row g-0\">\n",
       "<div class=\"col-xl-8 col-lg-8 col-md-12 col-sm-12 col-xs-12 fuller\">\n",
       "<div class=\"qlink-list\">\n",
       "<ul>\n",
       "<li><a class=\"\" href=\"/market-overview\">Overview</a></li>\n",
       "<li><a class=\"\" href=\"/live-market\">Live Market</a></li>\n",
       "<li><a class=\"\" href=\"/indices\">Indices</a></li>\n",
       "<li><a class=\"\" href=\"/today-share-price\">Today's Share Price</a></li>\n",
       "<li><a class=\"active\" href=\"/market-mover\">Market Movers</a></li>\n",
       "</ul>\n",
       "</div>\n",
       "</div>\n",
       "<div class=\"col-xl-4 col-lg-3 col-md-12 col-sm-12 col-xs-12 fuller\">\n",
       "<div class=\"search-block\">\n",
       "<div class=\"row\">\n",
       "<div class=\"col-xl-12 col-lg-12 col-md-12 col-sm-12 col-xs-12 fuller\">\n",
       "<div class=\"companies form-group\">\n",
       "<select class=\"form-select selectized\" id=\"ddlCompanySearch\" name=\"ddlCompanySearch\" placeholder=\"Company Name or Symbol\" style=\"display: none;\" tabindex=\"-1\">\n",
       "<option selected=\"selected\" value=\"\"></option></select><div class=\"form-select selectize-control single plugin-remove_button plugin-auto_select_on_type\"><div class=\"selectize-input items not-full has-options\"><input autocomplete=\"new-password\" autofill=\"no\" id=\"ddlCompanySearch-selectized\" placeholder=\"Company Name or Symbol\" style=\"width: 163.113px;\" tabindex=\"\" type=\"text\"/></div><div class=\"single selectize-dropdown form-select plugin-remove_button plugin-auto_select_on_type\" style=\"display: none;\"><div class=\"selectize-dropdown-content\" tabindex=\"-1\"></div></div></div>\n",
       "</div>\n",
       "</div>\n",
       "</div>\n",
       "</div>\n",
       "</div>\n",
       "</div>\n",
       "</div>\n",
       "</div>\n",
       "<!--qlinks-->\n",
       "<section class=\"np-company-page np-indices-page\">\n",
       "<div id=\"wrapper\">\n",
       "<div class=\"row g-0\">\n",
       "<div class=\"col-xl-12 col-lg-12 col-md-12 col-sm-12 col-xs-12 fuller\">\n",
       "<div class=\"np-indices-section\">\n",
       "<div class=\"table-responsive table-fixed\">\n",
       "<div class=\"c-financial-report\">\n",
       "<h1>Market Movers</h1>\n",
       "<!-- <div class=\"refresh-btn\" style=\"display:none;\"><i class=\"fa fa-refresh\" aria-hidden=\"true\" title=\"Refresh\"></i> Refresh </div> -->\n",
       "<div class=\"np-nepse-data wow zoomIn animated animated\" style=\"visibility: visible;\">\n",
       "<ul>\n",
       "<li><p>NEPSE</p></li>\n",
       "<li id=\"liIndex\"><p>1,993.38</p></li>\n",
       "<li id=\"liDiff\">\n",
       "<p><span class=\"negative\">-20.54</span></p>\n",
       "</li>\n",
       "<li id=\"liPercent\">\n",
       "<p><span class=\"negative\">-1.02 %</span></p>\n",
       "</li>\n",
       "</ul>\n",
       "</div>\n",
       "<div id=\"divFilter\" style=\"\">\n",
       "<p>\n",
       "<button aria-controls=\"collapseExample\" aria-expanded=\"false\" class=\"btn btn-primary search-filter\" data-bs-target=\"#collapseExample\" data-bs-toggle=\"collapse\" type=\"button\">\n",
       "<i class=\"fas fa-filter\"></i>\n",
       "</button>\n",
       "</p>\n",
       "<div class=\"f-report-search collapse\" id=\"collapseExample\">\n",
       "<form>\n",
       "<div class=\"row g-2\">\n",
       "<div class=\"col-xl-3 col-lg-3 col-md-6 col-sm-12 fuller padder\" style=\"display:none;\">\n",
       "<div class=\"form-group indices\">\n",
       "<select class=\"form-select\" id=\"ddlIndex\" name=\"ddlIndex\" placeholder=\"Index/Subindex\">\n",
       "</select>\n",
       "</div>\n",
       "</div>\n",
       "<div class=\"col-md-6 col-sm-12 fuller padder col-xl-3 col-lg-3\" style=\"\">\n",
       "<div class=\"form-group sectors market-movers\">\n",
       "<select class=\"form-select selectized\" id=\"ddlSector\" name=\"ddlSector\" placeholder=\"All Sectors\" style=\"display: none;\" tabindex=\"-1\">\n",
       "<option selected=\"selected\" value=\"\"></option></select><div class=\"form-select selectize-control single plugin-remove_button plugin-auto_select_on_type\"><div class=\"selectize-input items not-full has-options\"><input autocomplete=\"new-password\" autofill=\"no\" id=\"ddlSector-selectized\" placeholder=\"All Sectors\" style=\"width: 69.675px;\" tabindex=\"\" type=\"text\"/></div><div class=\"single selectize-dropdown form-select plugin-remove_button plugin-auto_select_on_type\" style=\"display: none;\"><div class=\"selectize-dropdown-content\" tabindex=\"-1\"></div></div></div>\n",
       "</div>\n",
       "</div>\n",
       "<div class=\"col-xl-3 col-lg-3 col-md-6 col-sm-12 fuller padder\" style=\"display:none;\">\n",
       "<div class=\"form-group companies\">\n",
       "<select class=\"form-select\" id=\"ddlCompany\" name=\"ddlCompany\" placeholder=\"All Companies\">\n",
       "</select>\n",
       "</div>\n",
       "</div>\n",
       "<div class=\"col-xl-2 col-lg-2 col-md-6 col-sm-6 fuller padder\" style=\"display:none;\">\n",
       "<div class=\"form-group fromDate\">\n",
       "<input class=\"form-control datepicker\" data-key-parser=\"date\" id=\"txtFromDate\" maxlength=\"10\" name=\"txtFromDate\" placeholder=\"From Date\" type=\"text\"/>\n",
       "</div>\n",
       "</div>\n",
       "<div class=\"col-xl-2 col-lg-2 col-md-6 col-sm-6 fuller padder\" style=\"display:none;\">\n",
       "<div class=\"form-group toDate\">\n",
       "<input class=\"form-control datepicker\" data-key-parser=\"date\" id=\"txtToDate\" maxlength=\"10\" name=\"txtToDate\" placeholder=\"To Date\" type=\"text\"/>\n",
       "</div>\n",
       "</div>\n",
       "<div class=\"col-xl-2 col-lg-2 col-md-6 col-sm-6 fuller padder\" style=\"display:none;\">\n",
       "<div class=\"form-group tradeDate\">\n",
       "<input class=\"form-control datepicker\" data-key-parser=\"date\" id=\"txtTradeDate\" maxlength=\"10\" name=\"txtTradeDate\" placeholder=\"Trade Date\" type=\"text\"/>\n",
       "</div>\n",
       "</div>\n",
       "<div class=\"col-xl-4 col-lg-3 col-md-6 col-sm-12 fuller padder action-btns\">\n",
       "<div class=\"form-group read-more\">\n",
       "<button id=\"btnSearch\" style=\"display: none;\" type=\"button\">Search</button>\n",
       "<button id=\"btnReset\" type=\"button\">Reset</button>\n",
       "</div>\n",
       "</div>\n",
       "</div>\n",
       "</form>\n",
       "</div>\n",
       "</div>\n",
       "<div class=\"np-indices-title\">\n",
       "<h3></h3><p class=\"as-of-date\">As of Sun, 27 Aug 2023 | 03:00:00 PM</p>\n",
       "<div class=\"refresh-btn\"><i aria-hidden=\"true\" class=\"fa fa-refresh\" title=\"Refresh\"></i></div>\n",
       "<p class=\"legend-block pull-right\">* No. of transactions is updated after market is closed</p>\n",
       "</div>\n",
       "<div class=\"np-market-movers-section\">\n",
       "<div clas=\"row\">\n",
       "<div class=\"col-xl-12 col-lg-12 col-md-12 col-sm-12 col-xs-12 fuller\">\n",
       "<div class=\"tabs\">\n",
       "<ul class=\"nav nav-tabs responsive-tabs\">\n",
       "<li class=\"\"><a data-type=\"turnover\" href=\"#top-turnover\">Turnover</a></li>\n",
       "<li class=\"active\"><a data-type=\"gainers\" href=\"#top-gainers\">Gainers</a></li>\n",
       "<li><a data-type=\"losers\" href=\"#top-losers\">Losers</a></li>\n",
       "<li><a data-type=\"sharestraded\" href=\"#top-volume\">Volume</a></li>\n",
       "<li><a data-type=\"transactions\" href=\"#top-transaction\">Transactions</a></li>\n",
       "</ul>\n",
       "<div class=\"tab-content\">\n",
       "<a class=\"accordion-link first\" data-type=\"turnover\" href=\"#top-turnover\">Turnover</a><div class=\"tab-pane\" id=\"top-turnover\">\n",
       "<span>Loading...</span>\n",
       "</div>\n",
       "<a class=\"accordion-link active\" data-type=\"gainers\" href=\"#top-gainers\">Gainers</a><div class=\"tab-pane active\" id=\"top-gainers\"><div class=\"table-responsive table-fixed\"><table class=\"table table-responsive\"><thead><tr class=\"tablehead\"><th class=\"\">Symbol</th><th class=\"text-right\">Closing Price</th><th class=\"text-right\">% Chg</th><th class=\"text-right\">Volume</th><th class=\"text-right\">Turnover</th><th class=\"text-right\">Transactions<span title=\"No. of transactions is updated after market is closed.\">*</span></th><th class=\"text-right\">Opening Price</th><th class=\"text-right\">Max Price</th><th class=\"text-right\">Min Price</th><th class=\"text-right\" title=\"Previous Closing Price\">Prev. Close</th></tr></thead><tbody><tr><td><span title=\"Kutheli Bukhari Small Hydropower Limited\">KBSH <a data-company-popover=\"KBSH\" href=\"javascript:void();\" title=\"Stock Overview\"><i class=\"fas fa-external-link-alt\"></i></a></span></td><td class=\"text-right\">771.20</td><td class=\"text-right text-positive\">10.00 <i class=\"fas fa-angle-double-up\"></i></td><td class=\"text-right\">2,509</td><td class=\"text-right\">1,931,848.70</td><td class=\"text-right\">161</td><td class=\"text-right\">715.10</td><td class=\"text-right\">771.20</td><td class=\"text-right\">715.10</td><td class=\"text-right\">701.10</td></tr><tr><td><span title=\"Swabhimaan Laghubitta Bittiya Sanstha Limited\">SMFBS <a data-company-popover=\"SMFBS\" href=\"javascript:void();\" title=\"Stock Overview\"><i class=\"fas fa-external-link-alt\"></i></a></span></td><td class=\"text-right\">1,166.00</td><td class=\"text-right text-positive\">6.00 <i class=\"fas fa-angle-double-up\"></i></td><td class=\"text-right\">30</td><td class=\"text-right\">34,320.00</td><td class=\"text-right\">3</td><td class=\"text-right\">1,122.00</td><td class=\"text-right\">1,166.00</td><td class=\"text-right\">1,122.00</td><td class=\"text-right\">1,100.00</td></tr><tr><td><span title=\"CITIZENS MUTUAL FUND 2\">CMF2 <a data-company-popover=\"CMF2\" href=\"javascript:void();\" title=\"Stock Overview\"><i class=\"fas fa-external-link-alt\"></i></a></span></td><td class=\"text-right\">8.82</td><td class=\"text-right text-positive\">5.88 <i class=\"fas fa-angle-double-up\"></i></td><td class=\"text-right\">98,486</td><td class=\"text-right\">860,055.72</td><td class=\"text-right\">22</td><td class=\"text-right\">8.49</td><td class=\"text-right\">8.82</td><td class=\"text-right\">8.49</td><td class=\"text-right\">8.33</td></tr><tr><td><span title=\"People's Power Limited\">PPL <a data-company-popover=\"PPL\" href=\"javascript:void();\" title=\"Stock Overview\"><i class=\"fas fa-external-link-alt\"></i></a></span></td><td class=\"text-right\">233.50</td><td class=\"text-right text-positive\">5.18 <i class=\"fas fa-angle-double-up\"></i></td><td class=\"text-right\">5,617</td><td class=\"text-right\">1,254,098.80</td><td class=\"text-right\">244</td><td class=\"text-right\">226.40</td><td class=\"text-right\">233.50</td><td class=\"text-right\">218.00</td><td class=\"text-right\">222.00</td></tr><tr><td><span title=\"Upper Solu Hydro Electric Company Limited\">USHEC <a data-company-popover=\"USHEC\" href=\"javascript:void();\" title=\"Stock Overview\"><i class=\"fas fa-external-link-alt\"></i></a></span></td><td class=\"text-right\">238.10</td><td class=\"text-right text-positive\">4.89 <i class=\"fas fa-angle-up\"></i></td><td class=\"text-right\">1,510</td><td class=\"text-right\">335,037.00</td><td class=\"text-right\">125</td><td class=\"text-right\">222.50</td><td class=\"text-right\">238.10</td><td class=\"text-right\">220.00</td><td class=\"text-right\">227.00</td></tr><tr><td><span title=\"Siddhartha Equity Fund\">SEF <a data-company-popover=\"SEF\" href=\"javascript:void();\" title=\"Stock Overview\"><i class=\"fas fa-external-link-alt\"></i></a></span></td><td class=\"text-right\">8.57</td><td class=\"text-right text-positive\">3.88 <i class=\"fas fa-angle-up\"></i></td><td class=\"text-right\">66,300</td><td class=\"text-right\">559,368.00</td><td class=\"text-right\">15</td><td class=\"text-right\">8.40</td><td class=\"text-right\">8.57</td><td class=\"text-right\">8.15</td><td class=\"text-right\">8.25</td></tr><tr><td><span title=\"Siddhartha Investment Growth Scheme - 2\">SIGS2 <a data-company-popover=\"SIGS2\" href=\"javascript:void();\" title=\"Stock Overview\"><i class=\"fas fa-external-link-alt\"></i></a></span></td><td class=\"text-right\">8.82</td><td class=\"text-right text-positive\">3.76 <i class=\"fas fa-angle-up\"></i></td><td class=\"text-right\">146,970</td><td class=\"text-right\">1,290,110.20</td><td class=\"text-right\">16</td><td class=\"text-right\">8.33</td><td class=\"text-right\">8.82</td><td class=\"text-right\">8.33</td><td class=\"text-right\">8.50</td></tr><tr><td><span title=\"Sunrise Focused Equity Fund\">SFEF <a data-company-popover=\"SFEF\" href=\"javascript:void();\" title=\"Stock Overview\"><i class=\"fas fa-external-link-alt\"></i></a></span></td><td class=\"text-right\">8.17</td><td class=\"text-right text-positive\">3.29 <i class=\"fas fa-angle-up\"></i></td><td class=\"text-right\">1,700</td><td class=\"text-right\">13,671.00</td><td class=\"text-right\">6</td><td class=\"text-right\">8.06</td><td class=\"text-right\">8.17</td><td class=\"text-right\">7.90</td><td class=\"text-right\">7.91</td></tr><tr><td><span title=\"Samling Power Company Limited\">SPC <a data-company-popover=\"SPC\" href=\"javascript:void();\" title=\"Stock Overview\"><i class=\"fas fa-external-link-alt\"></i></a></span></td><td class=\"text-right\">386.00</td><td class=\"text-right text-positive\">2.44 <i class=\"fas fa-angle-up\"></i></td><td class=\"text-right\">750</td><td class=\"text-right\">275,284.00</td><td class=\"text-right\">36</td><td class=\"text-right\">369.30</td><td class=\"text-right\">386.00</td><td class=\"text-right\">363.20</td><td class=\"text-right\">376.80</td></tr><tr><td><span title=\"Bottlers Nepal (Terai) Limited\">BNT <a data-company-popover=\"BNT\" href=\"javascript:void();\" title=\"Stock Overview\"><i class=\"fas fa-external-link-alt\"></i></a></span></td><td class=\"text-right\">13,850.00</td><td class=\"text-right text-positive\">2.40 <i class=\"fas fa-angle-up\"></i></td><td class=\"text-right\">60</td><td class=\"text-right\">814,556.00</td><td class=\"text-right\">6</td><td class=\"text-right\">13,255.00</td><td class=\"text-right\">13,850.00</td><td class=\"text-right\">13,255.00</td><td class=\"text-right\">13,525.00</td></tr><tr><td><span title=\"10 % NMB DEBENTURE 2085\">NMBD2085 <a data-company-popover=\"NMBD2085\" href=\"javascript:void();\" title=\"Stock Overview\"><i class=\"fas fa-external-link-alt\"></i></a></span></td><td class=\"text-right\">980.60</td><td class=\"text-right text-positive\">2.00 <i class=\"fas fa-angle-up\"></i></td><td class=\"text-right\">49</td><td class=\"text-right\">47,909.40</td><td class=\"text-right\">2</td><td class=\"text-right\">975.00</td><td class=\"text-right\">980.60</td><td class=\"text-right\">975.00</td><td class=\"text-right\">961.40</td></tr><tr><td><span title=\"8.5% Nepal Investment Bank Debenture 2084\">NIBD84 <a data-company-popover=\"NIBD84\" href=\"javascript:void();\" title=\"Stock Overview\"><i class=\"fas fa-external-link-alt\"></i></a></span></td><td class=\"text-right\">826.20</td><td class=\"text-right text-positive\">2.00 <i class=\"fas fa-angle-up\"></i></td><td class=\"text-right\">25</td><td class=\"text-right\">20,655.00</td><td class=\"text-right\">1</td><td class=\"text-right\">826.20</td><td class=\"text-right\">826.20</td><td class=\"text-right\">826.20</td><td class=\"text-right\">810.00</td></tr><tr><td><span title=\"NIBL Samriddhi Fund -2\">NIBSF2 <a data-company-popover=\"NIBSF2\" href=\"javascript:void();\" title=\"Stock Overview\"><i class=\"fas fa-external-link-alt\"></i></a></span></td><td class=\"text-right\">7.14</td><td class=\"text-right text-positive\">2.00 <i class=\"fas fa-angle-up\"></i></td><td class=\"text-right\">24,710</td><td class=\"text-right\">174,417.20</td><td class=\"text-right\">20</td><td class=\"text-right\">7.00</td><td class=\"text-right\">7.14</td><td class=\"text-right\">7.00</td><td class=\"text-right\">7.00</td></tr><tr><td><span title=\"Rawa Energy Development Limited\">RAWA <a data-company-popover=\"RAWA\" href=\"javascript:void();\" title=\"Stock Overview\"><i class=\"fas fa-external-link-alt\"></i></a></span></td><td class=\"text-right\">316.20</td><td class=\"text-right text-positive\">2.00 <i class=\"fas fa-angle-up\"></i></td><td class=\"text-right\">9,355</td><td class=\"text-right\">2,805,571.40</td><td class=\"text-right\">195</td><td class=\"text-right\">304.10</td><td class=\"text-right\">316.20</td><td class=\"text-right\">296.20</td><td class=\"text-right\">310.00</td></tr><tr><td><span title=\"10.5 % NEPAL INVESTMENT DEBENTURE 2082\">NIBD2082 <a data-company-popover=\"NIBD2082\" href=\"javascript:void();\" title=\"Stock Overview\"><i class=\"fas fa-external-link-alt\"></i></a></span></td><td class=\"text-right\">990.30</td><td class=\"text-right text-positive\">1.99 <i class=\"fas fa-angle-up\"></i></td><td class=\"text-right\">140</td><td class=\"text-right\">138,110.50</td><td class=\"text-right\">3</td><td class=\"text-right\">985.00</td><td class=\"text-right\">990.30</td><td class=\"text-right\">985.00</td><td class=\"text-right\">971.00</td></tr><tr><td><span title=\"8.5% Nepal Bank Debenture 2087\">NBLD87 <a data-company-popover=\"NBLD87\" href=\"javascript:void();\" title=\"Stock Overview\"><i class=\"fas fa-external-link-alt\"></i></a></span></td><td class=\"text-right\">784.30</td><td class=\"text-right text-positive\">1.99 <i class=\"fas fa-angle-up\"></i></td><td class=\"text-right\">20</td><td class=\"text-right\">15,686.00</td><td class=\"text-right\">1</td><td class=\"text-right\">784.30</td><td class=\"text-right\">784.30</td><td class=\"text-right\">784.30</td><td class=\"text-right\">769.00</td></tr><tr><td><span title=\"Eastern Hydropower Limited\">EHPL <a data-company-popover=\"EHPL\" href=\"javascript:void();\" title=\"Stock Overview\"><i class=\"fas fa-external-link-alt\"></i></a></span></td><td class=\"text-right\">310.70</td><td class=\"text-right text-positive\">1.97 <i class=\"fas fa-angle-up\"></i></td><td class=\"text-right\">740</td><td class=\"text-right\">220,032.00</td><td class=\"text-right\">59</td><td class=\"text-right\">298.70</td><td class=\"text-right\">310.70</td><td class=\"text-right\">284.00</td><td class=\"text-right\">304.70</td></tr><tr><td><span title=\"Mirmire Laghubitta Bittya Sanstha Limited\">MMFDB <a data-company-popover=\"MMFDB\" href=\"javascript:void();\" title=\"Stock Overview\"><i class=\"fas fa-external-link-alt\"></i></a></span></td><td class=\"text-right\">629.00</td><td class=\"text-right text-positive\">1.96 <i class=\"fas fa-angle-up\"></i></td><td class=\"text-right\">869</td><td class=\"text-right\">531,309.90</td><td class=\"text-right\">28</td><td class=\"text-right\">616.90</td><td class=\"text-right\">629.00</td><td class=\"text-right\">600.00</td><td class=\"text-right\">616.90</td></tr><tr><td><span title=\"Nepal Investment Mega Bank Ltd. Promoter Share\">NIMBPO <a data-company-popover=\"NIMBPO\" href=\"javascript:void();\" title=\"Stock Overview\"><i class=\"fas fa-external-link-alt\"></i></a></span></td><td class=\"text-right\">150.80</td><td class=\"text-right text-positive\">1.89 <i class=\"fas fa-angle-up\"></i></td><td class=\"text-right\">1,020</td><td class=\"text-right\">150,917.00</td><td class=\"text-right\">4</td><td class=\"text-right\">150.90</td><td class=\"text-right\">150.90</td><td class=\"text-right\">147.90</td><td class=\"text-right\">148.00</td></tr><tr><td><span title=\"Kalika power Company Ltd\">KPCL <a data-company-popover=\"KPCL\" href=\"javascript:void();\" title=\"Stock Overview\"><i class=\"fas fa-external-link-alt\"></i></a></span></td><td class=\"text-right\">348.00</td><td class=\"text-right text-positive\">1.78 <i class=\"fas fa-angle-up\"></i></td><td class=\"text-right\">764</td><td class=\"text-right\">256,790.80</td><td class=\"text-right\">42</td><td class=\"text-right\">339.00</td><td class=\"text-right\">348.00</td><td class=\"text-right\">329.20</td><td class=\"text-right\">341.90</td></tr><tr><td><span title=\"Upper Hewakhola Hydropower Company Limited\">UHEWA <a data-company-popover=\"UHEWA\" href=\"javascript:void();\" title=\"Stock Overview\"><i class=\"fas fa-external-link-alt\"></i></a></span></td><td class=\"text-right\">288.00</td><td class=\"text-right text-positive\">1.41 <i class=\"fas fa-angle-up\"></i></td><td class=\"text-right\">7,600</td><td class=\"text-right\">2,195,947.00</td><td class=\"text-right\">114</td><td class=\"text-right\">286.10</td><td class=\"text-right\">291.80</td><td class=\"text-right\">286.10</td><td class=\"text-right\">284.00</td></tr><tr><td><span title=\"Multipurpose Finance Company  Limited\">MPFL <a data-company-popover=\"MPFL\" href=\"javascript:void();\" title=\"Stock Overview\"><i class=\"fas fa-external-link-alt\"></i></a></span></td><td class=\"text-right\">308.90</td><td class=\"text-right text-positive\">1.28 <i class=\"fas fa-angle-up\"></i></td><td class=\"text-right\">4,305</td><td class=\"text-right\">1,296,822.30</td><td class=\"text-right\">34</td><td class=\"text-right\">309.90</td><td class=\"text-right\">309.90</td><td class=\"text-right\">293.40</td><td class=\"text-right\">305.00</td></tr><tr><td><span title=\"Sanima Growth Fund\">SAGF <a data-company-popover=\"SAGF\" href=\"javascript:void();\" title=\"Stock Overview\"><i class=\"fas fa-external-link-alt\"></i></a></span></td><td class=\"text-right\">8.00</td><td class=\"text-right text-positive\">1.27 <i class=\"fas fa-angle-up\"></i></td><td class=\"text-right\">1,100</td><td class=\"text-right\">8,725.00</td><td class=\"text-right\">9</td><td class=\"text-right\">7.90</td><td class=\"text-right\">8.05</td><td class=\"text-right\">7.90</td><td class=\"text-right\">7.90</td></tr><tr><td><span title=\"Shangri-la Development Bank Debenture 2087\">SDBD87 <a data-company-popover=\"SDBD87\" href=\"javascript:void();\" title=\"Stock Overview\"><i class=\"fas fa-external-link-alt\"></i></a></span></td><td class=\"text-right\">825.00</td><td class=\"text-right text-positive\">1.23 <i class=\"fas fa-angle-up\"></i></td><td class=\"text-right\">125</td><td class=\"text-right\">102,875.00</td><td class=\"text-right\">2</td><td class=\"text-right\">815.00</td><td class=\"text-right\">825.00</td><td class=\"text-right\">815.00</td><td class=\"text-right\">815.00</td></tr><tr><td><span title=\"Unilever Nepal Limited\">UNL <a data-company-popover=\"UNL\" href=\"javascript:void();\" title=\"Stock Overview\"><i class=\"fas fa-external-link-alt\"></i></a></span></td><td class=\"text-right\">36,299.90</td><td class=\"text-right text-positive\">1.15 <i class=\"fas fa-angle-up\"></i></td><td class=\"text-right\">60</td><td class=\"text-right\">2,155,136.00</td><td class=\"text-right\">6</td><td class=\"text-right\">35,200.00</td><td class=\"text-right\">36,605.70</td><td class=\"text-right\">35,200.00</td><td class=\"text-right\">35,888.00</td></tr><tr><td><span title=\"Samudayik Laghubitta Bittiya Sanstha Limited\">SLBSL <a data-company-popover=\"SLBSL\" href=\"javascript:void();\" title=\"Stock Overview\"><i class=\"fas fa-external-link-alt\"></i></a></span></td><td class=\"text-right\">828.90</td><td class=\"text-right text-positive\">1.09 <i class=\"fas fa-angle-up\"></i></td><td class=\"text-right\">239</td><td class=\"text-right\">190,597.10</td><td class=\"text-right\">12</td><td class=\"text-right\">804.00</td><td class=\"text-right\">828.90</td><td class=\"text-right\">771.90</td><td class=\"text-right\">820.00</td></tr><tr><td><span title=\"NMB Hybrid Fund L-1\">NMBHF1 <a data-company-popover=\"NMBHF1\" href=\"javascript:void();\" title=\"Stock Overview\"><i class=\"fas fa-external-link-alt\"></i></a></span></td><td class=\"text-right\">11.19</td><td class=\"text-right text-positive\">1.08 <i class=\"fas fa-angle-up\"></i></td><td class=\"text-right\">932</td><td class=\"text-right\">10,337.56</td><td class=\"text-right\">2</td><td class=\"text-right\">11.08</td><td class=\"text-right\">11.19</td><td class=\"text-right\">11.08</td><td class=\"text-right\">11.07</td></tr><tr><td><span title=\"Swabalamban Laghubitta Bittiya Sanstha Limited\">SWBBL <a data-company-popover=\"SWBBL\" href=\"javascript:void();\" title=\"Stock Overview\"><i class=\"fas fa-external-link-alt\"></i></a></span></td><td class=\"text-right\">775.00</td><td class=\"text-right text-positive\">1.04 <i class=\"fas fa-angle-up\"></i></td><td class=\"text-right\">11,972</td><td class=\"text-right\">9,285,984.70</td><td class=\"text-right\">62</td><td class=\"text-right\">780.00</td><td class=\"text-right\">784.90</td><td class=\"text-right\">761.10</td><td class=\"text-right\">767.00</td></tr><tr><td><span title=\"Shangrila Development Bank Ltd.\">SADBL <a data-company-popover=\"SADBL\" href=\"javascript:void();\" title=\"Stock Overview\"><i class=\"fas fa-external-link-alt\"></i></a></span></td><td class=\"text-right\">305.80</td><td class=\"text-right text-positive\">0.92 <i class=\"fas fa-angle-up\"></i></td><td class=\"text-right\">6,048</td><td class=\"text-right\">1,830,923.10</td><td class=\"text-right\">51</td><td class=\"text-right\">309.00</td><td class=\"text-right\">309.00</td><td class=\"text-right\">300.00</td><td class=\"text-right\">303.00</td></tr><tr><td><span title=\"NIBL Growth Fund\">NIBLGF <a data-company-popover=\"NIBLGF\" href=\"javascript:void();\" title=\"Stock Overview\"><i class=\"fas fa-external-link-alt\"></i></a></span></td><td class=\"text-right\">7.85</td><td class=\"text-right text-positive\">0.90 <i class=\"fas fa-angle-up\"></i></td><td class=\"text-right\">830</td><td class=\"text-right\">6,418.00</td><td class=\"text-right\">8</td><td class=\"text-right\">7.63</td><td class=\"text-right\">7.85</td><td class=\"text-right\">7.63</td><td class=\"text-right\">7.78</td></tr><tr><td><span title=\"Neco Insurance Limited\">NIL <a data-company-popover=\"NIL\" href=\"javascript:void();\" title=\"Stock Overview\"><i class=\"fas fa-external-link-alt\"></i></a></span></td><td class=\"text-right\">862.00</td><td class=\"text-right text-positive\">0.82 <i class=\"fas fa-angle-up\"></i></td><td class=\"text-right\">8,191</td><td class=\"text-right\">7,021,978.40</td><td class=\"text-right\">103</td><td class=\"text-right\">855.00</td><td class=\"text-right\">863.00</td><td class=\"text-right\">855.00</td><td class=\"text-right\">855.00</td></tr><tr><td><span title=\"NIBL Pragati Fund\">NIBLPF <a data-company-popover=\"NIBLPF\" href=\"javascript:void();\" title=\"Stock Overview\"><i class=\"fas fa-external-link-alt\"></i></a></span></td><td class=\"text-right\">9.17</td><td class=\"text-right text-positive\">0.77 <i class=\"fas fa-angle-up\"></i></td><td class=\"text-right\">6,438</td><td class=\"text-right\">58,935.46</td><td class=\"text-right\">4</td><td class=\"text-right\">9.15</td><td class=\"text-right\">9.17</td><td class=\"text-right\">9.15</td><td class=\"text-right\">9.10</td></tr><tr><td><span title=\"Manushi Laghubitta Bittiya Sanstha Limited\">MLBS <a data-company-popover=\"MLBS\" href=\"javascript:void();\" title=\"Stock Overview\"><i class=\"fas fa-external-link-alt\"></i></a></span></td><td class=\"text-right\">667.90</td><td class=\"text-right text-positive\">0.74 <i class=\"fas fa-angle-up\"></i></td><td class=\"text-right\">370</td><td class=\"text-right\">246,449.00</td><td class=\"text-right\">21</td><td class=\"text-right\">665.00</td><td class=\"text-right\">670.00</td><td class=\"text-right\">660.00</td><td class=\"text-right\">663.00</td></tr><tr><td><span title=\"RSDC Laghubitta Bittiya Sanstha Ltd.\">RSDC <a data-company-popover=\"RSDC\" href=\"javascript:void();\" title=\"Stock Overview\"><i class=\"fas fa-external-link-alt\"></i></a></span></td><td class=\"text-right\">553.90</td><td class=\"text-right text-positive\">0.71 <i class=\"fas fa-angle-up\"></i></td><td class=\"text-right\">2,315</td><td class=\"text-right\">1,262,593.70</td><td class=\"text-right\">52</td><td class=\"text-right\">547.50</td><td class=\"text-right\">554.00</td><td class=\"text-right\">538.00</td><td class=\"text-right\">550.00</td></tr><tr><td><span title=\"Mega Mutual Fund -1\">MMF1 <a data-company-popover=\"MMF1\" href=\"javascript:void();\" title=\"Stock Overview\"><i class=\"fas fa-external-link-alt\"></i></a></span></td><td class=\"text-right\">7.04</td><td class=\"text-right text-positive\">0.57 <i class=\"fas fa-angle-up\"></i></td><td class=\"text-right\">12,800</td><td class=\"text-right\">89,788.00</td><td class=\"text-right\">20</td><td class=\"text-right\">6.87</td><td class=\"text-right\">7.04</td><td class=\"text-right\">6.87</td><td class=\"text-right\">7.00</td></tr><tr><td><span title=\"10.25% GLOBAL IME BANK LTD. DEBENTURE 2080/81\">GBD80/81 <a data-company-popover=\"GBD80/81\" href=\"javascript:void();\" title=\"Stock Overview\"><i class=\"fas fa-external-link-alt\"></i></a></span></td><td class=\"text-right\">995.00</td><td class=\"text-right text-positive\">0.51 <i class=\"fas fa-angle-up\"></i></td><td class=\"text-right\">13</td><td class=\"text-right\">12,935.00</td><td class=\"text-right\">1</td><td class=\"text-right\">995.00</td><td class=\"text-right\">995.00</td><td class=\"text-right\">995.00</td><td class=\"text-right\">990.00</td></tr><tr><td><span title=\"12% ICFC Finance Limited Debenture 2083\">ICFCD83 <a data-company-popover=\"ICFCD83\" href=\"javascript:void();\" title=\"Stock Overview\"><i class=\"fas fa-external-link-alt\"></i></a></span></td><td class=\"text-right\">1,045.00</td><td class=\"text-right text-positive\">0.48 <i class=\"fas fa-angle-up\"></i></td><td class=\"text-right\">90</td><td class=\"text-right\">94,050.00</td><td class=\"text-right\">1</td><td class=\"text-right\">1,045.00</td><td class=\"text-right\">1,045.00</td><td class=\"text-right\">1,045.00</td><td class=\"text-right\">1,040.00</td></tr><tr><td><span title=\"Laxmi Equity Fund\">LEMF <a data-company-popover=\"LEMF\" href=\"javascript:void();\" title=\"Stock Overview\"><i class=\"fas fa-external-link-alt\"></i></a></span></td><td class=\"text-right\">8.33</td><td class=\"text-right text-positive\">0.36 <i class=\"fas fa-angle-up\"></i></td><td class=\"text-right\">18,587</td><td class=\"text-right\">154,478.84</td><td class=\"text-right\">6</td><td class=\"text-right\">8.30</td><td class=\"text-right\">8.33</td><td class=\"text-right\">8.30</td><td class=\"text-right\">8.30</td></tr><tr><td><span title=\"NESDO Sambridha Laghubitta Bittiya Sanstha Limited\">NESDO <a data-company-popover=\"NESDO\" href=\"javascript:void();\" title=\"Stock Overview\"><i class=\"fas fa-external-link-alt\"></i></a></span></td><td class=\"text-right\">1,866.00</td><td class=\"text-right text-positive\">0.32 <i class=\"fas fa-angle-up\"></i></td><td class=\"text-right\">1,505</td><td class=\"text-right\">2,822,659.00</td><td class=\"text-right\">63</td><td class=\"text-right\">1,860.00</td><td class=\"text-right\">1,897.20</td><td class=\"text-right\">1,860.00</td><td class=\"text-right\">1,860.00</td></tr><tr><td><span title=\"Singati Hydro Energy Limited\">SHEL <a data-company-popover=\"SHEL\" href=\"javascript:void();\" title=\"Stock Overview\"><i class=\"fas fa-external-link-alt\"></i></a></span></td><td class=\"text-right\">227.70</td><td class=\"text-right text-positive\">0.31 <i class=\"fas fa-angle-up\"></i></td><td class=\"text-right\">1,820</td><td class=\"text-right\">405,478.00</td><td class=\"text-right\">79</td><td class=\"text-right\">228.00</td><td class=\"text-right\">229.00</td><td class=\"text-right\">220.00</td><td class=\"text-right\">227.00</td></tr><tr><td><span title=\"Union Hydropower Limited\">UNHPL <a data-company-popover=\"UNHPL\" href=\"javascript:void();\" title=\"Stock Overview\"><i class=\"fas fa-external-link-alt\"></i></a></span></td><td class=\"text-right\">165.00</td><td class=\"text-right text-positive\">0.30 <i class=\"fas fa-angle-up\"></i></td><td class=\"text-right\">12,633</td><td class=\"text-right\">2,051,635.90</td><td class=\"text-right\">63</td><td class=\"text-right\">165.00</td><td class=\"text-right\">165.90</td><td class=\"text-right\">159.50</td><td class=\"text-right\">164.50</td></tr><tr><td><span title=\"Narayani Development Bank Limited\">NABBC <a data-company-popover=\"NABBC\" href=\"javascript:void();\" title=\"Stock Overview\"><i class=\"fas fa-external-link-alt\"></i></a></span></td><td class=\"text-right\">376.00</td><td class=\"text-right text-positive\">0.27 <i class=\"fas fa-angle-up\"></i></td><td class=\"text-right\">1,713</td><td class=\"text-right\">639,265.30</td><td class=\"text-right\">11</td><td class=\"text-right\">375.00</td><td class=\"text-right\">376.00</td><td class=\"text-right\">370.00</td><td class=\"text-right\">375.00</td></tr><tr><td><span title=\"Sunrise Bluechip Fund\">SBCF <a data-company-popover=\"SBCF\" href=\"javascript:void();\" title=\"Stock Overview\"><i class=\"fas fa-external-link-alt\"></i></a></span></td><td class=\"text-right\">7.50</td><td class=\"text-right text-positive\">0.27 <i class=\"fas fa-angle-up\"></i></td><td class=\"text-right\">12,600</td><td class=\"text-right\">94,806.00</td><td class=\"text-right\">14</td><td class=\"text-right\">7.35</td><td class=\"text-right\">7.56</td><td class=\"text-right\">7.35</td><td class=\"text-right\">7.48</td></tr><tr><td><span title=\"Barahi Hydropower Public Limited\">BHPL <a data-company-popover=\"BHPL\" href=\"javascript:void();\" title=\"Stock Overview\"><i class=\"fas fa-external-link-alt\"></i></a></span></td><td class=\"text-right\">425.00</td><td class=\"text-right text-positive\">0.24 <i class=\"fas fa-angle-up\"></i></td><td class=\"text-right\">1,073</td><td class=\"text-right\">451,126.00</td><td class=\"text-right\">65</td><td class=\"text-right\">420.00</td><td class=\"text-right\">433.00</td><td class=\"text-right\">408.00</td><td class=\"text-right\">424.00</td></tr><tr><td><span title=\"Ankhu Khola Jalvidhyut Company Ltd\">AKJCL <a data-company-popover=\"AKJCL\" href=\"javascript:void();\" title=\"Stock Overview\"><i class=\"fas fa-external-link-alt\"></i></a></span></td><td class=\"text-right\">161.40</td><td class=\"text-right text-positive\">0.19 <i class=\"fas fa-angle-up\"></i></td><td class=\"text-right\">13,016</td><td class=\"text-right\">2,100,164.90</td><td class=\"text-right\">108</td><td class=\"text-right\">160.00</td><td class=\"text-right\">167.50</td><td class=\"text-right\">158.80</td><td class=\"text-right\">161.10</td></tr><tr><td><span title=\"Garima Bikas Bank Limited\">GBBL <a data-company-popover=\"GBBL\" href=\"javascript:void();\" title=\"Stock Overview\"><i class=\"fas fa-external-link-alt\"></i></a></span></td><td class=\"text-right\">376.50</td><td class=\"text-right text-positive\">0.13 <i class=\"fas fa-angle-up\"></i></td><td class=\"text-right\">14,863</td><td class=\"text-right\">5,583,100.20</td><td class=\"text-right\">159</td><td class=\"text-right\">379.00</td><td class=\"text-right\">379.00</td><td class=\"text-right\">375.00</td><td class=\"text-right\">376.00</td></tr><tr><td><span title=\"Ru Ru Jalbidhyut Pariyojana Limited\">RURU <a data-company-popover=\"RURU\" href=\"javascript:void();\" title=\"Stock Overview\"><i class=\"fas fa-external-link-alt\"></i></a></span></td><td class=\"text-right\">779.00</td><td class=\"text-right text-positive\">0.13 <i class=\"fas fa-angle-up\"></i></td><td class=\"text-right\">253</td><td class=\"text-right\">194,280.00</td><td class=\"text-right\">15</td><td class=\"text-right\">770.00</td><td class=\"text-right\">779.00</td><td class=\"text-right\">750.80</td><td class=\"text-right\">778.00</td></tr><tr><td><span title=\"Chandragiri Hills Limited\">CGH <a data-company-popover=\"CGH\" href=\"javascript:void();\" title=\"Stock Overview\"><i class=\"fas fa-external-link-alt\"></i></a></span></td><td class=\"text-right\">1,269.50</td><td class=\"text-right text-positive\">0.12 <i class=\"fas fa-angle-up\"></i></td><td class=\"text-right\">4,739</td><td class=\"text-right\">6,013,691.70</td><td class=\"text-right\">69</td><td class=\"text-right\">1,255.00</td><td class=\"text-right\">1,274.90</td><td class=\"text-right\">1,252.00</td><td class=\"text-right\">1,268.00</td></tr><tr><td><span title=\"NMB Sulav Investment Fund - 2\">NSIF2 <a data-company-popover=\"NSIF2\" href=\"javascript:void();\" title=\"Stock Overview\"><i class=\"fas fa-external-link-alt\"></i></a></span></td><td class=\"text-right\">8.84</td><td class=\"text-right text-positive\">0.11 <i class=\"fas fa-angle-up\"></i></td><td class=\"text-right\">1,420</td><td class=\"text-right\">12,535.40</td><td class=\"text-right\">10</td><td class=\"text-right\">8.83</td><td class=\"text-right\">8.85</td><td class=\"text-right\">8.80</td><td class=\"text-right\">8.83</td></tr></tbody></table></div></div>\n",
       "<a class=\"accordion-link\" data-type=\"losers\" href=\"#top-losers\">Losers</a><div class=\"tab-pane\" id=\"top-losers\">\n",
       "<span>Loading...</span>\n",
       "</div>\n",
       "<a class=\"accordion-link\" data-type=\"sharestraded\" href=\"#top-volume\">Volume</a><div class=\"tab-pane\" id=\"top-volume\">\n",
       "<span>Loading...</span>\n",
       "</div>\n",
       "<a class=\"accordion-link last\" data-type=\"transactions\" href=\"#top-transaction\">Transactions</a><div class=\"tab-pane\" id=\"top-transaction\">\n",
       "<span>Loading...</span>\n",
       "</div>\n",
       "</div>\n",
       "</div>\n",
       "</div>\n",
       "</div>\n",
       "</div>\n",
       "</div>\n",
       "</div>\n",
       "</div>\n",
       "</div>\n",
       "</div>\n",
       "</div>\n",
       "</section>\n",
       "<section class=\"np-downloads\">\n",
       "<div id=\"triangle-topleft\"></div>\n",
       "<div id=\"triangle-bottomleft\"></div>\n",
       "<div id=\"wrapper\">\n",
       "<div class=\"row g-4\">\n",
       "<div class=\"col-xl-6 col-lg-5 col-md-12 col-sm-12 col-xs-12 fuller\">\n",
       "<div class=\"downloads-block\">\n",
       "<ul>\n",
       "<li><p>Download App</p></li>\n",
       "<li>\n",
       "<a href=\"https://play.google.com/store/apps/details?id=com.nepalipaisa\" target=\"_blank\">\n",
       "<img src=\"../images/googleplay.png\"/>\n",
       "</a>\n",
       "<p class=\"downloads\">100k+ Downloads</p>\n",
       "</li>\n",
       "<li>\n",
       "<a href=\"https://apps.apple.com/us/app/nepali-paisa/id1219752008\" target=\"_blank\">\n",
       "<img src=\"../images/appstore.png\"/>\n",
       "</a>\n",
       "<p class=\"downloads\">100k+ Downloads</p>\n",
       "</li>\n",
       "</ul>\n",
       "</div>\n",
       "</div>\n",
       "<div class=\"col-xl-6 col-lg-7 col-md-12 col-sm-12 col-xs-12 fuller\">\n",
       "<div class=\"socialmedia-block\">\n",
       "<ul>\n",
       "<li><a href=\"https://www.facebook.com/NepaliPaisa.News/\" target=\"_blank\"><i class=\"fab fa-facebook-square\"></i><span>Facebook</span></a></li>\n",
       "<li><a href=\"https://www.instagram.com/nepalipaisa1/\" target=\"_blank\"><i class=\"fab fa-instagram-square\"></i><span>Instagram</span></a></li>\n",
       "<li><a href=\"https://www.linkedin.com/company/nepali-paisa/\" target=\"_blank\"><i class=\"fab fa-linkedin\"></i><span>LinkedIn</span></a></li>\n",
       "<li><a href=\"https://twitter.com/nepalipaisa\" target=\"_blank\"><i class=\"fab fa-twitter-square\"></i><span>Twitter</span></a></li>\n",
       "<li><a href=\"https://www.youtube.com/channel/UCuS_6Lvf1OmJQSU_cpSHfQA\" target=\"_blank\"><i class=\"fab fa-youtube-square\"></i><span>Youtube</span></a></li>\n",
       "<li><a href=\"http://www.tiktok.com/@nepalipaisamedia\" rel=\"noreferrer\" target=\"_SEJ\"><i class=\"fab fa-tiktok\"></i><span>TikTok</span></a></li>\n",
       "<li><a href=\"https://invite.viber.com/?g2=AQB4KYU1tvECzUwmBpPR5l%2Bga2vY0n5ERHAPoZgZXenNGvC%2Bh54raIGkhdhJoqyZ&amp;lang=en\" target=\"_blank\"><i class=\"fab fa-viber\"></i><span>Viber</span></a></li>\n",
       "</ul>\n",
       "</div>\n",
       "</div>\n",
       "</div>\n",
       "</div>\n",
       "</section>\n",
       "<footer class=\"np-footer\">\n",
       "<div id=\"wrapper\">\n",
       "<div class=\"footer-block\">\n",
       "<div class=\"row g-4\">\n",
       "<div class=\"col-xl-8 col-lg-8 col-md-8 col-sm-12 col-xs-12 fuller\">\n",
       "<div class=\"quicklinks\">\n",
       "<h3>Quick Links</h3>\n",
       "<ul>\n",
       "<li><a href=\"/\">Home</a></li>\n",
       "<li><a href=\"/news\">Latest News</a></li>\n",
       "<li><a href=\"/market-overview\">Nepse Data</a></li>\n",
       "<li><a href=\"/about-us\">About Us</a></li>\n",
       "<li><a href=\"/stock-calendar\">Stock Calender</a></li>\n",
       "<li><a href=\"/today-share-price\">Today’s Share Price</a></li>\n",
       "<li><a href=\"/contactus\">Contact Us</a></li>\n",
       "<li><a href=\"/ipo\">Investment Opportunities</a></li>\n",
       "<li><a href=\"/market-mover/gainers\">Top Gainers</a></li>\n",
       "<li><a href=\"/feedback\">Feedback</a></li>\n",
       "<li><a href=\"/dividend\">Dividend</a></li>\n",
       "<li><a href=\"/market-mover/losers\">Top Losers</a></li>\n",
       "<li><a href=\"/net-price-calculator\">Calculator</a> </li>\n",
       "<li><a href=\"/financial-report\">Financial Reports</a></li>\n",
       "<li><a href=\"/training\">Training</a> </li>\n",
       "<li><a href=\"/faq\">FAQ</a></li>\n",
       "<li><a href=\"/video\">Videos</a> </li>\n",
       "<li><a href=\"/career\">Career</a></li>\n",
       "<li><a href=\"/advertisewithus\">Advertise with us</a></li>\n",
       "</ul>\n",
       "</div>\n",
       "</div>\n",
       "<div class=\"col-xl-4 col-lg-4 col-md-4 col-sm-12 col-xs-12 fuller\">\n",
       "<div class=\"quicklinks get-in-touch\">\n",
       "<h3>Get In Touch</h3>\n",
       "<ul>\n",
       "<li><i aria-hidden=\"true\" class=\"fa fa-map-marker\"></i> Ranibari, Lazimpat Kathmandu</li>\n",
       "<li><a href=\"tel:9803122546\"><i class=\"fas fa-mobile\"></i>9803122546</a></li>\n",
       "<li><a href=\"mailto:info@nepalipaisa.com\"><i class=\"fas fa-envelope\"></i>info@nepalipaisa.com</a></li>\n",
       "<li>Published by: <span>Nepali Paisa Media Pvt. Ltd.</span></li>\n",
       "<li>Editor-in-Chief : <span>Nabaraj Dhakal</span></li>\n",
       "<li>\n",
       "                                    Regd No (Department of Information): <span>152251/073/074</span>\n",
       "</li>\n",
       "</ul>\n",
       "</div>\n",
       "<div class=\"paisa-podcast\">\n",
       "<h3>Paisa Podcast</h3>\n",
       "<img src=\"/images/Paisa-Podcast.png\"/>\n",
       "<ul>\n",
       "<li><a class=\"instagrama\" href=\"https://www.instagram.com/paisapodcast/?igshid=YmMyMTA2M2Y%3D\" target=\"_blank\"><i class=\"fab fa-instagram-square\"></i></a></li>\n",
       "<li><a class=\"tiktok\" href=\"https://www.tiktok.com/@paisa.podcast\" rel=\"noreferrer\" target=\"_SEJ\"><i class=\"fab fa-tiktok\"></i></a></li>\n",
       "</ul>\n",
       "</div>\n",
       "</div>\n",
       "</div>\n",
       "</div>\n",
       "</div>\n",
       "<div class=\"np-copyright\">\n",
       "<div id=\"wrapper\">\n",
       "<div class=\"row g-0\">\n",
       "<div class=\"col-xl-6 col-lg-6 col-md-6 col-sm-12 col-xs-12 fuller\">\n",
       "<div class=\"copyright-block wow slideInRight animated\" style=\"visibility: hidden; -webkit-animation-name: none; -moz-animation-name: none; animation-name: none;\">\n",
       "<p>© Copyright  2023 Nepali Paisa Media Pvt Ltd.</p>\n",
       "<ul>\n",
       "<li><a href=\"/terms-conditions\">Terms of Services</a></li>\n",
       "<li><a href=\"/privacy-policy\">Privacy Policy</a></li>\n",
       "</ul>\n",
       "</div>\n",
       "</div>\n",
       "<div class=\"col-xl-6 col-lg-6 col-md-6 col-sm-12 col-xs-12 fuller\">\n",
       "<div class=\"powered-block wow slideInLeft animated\" style=\"visibility: hidden; -webkit-animation-name: none; -moz-animation-name: none; animation-name: none;\">\n",
       "<p>Powered By: <a href=\"https://www.sourcecode.com.np\" target=\"_blank\">Source <span>Code</span></a></p>\n",
       "</div>\n",
       "</div>\n",
       "<div class=\"col-xl-12 col-lg-12 col-md-6 col-sm-12 col-xs-12 fuller\">\n",
       "<div class=\"footer-logo wow slideInUp animated\" style=\"visibility: hidden; -webkit-animation-name: none; -moz-animation-name: none; animation-name: none;\">\n",
       "<img src=\"/images/nepalipaisa-logo-small.png\"/>\n",
       "</div>\n",
       "</div>\n",
       "</div>\n",
       "</div>\n",
       "<div id=\"triangle-bottomright\"></div>\n",
       "</div>\n",
       "<div class=\"quad-shape\">\n",
       "<p>Sitemap</p>\n",
       "</div>\n",
       "<div class=\"expand-footer\" style=\"display:none;\">\n",
       "<div id=\"wrapper\">\n",
       "<div class=\"hidden-footer-content\">\n",
       "<div class=\"relative-content\">\n",
       "<div class=\"list-view active\">\n",
       "<div class=\"row\">\n",
       "<div class=\"col-xl-3 col-lg-3 col-md-3 col-sm-6 col-12 margin-lines\">\n",
       "<div class=\"dropdown\">\n",
       "<a class=\"menu-title home\" href=\"/\"> Home</a>\n",
       "</div>\n",
       "</div>\n",
       "<div class=\"col-xl-3 col-lg-3 col-md-3 col-sm-6 col-12 margin-lines\">\n",
       "<div class=\"dropdown\">\n",
       "<a aria-expanded=\"false\" class=\"menu-title news\" data-bs-toggle=\"dropdown\" href=\"/news\" id=\"dropdownMenuButton1\">News</a>\n",
       "<ul aria-labelledby=\"dropdownMenuButton1\" class=\"sub-class dropdown-menu\">\n",
       "<li class=\"submenu\"><a href=\"/news/latest\">Latest News</a></li>\n",
       "<li class=\"submenu\"><a href=\"/news/stockMarket\">Stock Market</a></li>\n",
       "<li class=\"submenu\"><a href=\"/news/popular\">Popular News</a></li>\n",
       "<li class=\"submenu\"><a href=\"/news/interviews\">Interviews</a></li>\n",
       "<li class=\"submenu\"><a href=\"/news/marketAnalysis\">Market Analysis</a></li>\n",
       "<li class=\"submenu\"><a href=\"/news/businessEconomy\">Business &amp; Economy</a></li>\n",
       "<li class=\"submenu\"><a href=\"/news/article\">Article</a></li>\n",
       "<li class=\"submenu\"><a href=\"/news/sector\">Sectoral News</a></li>\n",
       "</ul>\n",
       "</div>\n",
       "</div>\n",
       "<div class=\"col-xl-3 col-lg-3 col-md-3 col-sm-6 col-12 margin-lines\">\n",
       "<div class=\"dropdown\">\n",
       "<a aria-expanded=\"false\" class=\"menu-title nepse-data\" data-bs-toggle=\"dropdown\" href=\"\" id=\"dropdownMenuButton2\">Nepse Data</a>\n",
       "<ul aria-labelledby=\"dropdownMenuButton2\" class=\"sub-class dropdown-menu\">\n",
       "<li class=\"submenu\"><a href=\"/market-overview\">Overview</a></li>\n",
       "<li class=\"submenu\"><a href=\"/live-market\">Live Market</a></li>\n",
       "<li class=\"submenu\"><a href=\"/indices\">Indices</a></li>\n",
       "<li class=\"submenu\"><a href=\"/today-share-price\">Today's Share Price</a></li>\n",
       "<li class=\"submenu\"><a href=\"/market-mover\">Market Movers</a></li>\n",
       "</ul>\n",
       "</div>\n",
       "</div>\n",
       "<div class=\"col-xl-3 col-lg-3 col-md-3 col-sm-6 col-12 margin-lines\">\n",
       "<div class=\"dropdown\">\n",
       "<a aria-expanded=\"false\" class=\"menu-title invest-opp\" data-bs-toggle=\"dropdown\" href=\"\" id=\"dropdownMenuButton3\">Investment Opportunities</a>\n",
       "<ul aria-labelledby=\"dropdownMenuButton3\" class=\"sub-class dropdown-menu\">\n",
       "<li class=\"submenu\"><a href=\"/ipo\">IPO</a></li>\n",
       "<li class=\"submenu\"><a href=\"/fpo\">FPO</a></li>\n",
       "<li class=\"submenu\"><a href=\"/auction\">Auction</a></li>\n",
       "<li class=\"submenu\"><a href=\"/dividend\">Right/Dividend</a></li>\n",
       "<li class=\"submenu\"><a href=\"/bond\">Bond/Debentures</a></li>\n",
       "</ul>\n",
       "</div>\n",
       "</div>\n",
       "<div class=\"col-xl-3 col-lg-3 col-md-3 col-sm-6 col-12 margin-lines\">\n",
       "<div class=\"dropdown\">\n",
       "<a aria-expanded=\"false\" class=\"menu-title co-actions\" data-bs-toggle=\"dropdown\" href=\"\" id=\"dropdownMenuButton4\">Corporate Actions</a>\n",
       "<ul aria-labelledby=\"dropdownMenuButton4\" class=\"sub-class dropdown-menu\">\n",
       "<li class=\"submenu\"><a href=\"/financial-report\">Financial Report</a></li>\n",
       "<li class=\"submenu\"><a href=\"/agm\">AGM/SGM</a></li>\n",
       "<li class=\"submenu\"><a href=\"/announcement\">Announcement</a></li>\n",
       "<li class=\"submenu\"><a href=\"/merger\">Merger/Acquistion</a></li>\n",
       "</ul>\n",
       "</div>\n",
       "</div>\n",
       "<div class=\"col-xl-3 col-lg-3 col-md-3 col-sm-6 col-12 margin-lines\">\n",
       "<div class=\"dropdown\">\n",
       "<a aria-expanded=\"false\" class=\"menu-title share-mg\" data-bs-toggle=\"dropdown\" href=\"/portfolio\" id=\"dropdownMenuButton5\">Share Manager</a>\n",
       "<ul aria-labelledby=\"dropdownMenuButton5\" class=\"sub-class dropdown-menu\">\n",
       "<li class=\"submenu\"><a href=\"/portfolio\">Portfolio Value</a></li>\n",
       "<li class=\"submenu\"><a href=\"/my-holdings\">My Holidings</a></li>\n",
       "<li class=\"submenu\"><a href=\"/realized-gain\">Realized Gains</a></li>\n",
       "<li class=\"submenu\"><a href=\"/transactions\">Transactions</a></li>\n",
       "<li class=\"submenu\"><a href=\"/watchlist\">Watchlist</a></li>\n",
       "<li class=\"submenu\"><a href=\"https://app.smartwealthpro.com/account/login\"><img alt=\"\" src=\"/images/swp-logo.png\"/>Smart Wealth Pro<sup>Upgrade</sup></a></li>\n",
       "</ul>\n",
       "</div>\n",
       "</div>\n",
       "<div class=\"col-xl-3 col-lg-3 col-md-3 col-sm-6 col-12 margin-lines\">\n",
       "<div class=\"dropdown\">\n",
       "<a class=\"menu-title training\" href=\"/training\">Training</a>\n",
       "</div>\n",
       "</div>\n",
       "<div class=\"col-xl-3 col-lg-3 col-md-3 col-sm-6 col-12 margin-lines\">\n",
       "<div class=\"dropdown\">\n",
       "<a aria-expanded=\"false\" class=\"menu-title calculator\" data-bs-toggle=\"dropdown\" href=\"/net-price-calculator\" id=\"dropdownMenuButton7\">Calculator</a>\n",
       "<ul aria-labelledby=\"dropdownMenuButton7\" class=\"sub-class dropdown-menu\">\n",
       "<li class=\"submenu\"><a href=\"/net-price-calculator\">Net Price Calculator</a></li>\n",
       "<li class=\"submenu\"><a href=\"/margin-lending-calculator\">Margin Lending Calculator</a></li>\n",
       "</ul>\n",
       "</div>\n",
       "</div>\n",
       "<!-- <div class=\"col-xl-3 col-lg-3 col-md-3 col-sm-6 col-12 margin-lines\"><a href=\"/\" class=\"menu-title\">About Us</a></div> -->\n",
       "<div class=\"col-xl-3 col-lg-3 col-md-3 col-sm-6 col-12 margin-lines\">\n",
       "<div class=\"dropdown\">\n",
       "<a class=\"menu-title contact-us\" href=\"/contactus\">Contact Us</a>\n",
       "</div>\n",
       "</div>\n",
       "<div class=\"col-xl-3 col-lg-3 col-md-3 col-sm-6 col-12 margin-lines\">\n",
       "<div class=\"dropdown\">\n",
       "<a class=\"menu-title feedback\" href=\"/feedback\">Feedback</a>\n",
       "</div>\n",
       "</div>\n",
       "<div class=\"col-xl-3 col-lg-3 col-md-3 col-sm-6 col-12 margin-lines\">\n",
       "<div class=\"dropdown\">\n",
       "<a class=\"menu-title faq\" href=\"/faq\">FAQ</a>\n",
       "</div>\n",
       "</div>\n",
       "<div class=\"col-xl-3 col-lg-3 col-md-3 col-sm-6 col-12 margin-lines\">\n",
       "<div class=\"dropdown\">\n",
       "<a class=\"menu-title videos\" href=\"/video\">Videos</a>\n",
       "</div>\n",
       "</div>\n",
       "<!-- <div class=\"col-xl-3 col-lg-3 col-md-3 col-sm-6 col-12 margin-lines\"><a href=\"\" class=\"menu-title\">Career</a></div> -->\n",
       "<div class=\"col-xl-3 col-lg-3 col-md-3 col-sm-6 col-12 margin-lines\">\n",
       "<div class=\"dropdown\">\n",
       "<a class=\"menu-title advertise\" href=\"advertisewithus\">Advertise with us</a>\n",
       "</div>\n",
       "</div>\n",
       "</div>\n",
       "</div>\n",
       "<div class=\"grid-view hide\">\n",
       "<ul>\n",
       "<li class=\"margin-lines\">\n",
       "<a class=\"grid-list-title\" href=\"/News/News.cshtml\">\n",
       "<i class=\"fas fa-newspaper\"></i>\n",
       "<p>News</p>\n",
       "</a>\n",
       "</li>\n",
       "<li class=\"margin-lines\">\n",
       "<a class=\"grid-list-title\" href=\"/market-overview\">\n",
       "<i class=\"fas fa-database\"></i>\n",
       "<p>Nepse Data</p>\n",
       "</a>\n",
       "</li>\n",
       "<li class=\"margin-lines\">\n",
       "<a class=\"grid-list-title\" href=\"/ipo\">\n",
       "<i aria-hidden=\"true\" class=\"fa fa-briefcase\"></i>\n",
       "<p>Investment Opportunities</p>\n",
       "</a>\n",
       "</li>\n",
       "<li class=\"margin-lines\">\n",
       "<a class=\"grid-list-title\" href=\"/financial-report\">\n",
       "<i aria-hidden=\"true\" class=\"fas fa-eye\"></i>\n",
       "<p>Corporate Actions</p>\n",
       "</a>\n",
       "</li>\n",
       "<li class=\"margin-lines\">\n",
       "<a class=\"grid-list-title\" href=\"\">\n",
       "<i aria-hidden=\"true\" class=\"fas fa-chart-pie\"></i>\n",
       "<p>Share Manager</p>\n",
       "</a>\n",
       "</li>\n",
       "<li class=\"margin-lines\">\n",
       "<a class=\"grid-list-title\" href=\"/Training/Training.cshtml\">\n",
       "<i class=\"fas fa-chalkboard-teacher\"></i>\n",
       "<p>Training</p>\n",
       "</a>\n",
       "</li>\n",
       "<li class=\"margin-lines\">\n",
       "<a class=\"grid-list-title\" href=\"/net-price-calculator\">\n",
       "<i class=\"fas fa-calculator\"></i>\n",
       "<p>Calculator</p>\n",
       "</a>\n",
       "</li>\n",
       "<li class=\"margin-lines\">\n",
       "<a class=\"grid-list-title\" href=\"/contactus\">\n",
       "<i class=\"fas fa-map-marker-alt\"></i>\n",
       "<p>Contact Us</p>\n",
       "</a>\n",
       "</li>\n",
       "<li class=\"margin-lines\">\n",
       "<a class=\"grid-list-title\" href=\"/feedback\">\n",
       "<i class=\"fas fa-comments\"></i>\n",
       "<p>Feedback</p>\n",
       "</a>\n",
       "</li>\n",
       "<li class=\"margin-lines\">\n",
       "<a class=\"grid-list-title\" href=\"/faq\">\n",
       "<i class=\"fas fa-question\"></i>\n",
       "<p>FAQ</p>\n",
       "</a>\n",
       "</li>\n",
       "<li class=\"margin-lines\">\n",
       "<a class=\"grid-list-title\" href=\"/video\">\n",
       "<i class=\"fab fa-youtube\"></i>\n",
       "<p>Videos</p>\n",
       "</a>\n",
       "</li>\n",
       "<li class=\"margin-lines\">\n",
       "<a class=\"grid-list-title\" href=\"advertisewithus\">\n",
       "<i class=\"fas fa-ad\"></i>\n",
       "<p>Advertise with us</p>\n",
       "</a>\n",
       "</li>\n",
       "</ul>\n",
       "</div>\n",
       "<div class=\"change-view\">\n",
       "<ul>\n",
       "<!-- <li>\n",
       "                                 <div class=\"home-icon\">\n",
       "                                    <a href=\"~/\"><i class=\"fas fa-home\"></i></a>\n",
       "                                 </div>                                 \n",
       "                                </li> -->\n",
       "<li class=\"list-view-btn active\">\n",
       "<i class=\"fas fa-list\"></i>\n",
       "</li>\n",
       "<li class=\"grid-view-btn\">\n",
       "<i class=\"fas fa-th-large\"></i>\n",
       "</li>\n",
       "</ul>\n",
       "</div>\n",
       "</div>\n",
       "<div class=\"social-media\">\n",
       "<ul>\n",
       "<li><a class=\"facebook\" href=\"https://www.facebook.com/NepaliPaisa.News/\" target=\"_blank\"><i class=\"fab fa-facebook-square\"></i></a></li>\n",
       "<li><a class=\"instagram\" href=\"https://www.instagram.com/nepalipaisa1/\" target=\"_blank\"><i class=\"fab fa-instagram-square\"></i></a></li>\n",
       "<li><a class=\"linkedin\" href=\"https://www.linkedin.com/company/nepali-paisa/\" target=\"_blank\"><i class=\"fab fa-linkedin-square\"></i></a></li>\n",
       "<li><a class=\"twitter\" href=\"https://twitter.com/nepalipaisa\" target=\"_blank\"><i class=\"fab fa-twitter-square\"></i></a></li>\n",
       "<li><a class=\"youtube\" href=\"https://www.youtube.com/channel/UCuS_6Lvf1OmJQSU_cpSHfQA\" target=\"_blank\"><i class=\"fab fa-youtube-square\"></i></a></li>\n",
       "<li><a class=\"tiktok\" href=\"https://www.tiktok.com/@paisa.podcast\" target=\"_blank\"><i class=\"fab fa-tiktok\"></i></a></li>\n",
       "<li><a class=\"viber\" href=\"https://invite.viber.com/?g2=AQB4KYU1tvECzUwmBpPR5l%2Bga2vY0n5ERHAPoZgZXenNGvC%2Bh54raIGkhdhJoqyZ&amp;lang=en\" target=\"_blank\"><i class=\"fab fa-viber\"></i></a></li>\n",
       "</ul>\n",
       "</div>\n",
       "<div class=\"semi-circle\"></div>\n",
       "<div class=\"close-icon\">\n",
       "<i class=\"fas fa-times\"></i>\n",
       "</div>\n",
       "</div>\n",
       "</div>\n",
       "</div>\n",
       "</footer>\n",
       "<section class=\"mob-fixed-bottom\">\n",
       "<div id=\"\">\n",
       "<div class=\"row g-4\">\n",
       "<div class=\"col-xl-12 col-lg-12 col-md-12 col-sm-12 col-xs-12 fuller\">\n",
       "<div class=\"footer-menu-item\" id=\"sub-header\">\n",
       "<ul>\n",
       "<li><a href=\"/\"><i class=\"fas fa-home\"></i><span>Home</span></a></li>\n",
       "<li><a href=\"/news\"><i class=\"fas fa-file-alt\"></i><span>News</span></a></li>\n",
       "<li><a href=\"/market-overview\"><i class=\"fas fa-database\"></i><span>Nepse Data</span></a></li>\n",
       "<li><a href=\"/portfolio\"><i class=\"fas fa-chart-pie\"></i><span>Portfolio</span></a></li>\n",
       "<li class=\"active\"><a href=\"\"><i class=\"fas fa-th-large\"></i><span>More</span></a></li>\n",
       "</ul>\n",
       "</div>\n",
       "</div>\n",
       "</div>\n",
       "</div>\n",
       "</section>\n",
       "<div class=\"scroll-s\" id=\"Scroll\" onclick=\"scrollToTop();\">\n",
       "<ul>\n",
       "<li><a class=\"facebook\" href=\"https://www.facebook.com/NepaliPaisa.News/\" target=\"_blank\"><i class=\"fab fa-facebook-square\"></i><span>Facebook</span></a></li>\n",
       "<li><a class=\"instagram\" href=\"https://www.instagram.com/nepalipaisa1/\" target=\"_blank\"><i class=\"fab fa-instagram-square\"></i><span>Instagram</span></a></li>\n",
       "<li><a class=\"linkedin\" href=\"https://www.linkedin.com/company/nepali-paisa/\" target=\"_blank\"><i class=\"fab fa-linkedin-square\"></i><span>LinkedIn</span></a></li>\n",
       "<li><a class=\"twitter\" href=\"https://twitter.com/nepalipaisa\" target=\"_blank\"><i class=\"fab fa-twitter-square\"></i><span>Twitter</span></a></li>\n",
       "<li><a class=\"youtube\" href=\"https://www.youtube.com/channel/UCuS_6Lvf1OmJQSU_cpSHfQA\" target=\"_blank\"><i class=\"fab fa-youtube-square\"></i><span>Youtube</span></a></li>\n",
       "<li><a class=\"tiktok\" href=\"https://www.tiktok.com/@nepalipaisamedia\" target=\"_blank\"><i class=\"fab fa-tiktok\"></i><span>TikTok</span></a></li>\n",
       "<li><a class=\"viber\" href=\"https://invite.viber.com/?g2=AQB4KYU1tvECzUwmBpPR5l%2Bga2vY0n5ERHAPoZgZXenNGvC%2Bh54raIGkhdhJoqyZ&amp;lang=en\" target=\"_blank\"><i class=\"fab fa-viber\"></i><span>Viber</span></a></li>\n",
       "<li>\n",
       "<img src=\"/images/Paisa-Podcast.png\" title=\"Paisa Podcast\"/>\n",
       "<span class=\"podcast-icons\">\n",
       "<a class=\"instagrama\" href=\"https://www.instagram.com/paisapodcast/?igshid=YmMyMTA2M2Y%3D\" target=\"_blank\"><i class=\"fab fa-instagram-square\"></i></a>\n",
       "<a class=\"tiktoka\" href=\"https://www.tiktok.com/@paisa.podcast\" target=\"_blank\"><i class=\"fab fa-tiktok\"></i></a>\n",
       "</span>\n",
       "</li>\n",
       "</ul>\n",
       "</div>\n",
       "<div class=\"scroll\" id=\"jsScroll\" onclick=\"scrollToTop();\">\n",
       "<i class=\"fa fa-angle-up\"></i>\n",
       "</div>\n",
       "<!-- JavaScript Libraries -->\n",
       "<script src=\"/lib/bootstrap/bootstrap.bundle.min.js\"></script>\n",
       "<script src=\"/lib/bootstrap-datepicker/bootstrap-datepicker.min.js\"></script>\n",
       "<script src=\"/lib/jquery-validation/dist/jquery.validate.min.js\"></script>\n",
       "<script src=\"/lib/tooltip/tooltip.js\"></script>\n",
       "<script src=\"/lib/impromptu/impromptu.js\"></script>\n",
       "<script src=\"/lib/lightslider/lightslider.js\"></script>\n",
       "<script src=\"/lib/izi-toast/js/izitoast.min.js\"></script>\n",
       "<script src=\"/lib/selectize/selectize.js\"></script>\n",
       "<script src=\"/lib/pagination/pagination.js?v=UBtHDdstQI6JQ38IaX9iVHA-IrBURVhaFwwCnSGzh2c\"></script>\n",
       "<script src=\"/lib/highchart/highstock.js\"></script>\n",
       "<script src=\"/lib/moment.js\"></script>\n",
       "<script src=\"/lib/calender/js/pignose.calendar.min.js\"></script>\n",
       "<script src=\"/lib/lazy-loading/jquery.lazy.min.js\"></script>\n",
       "<script src=\"/js/utilities/utility.js?v=JPI72A9HbJaynjRCW7_OQ9HBugdTRAHn9wBIMz5B4CQ\"></script>\n",
       "<script src=\"/js/utilities/html-utility.js?v=DhLwxUjZLZHGvAwJAdpG0z9-9qzMEmW62biJVXtrl78\"></script>\n",
       "<script src=\"/js/utilities/dropdown.js?v=A-4Mfn0qvU8ZyG9odFQVWn3Sn-ErCx2UdWMZ6oIY-iE\"></script>\n",
       "<script src=\"/lib/top-progress-bar.js?v=6vwKOeu19DvyT4XGZPfnQSMVcwhNKAHWuSCJGwi8VJU\"></script>\n",
       "<script src=\"/js/site/layout.js?v=WY68TUp7OYh6821RbaZqv7oUCVyarFKQfTZ90mmk2ug\"></script>\n",
       "<script src=\"/js/site/company-search.js?v=LDPXFoidnnOXFfIT411IpNPneHuiEPP1poITXleq8U0\"></script>\n",
       "<script src=\"/js/site/advertisement.js?v=uFOZHlqn_znHQaAmhMn968C-a3AZp4Ahp0ADbBBRAqw\"></script>\n",
       "<script src=\"/js/shared/company-popover.js?v=c5f0fkoZoPqVHp6fdUCnI2jZe7oqcA7HqI0mY2Wyxco\"></script>\n",
       "<script>\n",
       "     $(function(){\n",
       "    // this will get the full URL at the address bar\n",
       "    var url = window.location.href; \n",
       "\n",
       "    // passes on every \"a\" tag \n",
       "    $(\"#sub-header a\").each(function() {\n",
       "            // checks if its the same on the address bar\n",
       "        if(url == (this.href)) { \n",
       "            $(this).closest(\"li\").addClass(\"active\");\n",
       "        }\n",
       "    });\n",
       "});\n",
       "    </script>\n",
       "<script src=\"/js/site/nepse-data.js?v=gHT5Ra1RVaPvMbiNkDov9Ums_K2simlE5WYPYNhgYwQ\"></script>\n",
       "<script>\n",
       "        $(function () {\n",
       "            var modules = {\n",
       "                liveMarket: { \n",
       "                    company: true,\n",
       "                    refresh: true \n",
       "                },\n",
       "                indices: {\n",
       "                    indices: true,\n",
       "                    fromDate: true,\n",
       "                    toDate: true,\n",
       "                    \n",
       "                },\n",
       "                todaySharePrice: {\n",
       "                    company: true,\n",
       "                    tradeDate: true,\n",
       "                },\n",
       "                marketMover: {\n",
       "                    sector: true,\n",
       "                    refresh: true\n",
       "                },\n",
       "            }\n",
       "            var moduleCode = \"marketMover\";\n",
       "\n",
       "            $(this).NepseData({\n",
       "                filter: {\n",
       "                    indices: getFilterStatus(modules, moduleCode, 'indices'),\n",
       "                    sector: getFilterStatus(modules, moduleCode, 'sector'),\n",
       "                    company: getFilterStatus(modules, moduleCode, 'company'),\n",
       "                    fromDate: getFilterStatus(modules, moduleCode, 'fromDate'),\n",
       "                    toDate: getFilterStatus(modules, moduleCode, 'toDate'),\n",
       "                    tradeDate: getFilterStatus(modules, moduleCode, 'tradeDate'),\n",
       "                },\n",
       "                refresh: getFilterStatus(modules, moduleCode, 'refresh'),\n",
       "                moduleCode: moduleCode,\n",
       "                subModule: \"gainers\"\n",
       "            })\n",
       "        });\n",
       "    </script>\n",
       "<div aria-hidden=\"true\" style=\"position: absolute; width: 0px; height: 0px; overflow: hidden;\"><span style=\"position: absolute; width: auto; padding: 0px; white-space: pre; letter-spacing: 0px; font-size: 15px; font-family: Mukta, sans-serif; font-weight: 400; text-transform: none;\">Company Name or Symbol</span></div><div id=\"mcTooltipWrapper\" style=\"display: none; padding: 16px; opacity: 0; visibility: visible;\"><div class=\"\" id=\"mcTooltip\" style=\"transition: none 0s ease 0s;\"><div> </div></div><div id=\"mcttCo\" style=\"height: 24.8px; width: 16px;\"><b style=\"height: 16px; width: 16px; border-top: 0px solid rgb(51, 51, 51); border-left: 0px solid rgb(51, 51, 51); background-color: rgb(255, 255, 255); transform: translate(8px, 4px) rotate(-45deg);\"></b></div><div id=\"mcttCloseButton\"></div></div><div id=\"mcOverlay\" style=\"position: fixed;\"></div></body></html>"
      ]
     },
     "execution_count": 3,
     "metadata": {},
     "output_type": "execute_result"
    }
   ],
   "source": [
    "# Fetching the HTML Code\n",
    "driver = webdriver.Chrome()\n",
    "driver.get(\"https://nepalipaisa.com/market-mover/gainers\")\n",
    "html = BeautifulSoup(driver.page_source, 'lxml')\n",
    "driver.quit();\n",
    "html"
   ]
  },
  {
   "cell_type": "code",
   "execution_count": 4,
   "id": "7304fccf",
   "metadata": {},
   "outputs": [
    {
     "data": {
      "text/plain": [
       "[<tr class=\"tablehead\"><th class=\"\">Symbol</th><th class=\"text-right\">Closing Price</th><th class=\"text-right\">% Chg</th><th class=\"text-right\">Volume</th><th class=\"text-right\">Turnover</th><th class=\"text-right\">Transactions<span title=\"No. of transactions is updated after market is closed.\">*</span></th><th class=\"text-right\">Opening Price</th><th class=\"text-right\">Max Price</th><th class=\"text-right\">Min Price</th><th class=\"text-right\" title=\"Previous Closing Price\">Prev. Close</th></tr>,\n",
       " <tr><td><span title=\"Kutheli Bukhari Small Hydropower Limited\">KBSH <a data-company-popover=\"KBSH\" href=\"javascript:void();\" title=\"Stock Overview\"><i class=\"fas fa-external-link-alt\"></i></a></span></td><td class=\"text-right\">771.20</td><td class=\"text-right text-positive\">10.00 <i class=\"fas fa-angle-double-up\"></i></td><td class=\"text-right\">2,509</td><td class=\"text-right\">1,931,848.70</td><td class=\"text-right\">161</td><td class=\"text-right\">715.10</td><td class=\"text-right\">771.20</td><td class=\"text-right\">715.10</td><td class=\"text-right\">701.10</td></tr>,\n",
       " <tr><td><span title=\"Swabhimaan Laghubitta Bittiya Sanstha Limited\">SMFBS <a data-company-popover=\"SMFBS\" href=\"javascript:void();\" title=\"Stock Overview\"><i class=\"fas fa-external-link-alt\"></i></a></span></td><td class=\"text-right\">1,166.00</td><td class=\"text-right text-positive\">6.00 <i class=\"fas fa-angle-double-up\"></i></td><td class=\"text-right\">30</td><td class=\"text-right\">34,320.00</td><td class=\"text-right\">3</td><td class=\"text-right\">1,122.00</td><td class=\"text-right\">1,166.00</td><td class=\"text-right\">1,122.00</td><td class=\"text-right\">1,100.00</td></tr>,\n",
       " <tr><td><span title=\"CITIZENS MUTUAL FUND 2\">CMF2 <a data-company-popover=\"CMF2\" href=\"javascript:void();\" title=\"Stock Overview\"><i class=\"fas fa-external-link-alt\"></i></a></span></td><td class=\"text-right\">8.82</td><td class=\"text-right text-positive\">5.88 <i class=\"fas fa-angle-double-up\"></i></td><td class=\"text-right\">98,486</td><td class=\"text-right\">860,055.72</td><td class=\"text-right\">22</td><td class=\"text-right\">8.49</td><td class=\"text-right\">8.82</td><td class=\"text-right\">8.49</td><td class=\"text-right\">8.33</td></tr>,\n",
       " <tr><td><span title=\"People's Power Limited\">PPL <a data-company-popover=\"PPL\" href=\"javascript:void();\" title=\"Stock Overview\"><i class=\"fas fa-external-link-alt\"></i></a></span></td><td class=\"text-right\">233.50</td><td class=\"text-right text-positive\">5.18 <i class=\"fas fa-angle-double-up\"></i></td><td class=\"text-right\">5,617</td><td class=\"text-right\">1,254,098.80</td><td class=\"text-right\">244</td><td class=\"text-right\">226.40</td><td class=\"text-right\">233.50</td><td class=\"text-right\">218.00</td><td class=\"text-right\">222.00</td></tr>,\n",
       " <tr><td><span title=\"Upper Solu Hydro Electric Company Limited\">USHEC <a data-company-popover=\"USHEC\" href=\"javascript:void();\" title=\"Stock Overview\"><i class=\"fas fa-external-link-alt\"></i></a></span></td><td class=\"text-right\">238.10</td><td class=\"text-right text-positive\">4.89 <i class=\"fas fa-angle-up\"></i></td><td class=\"text-right\">1,510</td><td class=\"text-right\">335,037.00</td><td class=\"text-right\">125</td><td class=\"text-right\">222.50</td><td class=\"text-right\">238.10</td><td class=\"text-right\">220.00</td><td class=\"text-right\">227.00</td></tr>,\n",
       " <tr><td><span title=\"Siddhartha Equity Fund\">SEF <a data-company-popover=\"SEF\" href=\"javascript:void();\" title=\"Stock Overview\"><i class=\"fas fa-external-link-alt\"></i></a></span></td><td class=\"text-right\">8.57</td><td class=\"text-right text-positive\">3.88 <i class=\"fas fa-angle-up\"></i></td><td class=\"text-right\">66,300</td><td class=\"text-right\">559,368.00</td><td class=\"text-right\">15</td><td class=\"text-right\">8.40</td><td class=\"text-right\">8.57</td><td class=\"text-right\">8.15</td><td class=\"text-right\">8.25</td></tr>,\n",
       " <tr><td><span title=\"Siddhartha Investment Growth Scheme - 2\">SIGS2 <a data-company-popover=\"SIGS2\" href=\"javascript:void();\" title=\"Stock Overview\"><i class=\"fas fa-external-link-alt\"></i></a></span></td><td class=\"text-right\">8.82</td><td class=\"text-right text-positive\">3.76 <i class=\"fas fa-angle-up\"></i></td><td class=\"text-right\">146,970</td><td class=\"text-right\">1,290,110.20</td><td class=\"text-right\">16</td><td class=\"text-right\">8.33</td><td class=\"text-right\">8.82</td><td class=\"text-right\">8.33</td><td class=\"text-right\">8.50</td></tr>,\n",
       " <tr><td><span title=\"Sunrise Focused Equity Fund\">SFEF <a data-company-popover=\"SFEF\" href=\"javascript:void();\" title=\"Stock Overview\"><i class=\"fas fa-external-link-alt\"></i></a></span></td><td class=\"text-right\">8.17</td><td class=\"text-right text-positive\">3.29 <i class=\"fas fa-angle-up\"></i></td><td class=\"text-right\">1,700</td><td class=\"text-right\">13,671.00</td><td class=\"text-right\">6</td><td class=\"text-right\">8.06</td><td class=\"text-right\">8.17</td><td class=\"text-right\">7.90</td><td class=\"text-right\">7.91</td></tr>,\n",
       " <tr><td><span title=\"Samling Power Company Limited\">SPC <a data-company-popover=\"SPC\" href=\"javascript:void();\" title=\"Stock Overview\"><i class=\"fas fa-external-link-alt\"></i></a></span></td><td class=\"text-right\">386.00</td><td class=\"text-right text-positive\">2.44 <i class=\"fas fa-angle-up\"></i></td><td class=\"text-right\">750</td><td class=\"text-right\">275,284.00</td><td class=\"text-right\">36</td><td class=\"text-right\">369.30</td><td class=\"text-right\">386.00</td><td class=\"text-right\">363.20</td><td class=\"text-right\">376.80</td></tr>,\n",
       " <tr><td><span title=\"Bottlers Nepal (Terai) Limited\">BNT <a data-company-popover=\"BNT\" href=\"javascript:void();\" title=\"Stock Overview\"><i class=\"fas fa-external-link-alt\"></i></a></span></td><td class=\"text-right\">13,850.00</td><td class=\"text-right text-positive\">2.40 <i class=\"fas fa-angle-up\"></i></td><td class=\"text-right\">60</td><td class=\"text-right\">814,556.00</td><td class=\"text-right\">6</td><td class=\"text-right\">13,255.00</td><td class=\"text-right\">13,850.00</td><td class=\"text-right\">13,255.00</td><td class=\"text-right\">13,525.00</td></tr>,\n",
       " <tr><td><span title=\"10 % NMB DEBENTURE 2085\">NMBD2085 <a data-company-popover=\"NMBD2085\" href=\"javascript:void();\" title=\"Stock Overview\"><i class=\"fas fa-external-link-alt\"></i></a></span></td><td class=\"text-right\">980.60</td><td class=\"text-right text-positive\">2.00 <i class=\"fas fa-angle-up\"></i></td><td class=\"text-right\">49</td><td class=\"text-right\">47,909.40</td><td class=\"text-right\">2</td><td class=\"text-right\">975.00</td><td class=\"text-right\">980.60</td><td class=\"text-right\">975.00</td><td class=\"text-right\">961.40</td></tr>,\n",
       " <tr><td><span title=\"8.5% Nepal Investment Bank Debenture 2084\">NIBD84 <a data-company-popover=\"NIBD84\" href=\"javascript:void();\" title=\"Stock Overview\"><i class=\"fas fa-external-link-alt\"></i></a></span></td><td class=\"text-right\">826.20</td><td class=\"text-right text-positive\">2.00 <i class=\"fas fa-angle-up\"></i></td><td class=\"text-right\">25</td><td class=\"text-right\">20,655.00</td><td class=\"text-right\">1</td><td class=\"text-right\">826.20</td><td class=\"text-right\">826.20</td><td class=\"text-right\">826.20</td><td class=\"text-right\">810.00</td></tr>,\n",
       " <tr><td><span title=\"NIBL Samriddhi Fund -2\">NIBSF2 <a data-company-popover=\"NIBSF2\" href=\"javascript:void();\" title=\"Stock Overview\"><i class=\"fas fa-external-link-alt\"></i></a></span></td><td class=\"text-right\">7.14</td><td class=\"text-right text-positive\">2.00 <i class=\"fas fa-angle-up\"></i></td><td class=\"text-right\">24,710</td><td class=\"text-right\">174,417.20</td><td class=\"text-right\">20</td><td class=\"text-right\">7.00</td><td class=\"text-right\">7.14</td><td class=\"text-right\">7.00</td><td class=\"text-right\">7.00</td></tr>,\n",
       " <tr><td><span title=\"Rawa Energy Development Limited\">RAWA <a data-company-popover=\"RAWA\" href=\"javascript:void();\" title=\"Stock Overview\"><i class=\"fas fa-external-link-alt\"></i></a></span></td><td class=\"text-right\">316.20</td><td class=\"text-right text-positive\">2.00 <i class=\"fas fa-angle-up\"></i></td><td class=\"text-right\">9,355</td><td class=\"text-right\">2,805,571.40</td><td class=\"text-right\">195</td><td class=\"text-right\">304.10</td><td class=\"text-right\">316.20</td><td class=\"text-right\">296.20</td><td class=\"text-right\">310.00</td></tr>,\n",
       " <tr><td><span title=\"10.5 % NEPAL INVESTMENT DEBENTURE 2082\">NIBD2082 <a data-company-popover=\"NIBD2082\" href=\"javascript:void();\" title=\"Stock Overview\"><i class=\"fas fa-external-link-alt\"></i></a></span></td><td class=\"text-right\">990.30</td><td class=\"text-right text-positive\">1.99 <i class=\"fas fa-angle-up\"></i></td><td class=\"text-right\">140</td><td class=\"text-right\">138,110.50</td><td class=\"text-right\">3</td><td class=\"text-right\">985.00</td><td class=\"text-right\">990.30</td><td class=\"text-right\">985.00</td><td class=\"text-right\">971.00</td></tr>,\n",
       " <tr><td><span title=\"8.5% Nepal Bank Debenture 2087\">NBLD87 <a data-company-popover=\"NBLD87\" href=\"javascript:void();\" title=\"Stock Overview\"><i class=\"fas fa-external-link-alt\"></i></a></span></td><td class=\"text-right\">784.30</td><td class=\"text-right text-positive\">1.99 <i class=\"fas fa-angle-up\"></i></td><td class=\"text-right\">20</td><td class=\"text-right\">15,686.00</td><td class=\"text-right\">1</td><td class=\"text-right\">784.30</td><td class=\"text-right\">784.30</td><td class=\"text-right\">784.30</td><td class=\"text-right\">769.00</td></tr>,\n",
       " <tr><td><span title=\"Eastern Hydropower Limited\">EHPL <a data-company-popover=\"EHPL\" href=\"javascript:void();\" title=\"Stock Overview\"><i class=\"fas fa-external-link-alt\"></i></a></span></td><td class=\"text-right\">310.70</td><td class=\"text-right text-positive\">1.97 <i class=\"fas fa-angle-up\"></i></td><td class=\"text-right\">740</td><td class=\"text-right\">220,032.00</td><td class=\"text-right\">59</td><td class=\"text-right\">298.70</td><td class=\"text-right\">310.70</td><td class=\"text-right\">284.00</td><td class=\"text-right\">304.70</td></tr>,\n",
       " <tr><td><span title=\"Mirmire Laghubitta Bittya Sanstha Limited\">MMFDB <a data-company-popover=\"MMFDB\" href=\"javascript:void();\" title=\"Stock Overview\"><i class=\"fas fa-external-link-alt\"></i></a></span></td><td class=\"text-right\">629.00</td><td class=\"text-right text-positive\">1.96 <i class=\"fas fa-angle-up\"></i></td><td class=\"text-right\">869</td><td class=\"text-right\">531,309.90</td><td class=\"text-right\">28</td><td class=\"text-right\">616.90</td><td class=\"text-right\">629.00</td><td class=\"text-right\">600.00</td><td class=\"text-right\">616.90</td></tr>,\n",
       " <tr><td><span title=\"Nepal Investment Mega Bank Ltd. Promoter Share\">NIMBPO <a data-company-popover=\"NIMBPO\" href=\"javascript:void();\" title=\"Stock Overview\"><i class=\"fas fa-external-link-alt\"></i></a></span></td><td class=\"text-right\">150.80</td><td class=\"text-right text-positive\">1.89 <i class=\"fas fa-angle-up\"></i></td><td class=\"text-right\">1,020</td><td class=\"text-right\">150,917.00</td><td class=\"text-right\">4</td><td class=\"text-right\">150.90</td><td class=\"text-right\">150.90</td><td class=\"text-right\">147.90</td><td class=\"text-right\">148.00</td></tr>,\n",
       " <tr><td><span title=\"Kalika power Company Ltd\">KPCL <a data-company-popover=\"KPCL\" href=\"javascript:void();\" title=\"Stock Overview\"><i class=\"fas fa-external-link-alt\"></i></a></span></td><td class=\"text-right\">348.00</td><td class=\"text-right text-positive\">1.78 <i class=\"fas fa-angle-up\"></i></td><td class=\"text-right\">764</td><td class=\"text-right\">256,790.80</td><td class=\"text-right\">42</td><td class=\"text-right\">339.00</td><td class=\"text-right\">348.00</td><td class=\"text-right\">329.20</td><td class=\"text-right\">341.90</td></tr>,\n",
       " <tr><td><span title=\"Upper Hewakhola Hydropower Company Limited\">UHEWA <a data-company-popover=\"UHEWA\" href=\"javascript:void();\" title=\"Stock Overview\"><i class=\"fas fa-external-link-alt\"></i></a></span></td><td class=\"text-right\">288.00</td><td class=\"text-right text-positive\">1.41 <i class=\"fas fa-angle-up\"></i></td><td class=\"text-right\">7,600</td><td class=\"text-right\">2,195,947.00</td><td class=\"text-right\">114</td><td class=\"text-right\">286.10</td><td class=\"text-right\">291.80</td><td class=\"text-right\">286.10</td><td class=\"text-right\">284.00</td></tr>,\n",
       " <tr><td><span title=\"Multipurpose Finance Company  Limited\">MPFL <a data-company-popover=\"MPFL\" href=\"javascript:void();\" title=\"Stock Overview\"><i class=\"fas fa-external-link-alt\"></i></a></span></td><td class=\"text-right\">308.90</td><td class=\"text-right text-positive\">1.28 <i class=\"fas fa-angle-up\"></i></td><td class=\"text-right\">4,305</td><td class=\"text-right\">1,296,822.30</td><td class=\"text-right\">34</td><td class=\"text-right\">309.90</td><td class=\"text-right\">309.90</td><td class=\"text-right\">293.40</td><td class=\"text-right\">305.00</td></tr>,\n",
       " <tr><td><span title=\"Sanima Growth Fund\">SAGF <a data-company-popover=\"SAGF\" href=\"javascript:void();\" title=\"Stock Overview\"><i class=\"fas fa-external-link-alt\"></i></a></span></td><td class=\"text-right\">8.00</td><td class=\"text-right text-positive\">1.27 <i class=\"fas fa-angle-up\"></i></td><td class=\"text-right\">1,100</td><td class=\"text-right\">8,725.00</td><td class=\"text-right\">9</td><td class=\"text-right\">7.90</td><td class=\"text-right\">8.05</td><td class=\"text-right\">7.90</td><td class=\"text-right\">7.90</td></tr>,\n",
       " <tr><td><span title=\"Shangri-la Development Bank Debenture 2087\">SDBD87 <a data-company-popover=\"SDBD87\" href=\"javascript:void();\" title=\"Stock Overview\"><i class=\"fas fa-external-link-alt\"></i></a></span></td><td class=\"text-right\">825.00</td><td class=\"text-right text-positive\">1.23 <i class=\"fas fa-angle-up\"></i></td><td class=\"text-right\">125</td><td class=\"text-right\">102,875.00</td><td class=\"text-right\">2</td><td class=\"text-right\">815.00</td><td class=\"text-right\">825.00</td><td class=\"text-right\">815.00</td><td class=\"text-right\">815.00</td></tr>,\n",
       " <tr><td><span title=\"Unilever Nepal Limited\">UNL <a data-company-popover=\"UNL\" href=\"javascript:void();\" title=\"Stock Overview\"><i class=\"fas fa-external-link-alt\"></i></a></span></td><td class=\"text-right\">36,299.90</td><td class=\"text-right text-positive\">1.15 <i class=\"fas fa-angle-up\"></i></td><td class=\"text-right\">60</td><td class=\"text-right\">2,155,136.00</td><td class=\"text-right\">6</td><td class=\"text-right\">35,200.00</td><td class=\"text-right\">36,605.70</td><td class=\"text-right\">35,200.00</td><td class=\"text-right\">35,888.00</td></tr>,\n",
       " <tr><td><span title=\"Samudayik Laghubitta Bittiya Sanstha Limited\">SLBSL <a data-company-popover=\"SLBSL\" href=\"javascript:void();\" title=\"Stock Overview\"><i class=\"fas fa-external-link-alt\"></i></a></span></td><td class=\"text-right\">828.90</td><td class=\"text-right text-positive\">1.09 <i class=\"fas fa-angle-up\"></i></td><td class=\"text-right\">239</td><td class=\"text-right\">190,597.10</td><td class=\"text-right\">12</td><td class=\"text-right\">804.00</td><td class=\"text-right\">828.90</td><td class=\"text-right\">771.90</td><td class=\"text-right\">820.00</td></tr>,\n",
       " <tr><td><span title=\"NMB Hybrid Fund L-1\">NMBHF1 <a data-company-popover=\"NMBHF1\" href=\"javascript:void();\" title=\"Stock Overview\"><i class=\"fas fa-external-link-alt\"></i></a></span></td><td class=\"text-right\">11.19</td><td class=\"text-right text-positive\">1.08 <i class=\"fas fa-angle-up\"></i></td><td class=\"text-right\">932</td><td class=\"text-right\">10,337.56</td><td class=\"text-right\">2</td><td class=\"text-right\">11.08</td><td class=\"text-right\">11.19</td><td class=\"text-right\">11.08</td><td class=\"text-right\">11.07</td></tr>,\n",
       " <tr><td><span title=\"Swabalamban Laghubitta Bittiya Sanstha Limited\">SWBBL <a data-company-popover=\"SWBBL\" href=\"javascript:void();\" title=\"Stock Overview\"><i class=\"fas fa-external-link-alt\"></i></a></span></td><td class=\"text-right\">775.00</td><td class=\"text-right text-positive\">1.04 <i class=\"fas fa-angle-up\"></i></td><td class=\"text-right\">11,972</td><td class=\"text-right\">9,285,984.70</td><td class=\"text-right\">62</td><td class=\"text-right\">780.00</td><td class=\"text-right\">784.90</td><td class=\"text-right\">761.10</td><td class=\"text-right\">767.00</td></tr>,\n",
       " <tr><td><span title=\"Shangrila Development Bank Ltd.\">SADBL <a data-company-popover=\"SADBL\" href=\"javascript:void();\" title=\"Stock Overview\"><i class=\"fas fa-external-link-alt\"></i></a></span></td><td class=\"text-right\">305.80</td><td class=\"text-right text-positive\">0.92 <i class=\"fas fa-angle-up\"></i></td><td class=\"text-right\">6,048</td><td class=\"text-right\">1,830,923.10</td><td class=\"text-right\">51</td><td class=\"text-right\">309.00</td><td class=\"text-right\">309.00</td><td class=\"text-right\">300.00</td><td class=\"text-right\">303.00</td></tr>,\n",
       " <tr><td><span title=\"NIBL Growth Fund\">NIBLGF <a data-company-popover=\"NIBLGF\" href=\"javascript:void();\" title=\"Stock Overview\"><i class=\"fas fa-external-link-alt\"></i></a></span></td><td class=\"text-right\">7.85</td><td class=\"text-right text-positive\">0.90 <i class=\"fas fa-angle-up\"></i></td><td class=\"text-right\">830</td><td class=\"text-right\">6,418.00</td><td class=\"text-right\">8</td><td class=\"text-right\">7.63</td><td class=\"text-right\">7.85</td><td class=\"text-right\">7.63</td><td class=\"text-right\">7.78</td></tr>,\n",
       " <tr><td><span title=\"Neco Insurance Limited\">NIL <a data-company-popover=\"NIL\" href=\"javascript:void();\" title=\"Stock Overview\"><i class=\"fas fa-external-link-alt\"></i></a></span></td><td class=\"text-right\">862.00</td><td class=\"text-right text-positive\">0.82 <i class=\"fas fa-angle-up\"></i></td><td class=\"text-right\">8,191</td><td class=\"text-right\">7,021,978.40</td><td class=\"text-right\">103</td><td class=\"text-right\">855.00</td><td class=\"text-right\">863.00</td><td class=\"text-right\">855.00</td><td class=\"text-right\">855.00</td></tr>,\n",
       " <tr><td><span title=\"NIBL Pragati Fund\">NIBLPF <a data-company-popover=\"NIBLPF\" href=\"javascript:void();\" title=\"Stock Overview\"><i class=\"fas fa-external-link-alt\"></i></a></span></td><td class=\"text-right\">9.17</td><td class=\"text-right text-positive\">0.77 <i class=\"fas fa-angle-up\"></i></td><td class=\"text-right\">6,438</td><td class=\"text-right\">58,935.46</td><td class=\"text-right\">4</td><td class=\"text-right\">9.15</td><td class=\"text-right\">9.17</td><td class=\"text-right\">9.15</td><td class=\"text-right\">9.10</td></tr>,\n",
       " <tr><td><span title=\"Manushi Laghubitta Bittiya Sanstha Limited\">MLBS <a data-company-popover=\"MLBS\" href=\"javascript:void();\" title=\"Stock Overview\"><i class=\"fas fa-external-link-alt\"></i></a></span></td><td class=\"text-right\">667.90</td><td class=\"text-right text-positive\">0.74 <i class=\"fas fa-angle-up\"></i></td><td class=\"text-right\">370</td><td class=\"text-right\">246,449.00</td><td class=\"text-right\">21</td><td class=\"text-right\">665.00</td><td class=\"text-right\">670.00</td><td class=\"text-right\">660.00</td><td class=\"text-right\">663.00</td></tr>,\n",
       " <tr><td><span title=\"RSDC Laghubitta Bittiya Sanstha Ltd.\">RSDC <a data-company-popover=\"RSDC\" href=\"javascript:void();\" title=\"Stock Overview\"><i class=\"fas fa-external-link-alt\"></i></a></span></td><td class=\"text-right\">553.90</td><td class=\"text-right text-positive\">0.71 <i class=\"fas fa-angle-up\"></i></td><td class=\"text-right\">2,315</td><td class=\"text-right\">1,262,593.70</td><td class=\"text-right\">52</td><td class=\"text-right\">547.50</td><td class=\"text-right\">554.00</td><td class=\"text-right\">538.00</td><td class=\"text-right\">550.00</td></tr>,\n",
       " <tr><td><span title=\"Mega Mutual Fund -1\">MMF1 <a data-company-popover=\"MMF1\" href=\"javascript:void();\" title=\"Stock Overview\"><i class=\"fas fa-external-link-alt\"></i></a></span></td><td class=\"text-right\">7.04</td><td class=\"text-right text-positive\">0.57 <i class=\"fas fa-angle-up\"></i></td><td class=\"text-right\">12,800</td><td class=\"text-right\">89,788.00</td><td class=\"text-right\">20</td><td class=\"text-right\">6.87</td><td class=\"text-right\">7.04</td><td class=\"text-right\">6.87</td><td class=\"text-right\">7.00</td></tr>,\n",
       " <tr><td><span title=\"10.25% GLOBAL IME BANK LTD. DEBENTURE 2080/81\">GBD80/81 <a data-company-popover=\"GBD80/81\" href=\"javascript:void();\" title=\"Stock Overview\"><i class=\"fas fa-external-link-alt\"></i></a></span></td><td class=\"text-right\">995.00</td><td class=\"text-right text-positive\">0.51 <i class=\"fas fa-angle-up\"></i></td><td class=\"text-right\">13</td><td class=\"text-right\">12,935.00</td><td class=\"text-right\">1</td><td class=\"text-right\">995.00</td><td class=\"text-right\">995.00</td><td class=\"text-right\">995.00</td><td class=\"text-right\">990.00</td></tr>,\n",
       " <tr><td><span title=\"12% ICFC Finance Limited Debenture 2083\">ICFCD83 <a data-company-popover=\"ICFCD83\" href=\"javascript:void();\" title=\"Stock Overview\"><i class=\"fas fa-external-link-alt\"></i></a></span></td><td class=\"text-right\">1,045.00</td><td class=\"text-right text-positive\">0.48 <i class=\"fas fa-angle-up\"></i></td><td class=\"text-right\">90</td><td class=\"text-right\">94,050.00</td><td class=\"text-right\">1</td><td class=\"text-right\">1,045.00</td><td class=\"text-right\">1,045.00</td><td class=\"text-right\">1,045.00</td><td class=\"text-right\">1,040.00</td></tr>,\n",
       " <tr><td><span title=\"Laxmi Equity Fund\">LEMF <a data-company-popover=\"LEMF\" href=\"javascript:void();\" title=\"Stock Overview\"><i class=\"fas fa-external-link-alt\"></i></a></span></td><td class=\"text-right\">8.33</td><td class=\"text-right text-positive\">0.36 <i class=\"fas fa-angle-up\"></i></td><td class=\"text-right\">18,587</td><td class=\"text-right\">154,478.84</td><td class=\"text-right\">6</td><td class=\"text-right\">8.30</td><td class=\"text-right\">8.33</td><td class=\"text-right\">8.30</td><td class=\"text-right\">8.30</td></tr>,\n",
       " <tr><td><span title=\"NESDO Sambridha Laghubitta Bittiya Sanstha Limited\">NESDO <a data-company-popover=\"NESDO\" href=\"javascript:void();\" title=\"Stock Overview\"><i class=\"fas fa-external-link-alt\"></i></a></span></td><td class=\"text-right\">1,866.00</td><td class=\"text-right text-positive\">0.32 <i class=\"fas fa-angle-up\"></i></td><td class=\"text-right\">1,505</td><td class=\"text-right\">2,822,659.00</td><td class=\"text-right\">63</td><td class=\"text-right\">1,860.00</td><td class=\"text-right\">1,897.20</td><td class=\"text-right\">1,860.00</td><td class=\"text-right\">1,860.00</td></tr>,\n",
       " <tr><td><span title=\"Singati Hydro Energy Limited\">SHEL <a data-company-popover=\"SHEL\" href=\"javascript:void();\" title=\"Stock Overview\"><i class=\"fas fa-external-link-alt\"></i></a></span></td><td class=\"text-right\">227.70</td><td class=\"text-right text-positive\">0.31 <i class=\"fas fa-angle-up\"></i></td><td class=\"text-right\">1,820</td><td class=\"text-right\">405,478.00</td><td class=\"text-right\">79</td><td class=\"text-right\">228.00</td><td class=\"text-right\">229.00</td><td class=\"text-right\">220.00</td><td class=\"text-right\">227.00</td></tr>,\n",
       " <tr><td><span title=\"Union Hydropower Limited\">UNHPL <a data-company-popover=\"UNHPL\" href=\"javascript:void();\" title=\"Stock Overview\"><i class=\"fas fa-external-link-alt\"></i></a></span></td><td class=\"text-right\">165.00</td><td class=\"text-right text-positive\">0.30 <i class=\"fas fa-angle-up\"></i></td><td class=\"text-right\">12,633</td><td class=\"text-right\">2,051,635.90</td><td class=\"text-right\">63</td><td class=\"text-right\">165.00</td><td class=\"text-right\">165.90</td><td class=\"text-right\">159.50</td><td class=\"text-right\">164.50</td></tr>,\n",
       " <tr><td><span title=\"Narayani Development Bank Limited\">NABBC <a data-company-popover=\"NABBC\" href=\"javascript:void();\" title=\"Stock Overview\"><i class=\"fas fa-external-link-alt\"></i></a></span></td><td class=\"text-right\">376.00</td><td class=\"text-right text-positive\">0.27 <i class=\"fas fa-angle-up\"></i></td><td class=\"text-right\">1,713</td><td class=\"text-right\">639,265.30</td><td class=\"text-right\">11</td><td class=\"text-right\">375.00</td><td class=\"text-right\">376.00</td><td class=\"text-right\">370.00</td><td class=\"text-right\">375.00</td></tr>,\n",
       " <tr><td><span title=\"Sunrise Bluechip Fund\">SBCF <a data-company-popover=\"SBCF\" href=\"javascript:void();\" title=\"Stock Overview\"><i class=\"fas fa-external-link-alt\"></i></a></span></td><td class=\"text-right\">7.50</td><td class=\"text-right text-positive\">0.27 <i class=\"fas fa-angle-up\"></i></td><td class=\"text-right\">12,600</td><td class=\"text-right\">94,806.00</td><td class=\"text-right\">14</td><td class=\"text-right\">7.35</td><td class=\"text-right\">7.56</td><td class=\"text-right\">7.35</td><td class=\"text-right\">7.48</td></tr>,\n",
       " <tr><td><span title=\"Barahi Hydropower Public Limited\">BHPL <a data-company-popover=\"BHPL\" href=\"javascript:void();\" title=\"Stock Overview\"><i class=\"fas fa-external-link-alt\"></i></a></span></td><td class=\"text-right\">425.00</td><td class=\"text-right text-positive\">0.24 <i class=\"fas fa-angle-up\"></i></td><td class=\"text-right\">1,073</td><td class=\"text-right\">451,126.00</td><td class=\"text-right\">65</td><td class=\"text-right\">420.00</td><td class=\"text-right\">433.00</td><td class=\"text-right\">408.00</td><td class=\"text-right\">424.00</td></tr>,\n",
       " <tr><td><span title=\"Ankhu Khola Jalvidhyut Company Ltd\">AKJCL <a data-company-popover=\"AKJCL\" href=\"javascript:void();\" title=\"Stock Overview\"><i class=\"fas fa-external-link-alt\"></i></a></span></td><td class=\"text-right\">161.40</td><td class=\"text-right text-positive\">0.19 <i class=\"fas fa-angle-up\"></i></td><td class=\"text-right\">13,016</td><td class=\"text-right\">2,100,164.90</td><td class=\"text-right\">108</td><td class=\"text-right\">160.00</td><td class=\"text-right\">167.50</td><td class=\"text-right\">158.80</td><td class=\"text-right\">161.10</td></tr>,\n",
       " <tr><td><span title=\"Garima Bikas Bank Limited\">GBBL <a data-company-popover=\"GBBL\" href=\"javascript:void();\" title=\"Stock Overview\"><i class=\"fas fa-external-link-alt\"></i></a></span></td><td class=\"text-right\">376.50</td><td class=\"text-right text-positive\">0.13 <i class=\"fas fa-angle-up\"></i></td><td class=\"text-right\">14,863</td><td class=\"text-right\">5,583,100.20</td><td class=\"text-right\">159</td><td class=\"text-right\">379.00</td><td class=\"text-right\">379.00</td><td class=\"text-right\">375.00</td><td class=\"text-right\">376.00</td></tr>,\n",
       " <tr><td><span title=\"Ru Ru Jalbidhyut Pariyojana Limited\">RURU <a data-company-popover=\"RURU\" href=\"javascript:void();\" title=\"Stock Overview\"><i class=\"fas fa-external-link-alt\"></i></a></span></td><td class=\"text-right\">779.00</td><td class=\"text-right text-positive\">0.13 <i class=\"fas fa-angle-up\"></i></td><td class=\"text-right\">253</td><td class=\"text-right\">194,280.00</td><td class=\"text-right\">15</td><td class=\"text-right\">770.00</td><td class=\"text-right\">779.00</td><td class=\"text-right\">750.80</td><td class=\"text-right\">778.00</td></tr>,\n",
       " <tr><td><span title=\"Chandragiri Hills Limited\">CGH <a data-company-popover=\"CGH\" href=\"javascript:void();\" title=\"Stock Overview\"><i class=\"fas fa-external-link-alt\"></i></a></span></td><td class=\"text-right\">1,269.50</td><td class=\"text-right text-positive\">0.12 <i class=\"fas fa-angle-up\"></i></td><td class=\"text-right\">4,739</td><td class=\"text-right\">6,013,691.70</td><td class=\"text-right\">69</td><td class=\"text-right\">1,255.00</td><td class=\"text-right\">1,274.90</td><td class=\"text-right\">1,252.00</td><td class=\"text-right\">1,268.00</td></tr>,\n",
       " <tr><td><span title=\"NMB Sulav Investment Fund - 2\">NSIF2 <a data-company-popover=\"NSIF2\" href=\"javascript:void();\" title=\"Stock Overview\"><i class=\"fas fa-external-link-alt\"></i></a></span></td><td class=\"text-right\">8.84</td><td class=\"text-right text-positive\">0.11 <i class=\"fas fa-angle-up\"></i></td><td class=\"text-right\">1,420</td><td class=\"text-right\">12,535.40</td><td class=\"text-right\">10</td><td class=\"text-right\">8.83</td><td class=\"text-right\">8.85</td><td class=\"text-right\">8.80</td><td class=\"text-right\">8.83</td></tr>]"
      ]
     },
     "execution_count": 4,
     "metadata": {},
     "output_type": "execute_result"
    }
   ],
   "source": [
    "# Selecting only Table Tag\n",
    "table_code = html.find(\"table\" , class_ = 'table table-responsive')\n",
    "tags = table_code.find_all('tr')\n",
    "tags"
   ]
  },
  {
   "cell_type": "code",
   "execution_count": 5,
   "id": "83751e62",
   "metadata": {},
   "outputs": [
    {
     "name": "stdout",
     "output_type": "stream",
     "text": [
      "<tr class=\"tablehead\"><th class=\"\">Symbol</th><th class=\"text-right\">Closing Price</th><th class=\"text-right\">% Chg</th><th class=\"text-right\">Volume</th><th class=\"text-right\">Turnover</th><th class=\"text-right\">Transactions<span title=\"No. of transactions is updated after market is closed.\">*</span></th><th class=\"text-right\">Opening Price</th><th class=\"text-right\">Max Price</th><th class=\"text-right\">Min Price</th><th class=\"text-right\" title=\"Previous Closing Price\">Prev. Close</th></tr> \n",
      "\n",
      "<tr><td><span title=\"Kutheli Bukhari Small Hydropower Limited\">KBSH <a data-company-popover=\"KBSH\" href=\"javascript:void();\" title=\"Stock Overview\"><i class=\"fas fa-external-link-alt\"></i></a></span></td><td class=\"text-right\">771.20</td><td class=\"text-right text-positive\">10.00 <i class=\"fas fa-angle-double-up\"></i></td><td class=\"text-right\">2,509</td><td class=\"text-right\">1,931,848.70</td><td class=\"text-right\">161</td><td class=\"text-right\">715.10</td><td class=\"text-right\">771.20</td><td class=\"text-right\">715.10</td><td class=\"text-right\">701.10</td></tr> \n",
      "\n",
      "<th class=\"\">Symbol</th>\n",
      "<th class=\"text-right\">Closing Price</th>\n",
      "<th class=\"text-right\">% Chg</th>\n",
      "<th class=\"text-right\">Volume</th>\n",
      "<th class=\"text-right\">Turnover</th>\n",
      "<th class=\"text-right\">Transactions<span title=\"No. of transactions is updated after market is closed.\">*</span></th>\n",
      "<th class=\"text-right\">Opening Price</th>\n",
      "<th class=\"text-right\">Max Price</th>\n",
      "<th class=\"text-right\">Min Price</th>\n",
      "<th class=\"text-right\" title=\"Previous Closing Price\">Prev. Close</th>\n",
      "\n",
      "\n",
      "Symbol\n",
      "Closing Price\n",
      "% Chg\n",
      "Volume\n",
      "Turnover\n",
      "Transactions*\n",
      "Opening Price\n",
      "Max Price\n",
      "Min Price\n",
      "Prev. Close\n"
     ]
    }
   ],
   "source": [
    "# Analysing Data Construction\n",
    "print(tags[0],'\\n')\n",
    "print(tags[1],'\\n')\n",
    "\n",
    "for i in tags[0]:\n",
    "    print(i)\n",
    "    \n",
    "print('\\n')\n",
    "\n",
    "for i in tags[0]:\n",
    "    print(i.text)"
   ]
  },
  {
   "cell_type": "code",
   "execution_count": 6,
   "id": "64060261",
   "metadata": {},
   "outputs": [
    {
     "data": {
      "text/plain": [
       "[['Symbol',\n",
       "  'Closing Price',\n",
       "  '% Chg',\n",
       "  'Volume',\n",
       "  'Turnover',\n",
       "  'Transactions*',\n",
       "  'Opening Price',\n",
       "  'Max Price',\n",
       "  'Min Price',\n",
       "  'Prev. Close'],\n",
       " ['KBSH ',\n",
       "  '771.20',\n",
       "  '10.00 ',\n",
       "  '2,509',\n",
       "  '1,931,848.70',\n",
       "  '161',\n",
       "  '715.10',\n",
       "  '771.20',\n",
       "  '715.10',\n",
       "  '701.10'],\n",
       " ['SMFBS ',\n",
       "  '1,166.00',\n",
       "  '6.00 ',\n",
       "  '30',\n",
       "  '34,320.00',\n",
       "  '3',\n",
       "  '1,122.00',\n",
       "  '1,166.00',\n",
       "  '1,122.00',\n",
       "  '1,100.00'],\n",
       " ['CMF2 ',\n",
       "  '8.82',\n",
       "  '5.88 ',\n",
       "  '98,486',\n",
       "  '860,055.72',\n",
       "  '22',\n",
       "  '8.49',\n",
       "  '8.82',\n",
       "  '8.49',\n",
       "  '8.33'],\n",
       " ['PPL ',\n",
       "  '233.50',\n",
       "  '5.18 ',\n",
       "  '5,617',\n",
       "  '1,254,098.80',\n",
       "  '244',\n",
       "  '226.40',\n",
       "  '233.50',\n",
       "  '218.00',\n",
       "  '222.00'],\n",
       " ['USHEC ',\n",
       "  '238.10',\n",
       "  '4.89 ',\n",
       "  '1,510',\n",
       "  '335,037.00',\n",
       "  '125',\n",
       "  '222.50',\n",
       "  '238.10',\n",
       "  '220.00',\n",
       "  '227.00'],\n",
       " ['SEF ',\n",
       "  '8.57',\n",
       "  '3.88 ',\n",
       "  '66,300',\n",
       "  '559,368.00',\n",
       "  '15',\n",
       "  '8.40',\n",
       "  '8.57',\n",
       "  '8.15',\n",
       "  '8.25'],\n",
       " ['SIGS2 ',\n",
       "  '8.82',\n",
       "  '3.76 ',\n",
       "  '146,970',\n",
       "  '1,290,110.20',\n",
       "  '16',\n",
       "  '8.33',\n",
       "  '8.82',\n",
       "  '8.33',\n",
       "  '8.50'],\n",
       " ['SFEF ',\n",
       "  '8.17',\n",
       "  '3.29 ',\n",
       "  '1,700',\n",
       "  '13,671.00',\n",
       "  '6',\n",
       "  '8.06',\n",
       "  '8.17',\n",
       "  '7.90',\n",
       "  '7.91'],\n",
       " ['SPC ',\n",
       "  '386.00',\n",
       "  '2.44 ',\n",
       "  '750',\n",
       "  '275,284.00',\n",
       "  '36',\n",
       "  '369.30',\n",
       "  '386.00',\n",
       "  '363.20',\n",
       "  '376.80'],\n",
       " ['BNT ',\n",
       "  '13,850.00',\n",
       "  '2.40 ',\n",
       "  '60',\n",
       "  '814,556.00',\n",
       "  '6',\n",
       "  '13,255.00',\n",
       "  '13,850.00',\n",
       "  '13,255.00',\n",
       "  '13,525.00'],\n",
       " ['NMBD2085 ',\n",
       "  '980.60',\n",
       "  '2.00 ',\n",
       "  '49',\n",
       "  '47,909.40',\n",
       "  '2',\n",
       "  '975.00',\n",
       "  '980.60',\n",
       "  '975.00',\n",
       "  '961.40'],\n",
       " ['NIBD84 ',\n",
       "  '826.20',\n",
       "  '2.00 ',\n",
       "  '25',\n",
       "  '20,655.00',\n",
       "  '1',\n",
       "  '826.20',\n",
       "  '826.20',\n",
       "  '826.20',\n",
       "  '810.00'],\n",
       " ['NIBSF2 ',\n",
       "  '7.14',\n",
       "  '2.00 ',\n",
       "  '24,710',\n",
       "  '174,417.20',\n",
       "  '20',\n",
       "  '7.00',\n",
       "  '7.14',\n",
       "  '7.00',\n",
       "  '7.00'],\n",
       " ['RAWA ',\n",
       "  '316.20',\n",
       "  '2.00 ',\n",
       "  '9,355',\n",
       "  '2,805,571.40',\n",
       "  '195',\n",
       "  '304.10',\n",
       "  '316.20',\n",
       "  '296.20',\n",
       "  '310.00'],\n",
       " ['NIBD2082 ',\n",
       "  '990.30',\n",
       "  '1.99 ',\n",
       "  '140',\n",
       "  '138,110.50',\n",
       "  '3',\n",
       "  '985.00',\n",
       "  '990.30',\n",
       "  '985.00',\n",
       "  '971.00'],\n",
       " ['NBLD87 ',\n",
       "  '784.30',\n",
       "  '1.99 ',\n",
       "  '20',\n",
       "  '15,686.00',\n",
       "  '1',\n",
       "  '784.30',\n",
       "  '784.30',\n",
       "  '784.30',\n",
       "  '769.00'],\n",
       " ['EHPL ',\n",
       "  '310.70',\n",
       "  '1.97 ',\n",
       "  '740',\n",
       "  '220,032.00',\n",
       "  '59',\n",
       "  '298.70',\n",
       "  '310.70',\n",
       "  '284.00',\n",
       "  '304.70'],\n",
       " ['MMFDB ',\n",
       "  '629.00',\n",
       "  '1.96 ',\n",
       "  '869',\n",
       "  '531,309.90',\n",
       "  '28',\n",
       "  '616.90',\n",
       "  '629.00',\n",
       "  '600.00',\n",
       "  '616.90'],\n",
       " ['NIMBPO ',\n",
       "  '150.80',\n",
       "  '1.89 ',\n",
       "  '1,020',\n",
       "  '150,917.00',\n",
       "  '4',\n",
       "  '150.90',\n",
       "  '150.90',\n",
       "  '147.90',\n",
       "  '148.00'],\n",
       " ['KPCL ',\n",
       "  '348.00',\n",
       "  '1.78 ',\n",
       "  '764',\n",
       "  '256,790.80',\n",
       "  '42',\n",
       "  '339.00',\n",
       "  '348.00',\n",
       "  '329.20',\n",
       "  '341.90'],\n",
       " ['UHEWA ',\n",
       "  '288.00',\n",
       "  '1.41 ',\n",
       "  '7,600',\n",
       "  '2,195,947.00',\n",
       "  '114',\n",
       "  '286.10',\n",
       "  '291.80',\n",
       "  '286.10',\n",
       "  '284.00'],\n",
       " ['MPFL ',\n",
       "  '308.90',\n",
       "  '1.28 ',\n",
       "  '4,305',\n",
       "  '1,296,822.30',\n",
       "  '34',\n",
       "  '309.90',\n",
       "  '309.90',\n",
       "  '293.40',\n",
       "  '305.00'],\n",
       " ['SAGF ',\n",
       "  '8.00',\n",
       "  '1.27 ',\n",
       "  '1,100',\n",
       "  '8,725.00',\n",
       "  '9',\n",
       "  '7.90',\n",
       "  '8.05',\n",
       "  '7.90',\n",
       "  '7.90'],\n",
       " ['SDBD87 ',\n",
       "  '825.00',\n",
       "  '1.23 ',\n",
       "  '125',\n",
       "  '102,875.00',\n",
       "  '2',\n",
       "  '815.00',\n",
       "  '825.00',\n",
       "  '815.00',\n",
       "  '815.00'],\n",
       " ['UNL ',\n",
       "  '36,299.90',\n",
       "  '1.15 ',\n",
       "  '60',\n",
       "  '2,155,136.00',\n",
       "  '6',\n",
       "  '35,200.00',\n",
       "  '36,605.70',\n",
       "  '35,200.00',\n",
       "  '35,888.00'],\n",
       " ['SLBSL ',\n",
       "  '828.90',\n",
       "  '1.09 ',\n",
       "  '239',\n",
       "  '190,597.10',\n",
       "  '12',\n",
       "  '804.00',\n",
       "  '828.90',\n",
       "  '771.90',\n",
       "  '820.00'],\n",
       " ['NMBHF1 ',\n",
       "  '11.19',\n",
       "  '1.08 ',\n",
       "  '932',\n",
       "  '10,337.56',\n",
       "  '2',\n",
       "  '11.08',\n",
       "  '11.19',\n",
       "  '11.08',\n",
       "  '11.07'],\n",
       " ['SWBBL ',\n",
       "  '775.00',\n",
       "  '1.04 ',\n",
       "  '11,972',\n",
       "  '9,285,984.70',\n",
       "  '62',\n",
       "  '780.00',\n",
       "  '784.90',\n",
       "  '761.10',\n",
       "  '767.00'],\n",
       " ['SADBL ',\n",
       "  '305.80',\n",
       "  '0.92 ',\n",
       "  '6,048',\n",
       "  '1,830,923.10',\n",
       "  '51',\n",
       "  '309.00',\n",
       "  '309.00',\n",
       "  '300.00',\n",
       "  '303.00'],\n",
       " ['NIBLGF ',\n",
       "  '7.85',\n",
       "  '0.90 ',\n",
       "  '830',\n",
       "  '6,418.00',\n",
       "  '8',\n",
       "  '7.63',\n",
       "  '7.85',\n",
       "  '7.63',\n",
       "  '7.78'],\n",
       " ['NIL ',\n",
       "  '862.00',\n",
       "  '0.82 ',\n",
       "  '8,191',\n",
       "  '7,021,978.40',\n",
       "  '103',\n",
       "  '855.00',\n",
       "  '863.00',\n",
       "  '855.00',\n",
       "  '855.00'],\n",
       " ['NIBLPF ',\n",
       "  '9.17',\n",
       "  '0.77 ',\n",
       "  '6,438',\n",
       "  '58,935.46',\n",
       "  '4',\n",
       "  '9.15',\n",
       "  '9.17',\n",
       "  '9.15',\n",
       "  '9.10'],\n",
       " ['MLBS ',\n",
       "  '667.90',\n",
       "  '0.74 ',\n",
       "  '370',\n",
       "  '246,449.00',\n",
       "  '21',\n",
       "  '665.00',\n",
       "  '670.00',\n",
       "  '660.00',\n",
       "  '663.00'],\n",
       " ['RSDC ',\n",
       "  '553.90',\n",
       "  '0.71 ',\n",
       "  '2,315',\n",
       "  '1,262,593.70',\n",
       "  '52',\n",
       "  '547.50',\n",
       "  '554.00',\n",
       "  '538.00',\n",
       "  '550.00'],\n",
       " ['MMF1 ',\n",
       "  '7.04',\n",
       "  '0.57 ',\n",
       "  '12,800',\n",
       "  '89,788.00',\n",
       "  '20',\n",
       "  '6.87',\n",
       "  '7.04',\n",
       "  '6.87',\n",
       "  '7.00'],\n",
       " ['GBD80/81 ',\n",
       "  '995.00',\n",
       "  '0.51 ',\n",
       "  '13',\n",
       "  '12,935.00',\n",
       "  '1',\n",
       "  '995.00',\n",
       "  '995.00',\n",
       "  '995.00',\n",
       "  '990.00'],\n",
       " ['ICFCD83 ',\n",
       "  '1,045.00',\n",
       "  '0.48 ',\n",
       "  '90',\n",
       "  '94,050.00',\n",
       "  '1',\n",
       "  '1,045.00',\n",
       "  '1,045.00',\n",
       "  '1,045.00',\n",
       "  '1,040.00'],\n",
       " ['LEMF ',\n",
       "  '8.33',\n",
       "  '0.36 ',\n",
       "  '18,587',\n",
       "  '154,478.84',\n",
       "  '6',\n",
       "  '8.30',\n",
       "  '8.33',\n",
       "  '8.30',\n",
       "  '8.30'],\n",
       " ['NESDO ',\n",
       "  '1,866.00',\n",
       "  '0.32 ',\n",
       "  '1,505',\n",
       "  '2,822,659.00',\n",
       "  '63',\n",
       "  '1,860.00',\n",
       "  '1,897.20',\n",
       "  '1,860.00',\n",
       "  '1,860.00'],\n",
       " ['SHEL ',\n",
       "  '227.70',\n",
       "  '0.31 ',\n",
       "  '1,820',\n",
       "  '405,478.00',\n",
       "  '79',\n",
       "  '228.00',\n",
       "  '229.00',\n",
       "  '220.00',\n",
       "  '227.00'],\n",
       " ['UNHPL ',\n",
       "  '165.00',\n",
       "  '0.30 ',\n",
       "  '12,633',\n",
       "  '2,051,635.90',\n",
       "  '63',\n",
       "  '165.00',\n",
       "  '165.90',\n",
       "  '159.50',\n",
       "  '164.50'],\n",
       " ['NABBC ',\n",
       "  '376.00',\n",
       "  '0.27 ',\n",
       "  '1,713',\n",
       "  '639,265.30',\n",
       "  '11',\n",
       "  '375.00',\n",
       "  '376.00',\n",
       "  '370.00',\n",
       "  '375.00'],\n",
       " ['SBCF ',\n",
       "  '7.50',\n",
       "  '0.27 ',\n",
       "  '12,600',\n",
       "  '94,806.00',\n",
       "  '14',\n",
       "  '7.35',\n",
       "  '7.56',\n",
       "  '7.35',\n",
       "  '7.48'],\n",
       " ['BHPL ',\n",
       "  '425.00',\n",
       "  '0.24 ',\n",
       "  '1,073',\n",
       "  '451,126.00',\n",
       "  '65',\n",
       "  '420.00',\n",
       "  '433.00',\n",
       "  '408.00',\n",
       "  '424.00'],\n",
       " ['AKJCL ',\n",
       "  '161.40',\n",
       "  '0.19 ',\n",
       "  '13,016',\n",
       "  '2,100,164.90',\n",
       "  '108',\n",
       "  '160.00',\n",
       "  '167.50',\n",
       "  '158.80',\n",
       "  '161.10'],\n",
       " ['GBBL ',\n",
       "  '376.50',\n",
       "  '0.13 ',\n",
       "  '14,863',\n",
       "  '5,583,100.20',\n",
       "  '159',\n",
       "  '379.00',\n",
       "  '379.00',\n",
       "  '375.00',\n",
       "  '376.00'],\n",
       " ['RURU ',\n",
       "  '779.00',\n",
       "  '0.13 ',\n",
       "  '253',\n",
       "  '194,280.00',\n",
       "  '15',\n",
       "  '770.00',\n",
       "  '779.00',\n",
       "  '750.80',\n",
       "  '778.00'],\n",
       " ['CGH ',\n",
       "  '1,269.50',\n",
       "  '0.12 ',\n",
       "  '4,739',\n",
       "  '6,013,691.70',\n",
       "  '69',\n",
       "  '1,255.00',\n",
       "  '1,274.90',\n",
       "  '1,252.00',\n",
       "  '1,268.00'],\n",
       " ['NSIF2 ',\n",
       "  '8.84',\n",
       "  '0.11 ',\n",
       "  '1,420',\n",
       "  '12,535.40',\n",
       "  '10',\n",
       "  '8.83',\n",
       "  '8.85',\n",
       "  '8.80',\n",
       "  '8.83']]"
      ]
     },
     "execution_count": 6,
     "metadata": {},
     "output_type": "execute_result"
    }
   ],
   "source": [
    "# Putting Data into a List\n",
    "data = []\n",
    "for i in tags:\n",
    "    rowdata = []\n",
    "    for j in i:\n",
    "        rowdata.append(j.text)\n",
    "    data.append(rowdata)\n",
    "data"
   ]
  },
  {
   "cell_type": "code",
   "execution_count": 7,
   "id": "17a6e20b",
   "metadata": {},
   "outputs": [],
   "source": [
    "# Writing the List Data\n",
    "import csv\n",
    "file = open('market_mover.csv' , 'w')\n",
    "x = csv.writer(file)\n",
    "x.writerows(data)\n",
    "file.close()"
   ]
  },
  {
   "cell_type": "code",
   "execution_count": 181,
   "id": "e4cce187",
   "metadata": {},
   "outputs": [
    {
     "data": {
      "text/html": [
       "<div>\n",
       "<style scoped>\n",
       "    .dataframe tbody tr th:only-of-type {\n",
       "        vertical-align: middle;\n",
       "    }\n",
       "\n",
       "    .dataframe tbody tr th {\n",
       "        vertical-align: top;\n",
       "    }\n",
       "\n",
       "    .dataframe thead th {\n",
       "        text-align: right;\n",
       "    }\n",
       "</style>\n",
       "<table border=\"1\" class=\"dataframe\">\n",
       "  <thead>\n",
       "    <tr style=\"text-align: right;\">\n",
       "      <th></th>\n",
       "      <th>Symbol</th>\n",
       "      <th>Closing Price</th>\n",
       "      <th>% Chg</th>\n",
       "      <th>Volume</th>\n",
       "      <th>Turnover</th>\n",
       "      <th>Transactions*</th>\n",
       "      <th>Opening Price</th>\n",
       "      <th>Max Price</th>\n",
       "      <th>Min Price</th>\n",
       "      <th>Prev. Close</th>\n",
       "    </tr>\n",
       "  </thead>\n",
       "  <tbody>\n",
       "    <tr>\n",
       "      <th>0</th>\n",
       "      <td>KBSH</td>\n",
       "      <td>771.20</td>\n",
       "      <td>10.00</td>\n",
       "      <td>2,509</td>\n",
       "      <td>1,931,848.70</td>\n",
       "      <td>161</td>\n",
       "      <td>715.10</td>\n",
       "      <td>771.20</td>\n",
       "      <td>715.10</td>\n",
       "      <td>701.10</td>\n",
       "    </tr>\n",
       "    <tr>\n",
       "      <th>1</th>\n",
       "      <td>SMFBS</td>\n",
       "      <td>1,166.00</td>\n",
       "      <td>6.00</td>\n",
       "      <td>30</td>\n",
       "      <td>34,320.00</td>\n",
       "      <td>3</td>\n",
       "      <td>1,122.00</td>\n",
       "      <td>1,166.00</td>\n",
       "      <td>1,122.00</td>\n",
       "      <td>1,100.00</td>\n",
       "    </tr>\n",
       "    <tr>\n",
       "      <th>2</th>\n",
       "      <td>CMF2</td>\n",
       "      <td>8.82</td>\n",
       "      <td>5.88</td>\n",
       "      <td>98,486</td>\n",
       "      <td>860,055.72</td>\n",
       "      <td>22</td>\n",
       "      <td>8.49</td>\n",
       "      <td>8.82</td>\n",
       "      <td>8.49</td>\n",
       "      <td>8.33</td>\n",
       "    </tr>\n",
       "    <tr>\n",
       "      <th>3</th>\n",
       "      <td>PPL</td>\n",
       "      <td>233.50</td>\n",
       "      <td>5.18</td>\n",
       "      <td>5,617</td>\n",
       "      <td>1,254,098.80</td>\n",
       "      <td>244</td>\n",
       "      <td>226.40</td>\n",
       "      <td>233.50</td>\n",
       "      <td>218.00</td>\n",
       "      <td>222.00</td>\n",
       "    </tr>\n",
       "    <tr>\n",
       "      <th>4</th>\n",
       "      <td>USHEC</td>\n",
       "      <td>238.10</td>\n",
       "      <td>4.89</td>\n",
       "      <td>1,510</td>\n",
       "      <td>335,037.00</td>\n",
       "      <td>125</td>\n",
       "      <td>222.50</td>\n",
       "      <td>238.10</td>\n",
       "      <td>220.00</td>\n",
       "      <td>227.00</td>\n",
       "    </tr>\n",
       "  </tbody>\n",
       "</table>\n",
       "</div>"
      ],
      "text/plain": [
       "   Symbol Closing Price  % Chg  Volume      Turnover  Transactions*  \\\n",
       "0   KBSH         771.20  10.00   2,509  1,931,848.70            161   \n",
       "1  SMFBS       1,166.00   6.00      30     34,320.00              3   \n",
       "2   CMF2           8.82   5.88  98,486    860,055.72             22   \n",
       "3    PPL         233.50   5.18   5,617  1,254,098.80            244   \n",
       "4  USHEC         238.10   4.89   1,510    335,037.00            125   \n",
       "\n",
       "  Opening Price Max Price Min Price Prev. Close  \n",
       "0        715.10    771.20    715.10      701.10  \n",
       "1      1,122.00  1,166.00  1,122.00    1,100.00  \n",
       "2          8.49      8.82      8.49        8.33  \n",
       "3        226.40    233.50    218.00      222.00  \n",
       "4        222.50    238.10    220.00      227.00  "
      ]
     },
     "execution_count": 181,
     "metadata": {},
     "output_type": "execute_result"
    }
   ],
   "source": [
    "# Importing and Viewing Using Pandas\n",
    "import pandas as pd\n",
    "df = pd.read_csv('market_mover.csv', encoding = 'latin1')\n",
    "df.head()"
   ]
  },
  {
   "cell_type": "code",
   "execution_count": 182,
   "id": "62220a5b",
   "metadata": {},
   "outputs": [
    {
     "name": "stdout",
     "output_type": "stream",
     "text": [
      "<class 'pandas.core.frame.DataFrame'>\n",
      "RangeIndex: 49 entries, 0 to 48\n",
      "Data columns (total 10 columns):\n",
      " #   Column         Non-Null Count  Dtype  \n",
      "---  ------         --------------  -----  \n",
      " 0   Symbol         49 non-null     object \n",
      " 1   Closing Price  49 non-null     object \n",
      " 2   % Chg          49 non-null     float64\n",
      " 3   Volume         49 non-null     object \n",
      " 4   Turnover       49 non-null     object \n",
      " 5   Transactions*  49 non-null     int64  \n",
      " 6   Opening Price  49 non-null     object \n",
      " 7   Max Price      49 non-null     object \n",
      " 8   Min Price      49 non-null     object \n",
      " 9   Prev. Close    49 non-null     object \n",
      "dtypes: float64(1), int64(1), object(8)\n",
      "memory usage: 4.0+ KB\n"
     ]
    }
   ],
   "source": [
    "df.info()"
   ]
  },
  {
   "cell_type": "code",
   "execution_count": 183,
   "id": "7d916bd0",
   "metadata": {},
   "outputs": [
    {
     "data": {
      "text/html": [
       "<div>\n",
       "<style scoped>\n",
       "    .dataframe tbody tr th:only-of-type {\n",
       "        vertical-align: middle;\n",
       "    }\n",
       "\n",
       "    .dataframe tbody tr th {\n",
       "        vertical-align: top;\n",
       "    }\n",
       "\n",
       "    .dataframe thead th {\n",
       "        text-align: right;\n",
       "    }\n",
       "</style>\n",
       "<table border=\"1\" class=\"dataframe\">\n",
       "  <thead>\n",
       "    <tr style=\"text-align: right;\">\n",
       "      <th></th>\n",
       "      <th>Symbol</th>\n",
       "      <th>Closing Price</th>\n",
       "      <th>% Chg</th>\n",
       "      <th>Volume</th>\n",
       "      <th>Turnover</th>\n",
       "      <th>Transactions*</th>\n",
       "      <th>Opening Price</th>\n",
       "      <th>Max Price</th>\n",
       "      <th>Min Price</th>\n",
       "      <th>Prev. Close</th>\n",
       "    </tr>\n",
       "  </thead>\n",
       "  <tbody>\n",
       "    <tr>\n",
       "      <th>0</th>\n",
       "      <td>KBSH</td>\n",
       "      <td>771.20</td>\n",
       "      <td>10.00</td>\n",
       "      <td>2509.0</td>\n",
       "      <td>1931848.70</td>\n",
       "      <td>161</td>\n",
       "      <td>715.10</td>\n",
       "      <td>771.20</td>\n",
       "      <td>715.10</td>\n",
       "      <td>701.10</td>\n",
       "    </tr>\n",
       "    <tr>\n",
       "      <th>1</th>\n",
       "      <td>SMFBS</td>\n",
       "      <td>1166.00</td>\n",
       "      <td>6.00</td>\n",
       "      <td>30.0</td>\n",
       "      <td>34320.00</td>\n",
       "      <td>3</td>\n",
       "      <td>1122.00</td>\n",
       "      <td>1166.00</td>\n",
       "      <td>1122.00</td>\n",
       "      <td>1100.00</td>\n",
       "    </tr>\n",
       "    <tr>\n",
       "      <th>2</th>\n",
       "      <td>CMF2</td>\n",
       "      <td>8.82</td>\n",
       "      <td>5.88</td>\n",
       "      <td>98486.0</td>\n",
       "      <td>860055.72</td>\n",
       "      <td>22</td>\n",
       "      <td>8.49</td>\n",
       "      <td>8.82</td>\n",
       "      <td>8.49</td>\n",
       "      <td>8.33</td>\n",
       "    </tr>\n",
       "    <tr>\n",
       "      <th>3</th>\n",
       "      <td>PPL</td>\n",
       "      <td>233.50</td>\n",
       "      <td>5.18</td>\n",
       "      <td>5617.0</td>\n",
       "      <td>1254098.80</td>\n",
       "      <td>244</td>\n",
       "      <td>226.40</td>\n",
       "      <td>233.50</td>\n",
       "      <td>218.00</td>\n",
       "      <td>222.00</td>\n",
       "    </tr>\n",
       "    <tr>\n",
       "      <th>4</th>\n",
       "      <td>USHEC</td>\n",
       "      <td>238.10</td>\n",
       "      <td>4.89</td>\n",
       "      <td>1510.0</td>\n",
       "      <td>335037.00</td>\n",
       "      <td>125</td>\n",
       "      <td>222.50</td>\n",
       "      <td>238.10</td>\n",
       "      <td>220.00</td>\n",
       "      <td>227.00</td>\n",
       "    </tr>\n",
       "  </tbody>\n",
       "</table>\n",
       "</div>"
      ],
      "text/plain": [
       "   Symbol  Closing Price  % Chg   Volume    Turnover  Transactions*  \\\n",
       "0   KBSH          771.20  10.00   2509.0  1931848.70            161   \n",
       "1  SMFBS         1166.00   6.00     30.0    34320.00              3   \n",
       "2   CMF2            8.82   5.88  98486.0   860055.72             22   \n",
       "3    PPL          233.50   5.18   5617.0  1254098.80            244   \n",
       "4  USHEC          238.10   4.89   1510.0   335037.00            125   \n",
       "\n",
       "   Opening Price  Max Price  Min Price  Prev. Close  \n",
       "0         715.10     771.20     715.10       701.10  \n",
       "1        1122.00    1166.00    1122.00      1100.00  \n",
       "2           8.49       8.82       8.49         8.33  \n",
       "3         226.40     233.50     218.00       222.00  \n",
       "4         222.50     238.10     220.00       227.00  "
      ]
     },
     "execution_count": 183,
     "metadata": {},
     "output_type": "execute_result"
    }
   ],
   "source": [
    "df['Closing Price'] = [float(i.replace(',','')) for i in df['Closing Price']]\n",
    "df['Volume'] = [float(i.replace(',','')) for i in df['Volume']]\n",
    "df['Turnover'] = [float(i.replace(',','')) for i in df['Turnover']]\n",
    "df['Opening Price'] = [float(i.replace(',','')) for i in df['Opening Price']]\n",
    "df['Max Price'] = [float(i.replace(',','')) for i in df['Max Price']]\n",
    "df['Min Price'] = [float(i.replace(',','')) for i in df['Min Price']]\n",
    "df['Prev. Close'] = [float(i.replace(',','')) for i in df['Prev. Close']]\n",
    "df.head()"
   ]
  },
  {
   "cell_type": "code",
   "execution_count": 184,
   "id": "5527b4d0",
   "metadata": {},
   "outputs": [
    {
     "data": {
      "text/html": [
       "<div>\n",
       "<style scoped>\n",
       "    .dataframe tbody tr th:only-of-type {\n",
       "        vertical-align: middle;\n",
       "    }\n",
       "\n",
       "    .dataframe tbody tr th {\n",
       "        vertical-align: top;\n",
       "    }\n",
       "\n",
       "    .dataframe thead th {\n",
       "        text-align: right;\n",
       "    }\n",
       "</style>\n",
       "<table border=\"1\" class=\"dataframe\">\n",
       "  <thead>\n",
       "    <tr style=\"text-align: right;\">\n",
       "      <th></th>\n",
       "      <th>Symbol</th>\n",
       "      <th>Closing Price</th>\n",
       "      <th>% Chg</th>\n",
       "      <th>Volume</th>\n",
       "      <th>Turnover</th>\n",
       "      <th>Transactions*</th>\n",
       "      <th>Opening Price</th>\n",
       "      <th>Max Price</th>\n",
       "      <th>Min Price</th>\n",
       "      <th>Prev. Close</th>\n",
       "    </tr>\n",
       "  </thead>\n",
       "  <tbody>\n",
       "    <tr>\n",
       "      <th>0</th>\n",
       "      <td>KBSH</td>\n",
       "      <td>771.20</td>\n",
       "      <td>10.00</td>\n",
       "      <td>2509.0</td>\n",
       "      <td>1931848.70</td>\n",
       "      <td>161</td>\n",
       "      <td>715.10</td>\n",
       "      <td>771.20</td>\n",
       "      <td>715.10</td>\n",
       "      <td>701.10</td>\n",
       "    </tr>\n",
       "    <tr>\n",
       "      <th>1</th>\n",
       "      <td>SMFBS</td>\n",
       "      <td>1166.00</td>\n",
       "      <td>6.00</td>\n",
       "      <td>30.0</td>\n",
       "      <td>34320.00</td>\n",
       "      <td>3</td>\n",
       "      <td>1122.00</td>\n",
       "      <td>1166.00</td>\n",
       "      <td>1122.00</td>\n",
       "      <td>1100.00</td>\n",
       "    </tr>\n",
       "    <tr>\n",
       "      <th>2</th>\n",
       "      <td>CMF2</td>\n",
       "      <td>8.82</td>\n",
       "      <td>5.88</td>\n",
       "      <td>98486.0</td>\n",
       "      <td>860055.72</td>\n",
       "      <td>22</td>\n",
       "      <td>8.49</td>\n",
       "      <td>8.82</td>\n",
       "      <td>8.49</td>\n",
       "      <td>8.33</td>\n",
       "    </tr>\n",
       "    <tr>\n",
       "      <th>3</th>\n",
       "      <td>PPL</td>\n",
       "      <td>233.50</td>\n",
       "      <td>5.18</td>\n",
       "      <td>5617.0</td>\n",
       "      <td>1254098.80</td>\n",
       "      <td>244</td>\n",
       "      <td>226.40</td>\n",
       "      <td>233.50</td>\n",
       "      <td>218.00</td>\n",
       "      <td>222.00</td>\n",
       "    </tr>\n",
       "    <tr>\n",
       "      <th>4</th>\n",
       "      <td>USHEC</td>\n",
       "      <td>238.10</td>\n",
       "      <td>4.89</td>\n",
       "      <td>1510.0</td>\n",
       "      <td>335037.00</td>\n",
       "      <td>125</td>\n",
       "      <td>222.50</td>\n",
       "      <td>238.10</td>\n",
       "      <td>220.00</td>\n",
       "      <td>227.00</td>\n",
       "    </tr>\n",
       "    <tr>\n",
       "      <th>5</th>\n",
       "      <td>SEF</td>\n",
       "      <td>8.57</td>\n",
       "      <td>3.88</td>\n",
       "      <td>66300.0</td>\n",
       "      <td>559368.00</td>\n",
       "      <td>15</td>\n",
       "      <td>8.40</td>\n",
       "      <td>8.57</td>\n",
       "      <td>8.15</td>\n",
       "      <td>8.25</td>\n",
       "    </tr>\n",
       "    <tr>\n",
       "      <th>6</th>\n",
       "      <td>SIGS2</td>\n",
       "      <td>8.82</td>\n",
       "      <td>3.76</td>\n",
       "      <td>146970.0</td>\n",
       "      <td>1290110.20</td>\n",
       "      <td>16</td>\n",
       "      <td>8.33</td>\n",
       "      <td>8.82</td>\n",
       "      <td>8.33</td>\n",
       "      <td>8.50</td>\n",
       "    </tr>\n",
       "    <tr>\n",
       "      <th>7</th>\n",
       "      <td>SFEF</td>\n",
       "      <td>8.17</td>\n",
       "      <td>3.29</td>\n",
       "      <td>1700.0</td>\n",
       "      <td>13671.00</td>\n",
       "      <td>6</td>\n",
       "      <td>8.06</td>\n",
       "      <td>8.17</td>\n",
       "      <td>7.90</td>\n",
       "      <td>7.91</td>\n",
       "    </tr>\n",
       "    <tr>\n",
       "      <th>8</th>\n",
       "      <td>SPC</td>\n",
       "      <td>386.00</td>\n",
       "      <td>2.44</td>\n",
       "      <td>750.0</td>\n",
       "      <td>275284.00</td>\n",
       "      <td>36</td>\n",
       "      <td>369.30</td>\n",
       "      <td>386.00</td>\n",
       "      <td>363.20</td>\n",
       "      <td>376.80</td>\n",
       "    </tr>\n",
       "    <tr>\n",
       "      <th>9</th>\n",
       "      <td>BNT</td>\n",
       "      <td>13850.00</td>\n",
       "      <td>2.40</td>\n",
       "      <td>60.0</td>\n",
       "      <td>814556.00</td>\n",
       "      <td>6</td>\n",
       "      <td>13255.00</td>\n",
       "      <td>13850.00</td>\n",
       "      <td>13255.00</td>\n",
       "      <td>13525.00</td>\n",
       "    </tr>\n",
       "    <tr>\n",
       "      <th>10</th>\n",
       "      <td>NMBD2085</td>\n",
       "      <td>980.60</td>\n",
       "      <td>2.00</td>\n",
       "      <td>49.0</td>\n",
       "      <td>47909.40</td>\n",
       "      <td>2</td>\n",
       "      <td>975.00</td>\n",
       "      <td>980.60</td>\n",
       "      <td>975.00</td>\n",
       "      <td>961.40</td>\n",
       "    </tr>\n",
       "    <tr>\n",
       "      <th>11</th>\n",
       "      <td>NIBD84</td>\n",
       "      <td>826.20</td>\n",
       "      <td>2.00</td>\n",
       "      <td>25.0</td>\n",
       "      <td>20655.00</td>\n",
       "      <td>1</td>\n",
       "      <td>826.20</td>\n",
       "      <td>826.20</td>\n",
       "      <td>826.20</td>\n",
       "      <td>810.00</td>\n",
       "    </tr>\n",
       "    <tr>\n",
       "      <th>12</th>\n",
       "      <td>NIBSF2</td>\n",
       "      <td>7.14</td>\n",
       "      <td>2.00</td>\n",
       "      <td>24710.0</td>\n",
       "      <td>174417.20</td>\n",
       "      <td>20</td>\n",
       "      <td>7.00</td>\n",
       "      <td>7.14</td>\n",
       "      <td>7.00</td>\n",
       "      <td>7.00</td>\n",
       "    </tr>\n",
       "    <tr>\n",
       "      <th>13</th>\n",
       "      <td>RAWA</td>\n",
       "      <td>316.20</td>\n",
       "      <td>2.00</td>\n",
       "      <td>9355.0</td>\n",
       "      <td>2805571.40</td>\n",
       "      <td>195</td>\n",
       "      <td>304.10</td>\n",
       "      <td>316.20</td>\n",
       "      <td>296.20</td>\n",
       "      <td>310.00</td>\n",
       "    </tr>\n",
       "    <tr>\n",
       "      <th>14</th>\n",
       "      <td>NIBD2082</td>\n",
       "      <td>990.30</td>\n",
       "      <td>1.99</td>\n",
       "      <td>140.0</td>\n",
       "      <td>138110.50</td>\n",
       "      <td>3</td>\n",
       "      <td>985.00</td>\n",
       "      <td>990.30</td>\n",
       "      <td>985.00</td>\n",
       "      <td>971.00</td>\n",
       "    </tr>\n",
       "    <tr>\n",
       "      <th>15</th>\n",
       "      <td>NBLD87</td>\n",
       "      <td>784.30</td>\n",
       "      <td>1.99</td>\n",
       "      <td>20.0</td>\n",
       "      <td>15686.00</td>\n",
       "      <td>1</td>\n",
       "      <td>784.30</td>\n",
       "      <td>784.30</td>\n",
       "      <td>784.30</td>\n",
       "      <td>769.00</td>\n",
       "    </tr>\n",
       "    <tr>\n",
       "      <th>16</th>\n",
       "      <td>EHPL</td>\n",
       "      <td>310.70</td>\n",
       "      <td>1.97</td>\n",
       "      <td>740.0</td>\n",
       "      <td>220032.00</td>\n",
       "      <td>59</td>\n",
       "      <td>298.70</td>\n",
       "      <td>310.70</td>\n",
       "      <td>284.00</td>\n",
       "      <td>304.70</td>\n",
       "    </tr>\n",
       "    <tr>\n",
       "      <th>17</th>\n",
       "      <td>MMFDB</td>\n",
       "      <td>629.00</td>\n",
       "      <td>1.96</td>\n",
       "      <td>869.0</td>\n",
       "      <td>531309.90</td>\n",
       "      <td>28</td>\n",
       "      <td>616.90</td>\n",
       "      <td>629.00</td>\n",
       "      <td>600.00</td>\n",
       "      <td>616.90</td>\n",
       "    </tr>\n",
       "    <tr>\n",
       "      <th>18</th>\n",
       "      <td>NIMBPO</td>\n",
       "      <td>150.80</td>\n",
       "      <td>1.89</td>\n",
       "      <td>1020.0</td>\n",
       "      <td>150917.00</td>\n",
       "      <td>4</td>\n",
       "      <td>150.90</td>\n",
       "      <td>150.90</td>\n",
       "      <td>147.90</td>\n",
       "      <td>148.00</td>\n",
       "    </tr>\n",
       "    <tr>\n",
       "      <th>19</th>\n",
       "      <td>KPCL</td>\n",
       "      <td>348.00</td>\n",
       "      <td>1.78</td>\n",
       "      <td>764.0</td>\n",
       "      <td>256790.80</td>\n",
       "      <td>42</td>\n",
       "      <td>339.00</td>\n",
       "      <td>348.00</td>\n",
       "      <td>329.20</td>\n",
       "      <td>341.90</td>\n",
       "    </tr>\n",
       "    <tr>\n",
       "      <th>20</th>\n",
       "      <td>UHEWA</td>\n",
       "      <td>288.00</td>\n",
       "      <td>1.41</td>\n",
       "      <td>7600.0</td>\n",
       "      <td>2195947.00</td>\n",
       "      <td>114</td>\n",
       "      <td>286.10</td>\n",
       "      <td>291.80</td>\n",
       "      <td>286.10</td>\n",
       "      <td>284.00</td>\n",
       "    </tr>\n",
       "    <tr>\n",
       "      <th>21</th>\n",
       "      <td>MPFL</td>\n",
       "      <td>308.90</td>\n",
       "      <td>1.28</td>\n",
       "      <td>4305.0</td>\n",
       "      <td>1296822.30</td>\n",
       "      <td>34</td>\n",
       "      <td>309.90</td>\n",
       "      <td>309.90</td>\n",
       "      <td>293.40</td>\n",
       "      <td>305.00</td>\n",
       "    </tr>\n",
       "    <tr>\n",
       "      <th>22</th>\n",
       "      <td>SAGF</td>\n",
       "      <td>8.00</td>\n",
       "      <td>1.27</td>\n",
       "      <td>1100.0</td>\n",
       "      <td>8725.00</td>\n",
       "      <td>9</td>\n",
       "      <td>7.90</td>\n",
       "      <td>8.05</td>\n",
       "      <td>7.90</td>\n",
       "      <td>7.90</td>\n",
       "    </tr>\n",
       "    <tr>\n",
       "      <th>23</th>\n",
       "      <td>SDBD87</td>\n",
       "      <td>825.00</td>\n",
       "      <td>1.23</td>\n",
       "      <td>125.0</td>\n",
       "      <td>102875.00</td>\n",
       "      <td>2</td>\n",
       "      <td>815.00</td>\n",
       "      <td>825.00</td>\n",
       "      <td>815.00</td>\n",
       "      <td>815.00</td>\n",
       "    </tr>\n",
       "    <tr>\n",
       "      <th>24</th>\n",
       "      <td>UNL</td>\n",
       "      <td>36299.90</td>\n",
       "      <td>1.15</td>\n",
       "      <td>60.0</td>\n",
       "      <td>2155136.00</td>\n",
       "      <td>6</td>\n",
       "      <td>35200.00</td>\n",
       "      <td>36605.70</td>\n",
       "      <td>35200.00</td>\n",
       "      <td>35888.00</td>\n",
       "    </tr>\n",
       "    <tr>\n",
       "      <th>25</th>\n",
       "      <td>SLBSL</td>\n",
       "      <td>828.90</td>\n",
       "      <td>1.09</td>\n",
       "      <td>239.0</td>\n",
       "      <td>190597.10</td>\n",
       "      <td>12</td>\n",
       "      <td>804.00</td>\n",
       "      <td>828.90</td>\n",
       "      <td>771.90</td>\n",
       "      <td>820.00</td>\n",
       "    </tr>\n",
       "    <tr>\n",
       "      <th>26</th>\n",
       "      <td>NMBHF1</td>\n",
       "      <td>11.19</td>\n",
       "      <td>1.08</td>\n",
       "      <td>932.0</td>\n",
       "      <td>10337.56</td>\n",
       "      <td>2</td>\n",
       "      <td>11.08</td>\n",
       "      <td>11.19</td>\n",
       "      <td>11.08</td>\n",
       "      <td>11.07</td>\n",
       "    </tr>\n",
       "    <tr>\n",
       "      <th>27</th>\n",
       "      <td>SWBBL</td>\n",
       "      <td>775.00</td>\n",
       "      <td>1.04</td>\n",
       "      <td>11972.0</td>\n",
       "      <td>9285984.70</td>\n",
       "      <td>62</td>\n",
       "      <td>780.00</td>\n",
       "      <td>784.90</td>\n",
       "      <td>761.10</td>\n",
       "      <td>767.00</td>\n",
       "    </tr>\n",
       "    <tr>\n",
       "      <th>28</th>\n",
       "      <td>SADBL</td>\n",
       "      <td>305.80</td>\n",
       "      <td>0.92</td>\n",
       "      <td>6048.0</td>\n",
       "      <td>1830923.10</td>\n",
       "      <td>51</td>\n",
       "      <td>309.00</td>\n",
       "      <td>309.00</td>\n",
       "      <td>300.00</td>\n",
       "      <td>303.00</td>\n",
       "    </tr>\n",
       "    <tr>\n",
       "      <th>29</th>\n",
       "      <td>NIBLGF</td>\n",
       "      <td>7.85</td>\n",
       "      <td>0.90</td>\n",
       "      <td>830.0</td>\n",
       "      <td>6418.00</td>\n",
       "      <td>8</td>\n",
       "      <td>7.63</td>\n",
       "      <td>7.85</td>\n",
       "      <td>7.63</td>\n",
       "      <td>7.78</td>\n",
       "    </tr>\n",
       "    <tr>\n",
       "      <th>30</th>\n",
       "      <td>NIL</td>\n",
       "      <td>862.00</td>\n",
       "      <td>0.82</td>\n",
       "      <td>8191.0</td>\n",
       "      <td>7021978.40</td>\n",
       "      <td>103</td>\n",
       "      <td>855.00</td>\n",
       "      <td>863.00</td>\n",
       "      <td>855.00</td>\n",
       "      <td>855.00</td>\n",
       "    </tr>\n",
       "    <tr>\n",
       "      <th>31</th>\n",
       "      <td>NIBLPF</td>\n",
       "      <td>9.17</td>\n",
       "      <td>0.77</td>\n",
       "      <td>6438.0</td>\n",
       "      <td>58935.46</td>\n",
       "      <td>4</td>\n",
       "      <td>9.15</td>\n",
       "      <td>9.17</td>\n",
       "      <td>9.15</td>\n",
       "      <td>9.10</td>\n",
       "    </tr>\n",
       "    <tr>\n",
       "      <th>32</th>\n",
       "      <td>MLBS</td>\n",
       "      <td>667.90</td>\n",
       "      <td>0.74</td>\n",
       "      <td>370.0</td>\n",
       "      <td>246449.00</td>\n",
       "      <td>21</td>\n",
       "      <td>665.00</td>\n",
       "      <td>670.00</td>\n",
       "      <td>660.00</td>\n",
       "      <td>663.00</td>\n",
       "    </tr>\n",
       "    <tr>\n",
       "      <th>33</th>\n",
       "      <td>RSDC</td>\n",
       "      <td>553.90</td>\n",
       "      <td>0.71</td>\n",
       "      <td>2315.0</td>\n",
       "      <td>1262593.70</td>\n",
       "      <td>52</td>\n",
       "      <td>547.50</td>\n",
       "      <td>554.00</td>\n",
       "      <td>538.00</td>\n",
       "      <td>550.00</td>\n",
       "    </tr>\n",
       "    <tr>\n",
       "      <th>34</th>\n",
       "      <td>MMF1</td>\n",
       "      <td>7.04</td>\n",
       "      <td>0.57</td>\n",
       "      <td>12800.0</td>\n",
       "      <td>89788.00</td>\n",
       "      <td>20</td>\n",
       "      <td>6.87</td>\n",
       "      <td>7.04</td>\n",
       "      <td>6.87</td>\n",
       "      <td>7.00</td>\n",
       "    </tr>\n",
       "    <tr>\n",
       "      <th>35</th>\n",
       "      <td>GBD80/81</td>\n",
       "      <td>995.00</td>\n",
       "      <td>0.51</td>\n",
       "      <td>13.0</td>\n",
       "      <td>12935.00</td>\n",
       "      <td>1</td>\n",
       "      <td>995.00</td>\n",
       "      <td>995.00</td>\n",
       "      <td>995.00</td>\n",
       "      <td>990.00</td>\n",
       "    </tr>\n",
       "    <tr>\n",
       "      <th>36</th>\n",
       "      <td>ICFCD83</td>\n",
       "      <td>1045.00</td>\n",
       "      <td>0.48</td>\n",
       "      <td>90.0</td>\n",
       "      <td>94050.00</td>\n",
       "      <td>1</td>\n",
       "      <td>1045.00</td>\n",
       "      <td>1045.00</td>\n",
       "      <td>1045.00</td>\n",
       "      <td>1040.00</td>\n",
       "    </tr>\n",
       "    <tr>\n",
       "      <th>37</th>\n",
       "      <td>LEMF</td>\n",
       "      <td>8.33</td>\n",
       "      <td>0.36</td>\n",
       "      <td>18587.0</td>\n",
       "      <td>154478.84</td>\n",
       "      <td>6</td>\n",
       "      <td>8.30</td>\n",
       "      <td>8.33</td>\n",
       "      <td>8.30</td>\n",
       "      <td>8.30</td>\n",
       "    </tr>\n",
       "    <tr>\n",
       "      <th>38</th>\n",
       "      <td>NESDO</td>\n",
       "      <td>1866.00</td>\n",
       "      <td>0.32</td>\n",
       "      <td>1505.0</td>\n",
       "      <td>2822659.00</td>\n",
       "      <td>63</td>\n",
       "      <td>1860.00</td>\n",
       "      <td>1897.20</td>\n",
       "      <td>1860.00</td>\n",
       "      <td>1860.00</td>\n",
       "    </tr>\n",
       "    <tr>\n",
       "      <th>39</th>\n",
       "      <td>SHEL</td>\n",
       "      <td>227.70</td>\n",
       "      <td>0.31</td>\n",
       "      <td>1820.0</td>\n",
       "      <td>405478.00</td>\n",
       "      <td>79</td>\n",
       "      <td>228.00</td>\n",
       "      <td>229.00</td>\n",
       "      <td>220.00</td>\n",
       "      <td>227.00</td>\n",
       "    </tr>\n",
       "    <tr>\n",
       "      <th>40</th>\n",
       "      <td>UNHPL</td>\n",
       "      <td>165.00</td>\n",
       "      <td>0.30</td>\n",
       "      <td>12633.0</td>\n",
       "      <td>2051635.90</td>\n",
       "      <td>63</td>\n",
       "      <td>165.00</td>\n",
       "      <td>165.90</td>\n",
       "      <td>159.50</td>\n",
       "      <td>164.50</td>\n",
       "    </tr>\n",
       "    <tr>\n",
       "      <th>41</th>\n",
       "      <td>NABBC</td>\n",
       "      <td>376.00</td>\n",
       "      <td>0.27</td>\n",
       "      <td>1713.0</td>\n",
       "      <td>639265.30</td>\n",
       "      <td>11</td>\n",
       "      <td>375.00</td>\n",
       "      <td>376.00</td>\n",
       "      <td>370.00</td>\n",
       "      <td>375.00</td>\n",
       "    </tr>\n",
       "    <tr>\n",
       "      <th>42</th>\n",
       "      <td>SBCF</td>\n",
       "      <td>7.50</td>\n",
       "      <td>0.27</td>\n",
       "      <td>12600.0</td>\n",
       "      <td>94806.00</td>\n",
       "      <td>14</td>\n",
       "      <td>7.35</td>\n",
       "      <td>7.56</td>\n",
       "      <td>7.35</td>\n",
       "      <td>7.48</td>\n",
       "    </tr>\n",
       "    <tr>\n",
       "      <th>43</th>\n",
       "      <td>BHPL</td>\n",
       "      <td>425.00</td>\n",
       "      <td>0.24</td>\n",
       "      <td>1073.0</td>\n",
       "      <td>451126.00</td>\n",
       "      <td>65</td>\n",
       "      <td>420.00</td>\n",
       "      <td>433.00</td>\n",
       "      <td>408.00</td>\n",
       "      <td>424.00</td>\n",
       "    </tr>\n",
       "    <tr>\n",
       "      <th>44</th>\n",
       "      <td>AKJCL</td>\n",
       "      <td>161.40</td>\n",
       "      <td>0.19</td>\n",
       "      <td>13016.0</td>\n",
       "      <td>2100164.90</td>\n",
       "      <td>108</td>\n",
       "      <td>160.00</td>\n",
       "      <td>167.50</td>\n",
       "      <td>158.80</td>\n",
       "      <td>161.10</td>\n",
       "    </tr>\n",
       "    <tr>\n",
       "      <th>45</th>\n",
       "      <td>GBBL</td>\n",
       "      <td>376.50</td>\n",
       "      <td>0.13</td>\n",
       "      <td>14863.0</td>\n",
       "      <td>5583100.20</td>\n",
       "      <td>159</td>\n",
       "      <td>379.00</td>\n",
       "      <td>379.00</td>\n",
       "      <td>375.00</td>\n",
       "      <td>376.00</td>\n",
       "    </tr>\n",
       "    <tr>\n",
       "      <th>46</th>\n",
       "      <td>RURU</td>\n",
       "      <td>779.00</td>\n",
       "      <td>0.13</td>\n",
       "      <td>253.0</td>\n",
       "      <td>194280.00</td>\n",
       "      <td>15</td>\n",
       "      <td>770.00</td>\n",
       "      <td>779.00</td>\n",
       "      <td>750.80</td>\n",
       "      <td>778.00</td>\n",
       "    </tr>\n",
       "    <tr>\n",
       "      <th>47</th>\n",
       "      <td>CGH</td>\n",
       "      <td>1269.50</td>\n",
       "      <td>0.12</td>\n",
       "      <td>4739.0</td>\n",
       "      <td>6013691.70</td>\n",
       "      <td>69</td>\n",
       "      <td>1255.00</td>\n",
       "      <td>1274.90</td>\n",
       "      <td>1252.00</td>\n",
       "      <td>1268.00</td>\n",
       "    </tr>\n",
       "    <tr>\n",
       "      <th>48</th>\n",
       "      <td>NSIF2</td>\n",
       "      <td>8.84</td>\n",
       "      <td>0.11</td>\n",
       "      <td>1420.0</td>\n",
       "      <td>12535.40</td>\n",
       "      <td>10</td>\n",
       "      <td>8.83</td>\n",
       "      <td>8.85</td>\n",
       "      <td>8.80</td>\n",
       "      <td>8.83</td>\n",
       "    </tr>\n",
       "  </tbody>\n",
       "</table>\n",
       "</div>"
      ],
      "text/plain": [
       "       Symbol  Closing Price  % Chg    Volume    Turnover  Transactions*  \\\n",
       "0       KBSH          771.20  10.00    2509.0  1931848.70            161   \n",
       "1      SMFBS         1166.00   6.00      30.0    34320.00              3   \n",
       "2       CMF2            8.82   5.88   98486.0   860055.72             22   \n",
       "3        PPL          233.50   5.18    5617.0  1254098.80            244   \n",
       "4      USHEC          238.10   4.89    1510.0   335037.00            125   \n",
       "5        SEF            8.57   3.88   66300.0   559368.00             15   \n",
       "6      SIGS2            8.82   3.76  146970.0  1290110.20             16   \n",
       "7       SFEF            8.17   3.29    1700.0    13671.00              6   \n",
       "8        SPC          386.00   2.44     750.0   275284.00             36   \n",
       "9        BNT        13850.00   2.40      60.0   814556.00              6   \n",
       "10  NMBD2085          980.60   2.00      49.0    47909.40              2   \n",
       "11    NIBD84          826.20   2.00      25.0    20655.00              1   \n",
       "12    NIBSF2            7.14   2.00   24710.0   174417.20             20   \n",
       "13      RAWA          316.20   2.00    9355.0  2805571.40            195   \n",
       "14  NIBD2082          990.30   1.99     140.0   138110.50              3   \n",
       "15    NBLD87          784.30   1.99      20.0    15686.00              1   \n",
       "16      EHPL          310.70   1.97     740.0   220032.00             59   \n",
       "17     MMFDB          629.00   1.96     869.0   531309.90             28   \n",
       "18    NIMBPO          150.80   1.89    1020.0   150917.00              4   \n",
       "19      KPCL          348.00   1.78     764.0   256790.80             42   \n",
       "20     UHEWA          288.00   1.41    7600.0  2195947.00            114   \n",
       "21      MPFL          308.90   1.28    4305.0  1296822.30             34   \n",
       "22      SAGF            8.00   1.27    1100.0     8725.00              9   \n",
       "23    SDBD87          825.00   1.23     125.0   102875.00              2   \n",
       "24       UNL        36299.90   1.15      60.0  2155136.00              6   \n",
       "25     SLBSL          828.90   1.09     239.0   190597.10             12   \n",
       "26    NMBHF1           11.19   1.08     932.0    10337.56              2   \n",
       "27     SWBBL          775.00   1.04   11972.0  9285984.70             62   \n",
       "28     SADBL          305.80   0.92    6048.0  1830923.10             51   \n",
       "29    NIBLGF            7.85   0.90     830.0     6418.00              8   \n",
       "30       NIL          862.00   0.82    8191.0  7021978.40            103   \n",
       "31    NIBLPF            9.17   0.77    6438.0    58935.46              4   \n",
       "32      MLBS          667.90   0.74     370.0   246449.00             21   \n",
       "33      RSDC          553.90   0.71    2315.0  1262593.70             52   \n",
       "34      MMF1            7.04   0.57   12800.0    89788.00             20   \n",
       "35  GBD80/81          995.00   0.51      13.0    12935.00              1   \n",
       "36   ICFCD83         1045.00   0.48      90.0    94050.00              1   \n",
       "37      LEMF            8.33   0.36   18587.0   154478.84              6   \n",
       "38     NESDO         1866.00   0.32    1505.0  2822659.00             63   \n",
       "39      SHEL          227.70   0.31    1820.0   405478.00             79   \n",
       "40     UNHPL          165.00   0.30   12633.0  2051635.90             63   \n",
       "41     NABBC          376.00   0.27    1713.0   639265.30             11   \n",
       "42      SBCF            7.50   0.27   12600.0    94806.00             14   \n",
       "43      BHPL          425.00   0.24    1073.0   451126.00             65   \n",
       "44     AKJCL          161.40   0.19   13016.0  2100164.90            108   \n",
       "45      GBBL          376.50   0.13   14863.0  5583100.20            159   \n",
       "46      RURU          779.00   0.13     253.0   194280.00             15   \n",
       "47       CGH         1269.50   0.12    4739.0  6013691.70             69   \n",
       "48     NSIF2            8.84   0.11    1420.0    12535.40             10   \n",
       "\n",
       "    Opening Price  Max Price  Min Price  Prev. Close  \n",
       "0          715.10     771.20     715.10       701.10  \n",
       "1         1122.00    1166.00    1122.00      1100.00  \n",
       "2            8.49       8.82       8.49         8.33  \n",
       "3          226.40     233.50     218.00       222.00  \n",
       "4          222.50     238.10     220.00       227.00  \n",
       "5            8.40       8.57       8.15         8.25  \n",
       "6            8.33       8.82       8.33         8.50  \n",
       "7            8.06       8.17       7.90         7.91  \n",
       "8          369.30     386.00     363.20       376.80  \n",
       "9        13255.00   13850.00   13255.00     13525.00  \n",
       "10         975.00     980.60     975.00       961.40  \n",
       "11         826.20     826.20     826.20       810.00  \n",
       "12           7.00       7.14       7.00         7.00  \n",
       "13         304.10     316.20     296.20       310.00  \n",
       "14         985.00     990.30     985.00       971.00  \n",
       "15         784.30     784.30     784.30       769.00  \n",
       "16         298.70     310.70     284.00       304.70  \n",
       "17         616.90     629.00     600.00       616.90  \n",
       "18         150.90     150.90     147.90       148.00  \n",
       "19         339.00     348.00     329.20       341.90  \n",
       "20         286.10     291.80     286.10       284.00  \n",
       "21         309.90     309.90     293.40       305.00  \n",
       "22           7.90       8.05       7.90         7.90  \n",
       "23         815.00     825.00     815.00       815.00  \n",
       "24       35200.00   36605.70   35200.00     35888.00  \n",
       "25         804.00     828.90     771.90       820.00  \n",
       "26          11.08      11.19      11.08        11.07  \n",
       "27         780.00     784.90     761.10       767.00  \n",
       "28         309.00     309.00     300.00       303.00  \n",
       "29           7.63       7.85       7.63         7.78  \n",
       "30         855.00     863.00     855.00       855.00  \n",
       "31           9.15       9.17       9.15         9.10  \n",
       "32         665.00     670.00     660.00       663.00  \n",
       "33         547.50     554.00     538.00       550.00  \n",
       "34           6.87       7.04       6.87         7.00  \n",
       "35         995.00     995.00     995.00       990.00  \n",
       "36        1045.00    1045.00    1045.00      1040.00  \n",
       "37           8.30       8.33       8.30         8.30  \n",
       "38        1860.00    1897.20    1860.00      1860.00  \n",
       "39         228.00     229.00     220.00       227.00  \n",
       "40         165.00     165.90     159.50       164.50  \n",
       "41         375.00     376.00     370.00       375.00  \n",
       "42           7.35       7.56       7.35         7.48  \n",
       "43         420.00     433.00     408.00       424.00  \n",
       "44         160.00     167.50     158.80       161.10  \n",
       "45         379.00     379.00     375.00       376.00  \n",
       "46         770.00     779.00     750.80       778.00  \n",
       "47        1255.00    1274.90    1252.00      1268.00  \n",
       "48           8.83       8.85       8.80         8.83  "
      ]
     },
     "execution_count": 184,
     "metadata": {},
     "output_type": "execute_result"
    }
   ],
   "source": [
    "df"
   ]
  },
  {
   "cell_type": "code",
   "execution_count": 149,
   "id": "00476061",
   "metadata": {},
   "outputs": [
    {
     "data": {
      "text/html": [
       "<div>\n",
       "<style scoped>\n",
       "    .dataframe tbody tr th:only-of-type {\n",
       "        vertical-align: middle;\n",
       "    }\n",
       "\n",
       "    .dataframe tbody tr th {\n",
       "        vertical-align: top;\n",
       "    }\n",
       "\n",
       "    .dataframe thead th {\n",
       "        text-align: right;\n",
       "    }\n",
       "</style>\n",
       "<table border=\"1\" class=\"dataframe\">\n",
       "  <thead>\n",
       "    <tr style=\"text-align: right;\">\n",
       "      <th></th>\n",
       "      <th>Symbol</th>\n",
       "      <th>Closing Price</th>\n",
       "      <th>% Chg</th>\n",
       "      <th>Volume</th>\n",
       "      <th>Turnover</th>\n",
       "      <th>Transactions*</th>\n",
       "      <th>Opening Price</th>\n",
       "      <th>Max Price</th>\n",
       "      <th>Min Price</th>\n",
       "      <th>Prev. Close</th>\n",
       "    </tr>\n",
       "  </thead>\n",
       "  <tbody>\n",
       "    <tr>\n",
       "      <th>42</th>\n",
       "      <td>SBCF</td>\n",
       "      <td>7.50</td>\n",
       "      <td>0.27</td>\n",
       "      <td>12,600</td>\n",
       "      <td>94,806.00</td>\n",
       "      <td>14</td>\n",
       "      <td>7.35</td>\n",
       "      <td>7.56</td>\n",
       "      <td>7.35</td>\n",
       "      <td>7.48</td>\n",
       "    </tr>\n",
       "    <tr>\n",
       "      <th>36</th>\n",
       "      <td>ICFCD83</td>\n",
       "      <td>1,045.00</td>\n",
       "      <td>0.48</td>\n",
       "      <td>90</td>\n",
       "      <td>94,050.00</td>\n",
       "      <td>1</td>\n",
       "      <td>1,045.00</td>\n",
       "      <td>1,045.00</td>\n",
       "      <td>1,045.00</td>\n",
       "      <td>1,040.00</td>\n",
       "    </tr>\n",
       "    <tr>\n",
       "      <th>27</th>\n",
       "      <td>SWBBL</td>\n",
       "      <td>775.00</td>\n",
       "      <td>1.04</td>\n",
       "      <td>11,972</td>\n",
       "      <td>9,285,984.70</td>\n",
       "      <td>62</td>\n",
       "      <td>780.00</td>\n",
       "      <td>784.90</td>\n",
       "      <td>761.10</td>\n",
       "      <td>767.00</td>\n",
       "    </tr>\n",
       "    <tr>\n",
       "      <th>34</th>\n",
       "      <td>MMF1</td>\n",
       "      <td>7.04</td>\n",
       "      <td>0.57</td>\n",
       "      <td>12,800</td>\n",
       "      <td>89,788.00</td>\n",
       "      <td>20</td>\n",
       "      <td>6.87</td>\n",
       "      <td>7.04</td>\n",
       "      <td>6.87</td>\n",
       "      <td>7.00</td>\n",
       "    </tr>\n",
       "    <tr>\n",
       "      <th>2</th>\n",
       "      <td>CMF2</td>\n",
       "      <td>8.82</td>\n",
       "      <td>5.88</td>\n",
       "      <td>98,486</td>\n",
       "      <td>860,055.72</td>\n",
       "      <td>22</td>\n",
       "      <td>8.49</td>\n",
       "      <td>8.82</td>\n",
       "      <td>8.49</td>\n",
       "      <td>8.33</td>\n",
       "    </tr>\n",
       "  </tbody>\n",
       "</table>\n",
       "</div>"
      ],
      "text/plain": [
       "      Symbol Closing Price  % Chg  Volume      Turnover  Transactions*  \\\n",
       "42     SBCF           7.50   0.27  12,600     94,806.00             14   \n",
       "36  ICFCD83       1,045.00   0.48      90     94,050.00              1   \n",
       "27    SWBBL         775.00   1.04  11,972  9,285,984.70             62   \n",
       "34     MMF1           7.04   0.57  12,800     89,788.00             20   \n",
       "2      CMF2           8.82   5.88  98,486    860,055.72             22   \n",
       "\n",
       "   Opening Price Max Price Min Price Prev. Close  \n",
       "42          7.35      7.56      7.35        7.48  \n",
       "36      1,045.00  1,045.00  1,045.00    1,040.00  \n",
       "27        780.00    784.90    761.10      767.00  \n",
       "34          6.87      7.04      6.87        7.00  \n",
       "2           8.49      8.82      8.49        8.33  "
      ]
     },
     "execution_count": 149,
     "metadata": {},
     "output_type": "execute_result"
    }
   ],
   "source": [
    "turnoverdf = df.sort_values(by=['Turnover'] , ascending = False)\n",
    "turnoverdf.head()"
   ]
  },
  {
   "cell_type": "code",
   "execution_count": 36,
   "id": "b7d532f9",
   "metadata": {},
   "outputs": [
    {
     "data": {
      "application/vnd.plotly.v1+json": {
       "config": {
        "plotlyServerURL": "https://plot.ly"
       },
       "data": [
        {
         "alignmentgroup": "True",
         "cliponaxis": false,
         "hovertemplate": "Symbol=%{x}<br>Turnover=%{y}<extra></extra>",
         "legendgroup": "",
         "marker": {
          "color": "#636efa",
          "pattern": {
           "shape": ""
          }
         },
         "name": "",
         "offsetgroup": "",
         "orientation": "v",
         "showlegend": false,
         "textangle": 0,
         "textfont": {
          "size": 14
         },
         "textposition": "outside",
         "texttemplate": "%{y:.3s}",
         "type": "bar",
         "x": [
          "SWBBL ",
          "NIL ",
          "CGH ",
          "GBBL ",
          "NESDO ",
          "RAWA ",
          "UHEWA ",
          "UNL ",
          "AKJCL ",
          "UNHPL ",
          "KBSH ",
          "SADBL ",
          "MPFL ",
          "SIGS2 ",
          "RSDC ",
          "PPL ",
          "CMF2 ",
          "BNT ",
          "NABBC ",
          "SEF "
         ],
         "xaxis": "x",
         "y": [
          9285984.7,
          7021978.4,
          6013691.7,
          5583100.2,
          2822659,
          2805571.4,
          2195947,
          2155136,
          2100164.9,
          2051635.9,
          1931848.7,
          1830923.1,
          1296822.3,
          1290110.2,
          1262593.7,
          1254098.8,
          860055.72,
          814556,
          639265.3,
          559368
         ],
         "yaxis": "y"
        }
       ],
       "layout": {
        "barmode": "relative",
        "legend": {
         "tracegroupgap": 0
        },
        "margin": {
         "t": 60
        },
        "template": {
         "data": {
          "bar": [
           {
            "error_x": {
             "color": "#2a3f5f"
            },
            "error_y": {
             "color": "#2a3f5f"
            },
            "marker": {
             "line": {
              "color": "#E5ECF6",
              "width": 0.5
             },
             "pattern": {
              "fillmode": "overlay",
              "size": 10,
              "solidity": 0.2
             }
            },
            "type": "bar"
           }
          ],
          "barpolar": [
           {
            "marker": {
             "line": {
              "color": "#E5ECF6",
              "width": 0.5
             },
             "pattern": {
              "fillmode": "overlay",
              "size": 10,
              "solidity": 0.2
             }
            },
            "type": "barpolar"
           }
          ],
          "carpet": [
           {
            "aaxis": {
             "endlinecolor": "#2a3f5f",
             "gridcolor": "white",
             "linecolor": "white",
             "minorgridcolor": "white",
             "startlinecolor": "#2a3f5f"
            },
            "baxis": {
             "endlinecolor": "#2a3f5f",
             "gridcolor": "white",
             "linecolor": "white",
             "minorgridcolor": "white",
             "startlinecolor": "#2a3f5f"
            },
            "type": "carpet"
           }
          ],
          "choropleth": [
           {
            "colorbar": {
             "outlinewidth": 0,
             "ticks": ""
            },
            "type": "choropleth"
           }
          ],
          "contour": [
           {
            "colorbar": {
             "outlinewidth": 0,
             "ticks": ""
            },
            "colorscale": [
             [
              0,
              "#0d0887"
             ],
             [
              0.1111111111111111,
              "#46039f"
             ],
             [
              0.2222222222222222,
              "#7201a8"
             ],
             [
              0.3333333333333333,
              "#9c179e"
             ],
             [
              0.4444444444444444,
              "#bd3786"
             ],
             [
              0.5555555555555556,
              "#d8576b"
             ],
             [
              0.6666666666666666,
              "#ed7953"
             ],
             [
              0.7777777777777778,
              "#fb9f3a"
             ],
             [
              0.8888888888888888,
              "#fdca26"
             ],
             [
              1,
              "#f0f921"
             ]
            ],
            "type": "contour"
           }
          ],
          "contourcarpet": [
           {
            "colorbar": {
             "outlinewidth": 0,
             "ticks": ""
            },
            "type": "contourcarpet"
           }
          ],
          "heatmap": [
           {
            "colorbar": {
             "outlinewidth": 0,
             "ticks": ""
            },
            "colorscale": [
             [
              0,
              "#0d0887"
             ],
             [
              0.1111111111111111,
              "#46039f"
             ],
             [
              0.2222222222222222,
              "#7201a8"
             ],
             [
              0.3333333333333333,
              "#9c179e"
             ],
             [
              0.4444444444444444,
              "#bd3786"
             ],
             [
              0.5555555555555556,
              "#d8576b"
             ],
             [
              0.6666666666666666,
              "#ed7953"
             ],
             [
              0.7777777777777778,
              "#fb9f3a"
             ],
             [
              0.8888888888888888,
              "#fdca26"
             ],
             [
              1,
              "#f0f921"
             ]
            ],
            "type": "heatmap"
           }
          ],
          "heatmapgl": [
           {
            "colorbar": {
             "outlinewidth": 0,
             "ticks": ""
            },
            "colorscale": [
             [
              0,
              "#0d0887"
             ],
             [
              0.1111111111111111,
              "#46039f"
             ],
             [
              0.2222222222222222,
              "#7201a8"
             ],
             [
              0.3333333333333333,
              "#9c179e"
             ],
             [
              0.4444444444444444,
              "#bd3786"
             ],
             [
              0.5555555555555556,
              "#d8576b"
             ],
             [
              0.6666666666666666,
              "#ed7953"
             ],
             [
              0.7777777777777778,
              "#fb9f3a"
             ],
             [
              0.8888888888888888,
              "#fdca26"
             ],
             [
              1,
              "#f0f921"
             ]
            ],
            "type": "heatmapgl"
           }
          ],
          "histogram": [
           {
            "marker": {
             "pattern": {
              "fillmode": "overlay",
              "size": 10,
              "solidity": 0.2
             }
            },
            "type": "histogram"
           }
          ],
          "histogram2d": [
           {
            "colorbar": {
             "outlinewidth": 0,
             "ticks": ""
            },
            "colorscale": [
             [
              0,
              "#0d0887"
             ],
             [
              0.1111111111111111,
              "#46039f"
             ],
             [
              0.2222222222222222,
              "#7201a8"
             ],
             [
              0.3333333333333333,
              "#9c179e"
             ],
             [
              0.4444444444444444,
              "#bd3786"
             ],
             [
              0.5555555555555556,
              "#d8576b"
             ],
             [
              0.6666666666666666,
              "#ed7953"
             ],
             [
              0.7777777777777778,
              "#fb9f3a"
             ],
             [
              0.8888888888888888,
              "#fdca26"
             ],
             [
              1,
              "#f0f921"
             ]
            ],
            "type": "histogram2d"
           }
          ],
          "histogram2dcontour": [
           {
            "colorbar": {
             "outlinewidth": 0,
             "ticks": ""
            },
            "colorscale": [
             [
              0,
              "#0d0887"
             ],
             [
              0.1111111111111111,
              "#46039f"
             ],
             [
              0.2222222222222222,
              "#7201a8"
             ],
             [
              0.3333333333333333,
              "#9c179e"
             ],
             [
              0.4444444444444444,
              "#bd3786"
             ],
             [
              0.5555555555555556,
              "#d8576b"
             ],
             [
              0.6666666666666666,
              "#ed7953"
             ],
             [
              0.7777777777777778,
              "#fb9f3a"
             ],
             [
              0.8888888888888888,
              "#fdca26"
             ],
             [
              1,
              "#f0f921"
             ]
            ],
            "type": "histogram2dcontour"
           }
          ],
          "mesh3d": [
           {
            "colorbar": {
             "outlinewidth": 0,
             "ticks": ""
            },
            "type": "mesh3d"
           }
          ],
          "parcoords": [
           {
            "line": {
             "colorbar": {
              "outlinewidth": 0,
              "ticks": ""
             }
            },
            "type": "parcoords"
           }
          ],
          "pie": [
           {
            "automargin": true,
            "type": "pie"
           }
          ],
          "scatter": [
           {
            "fillpattern": {
             "fillmode": "overlay",
             "size": 10,
             "solidity": 0.2
            },
            "type": "scatter"
           }
          ],
          "scatter3d": [
           {
            "line": {
             "colorbar": {
              "outlinewidth": 0,
              "ticks": ""
             }
            },
            "marker": {
             "colorbar": {
              "outlinewidth": 0,
              "ticks": ""
             }
            },
            "type": "scatter3d"
           }
          ],
          "scattercarpet": [
           {
            "marker": {
             "colorbar": {
              "outlinewidth": 0,
              "ticks": ""
             }
            },
            "type": "scattercarpet"
           }
          ],
          "scattergeo": [
           {
            "marker": {
             "colorbar": {
              "outlinewidth": 0,
              "ticks": ""
             }
            },
            "type": "scattergeo"
           }
          ],
          "scattergl": [
           {
            "marker": {
             "colorbar": {
              "outlinewidth": 0,
              "ticks": ""
             }
            },
            "type": "scattergl"
           }
          ],
          "scattermapbox": [
           {
            "marker": {
             "colorbar": {
              "outlinewidth": 0,
              "ticks": ""
             }
            },
            "type": "scattermapbox"
           }
          ],
          "scatterpolar": [
           {
            "marker": {
             "colorbar": {
              "outlinewidth": 0,
              "ticks": ""
             }
            },
            "type": "scatterpolar"
           }
          ],
          "scatterpolargl": [
           {
            "marker": {
             "colorbar": {
              "outlinewidth": 0,
              "ticks": ""
             }
            },
            "type": "scatterpolargl"
           }
          ],
          "scatterternary": [
           {
            "marker": {
             "colorbar": {
              "outlinewidth": 0,
              "ticks": ""
             }
            },
            "type": "scatterternary"
           }
          ],
          "surface": [
           {
            "colorbar": {
             "outlinewidth": 0,
             "ticks": ""
            },
            "colorscale": [
             [
              0,
              "#0d0887"
             ],
             [
              0.1111111111111111,
              "#46039f"
             ],
             [
              0.2222222222222222,
              "#7201a8"
             ],
             [
              0.3333333333333333,
              "#9c179e"
             ],
             [
              0.4444444444444444,
              "#bd3786"
             ],
             [
              0.5555555555555556,
              "#d8576b"
             ],
             [
              0.6666666666666666,
              "#ed7953"
             ],
             [
              0.7777777777777778,
              "#fb9f3a"
             ],
             [
              0.8888888888888888,
              "#fdca26"
             ],
             [
              1,
              "#f0f921"
             ]
            ],
            "type": "surface"
           }
          ],
          "table": [
           {
            "cells": {
             "fill": {
              "color": "#EBF0F8"
             },
             "line": {
              "color": "white"
             }
            },
            "header": {
             "fill": {
              "color": "#C8D4E3"
             },
             "line": {
              "color": "white"
             }
            },
            "type": "table"
           }
          ]
         },
         "layout": {
          "annotationdefaults": {
           "arrowcolor": "#2a3f5f",
           "arrowhead": 0,
           "arrowwidth": 1
          },
          "autotypenumbers": "strict",
          "coloraxis": {
           "colorbar": {
            "outlinewidth": 0,
            "ticks": ""
           }
          },
          "colorscale": {
           "diverging": [
            [
             0,
             "#8e0152"
            ],
            [
             0.1,
             "#c51b7d"
            ],
            [
             0.2,
             "#de77ae"
            ],
            [
             0.3,
             "#f1b6da"
            ],
            [
             0.4,
             "#fde0ef"
            ],
            [
             0.5,
             "#f7f7f7"
            ],
            [
             0.6,
             "#e6f5d0"
            ],
            [
             0.7,
             "#b8e186"
            ],
            [
             0.8,
             "#7fbc41"
            ],
            [
             0.9,
             "#4d9221"
            ],
            [
             1,
             "#276419"
            ]
           ],
           "sequential": [
            [
             0,
             "#0d0887"
            ],
            [
             0.1111111111111111,
             "#46039f"
            ],
            [
             0.2222222222222222,
             "#7201a8"
            ],
            [
             0.3333333333333333,
             "#9c179e"
            ],
            [
             0.4444444444444444,
             "#bd3786"
            ],
            [
             0.5555555555555556,
             "#d8576b"
            ],
            [
             0.6666666666666666,
             "#ed7953"
            ],
            [
             0.7777777777777778,
             "#fb9f3a"
            ],
            [
             0.8888888888888888,
             "#fdca26"
            ],
            [
             1,
             "#f0f921"
            ]
           ],
           "sequentialminus": [
            [
             0,
             "#0d0887"
            ],
            [
             0.1111111111111111,
             "#46039f"
            ],
            [
             0.2222222222222222,
             "#7201a8"
            ],
            [
             0.3333333333333333,
             "#9c179e"
            ],
            [
             0.4444444444444444,
             "#bd3786"
            ],
            [
             0.5555555555555556,
             "#d8576b"
            ],
            [
             0.6666666666666666,
             "#ed7953"
            ],
            [
             0.7777777777777778,
             "#fb9f3a"
            ],
            [
             0.8888888888888888,
             "#fdca26"
            ],
            [
             1,
             "#f0f921"
            ]
           ]
          },
          "colorway": [
           "#636efa",
           "#EF553B",
           "#00cc96",
           "#ab63fa",
           "#FFA15A",
           "#19d3f3",
           "#FF6692",
           "#B6E880",
           "#FF97FF",
           "#FECB52"
          ],
          "font": {
           "color": "#2a3f5f"
          },
          "geo": {
           "bgcolor": "white",
           "lakecolor": "white",
           "landcolor": "#E5ECF6",
           "showlakes": true,
           "showland": true,
           "subunitcolor": "white"
          },
          "hoverlabel": {
           "align": "left"
          },
          "hovermode": "closest",
          "mapbox": {
           "style": "light"
          },
          "paper_bgcolor": "white",
          "plot_bgcolor": "#E5ECF6",
          "polar": {
           "angularaxis": {
            "gridcolor": "white",
            "linecolor": "white",
            "ticks": ""
           },
           "bgcolor": "#E5ECF6",
           "radialaxis": {
            "gridcolor": "white",
            "linecolor": "white",
            "ticks": ""
           }
          },
          "scene": {
           "xaxis": {
            "backgroundcolor": "#E5ECF6",
            "gridcolor": "white",
            "gridwidth": 2,
            "linecolor": "white",
            "showbackground": true,
            "ticks": "",
            "zerolinecolor": "white"
           },
           "yaxis": {
            "backgroundcolor": "#E5ECF6",
            "gridcolor": "white",
            "gridwidth": 2,
            "linecolor": "white",
            "showbackground": true,
            "ticks": "",
            "zerolinecolor": "white"
           },
           "zaxis": {
            "backgroundcolor": "#E5ECF6",
            "gridcolor": "white",
            "gridwidth": 2,
            "linecolor": "white",
            "showbackground": true,
            "ticks": "",
            "zerolinecolor": "white"
           }
          },
          "shapedefaults": {
           "line": {
            "color": "#2a3f5f"
           }
          },
          "ternary": {
           "aaxis": {
            "gridcolor": "white",
            "linecolor": "white",
            "ticks": ""
           },
           "baxis": {
            "gridcolor": "white",
            "linecolor": "white",
            "ticks": ""
           },
           "bgcolor": "#E5ECF6",
           "caxis": {
            "gridcolor": "white",
            "linecolor": "white",
            "ticks": ""
           }
          },
          "title": {
           "x": 0.05
          },
          "xaxis": {
           "automargin": true,
           "gridcolor": "white",
           "linecolor": "white",
           "ticks": "",
           "title": {
            "standoff": 15
           },
           "zerolinecolor": "white",
           "zerolinewidth": 2
          },
          "yaxis": {
           "automargin": true,
           "gridcolor": "white",
           "linecolor": "white",
           "ticks": "",
           "title": {
            "standoff": 15
           },
           "zerolinecolor": "white",
           "zerolinewidth": 2
          }
         }
        },
        "xaxis": {
         "anchor": "y",
         "domain": [
          0,
          1
         ],
         "title": {
          "text": "Symbol"
         }
        },
        "yaxis": {
         "anchor": "x",
         "domain": [
          0,
          1
         ],
         "title": {
          "text": "Turnover"
         }
        }
       }
      },
      "text/html": [
       "<div>                            <div id=\"199a34b6-f8db-4c6b-ac3e-b54c5bd5964e\" class=\"plotly-graph-div\" style=\"height:525px; width:100%;\"></div>            <script type=\"text/javascript\">                require([\"plotly\"], function(Plotly) {                    window.PLOTLYENV=window.PLOTLYENV || {};                                    if (document.getElementById(\"199a34b6-f8db-4c6b-ac3e-b54c5bd5964e\")) {                    Plotly.newPlot(                        \"199a34b6-f8db-4c6b-ac3e-b54c5bd5964e\",                        [{\"alignmentgroup\":\"True\",\"hovertemplate\":\"Symbol=%{x}\\u003cbr\\u003eTurnover=%{y}\\u003cextra\\u003e\\u003c\\u002fextra\\u003e\",\"legendgroup\":\"\",\"marker\":{\"color\":\"#636efa\",\"pattern\":{\"shape\":\"\"}},\"name\":\"\",\"offsetgroup\":\"\",\"orientation\":\"v\",\"showlegend\":false,\"textposition\":\"outside\",\"texttemplate\":\"%{y:.3s}\",\"x\":[\"SWBBL \",\"NIL \",\"CGH \",\"GBBL \",\"NESDO \",\"RAWA \",\"UHEWA \",\"UNL \",\"AKJCL \",\"UNHPL \",\"KBSH \",\"SADBL \",\"MPFL \",\"SIGS2 \",\"RSDC \",\"PPL \",\"CMF2 \",\"BNT \",\"NABBC \",\"SEF \"],\"xaxis\":\"x\",\"y\":[9285984.7,7021978.4,6013691.7,5583100.2,2822659.0,2805571.4,2195947.0,2155136.0,2100164.9,2051635.9,1931848.7,1830923.1,1296822.3,1290110.2,1262593.7,1254098.8,860055.72,814556.0,639265.3,559368.0],\"yaxis\":\"y\",\"type\":\"bar\",\"textfont\":{\"size\":14},\"cliponaxis\":false,\"textangle\":0}],                        {\"template\":{\"data\":{\"histogram2dcontour\":[{\"type\":\"histogram2dcontour\",\"colorbar\":{\"outlinewidth\":0,\"ticks\":\"\"},\"colorscale\":[[0.0,\"#0d0887\"],[0.1111111111111111,\"#46039f\"],[0.2222222222222222,\"#7201a8\"],[0.3333333333333333,\"#9c179e\"],[0.4444444444444444,\"#bd3786\"],[0.5555555555555556,\"#d8576b\"],[0.6666666666666666,\"#ed7953\"],[0.7777777777777778,\"#fb9f3a\"],[0.8888888888888888,\"#fdca26\"],[1.0,\"#f0f921\"]]}],\"choropleth\":[{\"type\":\"choropleth\",\"colorbar\":{\"outlinewidth\":0,\"ticks\":\"\"}}],\"histogram2d\":[{\"type\":\"histogram2d\",\"colorbar\":{\"outlinewidth\":0,\"ticks\":\"\"},\"colorscale\":[[0.0,\"#0d0887\"],[0.1111111111111111,\"#46039f\"],[0.2222222222222222,\"#7201a8\"],[0.3333333333333333,\"#9c179e\"],[0.4444444444444444,\"#bd3786\"],[0.5555555555555556,\"#d8576b\"],[0.6666666666666666,\"#ed7953\"],[0.7777777777777778,\"#fb9f3a\"],[0.8888888888888888,\"#fdca26\"],[1.0,\"#f0f921\"]]}],\"heatmap\":[{\"type\":\"heatmap\",\"colorbar\":{\"outlinewidth\":0,\"ticks\":\"\"},\"colorscale\":[[0.0,\"#0d0887\"],[0.1111111111111111,\"#46039f\"],[0.2222222222222222,\"#7201a8\"],[0.3333333333333333,\"#9c179e\"],[0.4444444444444444,\"#bd3786\"],[0.5555555555555556,\"#d8576b\"],[0.6666666666666666,\"#ed7953\"],[0.7777777777777778,\"#fb9f3a\"],[0.8888888888888888,\"#fdca26\"],[1.0,\"#f0f921\"]]}],\"heatmapgl\":[{\"type\":\"heatmapgl\",\"colorbar\":{\"outlinewidth\":0,\"ticks\":\"\"},\"colorscale\":[[0.0,\"#0d0887\"],[0.1111111111111111,\"#46039f\"],[0.2222222222222222,\"#7201a8\"],[0.3333333333333333,\"#9c179e\"],[0.4444444444444444,\"#bd3786\"],[0.5555555555555556,\"#d8576b\"],[0.6666666666666666,\"#ed7953\"],[0.7777777777777778,\"#fb9f3a\"],[0.8888888888888888,\"#fdca26\"],[1.0,\"#f0f921\"]]}],\"contourcarpet\":[{\"type\":\"contourcarpet\",\"colorbar\":{\"outlinewidth\":0,\"ticks\":\"\"}}],\"contour\":[{\"type\":\"contour\",\"colorbar\":{\"outlinewidth\":0,\"ticks\":\"\"},\"colorscale\":[[0.0,\"#0d0887\"],[0.1111111111111111,\"#46039f\"],[0.2222222222222222,\"#7201a8\"],[0.3333333333333333,\"#9c179e\"],[0.4444444444444444,\"#bd3786\"],[0.5555555555555556,\"#d8576b\"],[0.6666666666666666,\"#ed7953\"],[0.7777777777777778,\"#fb9f3a\"],[0.8888888888888888,\"#fdca26\"],[1.0,\"#f0f921\"]]}],\"surface\":[{\"type\":\"surface\",\"colorbar\":{\"outlinewidth\":0,\"ticks\":\"\"},\"colorscale\":[[0.0,\"#0d0887\"],[0.1111111111111111,\"#46039f\"],[0.2222222222222222,\"#7201a8\"],[0.3333333333333333,\"#9c179e\"],[0.4444444444444444,\"#bd3786\"],[0.5555555555555556,\"#d8576b\"],[0.6666666666666666,\"#ed7953\"],[0.7777777777777778,\"#fb9f3a\"],[0.8888888888888888,\"#fdca26\"],[1.0,\"#f0f921\"]]}],\"mesh3d\":[{\"type\":\"mesh3d\",\"colorbar\":{\"outlinewidth\":0,\"ticks\":\"\"}}],\"scatter\":[{\"fillpattern\":{\"fillmode\":\"overlay\",\"size\":10,\"solidity\":0.2},\"type\":\"scatter\"}],\"parcoords\":[{\"type\":\"parcoords\",\"line\":{\"colorbar\":{\"outlinewidth\":0,\"ticks\":\"\"}}}],\"scatterpolargl\":[{\"type\":\"scatterpolargl\",\"marker\":{\"colorbar\":{\"outlinewidth\":0,\"ticks\":\"\"}}}],\"bar\":[{\"error_x\":{\"color\":\"#2a3f5f\"},\"error_y\":{\"color\":\"#2a3f5f\"},\"marker\":{\"line\":{\"color\":\"#E5ECF6\",\"width\":0.5},\"pattern\":{\"fillmode\":\"overlay\",\"size\":10,\"solidity\":0.2}},\"type\":\"bar\"}],\"scattergeo\":[{\"type\":\"scattergeo\",\"marker\":{\"colorbar\":{\"outlinewidth\":0,\"ticks\":\"\"}}}],\"scatterpolar\":[{\"type\":\"scatterpolar\",\"marker\":{\"colorbar\":{\"outlinewidth\":0,\"ticks\":\"\"}}}],\"histogram\":[{\"marker\":{\"pattern\":{\"fillmode\":\"overlay\",\"size\":10,\"solidity\":0.2}},\"type\":\"histogram\"}],\"scattergl\":[{\"type\":\"scattergl\",\"marker\":{\"colorbar\":{\"outlinewidth\":0,\"ticks\":\"\"}}}],\"scatter3d\":[{\"type\":\"scatter3d\",\"line\":{\"colorbar\":{\"outlinewidth\":0,\"ticks\":\"\"}},\"marker\":{\"colorbar\":{\"outlinewidth\":0,\"ticks\":\"\"}}}],\"scattermapbox\":[{\"type\":\"scattermapbox\",\"marker\":{\"colorbar\":{\"outlinewidth\":0,\"ticks\":\"\"}}}],\"scatterternary\":[{\"type\":\"scatterternary\",\"marker\":{\"colorbar\":{\"outlinewidth\":0,\"ticks\":\"\"}}}],\"scattercarpet\":[{\"type\":\"scattercarpet\",\"marker\":{\"colorbar\":{\"outlinewidth\":0,\"ticks\":\"\"}}}],\"carpet\":[{\"aaxis\":{\"endlinecolor\":\"#2a3f5f\",\"gridcolor\":\"white\",\"linecolor\":\"white\",\"minorgridcolor\":\"white\",\"startlinecolor\":\"#2a3f5f\"},\"baxis\":{\"endlinecolor\":\"#2a3f5f\",\"gridcolor\":\"white\",\"linecolor\":\"white\",\"minorgridcolor\":\"white\",\"startlinecolor\":\"#2a3f5f\"},\"type\":\"carpet\"}],\"table\":[{\"cells\":{\"fill\":{\"color\":\"#EBF0F8\"},\"line\":{\"color\":\"white\"}},\"header\":{\"fill\":{\"color\":\"#C8D4E3\"},\"line\":{\"color\":\"white\"}},\"type\":\"table\"}],\"barpolar\":[{\"marker\":{\"line\":{\"color\":\"#E5ECF6\",\"width\":0.5},\"pattern\":{\"fillmode\":\"overlay\",\"size\":10,\"solidity\":0.2}},\"type\":\"barpolar\"}],\"pie\":[{\"automargin\":true,\"type\":\"pie\"}]},\"layout\":{\"autotypenumbers\":\"strict\",\"colorway\":[\"#636efa\",\"#EF553B\",\"#00cc96\",\"#ab63fa\",\"#FFA15A\",\"#19d3f3\",\"#FF6692\",\"#B6E880\",\"#FF97FF\",\"#FECB52\"],\"font\":{\"color\":\"#2a3f5f\"},\"hovermode\":\"closest\",\"hoverlabel\":{\"align\":\"left\"},\"paper_bgcolor\":\"white\",\"plot_bgcolor\":\"#E5ECF6\",\"polar\":{\"bgcolor\":\"#E5ECF6\",\"angularaxis\":{\"gridcolor\":\"white\",\"linecolor\":\"white\",\"ticks\":\"\"},\"radialaxis\":{\"gridcolor\":\"white\",\"linecolor\":\"white\",\"ticks\":\"\"}},\"ternary\":{\"bgcolor\":\"#E5ECF6\",\"aaxis\":{\"gridcolor\":\"white\",\"linecolor\":\"white\",\"ticks\":\"\"},\"baxis\":{\"gridcolor\":\"white\",\"linecolor\":\"white\",\"ticks\":\"\"},\"caxis\":{\"gridcolor\":\"white\",\"linecolor\":\"white\",\"ticks\":\"\"}},\"coloraxis\":{\"colorbar\":{\"outlinewidth\":0,\"ticks\":\"\"}},\"colorscale\":{\"sequential\":[[0.0,\"#0d0887\"],[0.1111111111111111,\"#46039f\"],[0.2222222222222222,\"#7201a8\"],[0.3333333333333333,\"#9c179e\"],[0.4444444444444444,\"#bd3786\"],[0.5555555555555556,\"#d8576b\"],[0.6666666666666666,\"#ed7953\"],[0.7777777777777778,\"#fb9f3a\"],[0.8888888888888888,\"#fdca26\"],[1.0,\"#f0f921\"]],\"sequentialminus\":[[0.0,\"#0d0887\"],[0.1111111111111111,\"#46039f\"],[0.2222222222222222,\"#7201a8\"],[0.3333333333333333,\"#9c179e\"],[0.4444444444444444,\"#bd3786\"],[0.5555555555555556,\"#d8576b\"],[0.6666666666666666,\"#ed7953\"],[0.7777777777777778,\"#fb9f3a\"],[0.8888888888888888,\"#fdca26\"],[1.0,\"#f0f921\"]],\"diverging\":[[0,\"#8e0152\"],[0.1,\"#c51b7d\"],[0.2,\"#de77ae\"],[0.3,\"#f1b6da\"],[0.4,\"#fde0ef\"],[0.5,\"#f7f7f7\"],[0.6,\"#e6f5d0\"],[0.7,\"#b8e186\"],[0.8,\"#7fbc41\"],[0.9,\"#4d9221\"],[1,\"#276419\"]]},\"xaxis\":{\"gridcolor\":\"white\",\"linecolor\":\"white\",\"ticks\":\"\",\"title\":{\"standoff\":15},\"zerolinecolor\":\"white\",\"automargin\":true,\"zerolinewidth\":2},\"yaxis\":{\"gridcolor\":\"white\",\"linecolor\":\"white\",\"ticks\":\"\",\"title\":{\"standoff\":15},\"zerolinecolor\":\"white\",\"automargin\":true,\"zerolinewidth\":2},\"scene\":{\"xaxis\":{\"backgroundcolor\":\"#E5ECF6\",\"gridcolor\":\"white\",\"linecolor\":\"white\",\"showbackground\":true,\"ticks\":\"\",\"zerolinecolor\":\"white\",\"gridwidth\":2},\"yaxis\":{\"backgroundcolor\":\"#E5ECF6\",\"gridcolor\":\"white\",\"linecolor\":\"white\",\"showbackground\":true,\"ticks\":\"\",\"zerolinecolor\":\"white\",\"gridwidth\":2},\"zaxis\":{\"backgroundcolor\":\"#E5ECF6\",\"gridcolor\":\"white\",\"linecolor\":\"white\",\"showbackground\":true,\"ticks\":\"\",\"zerolinecolor\":\"white\",\"gridwidth\":2}},\"shapedefaults\":{\"line\":{\"color\":\"#2a3f5f\"}},\"annotationdefaults\":{\"arrowcolor\":\"#2a3f5f\",\"arrowhead\":0,\"arrowwidth\":1},\"geo\":{\"bgcolor\":\"white\",\"landcolor\":\"#E5ECF6\",\"subunitcolor\":\"white\",\"showland\":true,\"showlakes\":true,\"lakecolor\":\"white\"},\"title\":{\"x\":0.05},\"mapbox\":{\"style\":\"light\"}}},\"xaxis\":{\"anchor\":\"y\",\"domain\":[0.0,1.0],\"title\":{\"text\":\"Symbol\"}},\"yaxis\":{\"anchor\":\"x\",\"domain\":[0.0,1.0],\"title\":{\"text\":\"Turnover\"}},\"legend\":{\"tracegroupgap\":0},\"margin\":{\"t\":60},\"barmode\":\"relative\"},                        {\"responsive\": true}                    ).then(function(){\n",
       "                            \n",
       "var gd = document.getElementById('199a34b6-f8db-4c6b-ac3e-b54c5bd5964e');\n",
       "var x = new MutationObserver(function (mutations, observer) {{\n",
       "        var display = window.getComputedStyle(gd).display;\n",
       "        if (!display || display === 'none') {{\n",
       "            console.log([gd, 'removed!']);\n",
       "            Plotly.purge(gd);\n",
       "            observer.disconnect();\n",
       "        }}\n",
       "}});\n",
       "\n",
       "// Listen for the removal of the full notebook cells\n",
       "var notebookContainer = gd.closest('#notebook-container');\n",
       "if (notebookContainer) {{\n",
       "    x.observe(notebookContainer, {childList: true});\n",
       "}}\n",
       "\n",
       "// Listen for the clearing of the current output cell\n",
       "var outputEl = gd.closest('.output');\n",
       "if (outputEl) {{\n",
       "    x.observe(outputEl, {childList: true});\n",
       "}}\n",
       "\n",
       "                        })                };                });            </script>        </div>"
      ]
     },
     "metadata": {},
     "output_type": "display_data"
    }
   ],
   "source": [
    "import plotly.express as px\n",
    "fig = px.bar(turnoverdf[0:20], x='Symbol', y='Turnover' , text_auto='.3s')\n",
    "fig.update_traces(textfont_size=14, textangle=0, textposition=\"outside\", cliponaxis=False)\n",
    "fig.show()"
   ]
  },
  {
   "cell_type": "code",
   "execution_count": 122,
   "id": "1071e6d7",
   "metadata": {},
   "outputs": [
    {
     "data": {
      "text/html": [
       "<div>\n",
       "<style scoped>\n",
       "    .dataframe tbody tr th:only-of-type {\n",
       "        vertical-align: middle;\n",
       "    }\n",
       "\n",
       "    .dataframe tbody tr th {\n",
       "        vertical-align: top;\n",
       "    }\n",
       "\n",
       "    .dataframe thead th {\n",
       "        text-align: right;\n",
       "    }\n",
       "</style>\n",
       "<table border=\"1\" class=\"dataframe\">\n",
       "  <thead>\n",
       "    <tr style=\"text-align: right;\">\n",
       "      <th></th>\n",
       "      <th>Symbol</th>\n",
       "      <th>Closing Price</th>\n",
       "      <th>% Chg</th>\n",
       "      <th>Volume</th>\n",
       "      <th>Turnover</th>\n",
       "      <th>Transactions*</th>\n",
       "      <th>Opening Price</th>\n",
       "      <th>Max Price</th>\n",
       "      <th>Min Price</th>\n",
       "      <th>Prev. Close</th>\n",
       "    </tr>\n",
       "  </thead>\n",
       "  <tbody>\n",
       "    <tr>\n",
       "      <th>24</th>\n",
       "      <td>UNL</td>\n",
       "      <td>36299.9</td>\n",
       "      <td>1.15</td>\n",
       "      <td>60.0</td>\n",
       "      <td>2155136.0</td>\n",
       "      <td>6</td>\n",
       "      <td>35200.0</td>\n",
       "      <td>36605.7</td>\n",
       "      <td>35200.0</td>\n",
       "      <td>35888.0</td>\n",
       "    </tr>\n",
       "    <tr>\n",
       "      <th>9</th>\n",
       "      <td>BNT</td>\n",
       "      <td>13850.0</td>\n",
       "      <td>2.40</td>\n",
       "      <td>60.0</td>\n",
       "      <td>814556.0</td>\n",
       "      <td>6</td>\n",
       "      <td>13255.0</td>\n",
       "      <td>13850.0</td>\n",
       "      <td>13255.0</td>\n",
       "      <td>13525.0</td>\n",
       "    </tr>\n",
       "    <tr>\n",
       "      <th>38</th>\n",
       "      <td>NESDO</td>\n",
       "      <td>1866.0</td>\n",
       "      <td>0.32</td>\n",
       "      <td>1505.0</td>\n",
       "      <td>2822659.0</td>\n",
       "      <td>63</td>\n",
       "      <td>1860.0</td>\n",
       "      <td>1897.2</td>\n",
       "      <td>1860.0</td>\n",
       "      <td>1860.0</td>\n",
       "    </tr>\n",
       "    <tr>\n",
       "      <th>47</th>\n",
       "      <td>CGH</td>\n",
       "      <td>1269.5</td>\n",
       "      <td>0.12</td>\n",
       "      <td>4739.0</td>\n",
       "      <td>6013691.7</td>\n",
       "      <td>69</td>\n",
       "      <td>1255.0</td>\n",
       "      <td>1274.9</td>\n",
       "      <td>1252.0</td>\n",
       "      <td>1268.0</td>\n",
       "    </tr>\n",
       "    <tr>\n",
       "      <th>1</th>\n",
       "      <td>SMFBS</td>\n",
       "      <td>1166.0</td>\n",
       "      <td>6.00</td>\n",
       "      <td>30.0</td>\n",
       "      <td>34320.0</td>\n",
       "      <td>3</td>\n",
       "      <td>1122.0</td>\n",
       "      <td>1166.0</td>\n",
       "      <td>1122.0</td>\n",
       "      <td>1100.0</td>\n",
       "    </tr>\n",
       "    <tr>\n",
       "      <th>36</th>\n",
       "      <td>ICFCD83</td>\n",
       "      <td>1045.0</td>\n",
       "      <td>0.48</td>\n",
       "      <td>90.0</td>\n",
       "      <td>94050.0</td>\n",
       "      <td>1</td>\n",
       "      <td>1045.0</td>\n",
       "      <td>1045.0</td>\n",
       "      <td>1045.0</td>\n",
       "      <td>1040.0</td>\n",
       "    </tr>\n",
       "    <tr>\n",
       "      <th>35</th>\n",
       "      <td>GBD80/81</td>\n",
       "      <td>995.0</td>\n",
       "      <td>0.51</td>\n",
       "      <td>13.0</td>\n",
       "      <td>12935.0</td>\n",
       "      <td>1</td>\n",
       "      <td>995.0</td>\n",
       "      <td>995.0</td>\n",
       "      <td>995.0</td>\n",
       "      <td>990.0</td>\n",
       "    </tr>\n",
       "    <tr>\n",
       "      <th>14</th>\n",
       "      <td>NIBD2082</td>\n",
       "      <td>990.3</td>\n",
       "      <td>1.99</td>\n",
       "      <td>140.0</td>\n",
       "      <td>138110.5</td>\n",
       "      <td>3</td>\n",
       "      <td>985.0</td>\n",
       "      <td>990.3</td>\n",
       "      <td>985.0</td>\n",
       "      <td>971.0</td>\n",
       "    </tr>\n",
       "    <tr>\n",
       "      <th>10</th>\n",
       "      <td>NMBD2085</td>\n",
       "      <td>980.6</td>\n",
       "      <td>2.00</td>\n",
       "      <td>49.0</td>\n",
       "      <td>47909.4</td>\n",
       "      <td>2</td>\n",
       "      <td>975.0</td>\n",
       "      <td>980.6</td>\n",
       "      <td>975.0</td>\n",
       "      <td>961.4</td>\n",
       "    </tr>\n",
       "    <tr>\n",
       "      <th>30</th>\n",
       "      <td>NIL</td>\n",
       "      <td>862.0</td>\n",
       "      <td>0.82</td>\n",
       "      <td>8191.0</td>\n",
       "      <td>7021978.4</td>\n",
       "      <td>103</td>\n",
       "      <td>855.0</td>\n",
       "      <td>863.0</td>\n",
       "      <td>855.0</td>\n",
       "      <td>855.0</td>\n",
       "    </tr>\n",
       "  </tbody>\n",
       "</table>\n",
       "</div>"
      ],
      "text/plain": [
       "       Symbol  Closing Price  % Chg  Volume   Turnover  Transactions*  \\\n",
       "24       UNL         36299.9   1.15    60.0  2155136.0              6   \n",
       "9        BNT         13850.0   2.40    60.0   814556.0              6   \n",
       "38     NESDO          1866.0   0.32  1505.0  2822659.0             63   \n",
       "47       CGH          1269.5   0.12  4739.0  6013691.7             69   \n",
       "1      SMFBS          1166.0   6.00    30.0    34320.0              3   \n",
       "36   ICFCD83          1045.0   0.48    90.0    94050.0              1   \n",
       "35  GBD80/81           995.0   0.51    13.0    12935.0              1   \n",
       "14  NIBD2082           990.3   1.99   140.0   138110.5              3   \n",
       "10  NMBD2085           980.6   2.00    49.0    47909.4              2   \n",
       "30       NIL           862.0   0.82  8191.0  7021978.4            103   \n",
       "\n",
       "    Opening Price  Max Price  Min Price  Prev. Close  \n",
       "24        35200.0    36605.7    35200.0      35888.0  \n",
       "9         13255.0    13850.0    13255.0      13525.0  \n",
       "38         1860.0     1897.2     1860.0       1860.0  \n",
       "47         1255.0     1274.9     1252.0       1268.0  \n",
       "1          1122.0     1166.0     1122.0       1100.0  \n",
       "36         1045.0     1045.0     1045.0       1040.0  \n",
       "35          995.0      995.0      995.0        990.0  \n",
       "14          985.0      990.3      985.0        971.0  \n",
       "10          975.0      980.6      975.0        961.4  \n",
       "30          855.0      863.0      855.0        855.0  "
      ]
     },
     "execution_count": 122,
     "metadata": {},
     "output_type": "execute_result"
    }
   ],
   "source": [
    "pricedf = df.sort_values(by=['Closing Price'] , ascending = False)\n",
    "pricedf.head(10)"
   ]
  },
  {
   "cell_type": "code",
   "execution_count": 139,
   "id": "4100e969",
   "metadata": {},
   "outputs": [
    {
     "data": {
      "application/vnd.plotly.v1+json": {
       "config": {
        "plotlyServerURL": "https://plot.ly"
       },
       "data": [
        {
         "marker": {
          "color": "indianred"
         },
         "name": "Closing Price",
         "type": "bar",
         "x": [
          "UNL ",
          "BNT ",
          "NESDO ",
          "CGH ",
          "SMFBS ",
          "ICFCD83 ",
          "GBD80/81 ",
          "NIBD2082 ",
          "NMBD2085 ",
          "NIL ",
          "SLBSL ",
          "NIBD84 ",
          "SDBD87 ",
          "NBLD87 ",
          "RURU ",
          "SWBBL ",
          "KBSH ",
          "MLBS ",
          "MMFDB ",
          "RSDC "
         ],
         "y": [
          36299.9,
          13850,
          1866,
          1269.5,
          1166,
          1045,
          995,
          990.3,
          980.6,
          862,
          828.9,
          826.2,
          825,
          784.3,
          779,
          775,
          771.2,
          667.9,
          629,
          553.9,
          425,
          386,
          376.5,
          376,
          348,
          316.2,
          310.7,
          308.9,
          305.8,
          288,
          238.1,
          233.5,
          227.7,
          165,
          161.4,
          150.8,
          11.19,
          9.17,
          8.84,
          8.82,
          8.82,
          8.57,
          8.33,
          8.17,
          8,
          7.85,
          7.5,
          7.14,
          7.04
         ]
        },
        {
         "marker": {
          "color": "lightsalmon"
         },
         "name": "Prev. Close",
         "type": "bar",
         "x": [
          "UNL ",
          "BNT ",
          "NESDO ",
          "CGH ",
          "SMFBS ",
          "ICFCD83 ",
          "GBD80/81 ",
          "NIBD2082 ",
          "NMBD2085 ",
          "NIL ",
          "SLBSL ",
          "NIBD84 ",
          "SDBD87 ",
          "NBLD87 ",
          "RURU ",
          "SWBBL ",
          "KBSH ",
          "MLBS ",
          "MMFDB ",
          "RSDC "
         ],
         "y": [
          35888,
          13525,
          1860,
          1268,
          1100,
          1040,
          990,
          971,
          961.4,
          855,
          820,
          810,
          815,
          769,
          778,
          767,
          701.1,
          663,
          616.9,
          550,
          424,
          376.8,
          376,
          375,
          341.9,
          310,
          304.7,
          305,
          303,
          284,
          227,
          222,
          227,
          164.5,
          161.1,
          148,
          11.07,
          9.1,
          8.83,
          8.5,
          8.33,
          8.25,
          8.3,
          7.91,
          7.9,
          7.78,
          7.48,
          7,
          7
         ]
        }
       ],
       "layout": {
        "barmode": "group",
        "template": {
         "data": {
          "bar": [
           {
            "error_x": {
             "color": "#2a3f5f"
            },
            "error_y": {
             "color": "#2a3f5f"
            },
            "marker": {
             "line": {
              "color": "#E5ECF6",
              "width": 0.5
             },
             "pattern": {
              "fillmode": "overlay",
              "size": 10,
              "solidity": 0.2
             }
            },
            "type": "bar"
           }
          ],
          "barpolar": [
           {
            "marker": {
             "line": {
              "color": "#E5ECF6",
              "width": 0.5
             },
             "pattern": {
              "fillmode": "overlay",
              "size": 10,
              "solidity": 0.2
             }
            },
            "type": "barpolar"
           }
          ],
          "carpet": [
           {
            "aaxis": {
             "endlinecolor": "#2a3f5f",
             "gridcolor": "white",
             "linecolor": "white",
             "minorgridcolor": "white",
             "startlinecolor": "#2a3f5f"
            },
            "baxis": {
             "endlinecolor": "#2a3f5f",
             "gridcolor": "white",
             "linecolor": "white",
             "minorgridcolor": "white",
             "startlinecolor": "#2a3f5f"
            },
            "type": "carpet"
           }
          ],
          "choropleth": [
           {
            "colorbar": {
             "outlinewidth": 0,
             "ticks": ""
            },
            "type": "choropleth"
           }
          ],
          "contour": [
           {
            "colorbar": {
             "outlinewidth": 0,
             "ticks": ""
            },
            "colorscale": [
             [
              0,
              "#0d0887"
             ],
             [
              0.1111111111111111,
              "#46039f"
             ],
             [
              0.2222222222222222,
              "#7201a8"
             ],
             [
              0.3333333333333333,
              "#9c179e"
             ],
             [
              0.4444444444444444,
              "#bd3786"
             ],
             [
              0.5555555555555556,
              "#d8576b"
             ],
             [
              0.6666666666666666,
              "#ed7953"
             ],
             [
              0.7777777777777778,
              "#fb9f3a"
             ],
             [
              0.8888888888888888,
              "#fdca26"
             ],
             [
              1,
              "#f0f921"
             ]
            ],
            "type": "contour"
           }
          ],
          "contourcarpet": [
           {
            "colorbar": {
             "outlinewidth": 0,
             "ticks": ""
            },
            "type": "contourcarpet"
           }
          ],
          "heatmap": [
           {
            "colorbar": {
             "outlinewidth": 0,
             "ticks": ""
            },
            "colorscale": [
             [
              0,
              "#0d0887"
             ],
             [
              0.1111111111111111,
              "#46039f"
             ],
             [
              0.2222222222222222,
              "#7201a8"
             ],
             [
              0.3333333333333333,
              "#9c179e"
             ],
             [
              0.4444444444444444,
              "#bd3786"
             ],
             [
              0.5555555555555556,
              "#d8576b"
             ],
             [
              0.6666666666666666,
              "#ed7953"
             ],
             [
              0.7777777777777778,
              "#fb9f3a"
             ],
             [
              0.8888888888888888,
              "#fdca26"
             ],
             [
              1,
              "#f0f921"
             ]
            ],
            "type": "heatmap"
           }
          ],
          "heatmapgl": [
           {
            "colorbar": {
             "outlinewidth": 0,
             "ticks": ""
            },
            "colorscale": [
             [
              0,
              "#0d0887"
             ],
             [
              0.1111111111111111,
              "#46039f"
             ],
             [
              0.2222222222222222,
              "#7201a8"
             ],
             [
              0.3333333333333333,
              "#9c179e"
             ],
             [
              0.4444444444444444,
              "#bd3786"
             ],
             [
              0.5555555555555556,
              "#d8576b"
             ],
             [
              0.6666666666666666,
              "#ed7953"
             ],
             [
              0.7777777777777778,
              "#fb9f3a"
             ],
             [
              0.8888888888888888,
              "#fdca26"
             ],
             [
              1,
              "#f0f921"
             ]
            ],
            "type": "heatmapgl"
           }
          ],
          "histogram": [
           {
            "marker": {
             "pattern": {
              "fillmode": "overlay",
              "size": 10,
              "solidity": 0.2
             }
            },
            "type": "histogram"
           }
          ],
          "histogram2d": [
           {
            "colorbar": {
             "outlinewidth": 0,
             "ticks": ""
            },
            "colorscale": [
             [
              0,
              "#0d0887"
             ],
             [
              0.1111111111111111,
              "#46039f"
             ],
             [
              0.2222222222222222,
              "#7201a8"
             ],
             [
              0.3333333333333333,
              "#9c179e"
             ],
             [
              0.4444444444444444,
              "#bd3786"
             ],
             [
              0.5555555555555556,
              "#d8576b"
             ],
             [
              0.6666666666666666,
              "#ed7953"
             ],
             [
              0.7777777777777778,
              "#fb9f3a"
             ],
             [
              0.8888888888888888,
              "#fdca26"
             ],
             [
              1,
              "#f0f921"
             ]
            ],
            "type": "histogram2d"
           }
          ],
          "histogram2dcontour": [
           {
            "colorbar": {
             "outlinewidth": 0,
             "ticks": ""
            },
            "colorscale": [
             [
              0,
              "#0d0887"
             ],
             [
              0.1111111111111111,
              "#46039f"
             ],
             [
              0.2222222222222222,
              "#7201a8"
             ],
             [
              0.3333333333333333,
              "#9c179e"
             ],
             [
              0.4444444444444444,
              "#bd3786"
             ],
             [
              0.5555555555555556,
              "#d8576b"
             ],
             [
              0.6666666666666666,
              "#ed7953"
             ],
             [
              0.7777777777777778,
              "#fb9f3a"
             ],
             [
              0.8888888888888888,
              "#fdca26"
             ],
             [
              1,
              "#f0f921"
             ]
            ],
            "type": "histogram2dcontour"
           }
          ],
          "mesh3d": [
           {
            "colorbar": {
             "outlinewidth": 0,
             "ticks": ""
            },
            "type": "mesh3d"
           }
          ],
          "parcoords": [
           {
            "line": {
             "colorbar": {
              "outlinewidth": 0,
              "ticks": ""
             }
            },
            "type": "parcoords"
           }
          ],
          "pie": [
           {
            "automargin": true,
            "type": "pie"
           }
          ],
          "scatter": [
           {
            "fillpattern": {
             "fillmode": "overlay",
             "size": 10,
             "solidity": 0.2
            },
            "type": "scatter"
           }
          ],
          "scatter3d": [
           {
            "line": {
             "colorbar": {
              "outlinewidth": 0,
              "ticks": ""
             }
            },
            "marker": {
             "colorbar": {
              "outlinewidth": 0,
              "ticks": ""
             }
            },
            "type": "scatter3d"
           }
          ],
          "scattercarpet": [
           {
            "marker": {
             "colorbar": {
              "outlinewidth": 0,
              "ticks": ""
             }
            },
            "type": "scattercarpet"
           }
          ],
          "scattergeo": [
           {
            "marker": {
             "colorbar": {
              "outlinewidth": 0,
              "ticks": ""
             }
            },
            "type": "scattergeo"
           }
          ],
          "scattergl": [
           {
            "marker": {
             "colorbar": {
              "outlinewidth": 0,
              "ticks": ""
             }
            },
            "type": "scattergl"
           }
          ],
          "scattermapbox": [
           {
            "marker": {
             "colorbar": {
              "outlinewidth": 0,
              "ticks": ""
             }
            },
            "type": "scattermapbox"
           }
          ],
          "scatterpolar": [
           {
            "marker": {
             "colorbar": {
              "outlinewidth": 0,
              "ticks": ""
             }
            },
            "type": "scatterpolar"
           }
          ],
          "scatterpolargl": [
           {
            "marker": {
             "colorbar": {
              "outlinewidth": 0,
              "ticks": ""
             }
            },
            "type": "scatterpolargl"
           }
          ],
          "scatterternary": [
           {
            "marker": {
             "colorbar": {
              "outlinewidth": 0,
              "ticks": ""
             }
            },
            "type": "scatterternary"
           }
          ],
          "surface": [
           {
            "colorbar": {
             "outlinewidth": 0,
             "ticks": ""
            },
            "colorscale": [
             [
              0,
              "#0d0887"
             ],
             [
              0.1111111111111111,
              "#46039f"
             ],
             [
              0.2222222222222222,
              "#7201a8"
             ],
             [
              0.3333333333333333,
              "#9c179e"
             ],
             [
              0.4444444444444444,
              "#bd3786"
             ],
             [
              0.5555555555555556,
              "#d8576b"
             ],
             [
              0.6666666666666666,
              "#ed7953"
             ],
             [
              0.7777777777777778,
              "#fb9f3a"
             ],
             [
              0.8888888888888888,
              "#fdca26"
             ],
             [
              1,
              "#f0f921"
             ]
            ],
            "type": "surface"
           }
          ],
          "table": [
           {
            "cells": {
             "fill": {
              "color": "#EBF0F8"
             },
             "line": {
              "color": "white"
             }
            },
            "header": {
             "fill": {
              "color": "#C8D4E3"
             },
             "line": {
              "color": "white"
             }
            },
            "type": "table"
           }
          ]
         },
         "layout": {
          "annotationdefaults": {
           "arrowcolor": "#2a3f5f",
           "arrowhead": 0,
           "arrowwidth": 1
          },
          "autotypenumbers": "strict",
          "coloraxis": {
           "colorbar": {
            "outlinewidth": 0,
            "ticks": ""
           }
          },
          "colorscale": {
           "diverging": [
            [
             0,
             "#8e0152"
            ],
            [
             0.1,
             "#c51b7d"
            ],
            [
             0.2,
             "#de77ae"
            ],
            [
             0.3,
             "#f1b6da"
            ],
            [
             0.4,
             "#fde0ef"
            ],
            [
             0.5,
             "#f7f7f7"
            ],
            [
             0.6,
             "#e6f5d0"
            ],
            [
             0.7,
             "#b8e186"
            ],
            [
             0.8,
             "#7fbc41"
            ],
            [
             0.9,
             "#4d9221"
            ],
            [
             1,
             "#276419"
            ]
           ],
           "sequential": [
            [
             0,
             "#0d0887"
            ],
            [
             0.1111111111111111,
             "#46039f"
            ],
            [
             0.2222222222222222,
             "#7201a8"
            ],
            [
             0.3333333333333333,
             "#9c179e"
            ],
            [
             0.4444444444444444,
             "#bd3786"
            ],
            [
             0.5555555555555556,
             "#d8576b"
            ],
            [
             0.6666666666666666,
             "#ed7953"
            ],
            [
             0.7777777777777778,
             "#fb9f3a"
            ],
            [
             0.8888888888888888,
             "#fdca26"
            ],
            [
             1,
             "#f0f921"
            ]
           ],
           "sequentialminus": [
            [
             0,
             "#0d0887"
            ],
            [
             0.1111111111111111,
             "#46039f"
            ],
            [
             0.2222222222222222,
             "#7201a8"
            ],
            [
             0.3333333333333333,
             "#9c179e"
            ],
            [
             0.4444444444444444,
             "#bd3786"
            ],
            [
             0.5555555555555556,
             "#d8576b"
            ],
            [
             0.6666666666666666,
             "#ed7953"
            ],
            [
             0.7777777777777778,
             "#fb9f3a"
            ],
            [
             0.8888888888888888,
             "#fdca26"
            ],
            [
             1,
             "#f0f921"
            ]
           ]
          },
          "colorway": [
           "#636efa",
           "#EF553B",
           "#00cc96",
           "#ab63fa",
           "#FFA15A",
           "#19d3f3",
           "#FF6692",
           "#B6E880",
           "#FF97FF",
           "#FECB52"
          ],
          "font": {
           "color": "#2a3f5f"
          },
          "geo": {
           "bgcolor": "white",
           "lakecolor": "white",
           "landcolor": "#E5ECF6",
           "showlakes": true,
           "showland": true,
           "subunitcolor": "white"
          },
          "hoverlabel": {
           "align": "left"
          },
          "hovermode": "closest",
          "mapbox": {
           "style": "light"
          },
          "paper_bgcolor": "white",
          "plot_bgcolor": "#E5ECF6",
          "polar": {
           "angularaxis": {
            "gridcolor": "white",
            "linecolor": "white",
            "ticks": ""
           },
           "bgcolor": "#E5ECF6",
           "radialaxis": {
            "gridcolor": "white",
            "linecolor": "white",
            "ticks": ""
           }
          },
          "scene": {
           "xaxis": {
            "backgroundcolor": "#E5ECF6",
            "gridcolor": "white",
            "gridwidth": 2,
            "linecolor": "white",
            "showbackground": true,
            "ticks": "",
            "zerolinecolor": "white"
           },
           "yaxis": {
            "backgroundcolor": "#E5ECF6",
            "gridcolor": "white",
            "gridwidth": 2,
            "linecolor": "white",
            "showbackground": true,
            "ticks": "",
            "zerolinecolor": "white"
           },
           "zaxis": {
            "backgroundcolor": "#E5ECF6",
            "gridcolor": "white",
            "gridwidth": 2,
            "linecolor": "white",
            "showbackground": true,
            "ticks": "",
            "zerolinecolor": "white"
           }
          },
          "shapedefaults": {
           "line": {
            "color": "#2a3f5f"
           }
          },
          "ternary": {
           "aaxis": {
            "gridcolor": "white",
            "linecolor": "white",
            "ticks": ""
           },
           "baxis": {
            "gridcolor": "white",
            "linecolor": "white",
            "ticks": ""
           },
           "bgcolor": "#E5ECF6",
           "caxis": {
            "gridcolor": "white",
            "linecolor": "white",
            "ticks": ""
           }
          },
          "title": {
           "x": 0.05
          },
          "xaxis": {
           "automargin": true,
           "gridcolor": "white",
           "linecolor": "white",
           "ticks": "",
           "title": {
            "standoff": 15
           },
           "zerolinecolor": "white",
           "zerolinewidth": 2
          },
          "yaxis": {
           "automargin": true,
           "gridcolor": "white",
           "linecolor": "white",
           "ticks": "",
           "title": {
            "standoff": 15
           },
           "zerolinecolor": "white",
           "zerolinewidth": 2
          }
         }
        },
        "xaxis": {
         "tickangle": -45
        }
       }
      },
      "text/html": [
       "<div>                            <div id=\"30fe5e38-cc6d-49ab-a9cd-2f23422559b3\" class=\"plotly-graph-div\" style=\"height:525px; width:100%;\"></div>            <script type=\"text/javascript\">                require([\"plotly\"], function(Plotly) {                    window.PLOTLYENV=window.PLOTLYENV || {};                                    if (document.getElementById(\"30fe5e38-cc6d-49ab-a9cd-2f23422559b3\")) {                    Plotly.newPlot(                        \"30fe5e38-cc6d-49ab-a9cd-2f23422559b3\",                        [{\"marker\":{\"color\":\"indianred\"},\"name\":\"Closing Price\",\"x\":[\"UNL \",\"BNT \",\"NESDO \",\"CGH \",\"SMFBS \",\"ICFCD83 \",\"GBD80\\u002f81 \",\"NIBD2082 \",\"NMBD2085 \",\"NIL \",\"SLBSL \",\"NIBD84 \",\"SDBD87 \",\"NBLD87 \",\"RURU \",\"SWBBL \",\"KBSH \",\"MLBS \",\"MMFDB \",\"RSDC \"],\"y\":[36299.9,13850.0,1866.0,1269.5,1166.0,1045.0,995.0,990.3,980.6,862.0,828.9,826.2,825.0,784.3,779.0,775.0,771.2,667.9,629.0,553.9,425.0,386.0,376.5,376.0,348.0,316.2,310.7,308.9,305.8,288.0,238.1,233.5,227.7,165.0,161.4,150.8,11.19,9.17,8.84,8.82,8.82,8.57,8.33,8.17,8.0,7.85,7.5,7.14,7.04],\"type\":\"bar\"},{\"marker\":{\"color\":\"lightsalmon\"},\"name\":\"Prev. Close\",\"x\":[\"UNL \",\"BNT \",\"NESDO \",\"CGH \",\"SMFBS \",\"ICFCD83 \",\"GBD80\\u002f81 \",\"NIBD2082 \",\"NMBD2085 \",\"NIL \",\"SLBSL \",\"NIBD84 \",\"SDBD87 \",\"NBLD87 \",\"RURU \",\"SWBBL \",\"KBSH \",\"MLBS \",\"MMFDB \",\"RSDC \"],\"y\":[35888.0,13525.0,1860.0,1268.0,1100.0,1040.0,990.0,971.0,961.4,855.0,820.0,810.0,815.0,769.0,778.0,767.0,701.1,663.0,616.9,550.0,424.0,376.8,376.0,375.0,341.9,310.0,304.7,305.0,303.0,284.0,227.0,222.0,227.0,164.5,161.1,148.0,11.07,9.1,8.83,8.5,8.33,8.25,8.3,7.91,7.9,7.78,7.48,7.0,7.0],\"type\":\"bar\"}],                        {\"template\":{\"data\":{\"histogram2dcontour\":[{\"type\":\"histogram2dcontour\",\"colorbar\":{\"outlinewidth\":0,\"ticks\":\"\"},\"colorscale\":[[0.0,\"#0d0887\"],[0.1111111111111111,\"#46039f\"],[0.2222222222222222,\"#7201a8\"],[0.3333333333333333,\"#9c179e\"],[0.4444444444444444,\"#bd3786\"],[0.5555555555555556,\"#d8576b\"],[0.6666666666666666,\"#ed7953\"],[0.7777777777777778,\"#fb9f3a\"],[0.8888888888888888,\"#fdca26\"],[1.0,\"#f0f921\"]]}],\"choropleth\":[{\"type\":\"choropleth\",\"colorbar\":{\"outlinewidth\":0,\"ticks\":\"\"}}],\"histogram2d\":[{\"type\":\"histogram2d\",\"colorbar\":{\"outlinewidth\":0,\"ticks\":\"\"},\"colorscale\":[[0.0,\"#0d0887\"],[0.1111111111111111,\"#46039f\"],[0.2222222222222222,\"#7201a8\"],[0.3333333333333333,\"#9c179e\"],[0.4444444444444444,\"#bd3786\"],[0.5555555555555556,\"#d8576b\"],[0.6666666666666666,\"#ed7953\"],[0.7777777777777778,\"#fb9f3a\"],[0.8888888888888888,\"#fdca26\"],[1.0,\"#f0f921\"]]}],\"heatmap\":[{\"type\":\"heatmap\",\"colorbar\":{\"outlinewidth\":0,\"ticks\":\"\"},\"colorscale\":[[0.0,\"#0d0887\"],[0.1111111111111111,\"#46039f\"],[0.2222222222222222,\"#7201a8\"],[0.3333333333333333,\"#9c179e\"],[0.4444444444444444,\"#bd3786\"],[0.5555555555555556,\"#d8576b\"],[0.6666666666666666,\"#ed7953\"],[0.7777777777777778,\"#fb9f3a\"],[0.8888888888888888,\"#fdca26\"],[1.0,\"#f0f921\"]]}],\"heatmapgl\":[{\"type\":\"heatmapgl\",\"colorbar\":{\"outlinewidth\":0,\"ticks\":\"\"},\"colorscale\":[[0.0,\"#0d0887\"],[0.1111111111111111,\"#46039f\"],[0.2222222222222222,\"#7201a8\"],[0.3333333333333333,\"#9c179e\"],[0.4444444444444444,\"#bd3786\"],[0.5555555555555556,\"#d8576b\"],[0.6666666666666666,\"#ed7953\"],[0.7777777777777778,\"#fb9f3a\"],[0.8888888888888888,\"#fdca26\"],[1.0,\"#f0f921\"]]}],\"contourcarpet\":[{\"type\":\"contourcarpet\",\"colorbar\":{\"outlinewidth\":0,\"ticks\":\"\"}}],\"contour\":[{\"type\":\"contour\",\"colorbar\":{\"outlinewidth\":0,\"ticks\":\"\"},\"colorscale\":[[0.0,\"#0d0887\"],[0.1111111111111111,\"#46039f\"],[0.2222222222222222,\"#7201a8\"],[0.3333333333333333,\"#9c179e\"],[0.4444444444444444,\"#bd3786\"],[0.5555555555555556,\"#d8576b\"],[0.6666666666666666,\"#ed7953\"],[0.7777777777777778,\"#fb9f3a\"],[0.8888888888888888,\"#fdca26\"],[1.0,\"#f0f921\"]]}],\"surface\":[{\"type\":\"surface\",\"colorbar\":{\"outlinewidth\":0,\"ticks\":\"\"},\"colorscale\":[[0.0,\"#0d0887\"],[0.1111111111111111,\"#46039f\"],[0.2222222222222222,\"#7201a8\"],[0.3333333333333333,\"#9c179e\"],[0.4444444444444444,\"#bd3786\"],[0.5555555555555556,\"#d8576b\"],[0.6666666666666666,\"#ed7953\"],[0.7777777777777778,\"#fb9f3a\"],[0.8888888888888888,\"#fdca26\"],[1.0,\"#f0f921\"]]}],\"mesh3d\":[{\"type\":\"mesh3d\",\"colorbar\":{\"outlinewidth\":0,\"ticks\":\"\"}}],\"scatter\":[{\"fillpattern\":{\"fillmode\":\"overlay\",\"size\":10,\"solidity\":0.2},\"type\":\"scatter\"}],\"parcoords\":[{\"type\":\"parcoords\",\"line\":{\"colorbar\":{\"outlinewidth\":0,\"ticks\":\"\"}}}],\"scatterpolargl\":[{\"type\":\"scatterpolargl\",\"marker\":{\"colorbar\":{\"outlinewidth\":0,\"ticks\":\"\"}}}],\"bar\":[{\"error_x\":{\"color\":\"#2a3f5f\"},\"error_y\":{\"color\":\"#2a3f5f\"},\"marker\":{\"line\":{\"color\":\"#E5ECF6\",\"width\":0.5},\"pattern\":{\"fillmode\":\"overlay\",\"size\":10,\"solidity\":0.2}},\"type\":\"bar\"}],\"scattergeo\":[{\"type\":\"scattergeo\",\"marker\":{\"colorbar\":{\"outlinewidth\":0,\"ticks\":\"\"}}}],\"scatterpolar\":[{\"type\":\"scatterpolar\",\"marker\":{\"colorbar\":{\"outlinewidth\":0,\"ticks\":\"\"}}}],\"histogram\":[{\"marker\":{\"pattern\":{\"fillmode\":\"overlay\",\"size\":10,\"solidity\":0.2}},\"type\":\"histogram\"}],\"scattergl\":[{\"type\":\"scattergl\",\"marker\":{\"colorbar\":{\"outlinewidth\":0,\"ticks\":\"\"}}}],\"scatter3d\":[{\"type\":\"scatter3d\",\"line\":{\"colorbar\":{\"outlinewidth\":0,\"ticks\":\"\"}},\"marker\":{\"colorbar\":{\"outlinewidth\":0,\"ticks\":\"\"}}}],\"scattermapbox\":[{\"type\":\"scattermapbox\",\"marker\":{\"colorbar\":{\"outlinewidth\":0,\"ticks\":\"\"}}}],\"scatterternary\":[{\"type\":\"scatterternary\",\"marker\":{\"colorbar\":{\"outlinewidth\":0,\"ticks\":\"\"}}}],\"scattercarpet\":[{\"type\":\"scattercarpet\",\"marker\":{\"colorbar\":{\"outlinewidth\":0,\"ticks\":\"\"}}}],\"carpet\":[{\"aaxis\":{\"endlinecolor\":\"#2a3f5f\",\"gridcolor\":\"white\",\"linecolor\":\"white\",\"minorgridcolor\":\"white\",\"startlinecolor\":\"#2a3f5f\"},\"baxis\":{\"endlinecolor\":\"#2a3f5f\",\"gridcolor\":\"white\",\"linecolor\":\"white\",\"minorgridcolor\":\"white\",\"startlinecolor\":\"#2a3f5f\"},\"type\":\"carpet\"}],\"table\":[{\"cells\":{\"fill\":{\"color\":\"#EBF0F8\"},\"line\":{\"color\":\"white\"}},\"header\":{\"fill\":{\"color\":\"#C8D4E3\"},\"line\":{\"color\":\"white\"}},\"type\":\"table\"}],\"barpolar\":[{\"marker\":{\"line\":{\"color\":\"#E5ECF6\",\"width\":0.5},\"pattern\":{\"fillmode\":\"overlay\",\"size\":10,\"solidity\":0.2}},\"type\":\"barpolar\"}],\"pie\":[{\"automargin\":true,\"type\":\"pie\"}]},\"layout\":{\"autotypenumbers\":\"strict\",\"colorway\":[\"#636efa\",\"#EF553B\",\"#00cc96\",\"#ab63fa\",\"#FFA15A\",\"#19d3f3\",\"#FF6692\",\"#B6E880\",\"#FF97FF\",\"#FECB52\"],\"font\":{\"color\":\"#2a3f5f\"},\"hovermode\":\"closest\",\"hoverlabel\":{\"align\":\"left\"},\"paper_bgcolor\":\"white\",\"plot_bgcolor\":\"#E5ECF6\",\"polar\":{\"bgcolor\":\"#E5ECF6\",\"angularaxis\":{\"gridcolor\":\"white\",\"linecolor\":\"white\",\"ticks\":\"\"},\"radialaxis\":{\"gridcolor\":\"white\",\"linecolor\":\"white\",\"ticks\":\"\"}},\"ternary\":{\"bgcolor\":\"#E5ECF6\",\"aaxis\":{\"gridcolor\":\"white\",\"linecolor\":\"white\",\"ticks\":\"\"},\"baxis\":{\"gridcolor\":\"white\",\"linecolor\":\"white\",\"ticks\":\"\"},\"caxis\":{\"gridcolor\":\"white\",\"linecolor\":\"white\",\"ticks\":\"\"}},\"coloraxis\":{\"colorbar\":{\"outlinewidth\":0,\"ticks\":\"\"}},\"colorscale\":{\"sequential\":[[0.0,\"#0d0887\"],[0.1111111111111111,\"#46039f\"],[0.2222222222222222,\"#7201a8\"],[0.3333333333333333,\"#9c179e\"],[0.4444444444444444,\"#bd3786\"],[0.5555555555555556,\"#d8576b\"],[0.6666666666666666,\"#ed7953\"],[0.7777777777777778,\"#fb9f3a\"],[0.8888888888888888,\"#fdca26\"],[1.0,\"#f0f921\"]],\"sequentialminus\":[[0.0,\"#0d0887\"],[0.1111111111111111,\"#46039f\"],[0.2222222222222222,\"#7201a8\"],[0.3333333333333333,\"#9c179e\"],[0.4444444444444444,\"#bd3786\"],[0.5555555555555556,\"#d8576b\"],[0.6666666666666666,\"#ed7953\"],[0.7777777777777778,\"#fb9f3a\"],[0.8888888888888888,\"#fdca26\"],[1.0,\"#f0f921\"]],\"diverging\":[[0,\"#8e0152\"],[0.1,\"#c51b7d\"],[0.2,\"#de77ae\"],[0.3,\"#f1b6da\"],[0.4,\"#fde0ef\"],[0.5,\"#f7f7f7\"],[0.6,\"#e6f5d0\"],[0.7,\"#b8e186\"],[0.8,\"#7fbc41\"],[0.9,\"#4d9221\"],[1,\"#276419\"]]},\"xaxis\":{\"gridcolor\":\"white\",\"linecolor\":\"white\",\"ticks\":\"\",\"title\":{\"standoff\":15},\"zerolinecolor\":\"white\",\"automargin\":true,\"zerolinewidth\":2},\"yaxis\":{\"gridcolor\":\"white\",\"linecolor\":\"white\",\"ticks\":\"\",\"title\":{\"standoff\":15},\"zerolinecolor\":\"white\",\"automargin\":true,\"zerolinewidth\":2},\"scene\":{\"xaxis\":{\"backgroundcolor\":\"#E5ECF6\",\"gridcolor\":\"white\",\"linecolor\":\"white\",\"showbackground\":true,\"ticks\":\"\",\"zerolinecolor\":\"white\",\"gridwidth\":2},\"yaxis\":{\"backgroundcolor\":\"#E5ECF6\",\"gridcolor\":\"white\",\"linecolor\":\"white\",\"showbackground\":true,\"ticks\":\"\",\"zerolinecolor\":\"white\",\"gridwidth\":2},\"zaxis\":{\"backgroundcolor\":\"#E5ECF6\",\"gridcolor\":\"white\",\"linecolor\":\"white\",\"showbackground\":true,\"ticks\":\"\",\"zerolinecolor\":\"white\",\"gridwidth\":2}},\"shapedefaults\":{\"line\":{\"color\":\"#2a3f5f\"}},\"annotationdefaults\":{\"arrowcolor\":\"#2a3f5f\",\"arrowhead\":0,\"arrowwidth\":1},\"geo\":{\"bgcolor\":\"white\",\"landcolor\":\"#E5ECF6\",\"subunitcolor\":\"white\",\"showland\":true,\"showlakes\":true,\"lakecolor\":\"white\"},\"title\":{\"x\":0.05},\"mapbox\":{\"style\":\"light\"}}},\"xaxis\":{\"tickangle\":-45},\"barmode\":\"group\"},                        {\"responsive\": true}                    ).then(function(){\n",
       "                            \n",
       "var gd = document.getElementById('30fe5e38-cc6d-49ab-a9cd-2f23422559b3');\n",
       "var x = new MutationObserver(function (mutations, observer) {{\n",
       "        var display = window.getComputedStyle(gd).display;\n",
       "        if (!display || display === 'none') {{\n",
       "            console.log([gd, 'removed!']);\n",
       "            Plotly.purge(gd);\n",
       "            observer.disconnect();\n",
       "        }}\n",
       "}});\n",
       "\n",
       "// Listen for the removal of the full notebook cells\n",
       "var notebookContainer = gd.closest('#notebook-container');\n",
       "if (notebookContainer) {{\n",
       "    x.observe(notebookContainer, {childList: true});\n",
       "}}\n",
       "\n",
       "// Listen for the clearing of the current output cell\n",
       "var outputEl = gd.closest('.output');\n",
       "if (outputEl) {{\n",
       "    x.observe(outputEl, {childList: true});\n",
       "}}\n",
       "\n",
       "                        })                };                });            </script>        </div>"
      ]
     },
     "metadata": {},
     "output_type": "display_data"
    }
   ],
   "source": [
    "import plotly.graph_objects as go\n",
    "\n",
    "fig = go.Figure(data=[\n",
    "    go.Bar(name='Closing Price', x=pricedf['Symbol'].iloc[0:20], y=pricedf['Closing Price'] , marker_color='indianred' ),\n",
    "    go.Bar(name='Prev. Close', x=pricedf['Symbol'].iloc[0:20], y=pricedf['Prev. Close'] , marker_color='lightsalmon'),\n",
    "    \n",
    "])\n",
    "# Change the bar mode\n",
    "fig.update_layout(barmode='group' , xaxis_tickangle=-45)\n",
    "fig.show()"
   ]
  },
  {
   "cell_type": "code",
   "execution_count": 138,
   "id": "1c57fc02",
   "metadata": {},
   "outputs": [
    {
     "data": {
      "application/vnd.plotly.v1+json": {
       "config": {
        "plotlyServerURL": "https://plot.ly"
       },
       "data": [
        {
         "marker": {
          "color": [
           "lightslategray",
           "lightslategray",
           "lightslategray",
           "lightslategray",
           "lightslategray",
           "lightslategray",
           "lightslategray",
           "lightslategray",
           "lightslategray",
           "crimson",
           "lightslategray",
           "lightslategray",
           "lightslategray",
           "lightslategray",
           "lightslategray",
           "lightslategray",
           "lightslategray",
           "lightslategray",
           "lightslategray",
           "lightslategray"
          ]
         },
         "name": "Closing Price",
         "type": "bar",
         "x": [
          "KBSH ",
          "SMFBS ",
          "CMF2 ",
          "PPL ",
          "USHEC ",
          "SEF ",
          "SIGS2 ",
          "SFEF ",
          "SPC ",
          "BNT ",
          "NMBD2085 ",
          "NIBD84 ",
          "NIBSF2 ",
          "RAWA ",
          "NIBD2082 ",
          "NBLD87 ",
          "EHPL ",
          "MMFDB ",
          "NIMBPO ",
          "KPCL "
         ],
         "y": [
          70.10000000000002,
          66,
          0.4900000000000002,
          11.5,
          11.099999999999994,
          0.3200000000000003,
          0.3200000000000003,
          0.2599999999999998,
          9.199999999999989,
          325,
          19.200000000000045,
          16.200000000000045,
          0.13999999999999968,
          6.199999999999989,
          19.299999999999955,
          15.299999999999955,
          6,
          12.100000000000023,
          2.8000000000000114,
          6.100000000000023,
          4,
          3.8999999999999773,
          0.09999999999999964,
          10,
          411.90000000000146,
          8.899999999999977,
          0.11999999999999922,
          8,
          2.8000000000000114,
          0.0699999999999994,
          7,
          0.07000000000000028,
          4.899999999999977,
          3.8999999999999773,
          0.040000000000000036,
          5,
          5,
          0.02999999999999936,
          6,
          0.6999999999999886,
          0.5,
          1,
          0.019999999999999574,
          1,
          0.30000000000001137,
          0.5,
          1,
          1.5,
          0.009999999999999787
         ]
        }
       ],
       "layout": {
        "barmode": "group",
        "template": {
         "data": {
          "bar": [
           {
            "error_x": {
             "color": "#2a3f5f"
            },
            "error_y": {
             "color": "#2a3f5f"
            },
            "marker": {
             "line": {
              "color": "#E5ECF6",
              "width": 0.5
             },
             "pattern": {
              "fillmode": "overlay",
              "size": 10,
              "solidity": 0.2
             }
            },
            "type": "bar"
           }
          ],
          "barpolar": [
           {
            "marker": {
             "line": {
              "color": "#E5ECF6",
              "width": 0.5
             },
             "pattern": {
              "fillmode": "overlay",
              "size": 10,
              "solidity": 0.2
             }
            },
            "type": "barpolar"
           }
          ],
          "carpet": [
           {
            "aaxis": {
             "endlinecolor": "#2a3f5f",
             "gridcolor": "white",
             "linecolor": "white",
             "minorgridcolor": "white",
             "startlinecolor": "#2a3f5f"
            },
            "baxis": {
             "endlinecolor": "#2a3f5f",
             "gridcolor": "white",
             "linecolor": "white",
             "minorgridcolor": "white",
             "startlinecolor": "#2a3f5f"
            },
            "type": "carpet"
           }
          ],
          "choropleth": [
           {
            "colorbar": {
             "outlinewidth": 0,
             "ticks": ""
            },
            "type": "choropleth"
           }
          ],
          "contour": [
           {
            "colorbar": {
             "outlinewidth": 0,
             "ticks": ""
            },
            "colorscale": [
             [
              0,
              "#0d0887"
             ],
             [
              0.1111111111111111,
              "#46039f"
             ],
             [
              0.2222222222222222,
              "#7201a8"
             ],
             [
              0.3333333333333333,
              "#9c179e"
             ],
             [
              0.4444444444444444,
              "#bd3786"
             ],
             [
              0.5555555555555556,
              "#d8576b"
             ],
             [
              0.6666666666666666,
              "#ed7953"
             ],
             [
              0.7777777777777778,
              "#fb9f3a"
             ],
             [
              0.8888888888888888,
              "#fdca26"
             ],
             [
              1,
              "#f0f921"
             ]
            ],
            "type": "contour"
           }
          ],
          "contourcarpet": [
           {
            "colorbar": {
             "outlinewidth": 0,
             "ticks": ""
            },
            "type": "contourcarpet"
           }
          ],
          "heatmap": [
           {
            "colorbar": {
             "outlinewidth": 0,
             "ticks": ""
            },
            "colorscale": [
             [
              0,
              "#0d0887"
             ],
             [
              0.1111111111111111,
              "#46039f"
             ],
             [
              0.2222222222222222,
              "#7201a8"
             ],
             [
              0.3333333333333333,
              "#9c179e"
             ],
             [
              0.4444444444444444,
              "#bd3786"
             ],
             [
              0.5555555555555556,
              "#d8576b"
             ],
             [
              0.6666666666666666,
              "#ed7953"
             ],
             [
              0.7777777777777778,
              "#fb9f3a"
             ],
             [
              0.8888888888888888,
              "#fdca26"
             ],
             [
              1,
              "#f0f921"
             ]
            ],
            "type": "heatmap"
           }
          ],
          "heatmapgl": [
           {
            "colorbar": {
             "outlinewidth": 0,
             "ticks": ""
            },
            "colorscale": [
             [
              0,
              "#0d0887"
             ],
             [
              0.1111111111111111,
              "#46039f"
             ],
             [
              0.2222222222222222,
              "#7201a8"
             ],
             [
              0.3333333333333333,
              "#9c179e"
             ],
             [
              0.4444444444444444,
              "#bd3786"
             ],
             [
              0.5555555555555556,
              "#d8576b"
             ],
             [
              0.6666666666666666,
              "#ed7953"
             ],
             [
              0.7777777777777778,
              "#fb9f3a"
             ],
             [
              0.8888888888888888,
              "#fdca26"
             ],
             [
              1,
              "#f0f921"
             ]
            ],
            "type": "heatmapgl"
           }
          ],
          "histogram": [
           {
            "marker": {
             "pattern": {
              "fillmode": "overlay",
              "size": 10,
              "solidity": 0.2
             }
            },
            "type": "histogram"
           }
          ],
          "histogram2d": [
           {
            "colorbar": {
             "outlinewidth": 0,
             "ticks": ""
            },
            "colorscale": [
             [
              0,
              "#0d0887"
             ],
             [
              0.1111111111111111,
              "#46039f"
             ],
             [
              0.2222222222222222,
              "#7201a8"
             ],
             [
              0.3333333333333333,
              "#9c179e"
             ],
             [
              0.4444444444444444,
              "#bd3786"
             ],
             [
              0.5555555555555556,
              "#d8576b"
             ],
             [
              0.6666666666666666,
              "#ed7953"
             ],
             [
              0.7777777777777778,
              "#fb9f3a"
             ],
             [
              0.8888888888888888,
              "#fdca26"
             ],
             [
              1,
              "#f0f921"
             ]
            ],
            "type": "histogram2d"
           }
          ],
          "histogram2dcontour": [
           {
            "colorbar": {
             "outlinewidth": 0,
             "ticks": ""
            },
            "colorscale": [
             [
              0,
              "#0d0887"
             ],
             [
              0.1111111111111111,
              "#46039f"
             ],
             [
              0.2222222222222222,
              "#7201a8"
             ],
             [
              0.3333333333333333,
              "#9c179e"
             ],
             [
              0.4444444444444444,
              "#bd3786"
             ],
             [
              0.5555555555555556,
              "#d8576b"
             ],
             [
              0.6666666666666666,
              "#ed7953"
             ],
             [
              0.7777777777777778,
              "#fb9f3a"
             ],
             [
              0.8888888888888888,
              "#fdca26"
             ],
             [
              1,
              "#f0f921"
             ]
            ],
            "type": "histogram2dcontour"
           }
          ],
          "mesh3d": [
           {
            "colorbar": {
             "outlinewidth": 0,
             "ticks": ""
            },
            "type": "mesh3d"
           }
          ],
          "parcoords": [
           {
            "line": {
             "colorbar": {
              "outlinewidth": 0,
              "ticks": ""
             }
            },
            "type": "parcoords"
           }
          ],
          "pie": [
           {
            "automargin": true,
            "type": "pie"
           }
          ],
          "scatter": [
           {
            "fillpattern": {
             "fillmode": "overlay",
             "size": 10,
             "solidity": 0.2
            },
            "type": "scatter"
           }
          ],
          "scatter3d": [
           {
            "line": {
             "colorbar": {
              "outlinewidth": 0,
              "ticks": ""
             }
            },
            "marker": {
             "colorbar": {
              "outlinewidth": 0,
              "ticks": ""
             }
            },
            "type": "scatter3d"
           }
          ],
          "scattercarpet": [
           {
            "marker": {
             "colorbar": {
              "outlinewidth": 0,
              "ticks": ""
             }
            },
            "type": "scattercarpet"
           }
          ],
          "scattergeo": [
           {
            "marker": {
             "colorbar": {
              "outlinewidth": 0,
              "ticks": ""
             }
            },
            "type": "scattergeo"
           }
          ],
          "scattergl": [
           {
            "marker": {
             "colorbar": {
              "outlinewidth": 0,
              "ticks": ""
             }
            },
            "type": "scattergl"
           }
          ],
          "scattermapbox": [
           {
            "marker": {
             "colorbar": {
              "outlinewidth": 0,
              "ticks": ""
             }
            },
            "type": "scattermapbox"
           }
          ],
          "scatterpolar": [
           {
            "marker": {
             "colorbar": {
              "outlinewidth": 0,
              "ticks": ""
             }
            },
            "type": "scatterpolar"
           }
          ],
          "scatterpolargl": [
           {
            "marker": {
             "colorbar": {
              "outlinewidth": 0,
              "ticks": ""
             }
            },
            "type": "scatterpolargl"
           }
          ],
          "scatterternary": [
           {
            "marker": {
             "colorbar": {
              "outlinewidth": 0,
              "ticks": ""
             }
            },
            "type": "scatterternary"
           }
          ],
          "surface": [
           {
            "colorbar": {
             "outlinewidth": 0,
             "ticks": ""
            },
            "colorscale": [
             [
              0,
              "#0d0887"
             ],
             [
              0.1111111111111111,
              "#46039f"
             ],
             [
              0.2222222222222222,
              "#7201a8"
             ],
             [
              0.3333333333333333,
              "#9c179e"
             ],
             [
              0.4444444444444444,
              "#bd3786"
             ],
             [
              0.5555555555555556,
              "#d8576b"
             ],
             [
              0.6666666666666666,
              "#ed7953"
             ],
             [
              0.7777777777777778,
              "#fb9f3a"
             ],
             [
              0.8888888888888888,
              "#fdca26"
             ],
             [
              1,
              "#f0f921"
             ]
            ],
            "type": "surface"
           }
          ],
          "table": [
           {
            "cells": {
             "fill": {
              "color": "#EBF0F8"
             },
             "line": {
              "color": "white"
             }
            },
            "header": {
             "fill": {
              "color": "#C8D4E3"
             },
             "line": {
              "color": "white"
             }
            },
            "type": "table"
           }
          ]
         },
         "layout": {
          "annotationdefaults": {
           "arrowcolor": "#2a3f5f",
           "arrowhead": 0,
           "arrowwidth": 1
          },
          "autotypenumbers": "strict",
          "coloraxis": {
           "colorbar": {
            "outlinewidth": 0,
            "ticks": ""
           }
          },
          "colorscale": {
           "diverging": [
            [
             0,
             "#8e0152"
            ],
            [
             0.1,
             "#c51b7d"
            ],
            [
             0.2,
             "#de77ae"
            ],
            [
             0.3,
             "#f1b6da"
            ],
            [
             0.4,
             "#fde0ef"
            ],
            [
             0.5,
             "#f7f7f7"
            ],
            [
             0.6,
             "#e6f5d0"
            ],
            [
             0.7,
             "#b8e186"
            ],
            [
             0.8,
             "#7fbc41"
            ],
            [
             0.9,
             "#4d9221"
            ],
            [
             1,
             "#276419"
            ]
           ],
           "sequential": [
            [
             0,
             "#0d0887"
            ],
            [
             0.1111111111111111,
             "#46039f"
            ],
            [
             0.2222222222222222,
             "#7201a8"
            ],
            [
             0.3333333333333333,
             "#9c179e"
            ],
            [
             0.4444444444444444,
             "#bd3786"
            ],
            [
             0.5555555555555556,
             "#d8576b"
            ],
            [
             0.6666666666666666,
             "#ed7953"
            ],
            [
             0.7777777777777778,
             "#fb9f3a"
            ],
            [
             0.8888888888888888,
             "#fdca26"
            ],
            [
             1,
             "#f0f921"
            ]
           ],
           "sequentialminus": [
            [
             0,
             "#0d0887"
            ],
            [
             0.1111111111111111,
             "#46039f"
            ],
            [
             0.2222222222222222,
             "#7201a8"
            ],
            [
             0.3333333333333333,
             "#9c179e"
            ],
            [
             0.4444444444444444,
             "#bd3786"
            ],
            [
             0.5555555555555556,
             "#d8576b"
            ],
            [
             0.6666666666666666,
             "#ed7953"
            ],
            [
             0.7777777777777778,
             "#fb9f3a"
            ],
            [
             0.8888888888888888,
             "#fdca26"
            ],
            [
             1,
             "#f0f921"
            ]
           ]
          },
          "colorway": [
           "#636efa",
           "#EF553B",
           "#00cc96",
           "#ab63fa",
           "#FFA15A",
           "#19d3f3",
           "#FF6692",
           "#B6E880",
           "#FF97FF",
           "#FECB52"
          ],
          "font": {
           "color": "#2a3f5f"
          },
          "geo": {
           "bgcolor": "white",
           "lakecolor": "white",
           "landcolor": "#E5ECF6",
           "showlakes": true,
           "showland": true,
           "subunitcolor": "white"
          },
          "hoverlabel": {
           "align": "left"
          },
          "hovermode": "closest",
          "mapbox": {
           "style": "light"
          },
          "paper_bgcolor": "white",
          "plot_bgcolor": "#E5ECF6",
          "polar": {
           "angularaxis": {
            "gridcolor": "white",
            "linecolor": "white",
            "ticks": ""
           },
           "bgcolor": "#E5ECF6",
           "radialaxis": {
            "gridcolor": "white",
            "linecolor": "white",
            "ticks": ""
           }
          },
          "scene": {
           "xaxis": {
            "backgroundcolor": "#E5ECF6",
            "gridcolor": "white",
            "gridwidth": 2,
            "linecolor": "white",
            "showbackground": true,
            "ticks": "",
            "zerolinecolor": "white"
           },
           "yaxis": {
            "backgroundcolor": "#E5ECF6",
            "gridcolor": "white",
            "gridwidth": 2,
            "linecolor": "white",
            "showbackground": true,
            "ticks": "",
            "zerolinecolor": "white"
           },
           "zaxis": {
            "backgroundcolor": "#E5ECF6",
            "gridcolor": "white",
            "gridwidth": 2,
            "linecolor": "white",
            "showbackground": true,
            "ticks": "",
            "zerolinecolor": "white"
           }
          },
          "shapedefaults": {
           "line": {
            "color": "#2a3f5f"
           }
          },
          "ternary": {
           "aaxis": {
            "gridcolor": "white",
            "linecolor": "white",
            "ticks": ""
           },
           "baxis": {
            "gridcolor": "white",
            "linecolor": "white",
            "ticks": ""
           },
           "bgcolor": "#E5ECF6",
           "caxis": {
            "gridcolor": "white",
            "linecolor": "white",
            "ticks": ""
           }
          },
          "title": {
           "x": 0.05
          },
          "xaxis": {
           "automargin": true,
           "gridcolor": "white",
           "linecolor": "white",
           "ticks": "",
           "title": {
            "standoff": 15
           },
           "zerolinecolor": "white",
           "zerolinewidth": 2
          },
          "yaxis": {
           "automargin": true,
           "gridcolor": "white",
           "linecolor": "white",
           "ticks": "",
           "title": {
            "standoff": 15
           },
           "zerolinecolor": "white",
           "zerolinewidth": 2
          }
         }
        },
        "xaxis": {
         "tickangle": -45
        }
       }
      },
      "text/html": [
       "<div>                            <div id=\"73d7b49b-038b-48de-a39b-57ddc7c7883c\" class=\"plotly-graph-div\" style=\"height:525px; width:100%;\"></div>            <script type=\"text/javascript\">                require([\"plotly\"], function(Plotly) {                    window.PLOTLYENV=window.PLOTLYENV || {};                                    if (document.getElementById(\"73d7b49b-038b-48de-a39b-57ddc7c7883c\")) {                    Plotly.newPlot(                        \"73d7b49b-038b-48de-a39b-57ddc7c7883c\",                        [{\"marker\":{\"color\":[\"lightslategray\",\"lightslategray\",\"lightslategray\",\"lightslategray\",\"lightslategray\",\"lightslategray\",\"lightslategray\",\"lightslategray\",\"lightslategray\",\"crimson\",\"lightslategray\",\"lightslategray\",\"lightslategray\",\"lightslategray\",\"lightslategray\",\"lightslategray\",\"lightslategray\",\"lightslategray\",\"lightslategray\",\"lightslategray\"]},\"name\":\"Closing Price\",\"x\":[\"KBSH \",\"SMFBS \",\"CMF2 \",\"PPL \",\"USHEC \",\"SEF \",\"SIGS2 \",\"SFEF \",\"SPC \",\"BNT \",\"NMBD2085 \",\"NIBD84 \",\"NIBSF2 \",\"RAWA \",\"NIBD2082 \",\"NBLD87 \",\"EHPL \",\"MMFDB \",\"NIMBPO \",\"KPCL \"],\"y\":[70.10000000000002,66.0,0.4900000000000002,11.5,11.099999999999994,0.3200000000000003,0.3200000000000003,0.2599999999999998,9.199999999999989,325.0,19.200000000000045,16.200000000000045,0.13999999999999968,6.199999999999989,19.299999999999955,15.299999999999955,6.0,12.100000000000023,2.8000000000000114,6.100000000000023,4.0,3.8999999999999773,0.09999999999999964,10.0,411.90000000000146,8.899999999999977,0.11999999999999922,8.0,2.8000000000000114,0.0699999999999994,7.0,0.07000000000000028,4.899999999999977,3.8999999999999773,0.040000000000000036,5.0,5.0,0.02999999999999936,6.0,0.6999999999999886,0.5,1.0,0.019999999999999574,1.0,0.30000000000001137,0.5,1.0,1.5,0.009999999999999787],\"type\":\"bar\"}],                        {\"template\":{\"data\":{\"histogram2dcontour\":[{\"type\":\"histogram2dcontour\",\"colorbar\":{\"outlinewidth\":0,\"ticks\":\"\"},\"colorscale\":[[0.0,\"#0d0887\"],[0.1111111111111111,\"#46039f\"],[0.2222222222222222,\"#7201a8\"],[0.3333333333333333,\"#9c179e\"],[0.4444444444444444,\"#bd3786\"],[0.5555555555555556,\"#d8576b\"],[0.6666666666666666,\"#ed7953\"],[0.7777777777777778,\"#fb9f3a\"],[0.8888888888888888,\"#fdca26\"],[1.0,\"#f0f921\"]]}],\"choropleth\":[{\"type\":\"choropleth\",\"colorbar\":{\"outlinewidth\":0,\"ticks\":\"\"}}],\"histogram2d\":[{\"type\":\"histogram2d\",\"colorbar\":{\"outlinewidth\":0,\"ticks\":\"\"},\"colorscale\":[[0.0,\"#0d0887\"],[0.1111111111111111,\"#46039f\"],[0.2222222222222222,\"#7201a8\"],[0.3333333333333333,\"#9c179e\"],[0.4444444444444444,\"#bd3786\"],[0.5555555555555556,\"#d8576b\"],[0.6666666666666666,\"#ed7953\"],[0.7777777777777778,\"#fb9f3a\"],[0.8888888888888888,\"#fdca26\"],[1.0,\"#f0f921\"]]}],\"heatmap\":[{\"type\":\"heatmap\",\"colorbar\":{\"outlinewidth\":0,\"ticks\":\"\"},\"colorscale\":[[0.0,\"#0d0887\"],[0.1111111111111111,\"#46039f\"],[0.2222222222222222,\"#7201a8\"],[0.3333333333333333,\"#9c179e\"],[0.4444444444444444,\"#bd3786\"],[0.5555555555555556,\"#d8576b\"],[0.6666666666666666,\"#ed7953\"],[0.7777777777777778,\"#fb9f3a\"],[0.8888888888888888,\"#fdca26\"],[1.0,\"#f0f921\"]]}],\"heatmapgl\":[{\"type\":\"heatmapgl\",\"colorbar\":{\"outlinewidth\":0,\"ticks\":\"\"},\"colorscale\":[[0.0,\"#0d0887\"],[0.1111111111111111,\"#46039f\"],[0.2222222222222222,\"#7201a8\"],[0.3333333333333333,\"#9c179e\"],[0.4444444444444444,\"#bd3786\"],[0.5555555555555556,\"#d8576b\"],[0.6666666666666666,\"#ed7953\"],[0.7777777777777778,\"#fb9f3a\"],[0.8888888888888888,\"#fdca26\"],[1.0,\"#f0f921\"]]}],\"contourcarpet\":[{\"type\":\"contourcarpet\",\"colorbar\":{\"outlinewidth\":0,\"ticks\":\"\"}}],\"contour\":[{\"type\":\"contour\",\"colorbar\":{\"outlinewidth\":0,\"ticks\":\"\"},\"colorscale\":[[0.0,\"#0d0887\"],[0.1111111111111111,\"#46039f\"],[0.2222222222222222,\"#7201a8\"],[0.3333333333333333,\"#9c179e\"],[0.4444444444444444,\"#bd3786\"],[0.5555555555555556,\"#d8576b\"],[0.6666666666666666,\"#ed7953\"],[0.7777777777777778,\"#fb9f3a\"],[0.8888888888888888,\"#fdca26\"],[1.0,\"#f0f921\"]]}],\"surface\":[{\"type\":\"surface\",\"colorbar\":{\"outlinewidth\":0,\"ticks\":\"\"},\"colorscale\":[[0.0,\"#0d0887\"],[0.1111111111111111,\"#46039f\"],[0.2222222222222222,\"#7201a8\"],[0.3333333333333333,\"#9c179e\"],[0.4444444444444444,\"#bd3786\"],[0.5555555555555556,\"#d8576b\"],[0.6666666666666666,\"#ed7953\"],[0.7777777777777778,\"#fb9f3a\"],[0.8888888888888888,\"#fdca26\"],[1.0,\"#f0f921\"]]}],\"mesh3d\":[{\"type\":\"mesh3d\",\"colorbar\":{\"outlinewidth\":0,\"ticks\":\"\"}}],\"scatter\":[{\"fillpattern\":{\"fillmode\":\"overlay\",\"size\":10,\"solidity\":0.2},\"type\":\"scatter\"}],\"parcoords\":[{\"type\":\"parcoords\",\"line\":{\"colorbar\":{\"outlinewidth\":0,\"ticks\":\"\"}}}],\"scatterpolargl\":[{\"type\":\"scatterpolargl\",\"marker\":{\"colorbar\":{\"outlinewidth\":0,\"ticks\":\"\"}}}],\"bar\":[{\"error_x\":{\"color\":\"#2a3f5f\"},\"error_y\":{\"color\":\"#2a3f5f\"},\"marker\":{\"line\":{\"color\":\"#E5ECF6\",\"width\":0.5},\"pattern\":{\"fillmode\":\"overlay\",\"size\":10,\"solidity\":0.2}},\"type\":\"bar\"}],\"scattergeo\":[{\"type\":\"scattergeo\",\"marker\":{\"colorbar\":{\"outlinewidth\":0,\"ticks\":\"\"}}}],\"scatterpolar\":[{\"type\":\"scatterpolar\",\"marker\":{\"colorbar\":{\"outlinewidth\":0,\"ticks\":\"\"}}}],\"histogram\":[{\"marker\":{\"pattern\":{\"fillmode\":\"overlay\",\"size\":10,\"solidity\":0.2}},\"type\":\"histogram\"}],\"scattergl\":[{\"type\":\"scattergl\",\"marker\":{\"colorbar\":{\"outlinewidth\":0,\"ticks\":\"\"}}}],\"scatter3d\":[{\"type\":\"scatter3d\",\"line\":{\"colorbar\":{\"outlinewidth\":0,\"ticks\":\"\"}},\"marker\":{\"colorbar\":{\"outlinewidth\":0,\"ticks\":\"\"}}}],\"scattermapbox\":[{\"type\":\"scattermapbox\",\"marker\":{\"colorbar\":{\"outlinewidth\":0,\"ticks\":\"\"}}}],\"scatterternary\":[{\"type\":\"scatterternary\",\"marker\":{\"colorbar\":{\"outlinewidth\":0,\"ticks\":\"\"}}}],\"scattercarpet\":[{\"type\":\"scattercarpet\",\"marker\":{\"colorbar\":{\"outlinewidth\":0,\"ticks\":\"\"}}}],\"carpet\":[{\"aaxis\":{\"endlinecolor\":\"#2a3f5f\",\"gridcolor\":\"white\",\"linecolor\":\"white\",\"minorgridcolor\":\"white\",\"startlinecolor\":\"#2a3f5f\"},\"baxis\":{\"endlinecolor\":\"#2a3f5f\",\"gridcolor\":\"white\",\"linecolor\":\"white\",\"minorgridcolor\":\"white\",\"startlinecolor\":\"#2a3f5f\"},\"type\":\"carpet\"}],\"table\":[{\"cells\":{\"fill\":{\"color\":\"#EBF0F8\"},\"line\":{\"color\":\"white\"}},\"header\":{\"fill\":{\"color\":\"#C8D4E3\"},\"line\":{\"color\":\"white\"}},\"type\":\"table\"}],\"barpolar\":[{\"marker\":{\"line\":{\"color\":\"#E5ECF6\",\"width\":0.5},\"pattern\":{\"fillmode\":\"overlay\",\"size\":10,\"solidity\":0.2}},\"type\":\"barpolar\"}],\"pie\":[{\"automargin\":true,\"type\":\"pie\"}]},\"layout\":{\"autotypenumbers\":\"strict\",\"colorway\":[\"#636efa\",\"#EF553B\",\"#00cc96\",\"#ab63fa\",\"#FFA15A\",\"#19d3f3\",\"#FF6692\",\"#B6E880\",\"#FF97FF\",\"#FECB52\"],\"font\":{\"color\":\"#2a3f5f\"},\"hovermode\":\"closest\",\"hoverlabel\":{\"align\":\"left\"},\"paper_bgcolor\":\"white\",\"plot_bgcolor\":\"#E5ECF6\",\"polar\":{\"bgcolor\":\"#E5ECF6\",\"angularaxis\":{\"gridcolor\":\"white\",\"linecolor\":\"white\",\"ticks\":\"\"},\"radialaxis\":{\"gridcolor\":\"white\",\"linecolor\":\"white\",\"ticks\":\"\"}},\"ternary\":{\"bgcolor\":\"#E5ECF6\",\"aaxis\":{\"gridcolor\":\"white\",\"linecolor\":\"white\",\"ticks\":\"\"},\"baxis\":{\"gridcolor\":\"white\",\"linecolor\":\"white\",\"ticks\":\"\"},\"caxis\":{\"gridcolor\":\"white\",\"linecolor\":\"white\",\"ticks\":\"\"}},\"coloraxis\":{\"colorbar\":{\"outlinewidth\":0,\"ticks\":\"\"}},\"colorscale\":{\"sequential\":[[0.0,\"#0d0887\"],[0.1111111111111111,\"#46039f\"],[0.2222222222222222,\"#7201a8\"],[0.3333333333333333,\"#9c179e\"],[0.4444444444444444,\"#bd3786\"],[0.5555555555555556,\"#d8576b\"],[0.6666666666666666,\"#ed7953\"],[0.7777777777777778,\"#fb9f3a\"],[0.8888888888888888,\"#fdca26\"],[1.0,\"#f0f921\"]],\"sequentialminus\":[[0.0,\"#0d0887\"],[0.1111111111111111,\"#46039f\"],[0.2222222222222222,\"#7201a8\"],[0.3333333333333333,\"#9c179e\"],[0.4444444444444444,\"#bd3786\"],[0.5555555555555556,\"#d8576b\"],[0.6666666666666666,\"#ed7953\"],[0.7777777777777778,\"#fb9f3a\"],[0.8888888888888888,\"#fdca26\"],[1.0,\"#f0f921\"]],\"diverging\":[[0,\"#8e0152\"],[0.1,\"#c51b7d\"],[0.2,\"#de77ae\"],[0.3,\"#f1b6da\"],[0.4,\"#fde0ef\"],[0.5,\"#f7f7f7\"],[0.6,\"#e6f5d0\"],[0.7,\"#b8e186\"],[0.8,\"#7fbc41\"],[0.9,\"#4d9221\"],[1,\"#276419\"]]},\"xaxis\":{\"gridcolor\":\"white\",\"linecolor\":\"white\",\"ticks\":\"\",\"title\":{\"standoff\":15},\"zerolinecolor\":\"white\",\"automargin\":true,\"zerolinewidth\":2},\"yaxis\":{\"gridcolor\":\"white\",\"linecolor\":\"white\",\"ticks\":\"\",\"title\":{\"standoff\":15},\"zerolinecolor\":\"white\",\"automargin\":true,\"zerolinewidth\":2},\"scene\":{\"xaxis\":{\"backgroundcolor\":\"#E5ECF6\",\"gridcolor\":\"white\",\"linecolor\":\"white\",\"showbackground\":true,\"ticks\":\"\",\"zerolinecolor\":\"white\",\"gridwidth\":2},\"yaxis\":{\"backgroundcolor\":\"#E5ECF6\",\"gridcolor\":\"white\",\"linecolor\":\"white\",\"showbackground\":true,\"ticks\":\"\",\"zerolinecolor\":\"white\",\"gridwidth\":2},\"zaxis\":{\"backgroundcolor\":\"#E5ECF6\",\"gridcolor\":\"white\",\"linecolor\":\"white\",\"showbackground\":true,\"ticks\":\"\",\"zerolinecolor\":\"white\",\"gridwidth\":2}},\"shapedefaults\":{\"line\":{\"color\":\"#2a3f5f\"}},\"annotationdefaults\":{\"arrowcolor\":\"#2a3f5f\",\"arrowhead\":0,\"arrowwidth\":1},\"geo\":{\"bgcolor\":\"white\",\"landcolor\":\"#E5ECF6\",\"subunitcolor\":\"white\",\"showland\":true,\"showlakes\":true,\"lakecolor\":\"white\"},\"title\":{\"x\":0.05},\"mapbox\":{\"style\":\"light\"}}},\"xaxis\":{\"tickangle\":-45},\"barmode\":\"group\"},                        {\"responsive\": true}                    ).then(function(){\n",
       "                            \n",
       "var gd = document.getElementById('73d7b49b-038b-48de-a39b-57ddc7c7883c');\n",
       "var x = new MutationObserver(function (mutations, observer) {{\n",
       "        var display = window.getComputedStyle(gd).display;\n",
       "        if (!display || display === 'none') {{\n",
       "            console.log([gd, 'removed!']);\n",
       "            Plotly.purge(gd);\n",
       "            observer.disconnect();\n",
       "        }}\n",
       "}});\n",
       "\n",
       "// Listen for the removal of the full notebook cells\n",
       "var notebookContainer = gd.closest('#notebook-container');\n",
       "if (notebookContainer) {{\n",
       "    x.observe(notebookContainer, {childList: true});\n",
       "}}\n",
       "\n",
       "// Listen for the clearing of the current output cell\n",
       "var outputEl = gd.closest('.output');\n",
       "if (outputEl) {{\n",
       "    x.observe(outputEl, {childList: true});\n",
       "}}\n",
       "\n",
       "                        })                };                });            </script>        </div>"
      ]
     },
     "metadata": {},
     "output_type": "display_data"
    }
   ],
   "source": [
    "import plotly.graph_objects as go\n",
    "\n",
    "colors = ['lightslategray',] * 20\n",
    "colors[9] = 'crimson'\n",
    "\n",
    "fig = go.Figure(data=[\n",
    "    go.Bar(name='Closing Price', x=df['Symbol'].iloc[0:20], y=df['Closing Price'] - df['Prev. Close'] , marker_color=colors),\n",
    "])\n",
    "# Change the bar mode\n",
    "fig.update_layout(barmode='group' , xaxis_tickangle=-45 , )\n",
    "fig.show()"
   ]
  },
  {
   "cell_type": "code",
   "execution_count": 144,
   "id": "851bd2f1",
   "metadata": {},
   "outputs": [
    {
     "data": {
      "application/vnd.plotly.v1+json": {
       "config": {
        "plotlyServerURL": "https://plot.ly"
       },
       "data": [
        {
         "domain": {
          "x": [
           0,
           1
          ],
          "y": [
           0,
           1
          ]
         },
         "hole": 0.3,
         "hovertemplate": "Symbol=%{label}<br>Volume=%{value}<extra></extra>",
         "labels": [
          "KBSH ",
          "SMFBS ",
          "CMF2 ",
          "PPL ",
          "USHEC ",
          "SEF ",
          "SIGS2 ",
          "SFEF ",
          "SPC ",
          "BNT ",
          "NMBD2085 ",
          "NIBD84 ",
          "NIBSF2 ",
          "RAWA ",
          "NIBD2082 ",
          "NBLD87 ",
          "EHPL ",
          "MMFDB ",
          "NIMBPO ",
          "KPCL ",
          "UHEWA ",
          "MPFL ",
          "SAGF ",
          "SDBD87 ",
          "UNL ",
          "SLBSL ",
          "NMBHF1 ",
          "SWBBL ",
          "SADBL ",
          "NIBLGF ",
          "NIL ",
          "NIBLPF ",
          "MLBS ",
          "RSDC ",
          "MMF1 ",
          "GBD80/81 ",
          "ICFCD83 ",
          "LEMF ",
          "NESDO ",
          "SHEL ",
          "UNHPL ",
          "NABBC ",
          "SBCF ",
          "BHPL ",
          "AKJCL ",
          "GBBL ",
          "RURU ",
          "CGH ",
          "NSIF2 "
         ],
         "legendgroup": "",
         "name": "",
         "showlegend": true,
         "textinfo": "percent+label",
         "textposition": "inside",
         "type": "pie",
         "values": [
          2509,
          30,
          98486,
          5617,
          1510,
          66300,
          146970,
          1700,
          750,
          60,
          49,
          25,
          24710,
          9355,
          140,
          20,
          740,
          869,
          1020,
          764,
          7600,
          4305,
          1100,
          125,
          60,
          239,
          932,
          11972,
          6048,
          830,
          8191,
          6438,
          370,
          2315,
          12800,
          13,
          90,
          18587,
          1505,
          1820,
          12633,
          1713,
          12600,
          1073,
          13016,
          14863,
          253,
          4739,
          1420
         ]
        }
       ],
       "layout": {
        "legend": {
         "tracegroupgap": 0
        },
        "template": {
         "data": {
          "bar": [
           {
            "error_x": {
             "color": "#2a3f5f"
            },
            "error_y": {
             "color": "#2a3f5f"
            },
            "marker": {
             "line": {
              "color": "#E5ECF6",
              "width": 0.5
             },
             "pattern": {
              "fillmode": "overlay",
              "size": 10,
              "solidity": 0.2
             }
            },
            "type": "bar"
           }
          ],
          "barpolar": [
           {
            "marker": {
             "line": {
              "color": "#E5ECF6",
              "width": 0.5
             },
             "pattern": {
              "fillmode": "overlay",
              "size": 10,
              "solidity": 0.2
             }
            },
            "type": "barpolar"
           }
          ],
          "carpet": [
           {
            "aaxis": {
             "endlinecolor": "#2a3f5f",
             "gridcolor": "white",
             "linecolor": "white",
             "minorgridcolor": "white",
             "startlinecolor": "#2a3f5f"
            },
            "baxis": {
             "endlinecolor": "#2a3f5f",
             "gridcolor": "white",
             "linecolor": "white",
             "minorgridcolor": "white",
             "startlinecolor": "#2a3f5f"
            },
            "type": "carpet"
           }
          ],
          "choropleth": [
           {
            "colorbar": {
             "outlinewidth": 0,
             "ticks": ""
            },
            "type": "choropleth"
           }
          ],
          "contour": [
           {
            "colorbar": {
             "outlinewidth": 0,
             "ticks": ""
            },
            "colorscale": [
             [
              0,
              "#0d0887"
             ],
             [
              0.1111111111111111,
              "#46039f"
             ],
             [
              0.2222222222222222,
              "#7201a8"
             ],
             [
              0.3333333333333333,
              "#9c179e"
             ],
             [
              0.4444444444444444,
              "#bd3786"
             ],
             [
              0.5555555555555556,
              "#d8576b"
             ],
             [
              0.6666666666666666,
              "#ed7953"
             ],
             [
              0.7777777777777778,
              "#fb9f3a"
             ],
             [
              0.8888888888888888,
              "#fdca26"
             ],
             [
              1,
              "#f0f921"
             ]
            ],
            "type": "contour"
           }
          ],
          "contourcarpet": [
           {
            "colorbar": {
             "outlinewidth": 0,
             "ticks": ""
            },
            "type": "contourcarpet"
           }
          ],
          "heatmap": [
           {
            "colorbar": {
             "outlinewidth": 0,
             "ticks": ""
            },
            "colorscale": [
             [
              0,
              "#0d0887"
             ],
             [
              0.1111111111111111,
              "#46039f"
             ],
             [
              0.2222222222222222,
              "#7201a8"
             ],
             [
              0.3333333333333333,
              "#9c179e"
             ],
             [
              0.4444444444444444,
              "#bd3786"
             ],
             [
              0.5555555555555556,
              "#d8576b"
             ],
             [
              0.6666666666666666,
              "#ed7953"
             ],
             [
              0.7777777777777778,
              "#fb9f3a"
             ],
             [
              0.8888888888888888,
              "#fdca26"
             ],
             [
              1,
              "#f0f921"
             ]
            ],
            "type": "heatmap"
           }
          ],
          "heatmapgl": [
           {
            "colorbar": {
             "outlinewidth": 0,
             "ticks": ""
            },
            "colorscale": [
             [
              0,
              "#0d0887"
             ],
             [
              0.1111111111111111,
              "#46039f"
             ],
             [
              0.2222222222222222,
              "#7201a8"
             ],
             [
              0.3333333333333333,
              "#9c179e"
             ],
             [
              0.4444444444444444,
              "#bd3786"
             ],
             [
              0.5555555555555556,
              "#d8576b"
             ],
             [
              0.6666666666666666,
              "#ed7953"
             ],
             [
              0.7777777777777778,
              "#fb9f3a"
             ],
             [
              0.8888888888888888,
              "#fdca26"
             ],
             [
              1,
              "#f0f921"
             ]
            ],
            "type": "heatmapgl"
           }
          ],
          "histogram": [
           {
            "marker": {
             "pattern": {
              "fillmode": "overlay",
              "size": 10,
              "solidity": 0.2
             }
            },
            "type": "histogram"
           }
          ],
          "histogram2d": [
           {
            "colorbar": {
             "outlinewidth": 0,
             "ticks": ""
            },
            "colorscale": [
             [
              0,
              "#0d0887"
             ],
             [
              0.1111111111111111,
              "#46039f"
             ],
             [
              0.2222222222222222,
              "#7201a8"
             ],
             [
              0.3333333333333333,
              "#9c179e"
             ],
             [
              0.4444444444444444,
              "#bd3786"
             ],
             [
              0.5555555555555556,
              "#d8576b"
             ],
             [
              0.6666666666666666,
              "#ed7953"
             ],
             [
              0.7777777777777778,
              "#fb9f3a"
             ],
             [
              0.8888888888888888,
              "#fdca26"
             ],
             [
              1,
              "#f0f921"
             ]
            ],
            "type": "histogram2d"
           }
          ],
          "histogram2dcontour": [
           {
            "colorbar": {
             "outlinewidth": 0,
             "ticks": ""
            },
            "colorscale": [
             [
              0,
              "#0d0887"
             ],
             [
              0.1111111111111111,
              "#46039f"
             ],
             [
              0.2222222222222222,
              "#7201a8"
             ],
             [
              0.3333333333333333,
              "#9c179e"
             ],
             [
              0.4444444444444444,
              "#bd3786"
             ],
             [
              0.5555555555555556,
              "#d8576b"
             ],
             [
              0.6666666666666666,
              "#ed7953"
             ],
             [
              0.7777777777777778,
              "#fb9f3a"
             ],
             [
              0.8888888888888888,
              "#fdca26"
             ],
             [
              1,
              "#f0f921"
             ]
            ],
            "type": "histogram2dcontour"
           }
          ],
          "mesh3d": [
           {
            "colorbar": {
             "outlinewidth": 0,
             "ticks": ""
            },
            "type": "mesh3d"
           }
          ],
          "parcoords": [
           {
            "line": {
             "colorbar": {
              "outlinewidth": 0,
              "ticks": ""
             }
            },
            "type": "parcoords"
           }
          ],
          "pie": [
           {
            "automargin": true,
            "type": "pie"
           }
          ],
          "scatter": [
           {
            "fillpattern": {
             "fillmode": "overlay",
             "size": 10,
             "solidity": 0.2
            },
            "type": "scatter"
           }
          ],
          "scatter3d": [
           {
            "line": {
             "colorbar": {
              "outlinewidth": 0,
              "ticks": ""
             }
            },
            "marker": {
             "colorbar": {
              "outlinewidth": 0,
              "ticks": ""
             }
            },
            "type": "scatter3d"
           }
          ],
          "scattercarpet": [
           {
            "marker": {
             "colorbar": {
              "outlinewidth": 0,
              "ticks": ""
             }
            },
            "type": "scattercarpet"
           }
          ],
          "scattergeo": [
           {
            "marker": {
             "colorbar": {
              "outlinewidth": 0,
              "ticks": ""
             }
            },
            "type": "scattergeo"
           }
          ],
          "scattergl": [
           {
            "marker": {
             "colorbar": {
              "outlinewidth": 0,
              "ticks": ""
             }
            },
            "type": "scattergl"
           }
          ],
          "scattermapbox": [
           {
            "marker": {
             "colorbar": {
              "outlinewidth": 0,
              "ticks": ""
             }
            },
            "type": "scattermapbox"
           }
          ],
          "scatterpolar": [
           {
            "marker": {
             "colorbar": {
              "outlinewidth": 0,
              "ticks": ""
             }
            },
            "type": "scatterpolar"
           }
          ],
          "scatterpolargl": [
           {
            "marker": {
             "colorbar": {
              "outlinewidth": 0,
              "ticks": ""
             }
            },
            "type": "scatterpolargl"
           }
          ],
          "scatterternary": [
           {
            "marker": {
             "colorbar": {
              "outlinewidth": 0,
              "ticks": ""
             }
            },
            "type": "scatterternary"
           }
          ],
          "surface": [
           {
            "colorbar": {
             "outlinewidth": 0,
             "ticks": ""
            },
            "colorscale": [
             [
              0,
              "#0d0887"
             ],
             [
              0.1111111111111111,
              "#46039f"
             ],
             [
              0.2222222222222222,
              "#7201a8"
             ],
             [
              0.3333333333333333,
              "#9c179e"
             ],
             [
              0.4444444444444444,
              "#bd3786"
             ],
             [
              0.5555555555555556,
              "#d8576b"
             ],
             [
              0.6666666666666666,
              "#ed7953"
             ],
             [
              0.7777777777777778,
              "#fb9f3a"
             ],
             [
              0.8888888888888888,
              "#fdca26"
             ],
             [
              1,
              "#f0f921"
             ]
            ],
            "type": "surface"
           }
          ],
          "table": [
           {
            "cells": {
             "fill": {
              "color": "#EBF0F8"
             },
             "line": {
              "color": "white"
             }
            },
            "header": {
             "fill": {
              "color": "#C8D4E3"
             },
             "line": {
              "color": "white"
             }
            },
            "type": "table"
           }
          ]
         },
         "layout": {
          "annotationdefaults": {
           "arrowcolor": "#2a3f5f",
           "arrowhead": 0,
           "arrowwidth": 1
          },
          "autotypenumbers": "strict",
          "coloraxis": {
           "colorbar": {
            "outlinewidth": 0,
            "ticks": ""
           }
          },
          "colorscale": {
           "diverging": [
            [
             0,
             "#8e0152"
            ],
            [
             0.1,
             "#c51b7d"
            ],
            [
             0.2,
             "#de77ae"
            ],
            [
             0.3,
             "#f1b6da"
            ],
            [
             0.4,
             "#fde0ef"
            ],
            [
             0.5,
             "#f7f7f7"
            ],
            [
             0.6,
             "#e6f5d0"
            ],
            [
             0.7,
             "#b8e186"
            ],
            [
             0.8,
             "#7fbc41"
            ],
            [
             0.9,
             "#4d9221"
            ],
            [
             1,
             "#276419"
            ]
           ],
           "sequential": [
            [
             0,
             "#0d0887"
            ],
            [
             0.1111111111111111,
             "#46039f"
            ],
            [
             0.2222222222222222,
             "#7201a8"
            ],
            [
             0.3333333333333333,
             "#9c179e"
            ],
            [
             0.4444444444444444,
             "#bd3786"
            ],
            [
             0.5555555555555556,
             "#d8576b"
            ],
            [
             0.6666666666666666,
             "#ed7953"
            ],
            [
             0.7777777777777778,
             "#fb9f3a"
            ],
            [
             0.8888888888888888,
             "#fdca26"
            ],
            [
             1,
             "#f0f921"
            ]
           ],
           "sequentialminus": [
            [
             0,
             "#0d0887"
            ],
            [
             0.1111111111111111,
             "#46039f"
            ],
            [
             0.2222222222222222,
             "#7201a8"
            ],
            [
             0.3333333333333333,
             "#9c179e"
            ],
            [
             0.4444444444444444,
             "#bd3786"
            ],
            [
             0.5555555555555556,
             "#d8576b"
            ],
            [
             0.6666666666666666,
             "#ed7953"
            ],
            [
             0.7777777777777778,
             "#fb9f3a"
            ],
            [
             0.8888888888888888,
             "#fdca26"
            ],
            [
             1,
             "#f0f921"
            ]
           ]
          },
          "colorway": [
           "#636efa",
           "#EF553B",
           "#00cc96",
           "#ab63fa",
           "#FFA15A",
           "#19d3f3",
           "#FF6692",
           "#B6E880",
           "#FF97FF",
           "#FECB52"
          ],
          "font": {
           "color": "#2a3f5f"
          },
          "geo": {
           "bgcolor": "white",
           "lakecolor": "white",
           "landcolor": "#E5ECF6",
           "showlakes": true,
           "showland": true,
           "subunitcolor": "white"
          },
          "hoverlabel": {
           "align": "left"
          },
          "hovermode": "closest",
          "mapbox": {
           "style": "light"
          },
          "paper_bgcolor": "white",
          "plot_bgcolor": "#E5ECF6",
          "polar": {
           "angularaxis": {
            "gridcolor": "white",
            "linecolor": "white",
            "ticks": ""
           },
           "bgcolor": "#E5ECF6",
           "radialaxis": {
            "gridcolor": "white",
            "linecolor": "white",
            "ticks": ""
           }
          },
          "scene": {
           "xaxis": {
            "backgroundcolor": "#E5ECF6",
            "gridcolor": "white",
            "gridwidth": 2,
            "linecolor": "white",
            "showbackground": true,
            "ticks": "",
            "zerolinecolor": "white"
           },
           "yaxis": {
            "backgroundcolor": "#E5ECF6",
            "gridcolor": "white",
            "gridwidth": 2,
            "linecolor": "white",
            "showbackground": true,
            "ticks": "",
            "zerolinecolor": "white"
           },
           "zaxis": {
            "backgroundcolor": "#E5ECF6",
            "gridcolor": "white",
            "gridwidth": 2,
            "linecolor": "white",
            "showbackground": true,
            "ticks": "",
            "zerolinecolor": "white"
           }
          },
          "shapedefaults": {
           "line": {
            "color": "#2a3f5f"
           }
          },
          "ternary": {
           "aaxis": {
            "gridcolor": "white",
            "linecolor": "white",
            "ticks": ""
           },
           "baxis": {
            "gridcolor": "white",
            "linecolor": "white",
            "ticks": ""
           },
           "bgcolor": "#E5ECF6",
           "caxis": {
            "gridcolor": "white",
            "linecolor": "white",
            "ticks": ""
           }
          },
          "title": {
           "x": 0.05
          },
          "xaxis": {
           "automargin": true,
           "gridcolor": "white",
           "linecolor": "white",
           "ticks": "",
           "title": {
            "standoff": 15
           },
           "zerolinecolor": "white",
           "zerolinewidth": 2
          },
          "yaxis": {
           "automargin": true,
           "gridcolor": "white",
           "linecolor": "white",
           "ticks": "",
           "title": {
            "standoff": 15
           },
           "zerolinecolor": "white",
           "zerolinewidth": 2
          }
         }
        },
        "title": {
         "text": "Volume of Market Movers"
        }
       }
      },
      "text/html": [
       "<div>                            <div id=\"d0decd0c-0ab9-4341-b8c1-4dd8c8b0efc8\" class=\"plotly-graph-div\" style=\"height:525px; width:100%;\"></div>            <script type=\"text/javascript\">                require([\"plotly\"], function(Plotly) {                    window.PLOTLYENV=window.PLOTLYENV || {};                                    if (document.getElementById(\"d0decd0c-0ab9-4341-b8c1-4dd8c8b0efc8\")) {                    Plotly.newPlot(                        \"d0decd0c-0ab9-4341-b8c1-4dd8c8b0efc8\",                        [{\"domain\":{\"x\":[0.0,1.0],\"y\":[0.0,1.0]},\"hole\":0.3,\"hovertemplate\":\"Symbol=%{label}\\u003cbr\\u003eVolume=%{value}\\u003cextra\\u003e\\u003c\\u002fextra\\u003e\",\"labels\":[\"KBSH \",\"SMFBS \",\"CMF2 \",\"PPL \",\"USHEC \",\"SEF \",\"SIGS2 \",\"SFEF \",\"SPC \",\"BNT \",\"NMBD2085 \",\"NIBD84 \",\"NIBSF2 \",\"RAWA \",\"NIBD2082 \",\"NBLD87 \",\"EHPL \",\"MMFDB \",\"NIMBPO \",\"KPCL \",\"UHEWA \",\"MPFL \",\"SAGF \",\"SDBD87 \",\"UNL \",\"SLBSL \",\"NMBHF1 \",\"SWBBL \",\"SADBL \",\"NIBLGF \",\"NIL \",\"NIBLPF \",\"MLBS \",\"RSDC \",\"MMF1 \",\"GBD80\\u002f81 \",\"ICFCD83 \",\"LEMF \",\"NESDO \",\"SHEL \",\"UNHPL \",\"NABBC \",\"SBCF \",\"BHPL \",\"AKJCL \",\"GBBL \",\"RURU \",\"CGH \",\"NSIF2 \"],\"legendgroup\":\"\",\"name\":\"\",\"showlegend\":true,\"values\":[2509.0,30.0,98486.0,5617.0,1510.0,66300.0,146970.0,1700.0,750.0,60.0,49.0,25.0,24710.0,9355.0,140.0,20.0,740.0,869.0,1020.0,764.0,7600.0,4305.0,1100.0,125.0,60.0,239.0,932.0,11972.0,6048.0,830.0,8191.0,6438.0,370.0,2315.0,12800.0,13.0,90.0,18587.0,1505.0,1820.0,12633.0,1713.0,12600.0,1073.0,13016.0,14863.0,253.0,4739.0,1420.0],\"type\":\"pie\",\"textinfo\":\"percent+label\",\"textposition\":\"inside\"}],                        {\"template\":{\"data\":{\"histogram2dcontour\":[{\"type\":\"histogram2dcontour\",\"colorbar\":{\"outlinewidth\":0,\"ticks\":\"\"},\"colorscale\":[[0.0,\"#0d0887\"],[0.1111111111111111,\"#46039f\"],[0.2222222222222222,\"#7201a8\"],[0.3333333333333333,\"#9c179e\"],[0.4444444444444444,\"#bd3786\"],[0.5555555555555556,\"#d8576b\"],[0.6666666666666666,\"#ed7953\"],[0.7777777777777778,\"#fb9f3a\"],[0.8888888888888888,\"#fdca26\"],[1.0,\"#f0f921\"]]}],\"choropleth\":[{\"type\":\"choropleth\",\"colorbar\":{\"outlinewidth\":0,\"ticks\":\"\"}}],\"histogram2d\":[{\"type\":\"histogram2d\",\"colorbar\":{\"outlinewidth\":0,\"ticks\":\"\"},\"colorscale\":[[0.0,\"#0d0887\"],[0.1111111111111111,\"#46039f\"],[0.2222222222222222,\"#7201a8\"],[0.3333333333333333,\"#9c179e\"],[0.4444444444444444,\"#bd3786\"],[0.5555555555555556,\"#d8576b\"],[0.6666666666666666,\"#ed7953\"],[0.7777777777777778,\"#fb9f3a\"],[0.8888888888888888,\"#fdca26\"],[1.0,\"#f0f921\"]]}],\"heatmap\":[{\"type\":\"heatmap\",\"colorbar\":{\"outlinewidth\":0,\"ticks\":\"\"},\"colorscale\":[[0.0,\"#0d0887\"],[0.1111111111111111,\"#46039f\"],[0.2222222222222222,\"#7201a8\"],[0.3333333333333333,\"#9c179e\"],[0.4444444444444444,\"#bd3786\"],[0.5555555555555556,\"#d8576b\"],[0.6666666666666666,\"#ed7953\"],[0.7777777777777778,\"#fb9f3a\"],[0.8888888888888888,\"#fdca26\"],[1.0,\"#f0f921\"]]}],\"heatmapgl\":[{\"type\":\"heatmapgl\",\"colorbar\":{\"outlinewidth\":0,\"ticks\":\"\"},\"colorscale\":[[0.0,\"#0d0887\"],[0.1111111111111111,\"#46039f\"],[0.2222222222222222,\"#7201a8\"],[0.3333333333333333,\"#9c179e\"],[0.4444444444444444,\"#bd3786\"],[0.5555555555555556,\"#d8576b\"],[0.6666666666666666,\"#ed7953\"],[0.7777777777777778,\"#fb9f3a\"],[0.8888888888888888,\"#fdca26\"],[1.0,\"#f0f921\"]]}],\"contourcarpet\":[{\"type\":\"contourcarpet\",\"colorbar\":{\"outlinewidth\":0,\"ticks\":\"\"}}],\"contour\":[{\"type\":\"contour\",\"colorbar\":{\"outlinewidth\":0,\"ticks\":\"\"},\"colorscale\":[[0.0,\"#0d0887\"],[0.1111111111111111,\"#46039f\"],[0.2222222222222222,\"#7201a8\"],[0.3333333333333333,\"#9c179e\"],[0.4444444444444444,\"#bd3786\"],[0.5555555555555556,\"#d8576b\"],[0.6666666666666666,\"#ed7953\"],[0.7777777777777778,\"#fb9f3a\"],[0.8888888888888888,\"#fdca26\"],[1.0,\"#f0f921\"]]}],\"surface\":[{\"type\":\"surface\",\"colorbar\":{\"outlinewidth\":0,\"ticks\":\"\"},\"colorscale\":[[0.0,\"#0d0887\"],[0.1111111111111111,\"#46039f\"],[0.2222222222222222,\"#7201a8\"],[0.3333333333333333,\"#9c179e\"],[0.4444444444444444,\"#bd3786\"],[0.5555555555555556,\"#d8576b\"],[0.6666666666666666,\"#ed7953\"],[0.7777777777777778,\"#fb9f3a\"],[0.8888888888888888,\"#fdca26\"],[1.0,\"#f0f921\"]]}],\"mesh3d\":[{\"type\":\"mesh3d\",\"colorbar\":{\"outlinewidth\":0,\"ticks\":\"\"}}],\"scatter\":[{\"fillpattern\":{\"fillmode\":\"overlay\",\"size\":10,\"solidity\":0.2},\"type\":\"scatter\"}],\"parcoords\":[{\"type\":\"parcoords\",\"line\":{\"colorbar\":{\"outlinewidth\":0,\"ticks\":\"\"}}}],\"scatterpolargl\":[{\"type\":\"scatterpolargl\",\"marker\":{\"colorbar\":{\"outlinewidth\":0,\"ticks\":\"\"}}}],\"bar\":[{\"error_x\":{\"color\":\"#2a3f5f\"},\"error_y\":{\"color\":\"#2a3f5f\"},\"marker\":{\"line\":{\"color\":\"#E5ECF6\",\"width\":0.5},\"pattern\":{\"fillmode\":\"overlay\",\"size\":10,\"solidity\":0.2}},\"type\":\"bar\"}],\"scattergeo\":[{\"type\":\"scattergeo\",\"marker\":{\"colorbar\":{\"outlinewidth\":0,\"ticks\":\"\"}}}],\"scatterpolar\":[{\"type\":\"scatterpolar\",\"marker\":{\"colorbar\":{\"outlinewidth\":0,\"ticks\":\"\"}}}],\"histogram\":[{\"marker\":{\"pattern\":{\"fillmode\":\"overlay\",\"size\":10,\"solidity\":0.2}},\"type\":\"histogram\"}],\"scattergl\":[{\"type\":\"scattergl\",\"marker\":{\"colorbar\":{\"outlinewidth\":0,\"ticks\":\"\"}}}],\"scatter3d\":[{\"type\":\"scatter3d\",\"line\":{\"colorbar\":{\"outlinewidth\":0,\"ticks\":\"\"}},\"marker\":{\"colorbar\":{\"outlinewidth\":0,\"ticks\":\"\"}}}],\"scattermapbox\":[{\"type\":\"scattermapbox\",\"marker\":{\"colorbar\":{\"outlinewidth\":0,\"ticks\":\"\"}}}],\"scatterternary\":[{\"type\":\"scatterternary\",\"marker\":{\"colorbar\":{\"outlinewidth\":0,\"ticks\":\"\"}}}],\"scattercarpet\":[{\"type\":\"scattercarpet\",\"marker\":{\"colorbar\":{\"outlinewidth\":0,\"ticks\":\"\"}}}],\"carpet\":[{\"aaxis\":{\"endlinecolor\":\"#2a3f5f\",\"gridcolor\":\"white\",\"linecolor\":\"white\",\"minorgridcolor\":\"white\",\"startlinecolor\":\"#2a3f5f\"},\"baxis\":{\"endlinecolor\":\"#2a3f5f\",\"gridcolor\":\"white\",\"linecolor\":\"white\",\"minorgridcolor\":\"white\",\"startlinecolor\":\"#2a3f5f\"},\"type\":\"carpet\"}],\"table\":[{\"cells\":{\"fill\":{\"color\":\"#EBF0F8\"},\"line\":{\"color\":\"white\"}},\"header\":{\"fill\":{\"color\":\"#C8D4E3\"},\"line\":{\"color\":\"white\"}},\"type\":\"table\"}],\"barpolar\":[{\"marker\":{\"line\":{\"color\":\"#E5ECF6\",\"width\":0.5},\"pattern\":{\"fillmode\":\"overlay\",\"size\":10,\"solidity\":0.2}},\"type\":\"barpolar\"}],\"pie\":[{\"automargin\":true,\"type\":\"pie\"}]},\"layout\":{\"autotypenumbers\":\"strict\",\"colorway\":[\"#636efa\",\"#EF553B\",\"#00cc96\",\"#ab63fa\",\"#FFA15A\",\"#19d3f3\",\"#FF6692\",\"#B6E880\",\"#FF97FF\",\"#FECB52\"],\"font\":{\"color\":\"#2a3f5f\"},\"hovermode\":\"closest\",\"hoverlabel\":{\"align\":\"left\"},\"paper_bgcolor\":\"white\",\"plot_bgcolor\":\"#E5ECF6\",\"polar\":{\"bgcolor\":\"#E5ECF6\",\"angularaxis\":{\"gridcolor\":\"white\",\"linecolor\":\"white\",\"ticks\":\"\"},\"radialaxis\":{\"gridcolor\":\"white\",\"linecolor\":\"white\",\"ticks\":\"\"}},\"ternary\":{\"bgcolor\":\"#E5ECF6\",\"aaxis\":{\"gridcolor\":\"white\",\"linecolor\":\"white\",\"ticks\":\"\"},\"baxis\":{\"gridcolor\":\"white\",\"linecolor\":\"white\",\"ticks\":\"\"},\"caxis\":{\"gridcolor\":\"white\",\"linecolor\":\"white\",\"ticks\":\"\"}},\"coloraxis\":{\"colorbar\":{\"outlinewidth\":0,\"ticks\":\"\"}},\"colorscale\":{\"sequential\":[[0.0,\"#0d0887\"],[0.1111111111111111,\"#46039f\"],[0.2222222222222222,\"#7201a8\"],[0.3333333333333333,\"#9c179e\"],[0.4444444444444444,\"#bd3786\"],[0.5555555555555556,\"#d8576b\"],[0.6666666666666666,\"#ed7953\"],[0.7777777777777778,\"#fb9f3a\"],[0.8888888888888888,\"#fdca26\"],[1.0,\"#f0f921\"]],\"sequentialminus\":[[0.0,\"#0d0887\"],[0.1111111111111111,\"#46039f\"],[0.2222222222222222,\"#7201a8\"],[0.3333333333333333,\"#9c179e\"],[0.4444444444444444,\"#bd3786\"],[0.5555555555555556,\"#d8576b\"],[0.6666666666666666,\"#ed7953\"],[0.7777777777777778,\"#fb9f3a\"],[0.8888888888888888,\"#fdca26\"],[1.0,\"#f0f921\"]],\"diverging\":[[0,\"#8e0152\"],[0.1,\"#c51b7d\"],[0.2,\"#de77ae\"],[0.3,\"#f1b6da\"],[0.4,\"#fde0ef\"],[0.5,\"#f7f7f7\"],[0.6,\"#e6f5d0\"],[0.7,\"#b8e186\"],[0.8,\"#7fbc41\"],[0.9,\"#4d9221\"],[1,\"#276419\"]]},\"xaxis\":{\"gridcolor\":\"white\",\"linecolor\":\"white\",\"ticks\":\"\",\"title\":{\"standoff\":15},\"zerolinecolor\":\"white\",\"automargin\":true,\"zerolinewidth\":2},\"yaxis\":{\"gridcolor\":\"white\",\"linecolor\":\"white\",\"ticks\":\"\",\"title\":{\"standoff\":15},\"zerolinecolor\":\"white\",\"automargin\":true,\"zerolinewidth\":2},\"scene\":{\"xaxis\":{\"backgroundcolor\":\"#E5ECF6\",\"gridcolor\":\"white\",\"linecolor\":\"white\",\"showbackground\":true,\"ticks\":\"\",\"zerolinecolor\":\"white\",\"gridwidth\":2},\"yaxis\":{\"backgroundcolor\":\"#E5ECF6\",\"gridcolor\":\"white\",\"linecolor\":\"white\",\"showbackground\":true,\"ticks\":\"\",\"zerolinecolor\":\"white\",\"gridwidth\":2},\"zaxis\":{\"backgroundcolor\":\"#E5ECF6\",\"gridcolor\":\"white\",\"linecolor\":\"white\",\"showbackground\":true,\"ticks\":\"\",\"zerolinecolor\":\"white\",\"gridwidth\":2}},\"shapedefaults\":{\"line\":{\"color\":\"#2a3f5f\"}},\"annotationdefaults\":{\"arrowcolor\":\"#2a3f5f\",\"arrowhead\":0,\"arrowwidth\":1},\"geo\":{\"bgcolor\":\"white\",\"landcolor\":\"#E5ECF6\",\"subunitcolor\":\"white\",\"showland\":true,\"showlakes\":true,\"lakecolor\":\"white\"},\"title\":{\"x\":0.05},\"mapbox\":{\"style\":\"light\"}}},\"legend\":{\"tracegroupgap\":0},\"title\":{\"text\":\"Volume of Market Movers\"}},                        {\"responsive\": true}                    ).then(function(){\n",
       "                            \n",
       "var gd = document.getElementById('d0decd0c-0ab9-4341-b8c1-4dd8c8b0efc8');\n",
       "var x = new MutationObserver(function (mutations, observer) {{\n",
       "        var display = window.getComputedStyle(gd).display;\n",
       "        if (!display || display === 'none') {{\n",
       "            console.log([gd, 'removed!']);\n",
       "            Plotly.purge(gd);\n",
       "            observer.disconnect();\n",
       "        }}\n",
       "}});\n",
       "\n",
       "// Listen for the removal of the full notebook cells\n",
       "var notebookContainer = gd.closest('#notebook-container');\n",
       "if (notebookContainer) {{\n",
       "    x.observe(notebookContainer, {childList: true});\n",
       "}}\n",
       "\n",
       "// Listen for the clearing of the current output cell\n",
       "var outputEl = gd.closest('.output');\n",
       "if (outputEl) {{\n",
       "    x.observe(outputEl, {childList: true});\n",
       "}}\n",
       "\n",
       "                        })                };                });            </script>        </div>"
      ]
     },
     "metadata": {},
     "output_type": "display_data"
    }
   ],
   "source": [
    "import plotly.express as px\n",
    "fig = px.pie(df, values='Volume', names='Symbol' ,  title='Volume of Market Movers', hole=.3)\n",
    "fig.update_traces(textposition='inside', textinfo='percent+label')\n",
    "fig.show()\n"
   ]
  },
  {
   "cell_type": "code",
   "execution_count": 174,
   "id": "d30e49ba",
   "metadata": {},
   "outputs": [
    {
     "data": {
      "application/vnd.plotly.v1+json": {
       "config": {
        "plotlyServerURL": "https://plot.ly"
       },
       "data": [
        {
         "alignmentgroup": "True",
         "bingroup": "x",
         "hovertemplate": "% Chg=%{x}<br>count=%{y}<extra></extra>",
         "legendgroup": "",
         "marker": {
          "color": "#636efa",
          "pattern": {
           "shape": ""
          }
         },
         "name": "",
         "nbinsx": 32,
         "offsetgroup": "",
         "orientation": "v",
         "showlegend": false,
         "type": "histogram",
         "x": [
          10,
          6,
          5.88,
          5.18,
          4.89,
          3.88,
          3.76,
          3.29,
          2.44,
          2.4,
          2,
          2,
          2,
          2,
          1.99,
          1.99,
          1.97,
          1.96,
          1.89,
          1.78,
          1.41,
          1.28,
          1.27,
          1.23,
          1.15,
          1.09,
          1.08,
          1.04,
          0.92,
          0.9,
          0.82,
          0.77,
          0.74,
          0.71,
          0.57,
          0.51,
          0.48,
          0.36,
          0.32,
          0.31,
          0.3,
          0.27,
          0.27,
          0.24,
          0.19,
          0.13,
          0.13,
          0.12,
          0.11
         ],
         "xaxis": "x",
         "yaxis": "y"
        }
       ],
       "layout": {
        "barmode": "relative",
        "legend": {
         "tracegroupgap": 0
        },
        "margin": {
         "t": 60
        },
        "template": {
         "data": {
          "bar": [
           {
            "error_x": {
             "color": "#2a3f5f"
            },
            "error_y": {
             "color": "#2a3f5f"
            },
            "marker": {
             "line": {
              "color": "#E5ECF6",
              "width": 0.5
             },
             "pattern": {
              "fillmode": "overlay",
              "size": 10,
              "solidity": 0.2
             }
            },
            "type": "bar"
           }
          ],
          "barpolar": [
           {
            "marker": {
             "line": {
              "color": "#E5ECF6",
              "width": 0.5
             },
             "pattern": {
              "fillmode": "overlay",
              "size": 10,
              "solidity": 0.2
             }
            },
            "type": "barpolar"
           }
          ],
          "carpet": [
           {
            "aaxis": {
             "endlinecolor": "#2a3f5f",
             "gridcolor": "white",
             "linecolor": "white",
             "minorgridcolor": "white",
             "startlinecolor": "#2a3f5f"
            },
            "baxis": {
             "endlinecolor": "#2a3f5f",
             "gridcolor": "white",
             "linecolor": "white",
             "minorgridcolor": "white",
             "startlinecolor": "#2a3f5f"
            },
            "type": "carpet"
           }
          ],
          "choropleth": [
           {
            "colorbar": {
             "outlinewidth": 0,
             "ticks": ""
            },
            "type": "choropleth"
           }
          ],
          "contour": [
           {
            "colorbar": {
             "outlinewidth": 0,
             "ticks": ""
            },
            "colorscale": [
             [
              0,
              "#0d0887"
             ],
             [
              0.1111111111111111,
              "#46039f"
             ],
             [
              0.2222222222222222,
              "#7201a8"
             ],
             [
              0.3333333333333333,
              "#9c179e"
             ],
             [
              0.4444444444444444,
              "#bd3786"
             ],
             [
              0.5555555555555556,
              "#d8576b"
             ],
             [
              0.6666666666666666,
              "#ed7953"
             ],
             [
              0.7777777777777778,
              "#fb9f3a"
             ],
             [
              0.8888888888888888,
              "#fdca26"
             ],
             [
              1,
              "#f0f921"
             ]
            ],
            "type": "contour"
           }
          ],
          "contourcarpet": [
           {
            "colorbar": {
             "outlinewidth": 0,
             "ticks": ""
            },
            "type": "contourcarpet"
           }
          ],
          "heatmap": [
           {
            "colorbar": {
             "outlinewidth": 0,
             "ticks": ""
            },
            "colorscale": [
             [
              0,
              "#0d0887"
             ],
             [
              0.1111111111111111,
              "#46039f"
             ],
             [
              0.2222222222222222,
              "#7201a8"
             ],
             [
              0.3333333333333333,
              "#9c179e"
             ],
             [
              0.4444444444444444,
              "#bd3786"
             ],
             [
              0.5555555555555556,
              "#d8576b"
             ],
             [
              0.6666666666666666,
              "#ed7953"
             ],
             [
              0.7777777777777778,
              "#fb9f3a"
             ],
             [
              0.8888888888888888,
              "#fdca26"
             ],
             [
              1,
              "#f0f921"
             ]
            ],
            "type": "heatmap"
           }
          ],
          "heatmapgl": [
           {
            "colorbar": {
             "outlinewidth": 0,
             "ticks": ""
            },
            "colorscale": [
             [
              0,
              "#0d0887"
             ],
             [
              0.1111111111111111,
              "#46039f"
             ],
             [
              0.2222222222222222,
              "#7201a8"
             ],
             [
              0.3333333333333333,
              "#9c179e"
             ],
             [
              0.4444444444444444,
              "#bd3786"
             ],
             [
              0.5555555555555556,
              "#d8576b"
             ],
             [
              0.6666666666666666,
              "#ed7953"
             ],
             [
              0.7777777777777778,
              "#fb9f3a"
             ],
             [
              0.8888888888888888,
              "#fdca26"
             ],
             [
              1,
              "#f0f921"
             ]
            ],
            "type": "heatmapgl"
           }
          ],
          "histogram": [
           {
            "marker": {
             "pattern": {
              "fillmode": "overlay",
              "size": 10,
              "solidity": 0.2
             }
            },
            "type": "histogram"
           }
          ],
          "histogram2d": [
           {
            "colorbar": {
             "outlinewidth": 0,
             "ticks": ""
            },
            "colorscale": [
             [
              0,
              "#0d0887"
             ],
             [
              0.1111111111111111,
              "#46039f"
             ],
             [
              0.2222222222222222,
              "#7201a8"
             ],
             [
              0.3333333333333333,
              "#9c179e"
             ],
             [
              0.4444444444444444,
              "#bd3786"
             ],
             [
              0.5555555555555556,
              "#d8576b"
             ],
             [
              0.6666666666666666,
              "#ed7953"
             ],
             [
              0.7777777777777778,
              "#fb9f3a"
             ],
             [
              0.8888888888888888,
              "#fdca26"
             ],
             [
              1,
              "#f0f921"
             ]
            ],
            "type": "histogram2d"
           }
          ],
          "histogram2dcontour": [
           {
            "colorbar": {
             "outlinewidth": 0,
             "ticks": ""
            },
            "colorscale": [
             [
              0,
              "#0d0887"
             ],
             [
              0.1111111111111111,
              "#46039f"
             ],
             [
              0.2222222222222222,
              "#7201a8"
             ],
             [
              0.3333333333333333,
              "#9c179e"
             ],
             [
              0.4444444444444444,
              "#bd3786"
             ],
             [
              0.5555555555555556,
              "#d8576b"
             ],
             [
              0.6666666666666666,
              "#ed7953"
             ],
             [
              0.7777777777777778,
              "#fb9f3a"
             ],
             [
              0.8888888888888888,
              "#fdca26"
             ],
             [
              1,
              "#f0f921"
             ]
            ],
            "type": "histogram2dcontour"
           }
          ],
          "mesh3d": [
           {
            "colorbar": {
             "outlinewidth": 0,
             "ticks": ""
            },
            "type": "mesh3d"
           }
          ],
          "parcoords": [
           {
            "line": {
             "colorbar": {
              "outlinewidth": 0,
              "ticks": ""
             }
            },
            "type": "parcoords"
           }
          ],
          "pie": [
           {
            "automargin": true,
            "type": "pie"
           }
          ],
          "scatter": [
           {
            "fillpattern": {
             "fillmode": "overlay",
             "size": 10,
             "solidity": 0.2
            },
            "type": "scatter"
           }
          ],
          "scatter3d": [
           {
            "line": {
             "colorbar": {
              "outlinewidth": 0,
              "ticks": ""
             }
            },
            "marker": {
             "colorbar": {
              "outlinewidth": 0,
              "ticks": ""
             }
            },
            "type": "scatter3d"
           }
          ],
          "scattercarpet": [
           {
            "marker": {
             "colorbar": {
              "outlinewidth": 0,
              "ticks": ""
             }
            },
            "type": "scattercarpet"
           }
          ],
          "scattergeo": [
           {
            "marker": {
             "colorbar": {
              "outlinewidth": 0,
              "ticks": ""
             }
            },
            "type": "scattergeo"
           }
          ],
          "scattergl": [
           {
            "marker": {
             "colorbar": {
              "outlinewidth": 0,
              "ticks": ""
             }
            },
            "type": "scattergl"
           }
          ],
          "scattermapbox": [
           {
            "marker": {
             "colorbar": {
              "outlinewidth": 0,
              "ticks": ""
             }
            },
            "type": "scattermapbox"
           }
          ],
          "scatterpolar": [
           {
            "marker": {
             "colorbar": {
              "outlinewidth": 0,
              "ticks": ""
             }
            },
            "type": "scatterpolar"
           }
          ],
          "scatterpolargl": [
           {
            "marker": {
             "colorbar": {
              "outlinewidth": 0,
              "ticks": ""
             }
            },
            "type": "scatterpolargl"
           }
          ],
          "scatterternary": [
           {
            "marker": {
             "colorbar": {
              "outlinewidth": 0,
              "ticks": ""
             }
            },
            "type": "scatterternary"
           }
          ],
          "surface": [
           {
            "colorbar": {
             "outlinewidth": 0,
             "ticks": ""
            },
            "colorscale": [
             [
              0,
              "#0d0887"
             ],
             [
              0.1111111111111111,
              "#46039f"
             ],
             [
              0.2222222222222222,
              "#7201a8"
             ],
             [
              0.3333333333333333,
              "#9c179e"
             ],
             [
              0.4444444444444444,
              "#bd3786"
             ],
             [
              0.5555555555555556,
              "#d8576b"
             ],
             [
              0.6666666666666666,
              "#ed7953"
             ],
             [
              0.7777777777777778,
              "#fb9f3a"
             ],
             [
              0.8888888888888888,
              "#fdca26"
             ],
             [
              1,
              "#f0f921"
             ]
            ],
            "type": "surface"
           }
          ],
          "table": [
           {
            "cells": {
             "fill": {
              "color": "#EBF0F8"
             },
             "line": {
              "color": "white"
             }
            },
            "header": {
             "fill": {
              "color": "#C8D4E3"
             },
             "line": {
              "color": "white"
             }
            },
            "type": "table"
           }
          ]
         },
         "layout": {
          "annotationdefaults": {
           "arrowcolor": "#2a3f5f",
           "arrowhead": 0,
           "arrowwidth": 1
          },
          "autotypenumbers": "strict",
          "coloraxis": {
           "colorbar": {
            "outlinewidth": 0,
            "ticks": ""
           }
          },
          "colorscale": {
           "diverging": [
            [
             0,
             "#8e0152"
            ],
            [
             0.1,
             "#c51b7d"
            ],
            [
             0.2,
             "#de77ae"
            ],
            [
             0.3,
             "#f1b6da"
            ],
            [
             0.4,
             "#fde0ef"
            ],
            [
             0.5,
             "#f7f7f7"
            ],
            [
             0.6,
             "#e6f5d0"
            ],
            [
             0.7,
             "#b8e186"
            ],
            [
             0.8,
             "#7fbc41"
            ],
            [
             0.9,
             "#4d9221"
            ],
            [
             1,
             "#276419"
            ]
           ],
           "sequential": [
            [
             0,
             "#0d0887"
            ],
            [
             0.1111111111111111,
             "#46039f"
            ],
            [
             0.2222222222222222,
             "#7201a8"
            ],
            [
             0.3333333333333333,
             "#9c179e"
            ],
            [
             0.4444444444444444,
             "#bd3786"
            ],
            [
             0.5555555555555556,
             "#d8576b"
            ],
            [
             0.6666666666666666,
             "#ed7953"
            ],
            [
             0.7777777777777778,
             "#fb9f3a"
            ],
            [
             0.8888888888888888,
             "#fdca26"
            ],
            [
             1,
             "#f0f921"
            ]
           ],
           "sequentialminus": [
            [
             0,
             "#0d0887"
            ],
            [
             0.1111111111111111,
             "#46039f"
            ],
            [
             0.2222222222222222,
             "#7201a8"
            ],
            [
             0.3333333333333333,
             "#9c179e"
            ],
            [
             0.4444444444444444,
             "#bd3786"
            ],
            [
             0.5555555555555556,
             "#d8576b"
            ],
            [
             0.6666666666666666,
             "#ed7953"
            ],
            [
             0.7777777777777778,
             "#fb9f3a"
            ],
            [
             0.8888888888888888,
             "#fdca26"
            ],
            [
             1,
             "#f0f921"
            ]
           ]
          },
          "colorway": [
           "#636efa",
           "#EF553B",
           "#00cc96",
           "#ab63fa",
           "#FFA15A",
           "#19d3f3",
           "#FF6692",
           "#B6E880",
           "#FF97FF",
           "#FECB52"
          ],
          "font": {
           "color": "#2a3f5f"
          },
          "geo": {
           "bgcolor": "white",
           "lakecolor": "white",
           "landcolor": "#E5ECF6",
           "showlakes": true,
           "showland": true,
           "subunitcolor": "white"
          },
          "hoverlabel": {
           "align": "left"
          },
          "hovermode": "closest",
          "mapbox": {
           "style": "light"
          },
          "paper_bgcolor": "white",
          "plot_bgcolor": "#E5ECF6",
          "polar": {
           "angularaxis": {
            "gridcolor": "white",
            "linecolor": "white",
            "ticks": ""
           },
           "bgcolor": "#E5ECF6",
           "radialaxis": {
            "gridcolor": "white",
            "linecolor": "white",
            "ticks": ""
           }
          },
          "scene": {
           "xaxis": {
            "backgroundcolor": "#E5ECF6",
            "gridcolor": "white",
            "gridwidth": 2,
            "linecolor": "white",
            "showbackground": true,
            "ticks": "",
            "zerolinecolor": "white"
           },
           "yaxis": {
            "backgroundcolor": "#E5ECF6",
            "gridcolor": "white",
            "gridwidth": 2,
            "linecolor": "white",
            "showbackground": true,
            "ticks": "",
            "zerolinecolor": "white"
           },
           "zaxis": {
            "backgroundcolor": "#E5ECF6",
            "gridcolor": "white",
            "gridwidth": 2,
            "linecolor": "white",
            "showbackground": true,
            "ticks": "",
            "zerolinecolor": "white"
           }
          },
          "shapedefaults": {
           "line": {
            "color": "#2a3f5f"
           }
          },
          "ternary": {
           "aaxis": {
            "gridcolor": "white",
            "linecolor": "white",
            "ticks": ""
           },
           "baxis": {
            "gridcolor": "white",
            "linecolor": "white",
            "ticks": ""
           },
           "bgcolor": "#E5ECF6",
           "caxis": {
            "gridcolor": "white",
            "linecolor": "white",
            "ticks": ""
           }
          },
          "title": {
           "x": 0.05
          },
          "xaxis": {
           "automargin": true,
           "gridcolor": "white",
           "linecolor": "white",
           "ticks": "",
           "title": {
            "standoff": 15
           },
           "zerolinecolor": "white",
           "zerolinewidth": 2
          },
          "yaxis": {
           "automargin": true,
           "gridcolor": "white",
           "linecolor": "white",
           "ticks": "",
           "title": {
            "standoff": 15
           },
           "zerolinecolor": "white",
           "zerolinewidth": 2
          }
         }
        },
        "xaxis": {
         "anchor": "y",
         "domain": [
          0,
          1
         ],
         "title": {
          "text": "% Chg"
         }
        },
        "yaxis": {
         "anchor": "x",
         "domain": [
          0,
          1
         ],
         "title": {
          "text": "count"
         }
        }
       }
      },
      "text/html": [
       "<div>                            <div id=\"e0ab8bff-edcf-4a76-8d30-520b529a8fc2\" class=\"plotly-graph-div\" style=\"height:525px; width:100%;\"></div>            <script type=\"text/javascript\">                require([\"plotly\"], function(Plotly) {                    window.PLOTLYENV=window.PLOTLYENV || {};                                    if (document.getElementById(\"e0ab8bff-edcf-4a76-8d30-520b529a8fc2\")) {                    Plotly.newPlot(                        \"e0ab8bff-edcf-4a76-8d30-520b529a8fc2\",                        [{\"alignmentgroup\":\"True\",\"bingroup\":\"x\",\"hovertemplate\":\"% Chg=%{x}\\u003cbr\\u003ecount=%{y}\\u003cextra\\u003e\\u003c\\u002fextra\\u003e\",\"legendgroup\":\"\",\"marker\":{\"color\":\"#636efa\",\"pattern\":{\"shape\":\"\"}},\"name\":\"\",\"nbinsx\":32,\"offsetgroup\":\"\",\"orientation\":\"v\",\"showlegend\":false,\"x\":[10.0,6.0,5.88,5.18,4.89,3.88,3.76,3.29,2.44,2.4,2.0,2.0,2.0,2.0,1.99,1.99,1.97,1.96,1.89,1.78,1.41,1.28,1.27,1.23,1.15,1.09,1.08,1.04,0.92,0.9,0.82,0.77,0.74,0.71,0.57,0.51,0.48,0.36,0.32,0.31,0.3,0.27,0.27,0.24,0.19,0.13,0.13,0.12,0.11],\"xaxis\":\"x\",\"yaxis\":\"y\",\"type\":\"histogram\"}],                        {\"template\":{\"data\":{\"histogram2dcontour\":[{\"type\":\"histogram2dcontour\",\"colorbar\":{\"outlinewidth\":0,\"ticks\":\"\"},\"colorscale\":[[0.0,\"#0d0887\"],[0.1111111111111111,\"#46039f\"],[0.2222222222222222,\"#7201a8\"],[0.3333333333333333,\"#9c179e\"],[0.4444444444444444,\"#bd3786\"],[0.5555555555555556,\"#d8576b\"],[0.6666666666666666,\"#ed7953\"],[0.7777777777777778,\"#fb9f3a\"],[0.8888888888888888,\"#fdca26\"],[1.0,\"#f0f921\"]]}],\"choropleth\":[{\"type\":\"choropleth\",\"colorbar\":{\"outlinewidth\":0,\"ticks\":\"\"}}],\"histogram2d\":[{\"type\":\"histogram2d\",\"colorbar\":{\"outlinewidth\":0,\"ticks\":\"\"},\"colorscale\":[[0.0,\"#0d0887\"],[0.1111111111111111,\"#46039f\"],[0.2222222222222222,\"#7201a8\"],[0.3333333333333333,\"#9c179e\"],[0.4444444444444444,\"#bd3786\"],[0.5555555555555556,\"#d8576b\"],[0.6666666666666666,\"#ed7953\"],[0.7777777777777778,\"#fb9f3a\"],[0.8888888888888888,\"#fdca26\"],[1.0,\"#f0f921\"]]}],\"heatmap\":[{\"type\":\"heatmap\",\"colorbar\":{\"outlinewidth\":0,\"ticks\":\"\"},\"colorscale\":[[0.0,\"#0d0887\"],[0.1111111111111111,\"#46039f\"],[0.2222222222222222,\"#7201a8\"],[0.3333333333333333,\"#9c179e\"],[0.4444444444444444,\"#bd3786\"],[0.5555555555555556,\"#d8576b\"],[0.6666666666666666,\"#ed7953\"],[0.7777777777777778,\"#fb9f3a\"],[0.8888888888888888,\"#fdca26\"],[1.0,\"#f0f921\"]]}],\"heatmapgl\":[{\"type\":\"heatmapgl\",\"colorbar\":{\"outlinewidth\":0,\"ticks\":\"\"},\"colorscale\":[[0.0,\"#0d0887\"],[0.1111111111111111,\"#46039f\"],[0.2222222222222222,\"#7201a8\"],[0.3333333333333333,\"#9c179e\"],[0.4444444444444444,\"#bd3786\"],[0.5555555555555556,\"#d8576b\"],[0.6666666666666666,\"#ed7953\"],[0.7777777777777778,\"#fb9f3a\"],[0.8888888888888888,\"#fdca26\"],[1.0,\"#f0f921\"]]}],\"contourcarpet\":[{\"type\":\"contourcarpet\",\"colorbar\":{\"outlinewidth\":0,\"ticks\":\"\"}}],\"contour\":[{\"type\":\"contour\",\"colorbar\":{\"outlinewidth\":0,\"ticks\":\"\"},\"colorscale\":[[0.0,\"#0d0887\"],[0.1111111111111111,\"#46039f\"],[0.2222222222222222,\"#7201a8\"],[0.3333333333333333,\"#9c179e\"],[0.4444444444444444,\"#bd3786\"],[0.5555555555555556,\"#d8576b\"],[0.6666666666666666,\"#ed7953\"],[0.7777777777777778,\"#fb9f3a\"],[0.8888888888888888,\"#fdca26\"],[1.0,\"#f0f921\"]]}],\"surface\":[{\"type\":\"surface\",\"colorbar\":{\"outlinewidth\":0,\"ticks\":\"\"},\"colorscale\":[[0.0,\"#0d0887\"],[0.1111111111111111,\"#46039f\"],[0.2222222222222222,\"#7201a8\"],[0.3333333333333333,\"#9c179e\"],[0.4444444444444444,\"#bd3786\"],[0.5555555555555556,\"#d8576b\"],[0.6666666666666666,\"#ed7953\"],[0.7777777777777778,\"#fb9f3a\"],[0.8888888888888888,\"#fdca26\"],[1.0,\"#f0f921\"]]}],\"mesh3d\":[{\"type\":\"mesh3d\",\"colorbar\":{\"outlinewidth\":0,\"ticks\":\"\"}}],\"scatter\":[{\"fillpattern\":{\"fillmode\":\"overlay\",\"size\":10,\"solidity\":0.2},\"type\":\"scatter\"}],\"parcoords\":[{\"type\":\"parcoords\",\"line\":{\"colorbar\":{\"outlinewidth\":0,\"ticks\":\"\"}}}],\"scatterpolargl\":[{\"type\":\"scatterpolargl\",\"marker\":{\"colorbar\":{\"outlinewidth\":0,\"ticks\":\"\"}}}],\"bar\":[{\"error_x\":{\"color\":\"#2a3f5f\"},\"error_y\":{\"color\":\"#2a3f5f\"},\"marker\":{\"line\":{\"color\":\"#E5ECF6\",\"width\":0.5},\"pattern\":{\"fillmode\":\"overlay\",\"size\":10,\"solidity\":0.2}},\"type\":\"bar\"}],\"scattergeo\":[{\"type\":\"scattergeo\",\"marker\":{\"colorbar\":{\"outlinewidth\":0,\"ticks\":\"\"}}}],\"scatterpolar\":[{\"type\":\"scatterpolar\",\"marker\":{\"colorbar\":{\"outlinewidth\":0,\"ticks\":\"\"}}}],\"histogram\":[{\"marker\":{\"pattern\":{\"fillmode\":\"overlay\",\"size\":10,\"solidity\":0.2}},\"type\":\"histogram\"}],\"scattergl\":[{\"type\":\"scattergl\",\"marker\":{\"colorbar\":{\"outlinewidth\":0,\"ticks\":\"\"}}}],\"scatter3d\":[{\"type\":\"scatter3d\",\"line\":{\"colorbar\":{\"outlinewidth\":0,\"ticks\":\"\"}},\"marker\":{\"colorbar\":{\"outlinewidth\":0,\"ticks\":\"\"}}}],\"scattermapbox\":[{\"type\":\"scattermapbox\",\"marker\":{\"colorbar\":{\"outlinewidth\":0,\"ticks\":\"\"}}}],\"scatterternary\":[{\"type\":\"scatterternary\",\"marker\":{\"colorbar\":{\"outlinewidth\":0,\"ticks\":\"\"}}}],\"scattercarpet\":[{\"type\":\"scattercarpet\",\"marker\":{\"colorbar\":{\"outlinewidth\":0,\"ticks\":\"\"}}}],\"carpet\":[{\"aaxis\":{\"endlinecolor\":\"#2a3f5f\",\"gridcolor\":\"white\",\"linecolor\":\"white\",\"minorgridcolor\":\"white\",\"startlinecolor\":\"#2a3f5f\"},\"baxis\":{\"endlinecolor\":\"#2a3f5f\",\"gridcolor\":\"white\",\"linecolor\":\"white\",\"minorgridcolor\":\"white\",\"startlinecolor\":\"#2a3f5f\"},\"type\":\"carpet\"}],\"table\":[{\"cells\":{\"fill\":{\"color\":\"#EBF0F8\"},\"line\":{\"color\":\"white\"}},\"header\":{\"fill\":{\"color\":\"#C8D4E3\"},\"line\":{\"color\":\"white\"}},\"type\":\"table\"}],\"barpolar\":[{\"marker\":{\"line\":{\"color\":\"#E5ECF6\",\"width\":0.5},\"pattern\":{\"fillmode\":\"overlay\",\"size\":10,\"solidity\":0.2}},\"type\":\"barpolar\"}],\"pie\":[{\"automargin\":true,\"type\":\"pie\"}]},\"layout\":{\"autotypenumbers\":\"strict\",\"colorway\":[\"#636efa\",\"#EF553B\",\"#00cc96\",\"#ab63fa\",\"#FFA15A\",\"#19d3f3\",\"#FF6692\",\"#B6E880\",\"#FF97FF\",\"#FECB52\"],\"font\":{\"color\":\"#2a3f5f\"},\"hovermode\":\"closest\",\"hoverlabel\":{\"align\":\"left\"},\"paper_bgcolor\":\"white\",\"plot_bgcolor\":\"#E5ECF6\",\"polar\":{\"bgcolor\":\"#E5ECF6\",\"angularaxis\":{\"gridcolor\":\"white\",\"linecolor\":\"white\",\"ticks\":\"\"},\"radialaxis\":{\"gridcolor\":\"white\",\"linecolor\":\"white\",\"ticks\":\"\"}},\"ternary\":{\"bgcolor\":\"#E5ECF6\",\"aaxis\":{\"gridcolor\":\"white\",\"linecolor\":\"white\",\"ticks\":\"\"},\"baxis\":{\"gridcolor\":\"white\",\"linecolor\":\"white\",\"ticks\":\"\"},\"caxis\":{\"gridcolor\":\"white\",\"linecolor\":\"white\",\"ticks\":\"\"}},\"coloraxis\":{\"colorbar\":{\"outlinewidth\":0,\"ticks\":\"\"}},\"colorscale\":{\"sequential\":[[0.0,\"#0d0887\"],[0.1111111111111111,\"#46039f\"],[0.2222222222222222,\"#7201a8\"],[0.3333333333333333,\"#9c179e\"],[0.4444444444444444,\"#bd3786\"],[0.5555555555555556,\"#d8576b\"],[0.6666666666666666,\"#ed7953\"],[0.7777777777777778,\"#fb9f3a\"],[0.8888888888888888,\"#fdca26\"],[1.0,\"#f0f921\"]],\"sequentialminus\":[[0.0,\"#0d0887\"],[0.1111111111111111,\"#46039f\"],[0.2222222222222222,\"#7201a8\"],[0.3333333333333333,\"#9c179e\"],[0.4444444444444444,\"#bd3786\"],[0.5555555555555556,\"#d8576b\"],[0.6666666666666666,\"#ed7953\"],[0.7777777777777778,\"#fb9f3a\"],[0.8888888888888888,\"#fdca26\"],[1.0,\"#f0f921\"]],\"diverging\":[[0,\"#8e0152\"],[0.1,\"#c51b7d\"],[0.2,\"#de77ae\"],[0.3,\"#f1b6da\"],[0.4,\"#fde0ef\"],[0.5,\"#f7f7f7\"],[0.6,\"#e6f5d0\"],[0.7,\"#b8e186\"],[0.8,\"#7fbc41\"],[0.9,\"#4d9221\"],[1,\"#276419\"]]},\"xaxis\":{\"gridcolor\":\"white\",\"linecolor\":\"white\",\"ticks\":\"\",\"title\":{\"standoff\":15},\"zerolinecolor\":\"white\",\"automargin\":true,\"zerolinewidth\":2},\"yaxis\":{\"gridcolor\":\"white\",\"linecolor\":\"white\",\"ticks\":\"\",\"title\":{\"standoff\":15},\"zerolinecolor\":\"white\",\"automargin\":true,\"zerolinewidth\":2},\"scene\":{\"xaxis\":{\"backgroundcolor\":\"#E5ECF6\",\"gridcolor\":\"white\",\"linecolor\":\"white\",\"showbackground\":true,\"ticks\":\"\",\"zerolinecolor\":\"white\",\"gridwidth\":2},\"yaxis\":{\"backgroundcolor\":\"#E5ECF6\",\"gridcolor\":\"white\",\"linecolor\":\"white\",\"showbackground\":true,\"ticks\":\"\",\"zerolinecolor\":\"white\",\"gridwidth\":2},\"zaxis\":{\"backgroundcolor\":\"#E5ECF6\",\"gridcolor\":\"white\",\"linecolor\":\"white\",\"showbackground\":true,\"ticks\":\"\",\"zerolinecolor\":\"white\",\"gridwidth\":2}},\"shapedefaults\":{\"line\":{\"color\":\"#2a3f5f\"}},\"annotationdefaults\":{\"arrowcolor\":\"#2a3f5f\",\"arrowhead\":0,\"arrowwidth\":1},\"geo\":{\"bgcolor\":\"white\",\"landcolor\":\"#E5ECF6\",\"subunitcolor\":\"white\",\"showland\":true,\"showlakes\":true,\"lakecolor\":\"white\"},\"title\":{\"x\":0.05},\"mapbox\":{\"style\":\"light\"}}},\"xaxis\":{\"anchor\":\"y\",\"domain\":[0.0,1.0],\"title\":{\"text\":\"% Chg\"}},\"yaxis\":{\"anchor\":\"x\",\"domain\":[0.0,1.0],\"title\":{\"text\":\"count\"}},\"legend\":{\"tracegroupgap\":0},\"margin\":{\"t\":60},\"barmode\":\"relative\"},                        {\"responsive\": true}                    ).then(function(){\n",
       "                            \n",
       "var gd = document.getElementById('e0ab8bff-edcf-4a76-8d30-520b529a8fc2');\n",
       "var x = new MutationObserver(function (mutations, observer) {{\n",
       "        var display = window.getComputedStyle(gd).display;\n",
       "        if (!display || display === 'none') {{\n",
       "            console.log([gd, 'removed!']);\n",
       "            Plotly.purge(gd);\n",
       "            observer.disconnect();\n",
       "        }}\n",
       "}});\n",
       "\n",
       "// Listen for the removal of the full notebook cells\n",
       "var notebookContainer = gd.closest('#notebook-container');\n",
       "if (notebookContainer) {{\n",
       "    x.observe(notebookContainer, {childList: true});\n",
       "}}\n",
       "\n",
       "// Listen for the clearing of the current output cell\n",
       "var outputEl = gd.closest('.output');\n",
       "if (outputEl) {{\n",
       "    x.observe(outputEl, {childList: true});\n",
       "}}\n",
       "\n",
       "                        })                };                });            </script>        </div>"
      ]
     },
     "metadata": {},
     "output_type": "display_data"
    }
   ],
   "source": [
    "import plotly.express as px\n",
    "fig = px.histogram(df, x=df[\"% Chg\"], nbins=32)\n",
    "fig.show()"
   ]
  },
  {
   "cell_type": "code",
   "execution_count": 177,
   "id": "01474e8d",
   "metadata": {},
   "outputs": [
    {
     "data": {
      "application/vnd.plotly.v1+json": {
       "config": {
        "plotlyServerURL": "https://plot.ly"
       },
       "data": [
        {
         "hovertemplate": "Closing Price=%{x}<br>Volume=%{y}<extra></extra>",
         "legendgroup": "",
         "marker": {
          "color": "#636efa",
          "symbol": "circle"
         },
         "mode": "markers",
         "name": "",
         "orientation": "v",
         "showlegend": false,
         "type": "scatter",
         "x": [
          771.2,
          1166,
          8.82,
          233.5,
          238.1,
          8.57,
          8.82,
          8.17,
          386,
          13850,
          980.6,
          826.2,
          7.14,
          316.2,
          990.3,
          784.3,
          310.7,
          629,
          150.8,
          348,
          288,
          308.9,
          8,
          825,
          36299.9,
          828.9,
          11.19,
          775,
          305.8,
          7.85,
          862,
          9.17,
          667.9,
          553.9,
          7.04,
          995,
          1045,
          8.33,
          1866,
          227.7,
          165,
          376,
          7.5,
          425,
          161.4,
          376.5,
          779,
          1269.5,
          8.84
         ],
         "xaxis": "x",
         "y": [
          2509,
          30,
          98486,
          5617,
          1510,
          66300,
          146970,
          1700,
          750,
          60,
          49,
          25,
          24710,
          9355,
          140,
          20,
          740,
          869,
          1020,
          764,
          7600,
          4305,
          1100,
          125,
          60,
          239,
          932,
          11972,
          6048,
          830,
          8191,
          6438,
          370,
          2315,
          12800,
          13,
          90,
          18587,
          1505,
          1820,
          12633,
          1713,
          12600,
          1073,
          13016,
          14863,
          253,
          4739,
          1420
         ],
         "yaxis": "y"
        }
       ],
       "layout": {
        "legend": {
         "tracegroupgap": 0
        },
        "margin": {
         "t": 60
        },
        "template": {
         "data": {
          "bar": [
           {
            "error_x": {
             "color": "#2a3f5f"
            },
            "error_y": {
             "color": "#2a3f5f"
            },
            "marker": {
             "line": {
              "color": "#E5ECF6",
              "width": 0.5
             },
             "pattern": {
              "fillmode": "overlay",
              "size": 10,
              "solidity": 0.2
             }
            },
            "type": "bar"
           }
          ],
          "barpolar": [
           {
            "marker": {
             "line": {
              "color": "#E5ECF6",
              "width": 0.5
             },
             "pattern": {
              "fillmode": "overlay",
              "size": 10,
              "solidity": 0.2
             }
            },
            "type": "barpolar"
           }
          ],
          "carpet": [
           {
            "aaxis": {
             "endlinecolor": "#2a3f5f",
             "gridcolor": "white",
             "linecolor": "white",
             "minorgridcolor": "white",
             "startlinecolor": "#2a3f5f"
            },
            "baxis": {
             "endlinecolor": "#2a3f5f",
             "gridcolor": "white",
             "linecolor": "white",
             "minorgridcolor": "white",
             "startlinecolor": "#2a3f5f"
            },
            "type": "carpet"
           }
          ],
          "choropleth": [
           {
            "colorbar": {
             "outlinewidth": 0,
             "ticks": ""
            },
            "type": "choropleth"
           }
          ],
          "contour": [
           {
            "colorbar": {
             "outlinewidth": 0,
             "ticks": ""
            },
            "colorscale": [
             [
              0,
              "#0d0887"
             ],
             [
              0.1111111111111111,
              "#46039f"
             ],
             [
              0.2222222222222222,
              "#7201a8"
             ],
             [
              0.3333333333333333,
              "#9c179e"
             ],
             [
              0.4444444444444444,
              "#bd3786"
             ],
             [
              0.5555555555555556,
              "#d8576b"
             ],
             [
              0.6666666666666666,
              "#ed7953"
             ],
             [
              0.7777777777777778,
              "#fb9f3a"
             ],
             [
              0.8888888888888888,
              "#fdca26"
             ],
             [
              1,
              "#f0f921"
             ]
            ],
            "type": "contour"
           }
          ],
          "contourcarpet": [
           {
            "colorbar": {
             "outlinewidth": 0,
             "ticks": ""
            },
            "type": "contourcarpet"
           }
          ],
          "heatmap": [
           {
            "colorbar": {
             "outlinewidth": 0,
             "ticks": ""
            },
            "colorscale": [
             [
              0,
              "#0d0887"
             ],
             [
              0.1111111111111111,
              "#46039f"
             ],
             [
              0.2222222222222222,
              "#7201a8"
             ],
             [
              0.3333333333333333,
              "#9c179e"
             ],
             [
              0.4444444444444444,
              "#bd3786"
             ],
             [
              0.5555555555555556,
              "#d8576b"
             ],
             [
              0.6666666666666666,
              "#ed7953"
             ],
             [
              0.7777777777777778,
              "#fb9f3a"
             ],
             [
              0.8888888888888888,
              "#fdca26"
             ],
             [
              1,
              "#f0f921"
             ]
            ],
            "type": "heatmap"
           }
          ],
          "heatmapgl": [
           {
            "colorbar": {
             "outlinewidth": 0,
             "ticks": ""
            },
            "colorscale": [
             [
              0,
              "#0d0887"
             ],
             [
              0.1111111111111111,
              "#46039f"
             ],
             [
              0.2222222222222222,
              "#7201a8"
             ],
             [
              0.3333333333333333,
              "#9c179e"
             ],
             [
              0.4444444444444444,
              "#bd3786"
             ],
             [
              0.5555555555555556,
              "#d8576b"
             ],
             [
              0.6666666666666666,
              "#ed7953"
             ],
             [
              0.7777777777777778,
              "#fb9f3a"
             ],
             [
              0.8888888888888888,
              "#fdca26"
             ],
             [
              1,
              "#f0f921"
             ]
            ],
            "type": "heatmapgl"
           }
          ],
          "histogram": [
           {
            "marker": {
             "pattern": {
              "fillmode": "overlay",
              "size": 10,
              "solidity": 0.2
             }
            },
            "type": "histogram"
           }
          ],
          "histogram2d": [
           {
            "colorbar": {
             "outlinewidth": 0,
             "ticks": ""
            },
            "colorscale": [
             [
              0,
              "#0d0887"
             ],
             [
              0.1111111111111111,
              "#46039f"
             ],
             [
              0.2222222222222222,
              "#7201a8"
             ],
             [
              0.3333333333333333,
              "#9c179e"
             ],
             [
              0.4444444444444444,
              "#bd3786"
             ],
             [
              0.5555555555555556,
              "#d8576b"
             ],
             [
              0.6666666666666666,
              "#ed7953"
             ],
             [
              0.7777777777777778,
              "#fb9f3a"
             ],
             [
              0.8888888888888888,
              "#fdca26"
             ],
             [
              1,
              "#f0f921"
             ]
            ],
            "type": "histogram2d"
           }
          ],
          "histogram2dcontour": [
           {
            "colorbar": {
             "outlinewidth": 0,
             "ticks": ""
            },
            "colorscale": [
             [
              0,
              "#0d0887"
             ],
             [
              0.1111111111111111,
              "#46039f"
             ],
             [
              0.2222222222222222,
              "#7201a8"
             ],
             [
              0.3333333333333333,
              "#9c179e"
             ],
             [
              0.4444444444444444,
              "#bd3786"
             ],
             [
              0.5555555555555556,
              "#d8576b"
             ],
             [
              0.6666666666666666,
              "#ed7953"
             ],
             [
              0.7777777777777778,
              "#fb9f3a"
             ],
             [
              0.8888888888888888,
              "#fdca26"
             ],
             [
              1,
              "#f0f921"
             ]
            ],
            "type": "histogram2dcontour"
           }
          ],
          "mesh3d": [
           {
            "colorbar": {
             "outlinewidth": 0,
             "ticks": ""
            },
            "type": "mesh3d"
           }
          ],
          "parcoords": [
           {
            "line": {
             "colorbar": {
              "outlinewidth": 0,
              "ticks": ""
             }
            },
            "type": "parcoords"
           }
          ],
          "pie": [
           {
            "automargin": true,
            "type": "pie"
           }
          ],
          "scatter": [
           {
            "fillpattern": {
             "fillmode": "overlay",
             "size": 10,
             "solidity": 0.2
            },
            "type": "scatter"
           }
          ],
          "scatter3d": [
           {
            "line": {
             "colorbar": {
              "outlinewidth": 0,
              "ticks": ""
             }
            },
            "marker": {
             "colorbar": {
              "outlinewidth": 0,
              "ticks": ""
             }
            },
            "type": "scatter3d"
           }
          ],
          "scattercarpet": [
           {
            "marker": {
             "colorbar": {
              "outlinewidth": 0,
              "ticks": ""
             }
            },
            "type": "scattercarpet"
           }
          ],
          "scattergeo": [
           {
            "marker": {
             "colorbar": {
              "outlinewidth": 0,
              "ticks": ""
             }
            },
            "type": "scattergeo"
           }
          ],
          "scattergl": [
           {
            "marker": {
             "colorbar": {
              "outlinewidth": 0,
              "ticks": ""
             }
            },
            "type": "scattergl"
           }
          ],
          "scattermapbox": [
           {
            "marker": {
             "colorbar": {
              "outlinewidth": 0,
              "ticks": ""
             }
            },
            "type": "scattermapbox"
           }
          ],
          "scatterpolar": [
           {
            "marker": {
             "colorbar": {
              "outlinewidth": 0,
              "ticks": ""
             }
            },
            "type": "scatterpolar"
           }
          ],
          "scatterpolargl": [
           {
            "marker": {
             "colorbar": {
              "outlinewidth": 0,
              "ticks": ""
             }
            },
            "type": "scatterpolargl"
           }
          ],
          "scatterternary": [
           {
            "marker": {
             "colorbar": {
              "outlinewidth": 0,
              "ticks": ""
             }
            },
            "type": "scatterternary"
           }
          ],
          "surface": [
           {
            "colorbar": {
             "outlinewidth": 0,
             "ticks": ""
            },
            "colorscale": [
             [
              0,
              "#0d0887"
             ],
             [
              0.1111111111111111,
              "#46039f"
             ],
             [
              0.2222222222222222,
              "#7201a8"
             ],
             [
              0.3333333333333333,
              "#9c179e"
             ],
             [
              0.4444444444444444,
              "#bd3786"
             ],
             [
              0.5555555555555556,
              "#d8576b"
             ],
             [
              0.6666666666666666,
              "#ed7953"
             ],
             [
              0.7777777777777778,
              "#fb9f3a"
             ],
             [
              0.8888888888888888,
              "#fdca26"
             ],
             [
              1,
              "#f0f921"
             ]
            ],
            "type": "surface"
           }
          ],
          "table": [
           {
            "cells": {
             "fill": {
              "color": "#EBF0F8"
             },
             "line": {
              "color": "white"
             }
            },
            "header": {
             "fill": {
              "color": "#C8D4E3"
             },
             "line": {
              "color": "white"
             }
            },
            "type": "table"
           }
          ]
         },
         "layout": {
          "annotationdefaults": {
           "arrowcolor": "#2a3f5f",
           "arrowhead": 0,
           "arrowwidth": 1
          },
          "autotypenumbers": "strict",
          "coloraxis": {
           "colorbar": {
            "outlinewidth": 0,
            "ticks": ""
           }
          },
          "colorscale": {
           "diverging": [
            [
             0,
             "#8e0152"
            ],
            [
             0.1,
             "#c51b7d"
            ],
            [
             0.2,
             "#de77ae"
            ],
            [
             0.3,
             "#f1b6da"
            ],
            [
             0.4,
             "#fde0ef"
            ],
            [
             0.5,
             "#f7f7f7"
            ],
            [
             0.6,
             "#e6f5d0"
            ],
            [
             0.7,
             "#b8e186"
            ],
            [
             0.8,
             "#7fbc41"
            ],
            [
             0.9,
             "#4d9221"
            ],
            [
             1,
             "#276419"
            ]
           ],
           "sequential": [
            [
             0,
             "#0d0887"
            ],
            [
             0.1111111111111111,
             "#46039f"
            ],
            [
             0.2222222222222222,
             "#7201a8"
            ],
            [
             0.3333333333333333,
             "#9c179e"
            ],
            [
             0.4444444444444444,
             "#bd3786"
            ],
            [
             0.5555555555555556,
             "#d8576b"
            ],
            [
             0.6666666666666666,
             "#ed7953"
            ],
            [
             0.7777777777777778,
             "#fb9f3a"
            ],
            [
             0.8888888888888888,
             "#fdca26"
            ],
            [
             1,
             "#f0f921"
            ]
           ],
           "sequentialminus": [
            [
             0,
             "#0d0887"
            ],
            [
             0.1111111111111111,
             "#46039f"
            ],
            [
             0.2222222222222222,
             "#7201a8"
            ],
            [
             0.3333333333333333,
             "#9c179e"
            ],
            [
             0.4444444444444444,
             "#bd3786"
            ],
            [
             0.5555555555555556,
             "#d8576b"
            ],
            [
             0.6666666666666666,
             "#ed7953"
            ],
            [
             0.7777777777777778,
             "#fb9f3a"
            ],
            [
             0.8888888888888888,
             "#fdca26"
            ],
            [
             1,
             "#f0f921"
            ]
           ]
          },
          "colorway": [
           "#636efa",
           "#EF553B",
           "#00cc96",
           "#ab63fa",
           "#FFA15A",
           "#19d3f3",
           "#FF6692",
           "#B6E880",
           "#FF97FF",
           "#FECB52"
          ],
          "font": {
           "color": "#2a3f5f"
          },
          "geo": {
           "bgcolor": "white",
           "lakecolor": "white",
           "landcolor": "#E5ECF6",
           "showlakes": true,
           "showland": true,
           "subunitcolor": "white"
          },
          "hoverlabel": {
           "align": "left"
          },
          "hovermode": "closest",
          "mapbox": {
           "style": "light"
          },
          "paper_bgcolor": "white",
          "plot_bgcolor": "#E5ECF6",
          "polar": {
           "angularaxis": {
            "gridcolor": "white",
            "linecolor": "white",
            "ticks": ""
           },
           "bgcolor": "#E5ECF6",
           "radialaxis": {
            "gridcolor": "white",
            "linecolor": "white",
            "ticks": ""
           }
          },
          "scene": {
           "xaxis": {
            "backgroundcolor": "#E5ECF6",
            "gridcolor": "white",
            "gridwidth": 2,
            "linecolor": "white",
            "showbackground": true,
            "ticks": "",
            "zerolinecolor": "white"
           },
           "yaxis": {
            "backgroundcolor": "#E5ECF6",
            "gridcolor": "white",
            "gridwidth": 2,
            "linecolor": "white",
            "showbackground": true,
            "ticks": "",
            "zerolinecolor": "white"
           },
           "zaxis": {
            "backgroundcolor": "#E5ECF6",
            "gridcolor": "white",
            "gridwidth": 2,
            "linecolor": "white",
            "showbackground": true,
            "ticks": "",
            "zerolinecolor": "white"
           }
          },
          "shapedefaults": {
           "line": {
            "color": "#2a3f5f"
           }
          },
          "ternary": {
           "aaxis": {
            "gridcolor": "white",
            "linecolor": "white",
            "ticks": ""
           },
           "baxis": {
            "gridcolor": "white",
            "linecolor": "white",
            "ticks": ""
           },
           "bgcolor": "#E5ECF6",
           "caxis": {
            "gridcolor": "white",
            "linecolor": "white",
            "ticks": ""
           }
          },
          "title": {
           "x": 0.05
          },
          "xaxis": {
           "automargin": true,
           "gridcolor": "white",
           "linecolor": "white",
           "ticks": "",
           "title": {
            "standoff": 15
           },
           "zerolinecolor": "white",
           "zerolinewidth": 2
          },
          "yaxis": {
           "automargin": true,
           "gridcolor": "white",
           "linecolor": "white",
           "ticks": "",
           "title": {
            "standoff": 15
           },
           "zerolinecolor": "white",
           "zerolinewidth": 2
          }
         }
        },
        "xaxis": {
         "anchor": "y",
         "domain": [
          0,
          1
         ],
         "title": {
          "text": "Closing Price"
         }
        },
        "yaxis": {
         "anchor": "x",
         "domain": [
          0,
          1
         ],
         "title": {
          "text": "Volume"
         }
        }
       }
      },
      "text/html": [
       "<div>                            <div id=\"4d359984-a26a-4ed4-8c72-3a5f737bf483\" class=\"plotly-graph-div\" style=\"height:525px; width:100%;\"></div>            <script type=\"text/javascript\">                require([\"plotly\"], function(Plotly) {                    window.PLOTLYENV=window.PLOTLYENV || {};                                    if (document.getElementById(\"4d359984-a26a-4ed4-8c72-3a5f737bf483\")) {                    Plotly.newPlot(                        \"4d359984-a26a-4ed4-8c72-3a5f737bf483\",                        [{\"hovertemplate\":\"Closing Price=%{x}\\u003cbr\\u003eVolume=%{y}\\u003cextra\\u003e\\u003c\\u002fextra\\u003e\",\"legendgroup\":\"\",\"marker\":{\"color\":\"#636efa\",\"symbol\":\"circle\"},\"mode\":\"markers\",\"name\":\"\",\"orientation\":\"v\",\"showlegend\":false,\"x\":[771.2,1166.0,8.82,233.5,238.1,8.57,8.82,8.17,386.0,13850.0,980.6,826.2,7.14,316.2,990.3,784.3,310.7,629.0,150.8,348.0,288.0,308.9,8.0,825.0,36299.9,828.9,11.19,775.0,305.8,7.85,862.0,9.17,667.9,553.9,7.04,995.0,1045.0,8.33,1866.0,227.7,165.0,376.0,7.5,425.0,161.4,376.5,779.0,1269.5,8.84],\"xaxis\":\"x\",\"y\":[2509.0,30.0,98486.0,5617.0,1510.0,66300.0,146970.0,1700.0,750.0,60.0,49.0,25.0,24710.0,9355.0,140.0,20.0,740.0,869.0,1020.0,764.0,7600.0,4305.0,1100.0,125.0,60.0,239.0,932.0,11972.0,6048.0,830.0,8191.0,6438.0,370.0,2315.0,12800.0,13.0,90.0,18587.0,1505.0,1820.0,12633.0,1713.0,12600.0,1073.0,13016.0,14863.0,253.0,4739.0,1420.0],\"yaxis\":\"y\",\"type\":\"scatter\"}],                        {\"template\":{\"data\":{\"histogram2dcontour\":[{\"type\":\"histogram2dcontour\",\"colorbar\":{\"outlinewidth\":0,\"ticks\":\"\"},\"colorscale\":[[0.0,\"#0d0887\"],[0.1111111111111111,\"#46039f\"],[0.2222222222222222,\"#7201a8\"],[0.3333333333333333,\"#9c179e\"],[0.4444444444444444,\"#bd3786\"],[0.5555555555555556,\"#d8576b\"],[0.6666666666666666,\"#ed7953\"],[0.7777777777777778,\"#fb9f3a\"],[0.8888888888888888,\"#fdca26\"],[1.0,\"#f0f921\"]]}],\"choropleth\":[{\"type\":\"choropleth\",\"colorbar\":{\"outlinewidth\":0,\"ticks\":\"\"}}],\"histogram2d\":[{\"type\":\"histogram2d\",\"colorbar\":{\"outlinewidth\":0,\"ticks\":\"\"},\"colorscale\":[[0.0,\"#0d0887\"],[0.1111111111111111,\"#46039f\"],[0.2222222222222222,\"#7201a8\"],[0.3333333333333333,\"#9c179e\"],[0.4444444444444444,\"#bd3786\"],[0.5555555555555556,\"#d8576b\"],[0.6666666666666666,\"#ed7953\"],[0.7777777777777778,\"#fb9f3a\"],[0.8888888888888888,\"#fdca26\"],[1.0,\"#f0f921\"]]}],\"heatmap\":[{\"type\":\"heatmap\",\"colorbar\":{\"outlinewidth\":0,\"ticks\":\"\"},\"colorscale\":[[0.0,\"#0d0887\"],[0.1111111111111111,\"#46039f\"],[0.2222222222222222,\"#7201a8\"],[0.3333333333333333,\"#9c179e\"],[0.4444444444444444,\"#bd3786\"],[0.5555555555555556,\"#d8576b\"],[0.6666666666666666,\"#ed7953\"],[0.7777777777777778,\"#fb9f3a\"],[0.8888888888888888,\"#fdca26\"],[1.0,\"#f0f921\"]]}],\"heatmapgl\":[{\"type\":\"heatmapgl\",\"colorbar\":{\"outlinewidth\":0,\"ticks\":\"\"},\"colorscale\":[[0.0,\"#0d0887\"],[0.1111111111111111,\"#46039f\"],[0.2222222222222222,\"#7201a8\"],[0.3333333333333333,\"#9c179e\"],[0.4444444444444444,\"#bd3786\"],[0.5555555555555556,\"#d8576b\"],[0.6666666666666666,\"#ed7953\"],[0.7777777777777778,\"#fb9f3a\"],[0.8888888888888888,\"#fdca26\"],[1.0,\"#f0f921\"]]}],\"contourcarpet\":[{\"type\":\"contourcarpet\",\"colorbar\":{\"outlinewidth\":0,\"ticks\":\"\"}}],\"contour\":[{\"type\":\"contour\",\"colorbar\":{\"outlinewidth\":0,\"ticks\":\"\"},\"colorscale\":[[0.0,\"#0d0887\"],[0.1111111111111111,\"#46039f\"],[0.2222222222222222,\"#7201a8\"],[0.3333333333333333,\"#9c179e\"],[0.4444444444444444,\"#bd3786\"],[0.5555555555555556,\"#d8576b\"],[0.6666666666666666,\"#ed7953\"],[0.7777777777777778,\"#fb9f3a\"],[0.8888888888888888,\"#fdca26\"],[1.0,\"#f0f921\"]]}],\"surface\":[{\"type\":\"surface\",\"colorbar\":{\"outlinewidth\":0,\"ticks\":\"\"},\"colorscale\":[[0.0,\"#0d0887\"],[0.1111111111111111,\"#46039f\"],[0.2222222222222222,\"#7201a8\"],[0.3333333333333333,\"#9c179e\"],[0.4444444444444444,\"#bd3786\"],[0.5555555555555556,\"#d8576b\"],[0.6666666666666666,\"#ed7953\"],[0.7777777777777778,\"#fb9f3a\"],[0.8888888888888888,\"#fdca26\"],[1.0,\"#f0f921\"]]}],\"mesh3d\":[{\"type\":\"mesh3d\",\"colorbar\":{\"outlinewidth\":0,\"ticks\":\"\"}}],\"scatter\":[{\"fillpattern\":{\"fillmode\":\"overlay\",\"size\":10,\"solidity\":0.2},\"type\":\"scatter\"}],\"parcoords\":[{\"type\":\"parcoords\",\"line\":{\"colorbar\":{\"outlinewidth\":0,\"ticks\":\"\"}}}],\"scatterpolargl\":[{\"type\":\"scatterpolargl\",\"marker\":{\"colorbar\":{\"outlinewidth\":0,\"ticks\":\"\"}}}],\"bar\":[{\"error_x\":{\"color\":\"#2a3f5f\"},\"error_y\":{\"color\":\"#2a3f5f\"},\"marker\":{\"line\":{\"color\":\"#E5ECF6\",\"width\":0.5},\"pattern\":{\"fillmode\":\"overlay\",\"size\":10,\"solidity\":0.2}},\"type\":\"bar\"}],\"scattergeo\":[{\"type\":\"scattergeo\",\"marker\":{\"colorbar\":{\"outlinewidth\":0,\"ticks\":\"\"}}}],\"scatterpolar\":[{\"type\":\"scatterpolar\",\"marker\":{\"colorbar\":{\"outlinewidth\":0,\"ticks\":\"\"}}}],\"histogram\":[{\"marker\":{\"pattern\":{\"fillmode\":\"overlay\",\"size\":10,\"solidity\":0.2}},\"type\":\"histogram\"}],\"scattergl\":[{\"type\":\"scattergl\",\"marker\":{\"colorbar\":{\"outlinewidth\":0,\"ticks\":\"\"}}}],\"scatter3d\":[{\"type\":\"scatter3d\",\"line\":{\"colorbar\":{\"outlinewidth\":0,\"ticks\":\"\"}},\"marker\":{\"colorbar\":{\"outlinewidth\":0,\"ticks\":\"\"}}}],\"scattermapbox\":[{\"type\":\"scattermapbox\",\"marker\":{\"colorbar\":{\"outlinewidth\":0,\"ticks\":\"\"}}}],\"scatterternary\":[{\"type\":\"scatterternary\",\"marker\":{\"colorbar\":{\"outlinewidth\":0,\"ticks\":\"\"}}}],\"scattercarpet\":[{\"type\":\"scattercarpet\",\"marker\":{\"colorbar\":{\"outlinewidth\":0,\"ticks\":\"\"}}}],\"carpet\":[{\"aaxis\":{\"endlinecolor\":\"#2a3f5f\",\"gridcolor\":\"white\",\"linecolor\":\"white\",\"minorgridcolor\":\"white\",\"startlinecolor\":\"#2a3f5f\"},\"baxis\":{\"endlinecolor\":\"#2a3f5f\",\"gridcolor\":\"white\",\"linecolor\":\"white\",\"minorgridcolor\":\"white\",\"startlinecolor\":\"#2a3f5f\"},\"type\":\"carpet\"}],\"table\":[{\"cells\":{\"fill\":{\"color\":\"#EBF0F8\"},\"line\":{\"color\":\"white\"}},\"header\":{\"fill\":{\"color\":\"#C8D4E3\"},\"line\":{\"color\":\"white\"}},\"type\":\"table\"}],\"barpolar\":[{\"marker\":{\"line\":{\"color\":\"#E5ECF6\",\"width\":0.5},\"pattern\":{\"fillmode\":\"overlay\",\"size\":10,\"solidity\":0.2}},\"type\":\"barpolar\"}],\"pie\":[{\"automargin\":true,\"type\":\"pie\"}]},\"layout\":{\"autotypenumbers\":\"strict\",\"colorway\":[\"#636efa\",\"#EF553B\",\"#00cc96\",\"#ab63fa\",\"#FFA15A\",\"#19d3f3\",\"#FF6692\",\"#B6E880\",\"#FF97FF\",\"#FECB52\"],\"font\":{\"color\":\"#2a3f5f\"},\"hovermode\":\"closest\",\"hoverlabel\":{\"align\":\"left\"},\"paper_bgcolor\":\"white\",\"plot_bgcolor\":\"#E5ECF6\",\"polar\":{\"bgcolor\":\"#E5ECF6\",\"angularaxis\":{\"gridcolor\":\"white\",\"linecolor\":\"white\",\"ticks\":\"\"},\"radialaxis\":{\"gridcolor\":\"white\",\"linecolor\":\"white\",\"ticks\":\"\"}},\"ternary\":{\"bgcolor\":\"#E5ECF6\",\"aaxis\":{\"gridcolor\":\"white\",\"linecolor\":\"white\",\"ticks\":\"\"},\"baxis\":{\"gridcolor\":\"white\",\"linecolor\":\"white\",\"ticks\":\"\"},\"caxis\":{\"gridcolor\":\"white\",\"linecolor\":\"white\",\"ticks\":\"\"}},\"coloraxis\":{\"colorbar\":{\"outlinewidth\":0,\"ticks\":\"\"}},\"colorscale\":{\"sequential\":[[0.0,\"#0d0887\"],[0.1111111111111111,\"#46039f\"],[0.2222222222222222,\"#7201a8\"],[0.3333333333333333,\"#9c179e\"],[0.4444444444444444,\"#bd3786\"],[0.5555555555555556,\"#d8576b\"],[0.6666666666666666,\"#ed7953\"],[0.7777777777777778,\"#fb9f3a\"],[0.8888888888888888,\"#fdca26\"],[1.0,\"#f0f921\"]],\"sequentialminus\":[[0.0,\"#0d0887\"],[0.1111111111111111,\"#46039f\"],[0.2222222222222222,\"#7201a8\"],[0.3333333333333333,\"#9c179e\"],[0.4444444444444444,\"#bd3786\"],[0.5555555555555556,\"#d8576b\"],[0.6666666666666666,\"#ed7953\"],[0.7777777777777778,\"#fb9f3a\"],[0.8888888888888888,\"#fdca26\"],[1.0,\"#f0f921\"]],\"diverging\":[[0,\"#8e0152\"],[0.1,\"#c51b7d\"],[0.2,\"#de77ae\"],[0.3,\"#f1b6da\"],[0.4,\"#fde0ef\"],[0.5,\"#f7f7f7\"],[0.6,\"#e6f5d0\"],[0.7,\"#b8e186\"],[0.8,\"#7fbc41\"],[0.9,\"#4d9221\"],[1,\"#276419\"]]},\"xaxis\":{\"gridcolor\":\"white\",\"linecolor\":\"white\",\"ticks\":\"\",\"title\":{\"standoff\":15},\"zerolinecolor\":\"white\",\"automargin\":true,\"zerolinewidth\":2},\"yaxis\":{\"gridcolor\":\"white\",\"linecolor\":\"white\",\"ticks\":\"\",\"title\":{\"standoff\":15},\"zerolinecolor\":\"white\",\"automargin\":true,\"zerolinewidth\":2},\"scene\":{\"xaxis\":{\"backgroundcolor\":\"#E5ECF6\",\"gridcolor\":\"white\",\"linecolor\":\"white\",\"showbackground\":true,\"ticks\":\"\",\"zerolinecolor\":\"white\",\"gridwidth\":2},\"yaxis\":{\"backgroundcolor\":\"#E5ECF6\",\"gridcolor\":\"white\",\"linecolor\":\"white\",\"showbackground\":true,\"ticks\":\"\",\"zerolinecolor\":\"white\",\"gridwidth\":2},\"zaxis\":{\"backgroundcolor\":\"#E5ECF6\",\"gridcolor\":\"white\",\"linecolor\":\"white\",\"showbackground\":true,\"ticks\":\"\",\"zerolinecolor\":\"white\",\"gridwidth\":2}},\"shapedefaults\":{\"line\":{\"color\":\"#2a3f5f\"}},\"annotationdefaults\":{\"arrowcolor\":\"#2a3f5f\",\"arrowhead\":0,\"arrowwidth\":1},\"geo\":{\"bgcolor\":\"white\",\"landcolor\":\"#E5ECF6\",\"subunitcolor\":\"white\",\"showland\":true,\"showlakes\":true,\"lakecolor\":\"white\"},\"title\":{\"x\":0.05},\"mapbox\":{\"style\":\"light\"}}},\"xaxis\":{\"anchor\":\"y\",\"domain\":[0.0,1.0],\"title\":{\"text\":\"Closing Price\"}},\"yaxis\":{\"anchor\":\"x\",\"domain\":[0.0,1.0],\"title\":{\"text\":\"Volume\"}},\"legend\":{\"tracegroupgap\":0},\"margin\":{\"t\":60}},                        {\"responsive\": true}                    ).then(function(){\n",
       "                            \n",
       "var gd = document.getElementById('4d359984-a26a-4ed4-8c72-3a5f737bf483');\n",
       "var x = new MutationObserver(function (mutations, observer) {{\n",
       "        var display = window.getComputedStyle(gd).display;\n",
       "        if (!display || display === 'none') {{\n",
       "            console.log([gd, 'removed!']);\n",
       "            Plotly.purge(gd);\n",
       "            observer.disconnect();\n",
       "        }}\n",
       "}});\n",
       "\n",
       "// Listen for the removal of the full notebook cells\n",
       "var notebookContainer = gd.closest('#notebook-container');\n",
       "if (notebookContainer) {{\n",
       "    x.observe(notebookContainer, {childList: true});\n",
       "}}\n",
       "\n",
       "// Listen for the clearing of the current output cell\n",
       "var outputEl = gd.closest('.output');\n",
       "if (outputEl) {{\n",
       "    x.observe(outputEl, {childList: true});\n",
       "}}\n",
       "\n",
       "                        })                };                });            </script>        </div>"
      ]
     },
     "metadata": {},
     "output_type": "display_data"
    }
   ],
   "source": [
    "import plotly.express as px\n",
    "\n",
    "fig = px.scatter(df, x=df[\"Closing Price\"], y=df[\"Volume\"],)\n",
    "fig.show()"
   ]
  }
 ],
 "metadata": {
  "kernelspec": {
   "display_name": "Python 3 (ipykernel)",
   "language": "python",
   "name": "python3"
  },
  "language_info": {
   "codemirror_mode": {
    "name": "ipython",
    "version": 3
   },
   "file_extension": ".py",
   "mimetype": "text/x-python",
   "name": "python",
   "nbconvert_exporter": "python",
   "pygments_lexer": "ipython3",
   "version": "3.10.9"
  }
 },
 "nbformat": 4,
 "nbformat_minor": 5
}
